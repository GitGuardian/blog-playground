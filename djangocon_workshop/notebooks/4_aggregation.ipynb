{
 "cells": [
  {
   "cell_type": "code",
   "execution_count": 1,
   "metadata": {},
   "outputs": [],
   "source": [
    "import os\n",
    "\n",
    "os.chdir(\"../..\")\n",
    "import django_init\n"
   ]
  },
  {
   "cell_type": "code",
   "execution_count": 2,
   "metadata": {},
   "outputs": [],
   "source": [
    "%load_ext autoreload\n",
    "%autoreload 2"
   ]
  },
  {
   "cell_type": "code",
   "execution_count": 3,
   "metadata": {},
   "outputs": [],
   "source": [
    "# For better printing\n",
    "\n",
    "from rich import print\n",
    "from rich.console import Console\n",
    "from rich.markdown import Markdown\n",
    "from rich.table import Table\n",
    "\n",
    "console = Console()\n",
    "from utils.sql import use_indexes\n"
   ]
  },
  {
   "cell_type": "code",
   "execution_count": 4,
   "metadata": {},
   "outputs": [],
   "source": [
    "from utils.perf_display import format_duration, perf_counter\n",
    "from rest_framework.test import APIClient\n",
    "\n",
    "client = APIClient()\n"
   ]
  },
  {
   "cell_type": "code",
   "execution_count": 5,
   "metadata": {},
   "outputs": [],
   "source": [
    "from books.models import Library, Review, Book\n",
    "from django.db.models import Count\n",
    "\n",
    "public = Library.objects.order_by(\"-id\").first()\n",
    "public_id = public.id\n",
    "\n",
    "# Get the library with the most books\n",
    "alexandria_id, book_count = (\n",
    "    Book.objects.values(\"library_id\")\n",
    "    .annotate(book_count=Count(\"id\"))\n",
    "    .order_by(\"-book_count\")\n",
    "    .values_list(\"library_id\", \"book_count\")\n",
    "    .first()\n",
    ")\n",
    "\n",
    "alexandria = Library.objects.get(id=alexandria_id)"
   ]
  },
  {
   "attachments": {},
   "cell_type": "markdown",
   "metadata": {},
   "source": [
    "---\n",
    "\n",
    "### 3rd example: annotated query\n",
    "\n",
    "Let's continue with another book endpoint:\n",
    "\n",
    "This time we want to retrieve paginated list of books, containing some additional information: the list of related tags, count of reviews, and author\n",
    "A minimal implementation is available in [this file](\"../../../../books/views/book/annotate_books_aggregate.py).\n"
   ]
  },
  {
   "cell_type": "code",
   "execution_count": 6,
   "metadata": {},
   "outputs": [
    {
     "data": {
      "text/html": [
       "<pre style=\"white-space:pre;overflow-x:auto;line-height:normal;font-family:Menlo,'DejaVu Sans Mono',consolas,'Courier New',monospace\">Duration\n",
       "  Total: <span style=\"color: #008080; text-decoration-color: #008080; font-weight: bold\">18.38</span>\n",
       "  SQL: <span style=\"color: #008080; text-decoration-color: #008080; font-weight: bold\">18.30</span>\n",
       "</pre>\n"
      ],
      "text/plain": [
       "Duration\n",
       "  Total: \u001b[1;36m18.38\u001b[0m\n",
       "  SQL: \u001b[1;36m18.30\u001b[0m\n"
      ]
     },
     "metadata": {},
     "output_type": "display_data"
    }
   ],
   "source": [
    "with perf_counter(time_sql=True):\n",
    "    client.get(f\"/books/{alexandria_id}/aggregate?ordering=release_date,id\")"
   ]
  },
  {
   "cell_type": "code",
   "execution_count": 7,
   "metadata": {},
   "outputs": [],
   "source": [
    "from django.db.models import QuerySet\n",
    "from django.contrib.postgres.aggregates import ArrayAgg\n",
    "from books.views.book.list_books_aggregate import serialize_books\n",
    "\n",
    "\n",
    "def get_queryset(library_id, page_size=20, orderings=(\"release_date\", \"id\")):\n",
    "    return (\n",
    "        Book.objects.filter(library_id=library_id)\n",
    "        .order_by(*orderings)\n",
    "        .select_related(\"author\")[:page_size]\n",
    "    )\n",
    "\n",
    "\n",
    "def annotate_books_aggregate(book_qs: QuerySet[Book]):\n",
    "    \"\"\"\n",
    "    return a list of book objects,\n",
    "    annotated with a list of tag names, and count of reviews\n",
    "    \"\"\"\n",
    "    return book_qs.annotate(\n",
    "        review_count=Count(\"reviews\"), tag_names=ArrayAgg(\"tags__name\")\n",
    "    )"
   ]
  },
  {
   "cell_type": "code",
   "execution_count": 8,
   "metadata": {},
   "outputs": [
    {
     "data": {
      "text/html": [
       "<pre style=\"white-space:pre;overflow-x:auto;line-height:normal;font-family:Menlo,'DejaVu Sans Mono',consolas,'Courier New',monospace\">Duration\n",
       "  Total: <span style=\"color: #008080; text-decoration-color: #008080; font-weight: bold\">17.61</span>\n",
       "  SQL: <span style=\"color: #008080; text-decoration-color: #008080; font-weight: bold\">17.61</span> \n",
       "\n",
       "      <span style=\"font-weight: bold\">(</span>duration: <span style=\"color: #008080; text-decoration-color: #008080; font-weight: bold\">17.606</span><span style=\"font-weight: bold\">)</span>   SELECT <span style=\"color: #008000; text-decoration-color: #008000\">\"books_book\"</span>.<span style=\"color: #008000; text-decoration-color: #008000\">\"id\"</span>, <span style=\"color: #008000; text-decoration-color: #008000\">\"books_book\"</span>.<span style=\"color: #008000; text-decoration-color: #008000\">\"title\"</span>, <span style=\"color: #008000; text-decoration-color: #008000\">\"books_book\"</span>.<span style=\"color: #008000; text-decoration-color: #008000\">\"author_id\"</span>, \n",
       "<span style=\"color: #008000; text-decoration-color: #008000\">\"books_book\"</span>.<span style=\"color: #008000; text-decoration-color: #008000\">\"release_date\"</span>, <span style=\"color: #008000; text-decoration-color: #008000\">\"books_book\"</span>.<span style=\"color: #008000; text-decoration-color: #008000\">\"library_id\"</span>, <span style=\"color: #800080; text-decoration-color: #800080; font-weight: bold\">COUNT</span><span style=\"font-weight: bold\">(</span><span style=\"color: #008000; text-decoration-color: #008000\">\"books_review\"</span>.<span style=\"color: #008000; text-decoration-color: #008000\">\"id\"</span><span style=\"font-weight: bold\">)</span> AS <span style=\"color: #008000; text-decoration-color: #008000\">\"review_count\"</span>, \n",
       "<span style=\"color: #800080; text-decoration-color: #800080; font-weight: bold\">ARRAY_AGG</span><span style=\"font-weight: bold\">(</span><span style=\"color: #008000; text-decoration-color: #008000\">\"books_booktag\"</span>.<span style=\"color: #008000; text-decoration-color: #008000\">\"name\"</span> <span style=\"font-weight: bold\">)</span> AS <span style=\"color: #008000; text-decoration-color: #008000\">\"tag_names\"</span>, <span style=\"color: #008000; text-decoration-color: #008000\">\"books_person\"</span>.<span style=\"color: #008000; text-decoration-color: #008000\">\"id\"</span>, <span style=\"color: #008000; text-decoration-color: #008000\">\"books_person\"</span>.<span style=\"color: #008000; text-decoration-color: #008000\">\"email\"</span>, \n",
       "<span style=\"color: #008000; text-decoration-color: #008000\">\"books_person\"</span>.<span style=\"color: #008000; text-decoration-color: #008000\">\"name\"</span>, <span style=\"color: #008000; text-decoration-color: #008000\">\"books_person\"</span>.<span style=\"color: #008000; text-decoration-color: #008000\">\"bio\"</span> FROM <span style=\"color: #008000; text-decoration-color: #008000\">\"books_book\"</span> LEFT OUTER JOIN <span style=\"color: #008000; text-decoration-color: #008000\">\"books_review\"</span> ON <span style=\"font-weight: bold\">(</span><span style=\"color: #008000; text-decoration-color: #008000\">\"books_book\"</span>.<span style=\"color: #008000; text-decoration-color: #008000\">\"id\"</span> \n",
       "= <span style=\"color: #008000; text-decoration-color: #008000\">\"books_review\"</span>.<span style=\"color: #008000; text-decoration-color: #008000\">\"book_id\"</span><span style=\"font-weight: bold\">)</span> LEFT OUTER JOIN <span style=\"color: #008000; text-decoration-color: #008000\">\"books_booktag\"</span> ON <span style=\"font-weight: bold\">(</span><span style=\"color: #008000; text-decoration-color: #008000\">\"books_book\"</span>.<span style=\"color: #008000; text-decoration-color: #008000\">\"id\"</span> = <span style=\"color: #008000; text-decoration-color: #008000\">\"books_booktag\"</span>.<span style=\"color: #008000; text-decoration-color: #008000\">\"book_id\"</span><span style=\"font-weight: bold\">)</span> \n",
       "INNER JOIN <span style=\"color: #008000; text-decoration-color: #008000\">\"books_person\"</span> ON <span style=\"font-weight: bold\">(</span><span style=\"color: #008000; text-decoration-color: #008000\">\"books_book\"</span>.<span style=\"color: #008000; text-decoration-color: #008000\">\"author_id\"</span> = <span style=\"color: #008000; text-decoration-color: #008000\">\"books_person\"</span>.<span style=\"color: #008000; text-decoration-color: #008000\">\"id\"</span><span style=\"font-weight: bold\">)</span> WHERE <span style=\"color: #008000; text-decoration-color: #008000\">\"books_book\"</span>.<span style=\"color: #008000; text-decoration-color: #008000\">\"library_id\"</span> = <span style=\"color: #008080; text-decoration-color: #008080; font-weight: bold\">6</span> \n",
       "GROUP BY <span style=\"color: #008000; text-decoration-color: #008000\">\"books_book\"</span>.<span style=\"color: #008000; text-decoration-color: #008000\">\"id\"</span>, <span style=\"color: #008000; text-decoration-color: #008000\">\"books_person\"</span>.<span style=\"color: #008000; text-decoration-color: #008000\">\"id\"</span> ORDER BY <span style=\"color: #008000; text-decoration-color: #008000\">\"books_book\"</span>.<span style=\"color: #008000; text-decoration-color: #008000\">\"release_date\"</span> ASC, <span style=\"color: #008000; text-decoration-color: #008000\">\"books_book\"</span>.<span style=\"color: #008000; text-decoration-color: #008000\">\"id\"</span> ASC \n",
       "LIMIT <span style=\"color: #008080; text-decoration-color: #008080; font-weight: bold\">20</span>\n",
       "</pre>\n"
      ],
      "text/plain": [
       "Duration\n",
       "  Total: \u001b[1;36m17.61\u001b[0m\n",
       "  SQL: \u001b[1;36m17.61\u001b[0m \n",
       "\n",
       "      \u001b[1m(\u001b[0mduration: \u001b[1;36m17.606\u001b[0m\u001b[1m)\u001b[0m   SELECT \u001b[32m\"books_book\"\u001b[0m.\u001b[32m\"id\"\u001b[0m, \u001b[32m\"books_book\"\u001b[0m.\u001b[32m\"title\"\u001b[0m, \u001b[32m\"books_book\"\u001b[0m.\u001b[32m\"author_id\"\u001b[0m, \n",
       "\u001b[32m\"books_book\"\u001b[0m.\u001b[32m\"release_date\"\u001b[0m, \u001b[32m\"books_book\"\u001b[0m.\u001b[32m\"library_id\"\u001b[0m, \u001b[1;35mCOUNT\u001b[0m\u001b[1m(\u001b[0m\u001b[32m\"books_review\"\u001b[0m.\u001b[32m\"id\"\u001b[0m\u001b[1m)\u001b[0m AS \u001b[32m\"review_count\"\u001b[0m, \n",
       "\u001b[1;35mARRAY_AGG\u001b[0m\u001b[1m(\u001b[0m\u001b[32m\"books_booktag\"\u001b[0m.\u001b[32m\"name\"\u001b[0m \u001b[1m)\u001b[0m AS \u001b[32m\"tag_names\"\u001b[0m, \u001b[32m\"books_person\"\u001b[0m.\u001b[32m\"id\"\u001b[0m, \u001b[32m\"books_person\"\u001b[0m.\u001b[32m\"email\"\u001b[0m, \n",
       "\u001b[32m\"books_person\"\u001b[0m.\u001b[32m\"name\"\u001b[0m, \u001b[32m\"books_person\"\u001b[0m.\u001b[32m\"bio\"\u001b[0m FROM \u001b[32m\"books_book\"\u001b[0m LEFT OUTER JOIN \u001b[32m\"books_review\"\u001b[0m ON \u001b[1m(\u001b[0m\u001b[32m\"books_book\"\u001b[0m.\u001b[32m\"id\"\u001b[0m \n",
       "= \u001b[32m\"books_review\"\u001b[0m.\u001b[32m\"book_id\"\u001b[0m\u001b[1m)\u001b[0m LEFT OUTER JOIN \u001b[32m\"books_booktag\"\u001b[0m ON \u001b[1m(\u001b[0m\u001b[32m\"books_book\"\u001b[0m.\u001b[32m\"id\"\u001b[0m = \u001b[32m\"books_booktag\"\u001b[0m.\u001b[32m\"book_id\"\u001b[0m\u001b[1m)\u001b[0m \n",
       "INNER JOIN \u001b[32m\"books_person\"\u001b[0m ON \u001b[1m(\u001b[0m\u001b[32m\"books_book\"\u001b[0m.\u001b[32m\"author_id\"\u001b[0m = \u001b[32m\"books_person\"\u001b[0m.\u001b[32m\"id\"\u001b[0m\u001b[1m)\u001b[0m WHERE \u001b[32m\"books_book\"\u001b[0m.\u001b[32m\"library_id\"\u001b[0m = \u001b[1;36m6\u001b[0m \n",
       "GROUP BY \u001b[32m\"books_book\"\u001b[0m.\u001b[32m\"id\"\u001b[0m, \u001b[32m\"books_person\"\u001b[0m.\u001b[32m\"id\"\u001b[0m ORDER BY \u001b[32m\"books_book\"\u001b[0m.\u001b[32m\"release_date\"\u001b[0m ASC, \u001b[32m\"books_book\"\u001b[0m.\u001b[32m\"id\"\u001b[0m ASC \n",
       "LIMIT \u001b[1;36m20\u001b[0m\n"
      ]
     },
     "metadata": {},
     "output_type": "display_data"
    },
    {
     "data": {
      "text/html": [
       "<pre style=\"white-space:pre;overflow-x:auto;line-height:normal;font-family:Menlo,'DejaVu Sans Mono',consolas,'Courier New',monospace\"><span style=\"font-weight: bold\">{</span>\n",
       "    <span style=\"color: #008000; text-decoration-color: #008000\">'id'</span>: <span style=\"color: #008080; text-decoration-color: #008080; font-weight: bold\">251127</span>,\n",
       "    <span style=\"color: #008000; text-decoration-color: #008000\">'title'</span>: <span style=\"color: #008000; text-decoration-color: #008000\">'Design care there six must keep on.'</span>,\n",
       "    <span style=\"color: #008000; text-decoration-color: #008000\">'release_date'</span>: <span style=\"color: #800080; text-decoration-color: #800080; font-weight: bold\">datetime.date</span><span style=\"font-weight: bold\">(</span><span style=\"color: #008080; text-decoration-color: #008080; font-weight: bold\">1923</span>, <span style=\"color: #008080; text-decoration-color: #008080; font-weight: bold\">5</span>, <span style=\"color: #008080; text-decoration-color: #008080; font-weight: bold\">31</span><span style=\"font-weight: bold\">)</span>,\n",
       "    <span style=\"color: #008000; text-decoration-color: #008000\">'library_id'</span>: <span style=\"color: #008080; text-decoration-color: #008080; font-weight: bold\">6</span>,\n",
       "    <span style=\"color: #008000; text-decoration-color: #008000\">'review_count'</span>: <span style=\"color: #008080; text-decoration-color: #008080; font-weight: bold\">40</span>,\n",
       "    <span style=\"color: #008000; text-decoration-color: #008000\">'tag_names'</span>: <span style=\"font-weight: bold\">[</span>\n",
       "        <span style=\"color: #008000; text-decoration-color: #008000\">'braille'</span>,\n",
       "        <span style=\"color: #008000; text-decoration-color: #008000\">'braille'</span>,\n",
       "        <span style=\"color: #008000; text-decoration-color: #008000\">'braille'</span>,\n",
       "        <span style=\"color: #008000; text-decoration-color: #008000\">'braille'</span>,\n",
       "        <span style=\"color: #008000; text-decoration-color: #008000\">'braille'</span>,\n",
       "        <span style=\"color: #008000; text-decoration-color: #008000\">'braille'</span>,\n",
       "        <span style=\"color: #008000; text-decoration-color: #008000\">'braille'</span>,\n",
       "        <span style=\"color: #008000; text-decoration-color: #008000\">'braille'</span>,\n",
       "        <span style=\"color: #008000; text-decoration-color: #008000\">'braille'</span>,\n",
       "        <span style=\"color: #008000; text-decoration-color: #008000\">'braille'</span>,\n",
       "        <span style=\"color: #008000; text-decoration-color: #008000\">'comics'</span>,\n",
       "        <span style=\"color: #008000; text-decoration-color: #008000\">'comics'</span>,\n",
       "        <span style=\"color: #008000; text-decoration-color: #008000\">'comics'</span>,\n",
       "        <span style=\"color: #008000; text-decoration-color: #008000\">'comics'</span>,\n",
       "        <span style=\"color: #008000; text-decoration-color: #008000\">'comics'</span>,\n",
       "        <span style=\"color: #008000; text-decoration-color: #008000\">'comics'</span>,\n",
       "        <span style=\"color: #008000; text-decoration-color: #008000\">'comics'</span>,\n",
       "        <span style=\"color: #008000; text-decoration-color: #008000\">'comics'</span>,\n",
       "        <span style=\"color: #008000; text-decoration-color: #008000\">'comics'</span>,\n",
       "        <span style=\"color: #008000; text-decoration-color: #008000\">'comics'</span>,\n",
       "        <span style=\"color: #008000; text-decoration-color: #008000\">'movie'</span>,\n",
       "        <span style=\"color: #008000; text-decoration-color: #008000\">'movie'</span>,\n",
       "        <span style=\"color: #008000; text-decoration-color: #008000\">'movie'</span>,\n",
       "        <span style=\"color: #008000; text-decoration-color: #008000\">'movie'</span>,\n",
       "        <span style=\"color: #008000; text-decoration-color: #008000\">'movie'</span>,\n",
       "        <span style=\"color: #008000; text-decoration-color: #008000\">'movie'</span>,\n",
       "        <span style=\"color: #008000; text-decoration-color: #008000\">'movie'</span>,\n",
       "        <span style=\"color: #008000; text-decoration-color: #008000\">'movie'</span>,\n",
       "        <span style=\"color: #008000; text-decoration-color: #008000\">'movie'</span>,\n",
       "        <span style=\"color: #008000; text-decoration-color: #008000\">'movie'</span>,\n",
       "        <span style=\"color: #008000; text-decoration-color: #008000\">'audio'</span>,\n",
       "        <span style=\"color: #008000; text-decoration-color: #008000\">'audio'</span>,\n",
       "        <span style=\"color: #008000; text-decoration-color: #008000\">'audio'</span>,\n",
       "        <span style=\"color: #008000; text-decoration-color: #008000\">'audio'</span>,\n",
       "        <span style=\"color: #008000; text-decoration-color: #008000\">'audio'</span>,\n",
       "        <span style=\"color: #008000; text-decoration-color: #008000\">'audio'</span>,\n",
       "        <span style=\"color: #008000; text-decoration-color: #008000\">'audio'</span>,\n",
       "        <span style=\"color: #008000; text-decoration-color: #008000\">'audio'</span>,\n",
       "        <span style=\"color: #008000; text-decoration-color: #008000\">'audio'</span>,\n",
       "        <span style=\"color: #008000; text-decoration-color: #008000\">'audio'</span>\n",
       "    <span style=\"font-weight: bold\">]</span>,\n",
       "    <span style=\"color: #008000; text-decoration-color: #008000\">'author'</span>: <span style=\"font-weight: bold\">{</span><span style=\"color: #008000; text-decoration-color: #008000\">'id'</span>: <span style=\"color: #008080; text-decoration-color: #008080; font-weight: bold\">3454</span>, <span style=\"color: #008000; text-decoration-color: #008000\">'name'</span>: <span style=\"color: #008000; text-decoration-color: #008000\">'Charles Ingram'</span><span style=\"font-weight: bold\">}</span>\n",
       "<span style=\"font-weight: bold\">}</span>\n",
       "</pre>\n"
      ],
      "text/plain": [
       "\u001b[1m{\u001b[0m\n",
       "    \u001b[32m'id'\u001b[0m: \u001b[1;36m251127\u001b[0m,\n",
       "    \u001b[32m'title'\u001b[0m: \u001b[32m'Design care there six must keep on.'\u001b[0m,\n",
       "    \u001b[32m'release_date'\u001b[0m: \u001b[1;35mdatetime.date\u001b[0m\u001b[1m(\u001b[0m\u001b[1;36m1923\u001b[0m, \u001b[1;36m5\u001b[0m, \u001b[1;36m31\u001b[0m\u001b[1m)\u001b[0m,\n",
       "    \u001b[32m'library_id'\u001b[0m: \u001b[1;36m6\u001b[0m,\n",
       "    \u001b[32m'review_count'\u001b[0m: \u001b[1;36m40\u001b[0m,\n",
       "    \u001b[32m'tag_names'\u001b[0m: \u001b[1m[\u001b[0m\n",
       "        \u001b[32m'braille'\u001b[0m,\n",
       "        \u001b[32m'braille'\u001b[0m,\n",
       "        \u001b[32m'braille'\u001b[0m,\n",
       "        \u001b[32m'braille'\u001b[0m,\n",
       "        \u001b[32m'braille'\u001b[0m,\n",
       "        \u001b[32m'braille'\u001b[0m,\n",
       "        \u001b[32m'braille'\u001b[0m,\n",
       "        \u001b[32m'braille'\u001b[0m,\n",
       "        \u001b[32m'braille'\u001b[0m,\n",
       "        \u001b[32m'braille'\u001b[0m,\n",
       "        \u001b[32m'comics'\u001b[0m,\n",
       "        \u001b[32m'comics'\u001b[0m,\n",
       "        \u001b[32m'comics'\u001b[0m,\n",
       "        \u001b[32m'comics'\u001b[0m,\n",
       "        \u001b[32m'comics'\u001b[0m,\n",
       "        \u001b[32m'comics'\u001b[0m,\n",
       "        \u001b[32m'comics'\u001b[0m,\n",
       "        \u001b[32m'comics'\u001b[0m,\n",
       "        \u001b[32m'comics'\u001b[0m,\n",
       "        \u001b[32m'comics'\u001b[0m,\n",
       "        \u001b[32m'movie'\u001b[0m,\n",
       "        \u001b[32m'movie'\u001b[0m,\n",
       "        \u001b[32m'movie'\u001b[0m,\n",
       "        \u001b[32m'movie'\u001b[0m,\n",
       "        \u001b[32m'movie'\u001b[0m,\n",
       "        \u001b[32m'movie'\u001b[0m,\n",
       "        \u001b[32m'movie'\u001b[0m,\n",
       "        \u001b[32m'movie'\u001b[0m,\n",
       "        \u001b[32m'movie'\u001b[0m,\n",
       "        \u001b[32m'movie'\u001b[0m,\n",
       "        \u001b[32m'audio'\u001b[0m,\n",
       "        \u001b[32m'audio'\u001b[0m,\n",
       "        \u001b[32m'audio'\u001b[0m,\n",
       "        \u001b[32m'audio'\u001b[0m,\n",
       "        \u001b[32m'audio'\u001b[0m,\n",
       "        \u001b[32m'audio'\u001b[0m,\n",
       "        \u001b[32m'audio'\u001b[0m,\n",
       "        \u001b[32m'audio'\u001b[0m,\n",
       "        \u001b[32m'audio'\u001b[0m,\n",
       "        \u001b[32m'audio'\u001b[0m\n",
       "    \u001b[1m]\u001b[0m,\n",
       "    \u001b[32m'author'\u001b[0m: \u001b[1m{\u001b[0m\u001b[32m'id'\u001b[0m: \u001b[1;36m3454\u001b[0m, \u001b[32m'name'\u001b[0m: \u001b[32m'Charles Ingram'\u001b[0m\u001b[1m}\u001b[0m\n",
       "\u001b[1m}\u001b[0m\n"
      ]
     },
     "metadata": {},
     "output_type": "display_data"
    }
   ],
   "source": [
    "with perf_counter(time_sql=True, print_sql=True):\n",
    "    qs = annotate_books_aggregate(get_queryset(alexandria_id))\n",
    "    result = serialize_books(qs)\n",
    "print(result[0])\n"
   ]
  },
  {
   "attachments": {},
   "cell_type": "markdown",
   "metadata": {},
   "source": [
    "Do not forget about duplicates when doing multiple aggregations!\n",
    "\n",
    "Luckily, both `Count` and `ArrayAgg` accept a `distinct` argument\n"
   ]
  },
  {
   "cell_type": "code",
   "execution_count": 9,
   "metadata": {},
   "outputs": [],
   "source": [
    "def annotate_books_aggregate(book_qs: QuerySet[Book]):\n",
    "    return book_qs.annotate(\n",
    "        review_count=Count(\"reviews\", distinct=True),\n",
    "        tag_names=ArrayAgg(\"tags__name\", distinct=True),\n",
    "    )"
   ]
  },
  {
   "cell_type": "code",
   "execution_count": 10,
   "metadata": {},
   "outputs": [
    {
     "data": {
      "text/html": [
       "<pre style=\"white-space:pre;overflow-x:auto;line-height:normal;font-family:Menlo,'DejaVu Sans Mono',consolas,'Courier New',monospace\">Duration\n",
       "  Total: <span style=\"color: #008080; text-decoration-color: #008080; font-weight: bold\">17.51</span>\n",
       "  SQL: <span style=\"color: #008080; text-decoration-color: #008080; font-weight: bold\">17.51</span> \n",
       "\n",
       "      <span style=\"font-weight: bold\">(</span>duration: <span style=\"color: #008080; text-decoration-color: #008080; font-weight: bold\">17.509</span><span style=\"font-weight: bold\">)</span>   SELECT <span style=\"color: #008000; text-decoration-color: #008000\">\"books_book\"</span>.<span style=\"color: #008000; text-decoration-color: #008000\">\"id\"</span>, <span style=\"color: #008000; text-decoration-color: #008000\">\"books_book\"</span>.<span style=\"color: #008000; text-decoration-color: #008000\">\"title\"</span>, <span style=\"color: #008000; text-decoration-color: #008000\">\"books_book\"</span>.<span style=\"color: #008000; text-decoration-color: #008000\">\"author_id\"</span>, \n",
       "<span style=\"color: #008000; text-decoration-color: #008000\">\"books_book\"</span>.<span style=\"color: #008000; text-decoration-color: #008000\">\"release_date\"</span>, <span style=\"color: #008000; text-decoration-color: #008000\">\"books_book\"</span>.<span style=\"color: #008000; text-decoration-color: #008000\">\"library_id\"</span>, <span style=\"color: #800080; text-decoration-color: #800080; font-weight: bold\">COUNT</span><span style=\"font-weight: bold\">(</span>DISTINCT <span style=\"color: #008000; text-decoration-color: #008000\">\"books_review\"</span>.<span style=\"color: #008000; text-decoration-color: #008000\">\"id\"</span><span style=\"font-weight: bold\">)</span> AS <span style=\"color: #008000; text-decoration-color: #008000\">\"review_count\"</span>, \n",
       "<span style=\"color: #800080; text-decoration-color: #800080; font-weight: bold\">ARRAY_AGG</span><span style=\"font-weight: bold\">(</span>DISTINCT <span style=\"color: #008000; text-decoration-color: #008000\">\"books_booktag\"</span>.<span style=\"color: #008000; text-decoration-color: #008000\">\"name\"</span> <span style=\"font-weight: bold\">)</span> AS <span style=\"color: #008000; text-decoration-color: #008000\">\"tag_names\"</span>, <span style=\"color: #008000; text-decoration-color: #008000\">\"books_person\"</span>.<span style=\"color: #008000; text-decoration-color: #008000\">\"id\"</span>, <span style=\"color: #008000; text-decoration-color: #008000\">\"books_person\"</span>.<span style=\"color: #008000; text-decoration-color: #008000\">\"email\"</span>, \n",
       "<span style=\"color: #008000; text-decoration-color: #008000\">\"books_person\"</span>.<span style=\"color: #008000; text-decoration-color: #008000\">\"name\"</span>, <span style=\"color: #008000; text-decoration-color: #008000\">\"books_person\"</span>.<span style=\"color: #008000; text-decoration-color: #008000\">\"bio\"</span> FROM <span style=\"color: #008000; text-decoration-color: #008000\">\"books_book\"</span> LEFT OUTER JOIN <span style=\"color: #008000; text-decoration-color: #008000\">\"books_review\"</span> ON <span style=\"font-weight: bold\">(</span><span style=\"color: #008000; text-decoration-color: #008000\">\"books_book\"</span>.<span style=\"color: #008000; text-decoration-color: #008000\">\"id\"</span> \n",
       "= <span style=\"color: #008000; text-decoration-color: #008000\">\"books_review\"</span>.<span style=\"color: #008000; text-decoration-color: #008000\">\"book_id\"</span><span style=\"font-weight: bold\">)</span> LEFT OUTER JOIN <span style=\"color: #008000; text-decoration-color: #008000\">\"books_booktag\"</span> ON <span style=\"font-weight: bold\">(</span><span style=\"color: #008000; text-decoration-color: #008000\">\"books_book\"</span>.<span style=\"color: #008000; text-decoration-color: #008000\">\"id\"</span> = <span style=\"color: #008000; text-decoration-color: #008000\">\"books_booktag\"</span>.<span style=\"color: #008000; text-decoration-color: #008000\">\"book_id\"</span><span style=\"font-weight: bold\">)</span> \n",
       "INNER JOIN <span style=\"color: #008000; text-decoration-color: #008000\">\"books_person\"</span> ON <span style=\"font-weight: bold\">(</span><span style=\"color: #008000; text-decoration-color: #008000\">\"books_book\"</span>.<span style=\"color: #008000; text-decoration-color: #008000\">\"author_id\"</span> = <span style=\"color: #008000; text-decoration-color: #008000\">\"books_person\"</span>.<span style=\"color: #008000; text-decoration-color: #008000\">\"id\"</span><span style=\"font-weight: bold\">)</span> WHERE <span style=\"color: #008000; text-decoration-color: #008000\">\"books_book\"</span>.<span style=\"color: #008000; text-decoration-color: #008000\">\"library_id\"</span> = <span style=\"color: #008080; text-decoration-color: #008080; font-weight: bold\">6</span> \n",
       "GROUP BY <span style=\"color: #008000; text-decoration-color: #008000\">\"books_book\"</span>.<span style=\"color: #008000; text-decoration-color: #008000\">\"id\"</span>, <span style=\"color: #008000; text-decoration-color: #008000\">\"books_person\"</span>.<span style=\"color: #008000; text-decoration-color: #008000\">\"id\"</span> ORDER BY <span style=\"color: #008000; text-decoration-color: #008000\">\"books_book\"</span>.<span style=\"color: #008000; text-decoration-color: #008000\">\"release_date\"</span> ASC, <span style=\"color: #008000; text-decoration-color: #008000\">\"books_book\"</span>.<span style=\"color: #008000; text-decoration-color: #008000\">\"id\"</span> ASC \n",
       "LIMIT <span style=\"color: #008080; text-decoration-color: #008080; font-weight: bold\">20</span>\n",
       "</pre>\n"
      ],
      "text/plain": [
       "Duration\n",
       "  Total: \u001b[1;36m17.51\u001b[0m\n",
       "  SQL: \u001b[1;36m17.51\u001b[0m \n",
       "\n",
       "      \u001b[1m(\u001b[0mduration: \u001b[1;36m17.509\u001b[0m\u001b[1m)\u001b[0m   SELECT \u001b[32m\"books_book\"\u001b[0m.\u001b[32m\"id\"\u001b[0m, \u001b[32m\"books_book\"\u001b[0m.\u001b[32m\"title\"\u001b[0m, \u001b[32m\"books_book\"\u001b[0m.\u001b[32m\"author_id\"\u001b[0m, \n",
       "\u001b[32m\"books_book\"\u001b[0m.\u001b[32m\"release_date\"\u001b[0m, \u001b[32m\"books_book\"\u001b[0m.\u001b[32m\"library_id\"\u001b[0m, \u001b[1;35mCOUNT\u001b[0m\u001b[1m(\u001b[0mDISTINCT \u001b[32m\"books_review\"\u001b[0m.\u001b[32m\"id\"\u001b[0m\u001b[1m)\u001b[0m AS \u001b[32m\"review_count\"\u001b[0m, \n",
       "\u001b[1;35mARRAY_AGG\u001b[0m\u001b[1m(\u001b[0mDISTINCT \u001b[32m\"books_booktag\"\u001b[0m.\u001b[32m\"name\"\u001b[0m \u001b[1m)\u001b[0m AS \u001b[32m\"tag_names\"\u001b[0m, \u001b[32m\"books_person\"\u001b[0m.\u001b[32m\"id\"\u001b[0m, \u001b[32m\"books_person\"\u001b[0m.\u001b[32m\"email\"\u001b[0m, \n",
       "\u001b[32m\"books_person\"\u001b[0m.\u001b[32m\"name\"\u001b[0m, \u001b[32m\"books_person\"\u001b[0m.\u001b[32m\"bio\"\u001b[0m FROM \u001b[32m\"books_book\"\u001b[0m LEFT OUTER JOIN \u001b[32m\"books_review\"\u001b[0m ON \u001b[1m(\u001b[0m\u001b[32m\"books_book\"\u001b[0m.\u001b[32m\"id\"\u001b[0m \n",
       "= \u001b[32m\"books_review\"\u001b[0m.\u001b[32m\"book_id\"\u001b[0m\u001b[1m)\u001b[0m LEFT OUTER JOIN \u001b[32m\"books_booktag\"\u001b[0m ON \u001b[1m(\u001b[0m\u001b[32m\"books_book\"\u001b[0m.\u001b[32m\"id\"\u001b[0m = \u001b[32m\"books_booktag\"\u001b[0m.\u001b[32m\"book_id\"\u001b[0m\u001b[1m)\u001b[0m \n",
       "INNER JOIN \u001b[32m\"books_person\"\u001b[0m ON \u001b[1m(\u001b[0m\u001b[32m\"books_book\"\u001b[0m.\u001b[32m\"author_id\"\u001b[0m = \u001b[32m\"books_person\"\u001b[0m.\u001b[32m\"id\"\u001b[0m\u001b[1m)\u001b[0m WHERE \u001b[32m\"books_book\"\u001b[0m.\u001b[32m\"library_id\"\u001b[0m = \u001b[1;36m6\u001b[0m \n",
       "GROUP BY \u001b[32m\"books_book\"\u001b[0m.\u001b[32m\"id\"\u001b[0m, \u001b[32m\"books_person\"\u001b[0m.\u001b[32m\"id\"\u001b[0m ORDER BY \u001b[32m\"books_book\"\u001b[0m.\u001b[32m\"release_date\"\u001b[0m ASC, \u001b[32m\"books_book\"\u001b[0m.\u001b[32m\"id\"\u001b[0m ASC \n",
       "LIMIT \u001b[1;36m20\u001b[0m\n"
      ]
     },
     "metadata": {},
     "output_type": "display_data"
    },
    {
     "data": {
      "text/html": [
       "<pre style=\"white-space:pre;overflow-x:auto;line-height:normal;font-family:Menlo,'DejaVu Sans Mono',consolas,'Courier New',monospace\"><span style=\"font-weight: bold\">{</span>\n",
       "    <span style=\"color: #008000; text-decoration-color: #008000\">'id'</span>: <span style=\"color: #008080; text-decoration-color: #008080; font-weight: bold\">251127</span>,\n",
       "    <span style=\"color: #008000; text-decoration-color: #008000\">'title'</span>: <span style=\"color: #008000; text-decoration-color: #008000\">'Design care there six must keep on.'</span>,\n",
       "    <span style=\"color: #008000; text-decoration-color: #008000\">'release_date'</span>: <span style=\"color: #800080; text-decoration-color: #800080; font-weight: bold\">datetime.date</span><span style=\"font-weight: bold\">(</span><span style=\"color: #008080; text-decoration-color: #008080; font-weight: bold\">1923</span>, <span style=\"color: #008080; text-decoration-color: #008080; font-weight: bold\">5</span>, <span style=\"color: #008080; text-decoration-color: #008080; font-weight: bold\">31</span><span style=\"font-weight: bold\">)</span>,\n",
       "    <span style=\"color: #008000; text-decoration-color: #008000\">'library_id'</span>: <span style=\"color: #008080; text-decoration-color: #008080; font-weight: bold\">6</span>,\n",
       "    <span style=\"color: #008000; text-decoration-color: #008000\">'review_count'</span>: <span style=\"color: #008080; text-decoration-color: #008080; font-weight: bold\">10</span>,\n",
       "    <span style=\"color: #008000; text-decoration-color: #008000\">'tag_names'</span>: <span style=\"font-weight: bold\">[</span><span style=\"color: #008000; text-decoration-color: #008000\">'audio'</span>, <span style=\"color: #008000; text-decoration-color: #008000\">'braille'</span>, <span style=\"color: #008000; text-decoration-color: #008000\">'comics'</span>, <span style=\"color: #008000; text-decoration-color: #008000\">'movie'</span><span style=\"font-weight: bold\">]</span>,\n",
       "    <span style=\"color: #008000; text-decoration-color: #008000\">'author'</span>: <span style=\"font-weight: bold\">{</span><span style=\"color: #008000; text-decoration-color: #008000\">'id'</span>: <span style=\"color: #008080; text-decoration-color: #008080; font-weight: bold\">3454</span>, <span style=\"color: #008000; text-decoration-color: #008000\">'name'</span>: <span style=\"color: #008000; text-decoration-color: #008000\">'Charles Ingram'</span><span style=\"font-weight: bold\">}</span>\n",
       "<span style=\"font-weight: bold\">}</span>\n",
       "</pre>\n"
      ],
      "text/plain": [
       "\u001b[1m{\u001b[0m\n",
       "    \u001b[32m'id'\u001b[0m: \u001b[1;36m251127\u001b[0m,\n",
       "    \u001b[32m'title'\u001b[0m: \u001b[32m'Design care there six must keep on.'\u001b[0m,\n",
       "    \u001b[32m'release_date'\u001b[0m: \u001b[1;35mdatetime.date\u001b[0m\u001b[1m(\u001b[0m\u001b[1;36m1923\u001b[0m, \u001b[1;36m5\u001b[0m, \u001b[1;36m31\u001b[0m\u001b[1m)\u001b[0m,\n",
       "    \u001b[32m'library_id'\u001b[0m: \u001b[1;36m6\u001b[0m,\n",
       "    \u001b[32m'review_count'\u001b[0m: \u001b[1;36m10\u001b[0m,\n",
       "    \u001b[32m'tag_names'\u001b[0m: \u001b[1m[\u001b[0m\u001b[32m'audio'\u001b[0m, \u001b[32m'braille'\u001b[0m, \u001b[32m'comics'\u001b[0m, \u001b[32m'movie'\u001b[0m\u001b[1m]\u001b[0m,\n",
       "    \u001b[32m'author'\u001b[0m: \u001b[1m{\u001b[0m\u001b[32m'id'\u001b[0m: \u001b[1;36m3454\u001b[0m, \u001b[32m'name'\u001b[0m: \u001b[32m'Charles Ingram'\u001b[0m\u001b[1m}\u001b[0m\n",
       "\u001b[1m}\u001b[0m\n"
      ]
     },
     "metadata": {},
     "output_type": "display_data"
    }
   ],
   "source": [
    "with perf_counter(time_sql=True, print_sql=True):\n",
    "    qs = get_queryset(alexandria_id)\n",
    "    qs = annotate_books_aggregate(qs)\n",
    "    result = serialize_books(qs)\n",
    "print(result[0])\n"
   ]
  },
  {
   "attachments": {},
   "cell_type": "markdown",
   "metadata": {},
   "source": [
    "Now we have a baseline for our endpoint, let's try to improve it.\n"
   ]
  },
  {
   "cell_type": "code",
   "execution_count": 11,
   "metadata": {},
   "outputs": [
    {
     "data": {
      "text/html": [
       "<pre style=\"white-space:pre;overflow-x:auto;line-height:normal;font-family:Menlo,'DejaVu Sans Mono',consolas,'Courier New',monospace\">Limit  <span style=\"font-weight: bold\">(</span><span style=\"color: #808000; text-decoration-color: #808000\">cost</span>=<span style=\"color: #008080; text-decoration-color: #008080; font-weight: bold\">3653166.13</span>..<span style=\"color: #008080; text-decoration-color: #008080; font-weight: bold\">3653166.18</span> <span style=\"color: #808000; text-decoration-color: #808000\">rows</span>=<span style=\"color: #008080; text-decoration-color: #008080; font-weight: bold\">20</span> <span style=\"color: #808000; text-decoration-color: #808000\">width</span>=<span style=\"color: #008080; text-decoration-color: #008080; font-weight: bold\">912</span><span style=\"font-weight: bold\">)</span> <span style=\"font-weight: bold\">(</span>actual <span style=\"color: #808000; text-decoration-color: #808000\">time</span>=<span style=\"color: #008080; text-decoration-color: #008080; font-weight: bold\">18626.307</span>..<span style=\"color: #008080; text-decoration-color: #008080; font-weight: bold\">18892.615</span> <span style=\"color: #808000; text-decoration-color: #808000\">rows</span>=<span style=\"color: #008080; text-decoration-color: #008080; font-weight: bold\">20</span> <span style=\"color: #808000; text-decoration-color: #808000\">loops</span>=<span style=\"color: #008080; text-decoration-color: #008080; font-weight: bold\">1</span><span style=\"font-weight: bold\">)</span>\n",
       "  -&gt;  Sort  <span style=\"font-weight: bold\">(</span><span style=\"color: #808000; text-decoration-color: #808000\">cost</span>=<span style=\"color: #008080; text-decoration-color: #008080; font-weight: bold\">3653166.13</span>..<span style=\"color: #008080; text-decoration-color: #008080; font-weight: bold\">3668016.84</span> <span style=\"color: #808000; text-decoration-color: #808000\">rows</span>=<span style=\"color: #008080; text-decoration-color: #008080; font-weight: bold\">5940286</span> <span style=\"color: #808000; text-decoration-color: #808000\">width</span>=<span style=\"color: #008080; text-decoration-color: #008080; font-weight: bold\">912</span><span style=\"font-weight: bold\">)</span> <span style=\"font-weight: bold\">(</span>actual <span style=\"color: #808000; text-decoration-color: #808000\">time</span>=<span style=\"color: #008080; text-decoration-color: #008080; font-weight: bold\">18273.309</span>..<span style=\"color: #008080; text-decoration-color: #008080; font-weight: bold\">18539.615</span> <span style=\"color: #808000; text-decoration-color: #808000\">rows</span>=<span style=\"color: #008080; text-decoration-color: #008080; font-weight: bold\">20</span> <span style=\"color: #808000; text-decoration-color: #808000\">loops</span>=<span style=\"color: #008080; text-decoration-color: #008080; font-weight: bold\">1</span><span style=\"font-weight: bold\">)</span>\n",
       "        Sort Key: books_book.release_date, books_book.id\n",
       "        Sort Method: top-N heapsort  Memory: 74kB\n",
       "        -&gt;  GroupAggregate  <span style=\"font-weight: bold\">(</span><span style=\"color: #808000; text-decoration-color: #808000\">cost</span>=<span style=\"color: #008080; text-decoration-color: #008080; font-weight: bold\">545611.43</span>..<span style=\"color: #008080; text-decoration-color: #008080; font-weight: bold\">3495097.25</span> <span style=\"color: #808000; text-decoration-color: #808000\">rows</span>=<span style=\"color: #008080; text-decoration-color: #008080; font-weight: bold\">5940286</span> <span style=\"color: #808000; text-decoration-color: #808000\">width</span>=<span style=\"color: #008080; text-decoration-color: #008080; font-weight: bold\">912</span><span style=\"font-weight: bold\">)</span> <span style=\"font-weight: bold\">(</span>actual <span style=\"color: #808000; text-decoration-color: #808000\">time</span>=<span style=\"color: #008080; text-decoration-color: #008080; font-weight: bold\">4701.367</span>..<span style=\"color: #008080; text-decoration-color: #008080; font-weight: bold\">18400.389</span> \n",
       "<span style=\"color: #808000; text-decoration-color: #808000\">rows</span>=<span style=\"color: #008080; text-decoration-color: #008080; font-weight: bold\">200711</span> <span style=\"color: #808000; text-decoration-color: #808000\">loops</span>=<span style=\"color: #008080; text-decoration-color: #008080; font-weight: bold\">1</span><span style=\"font-weight: bold\">)</span>\n",
       "              Group Key: books_book.id, books_person.id\n",
       "              -&gt;  Merge Left Join  <span style=\"font-weight: bold\">(</span><span style=\"color: #808000; text-decoration-color: #808000\">cost</span>=<span style=\"color: #008080; text-decoration-color: #008080; font-weight: bold\">545611.43</span>..<span style=\"color: #008080; text-decoration-color: #008080; font-weight: bold\">3361440.82</span> <span style=\"color: #808000; text-decoration-color: #808000\">rows</span>=<span style=\"color: #008080; text-decoration-color: #008080; font-weight: bold\">5940286</span> <span style=\"color: #808000; text-decoration-color: #808000\">width</span>=<span style=\"color: #008080; text-decoration-color: #008080; font-weight: bold\">886</span><span style=\"font-weight: bold\">)</span> <span style=\"font-weight: bold\">(</span>actual \n",
       "<span style=\"color: #808000; text-decoration-color: #808000\">time</span>=<span style=\"color: #008080; text-decoration-color: #008080; font-weight: bold\">4619.543</span>..<span style=\"color: #008080; text-decoration-color: #008080; font-weight: bold\">14294.172</span> <span style=\"color: #808000; text-decoration-color: #808000\">rows</span>=<span style=\"color: #008080; text-decoration-color: #008080; font-weight: bold\">6069763</span> <span style=\"color: #808000; text-decoration-color: #808000\">loops</span>=<span style=\"color: #008080; text-decoration-color: #008080; font-weight: bold\">1</span><span style=\"font-weight: bold\">)</span>\n",
       "                    Merge Cond: <span style=\"font-weight: bold\">(</span>books_book.id = books_review.book_id<span style=\"font-weight: bold\">)</span>\n",
       "                    -&gt;  Gather Merge  <span style=\"font-weight: bold\">(</span><span style=\"color: #808000; text-decoration-color: #808000\">cost</span>=<span style=\"color: #008080; text-decoration-color: #008080; font-weight: bold\">545610.99</span>..<span style=\"color: #008080; text-decoration-color: #008080; font-weight: bold\">614738.97</span> <span style=\"color: #808000; text-decoration-color: #808000\">rows</span>=<span style=\"color: #008080; text-decoration-color: #008080; font-weight: bold\">593544</span> <span style=\"color: #808000; text-decoration-color: #808000\">width</span>=<span style=\"color: #008080; text-decoration-color: #008080; font-weight: bold\">878</span><span style=\"font-weight: bold\">)</span> <span style=\"font-weight: bold\">(</span>actual \n",
       "<span style=\"color: #808000; text-decoration-color: #808000\">time</span>=<span style=\"color: #008080; text-decoration-color: #008080; font-weight: bold\">4618.033</span>..<span style=\"color: #008080; text-decoration-color: #008080; font-weight: bold\">5313.510</span> <span style=\"color: #808000; text-decoration-color: #808000\">rows</span>=<span style=\"color: #008080; text-decoration-color: #008080; font-weight: bold\">605010</span> <span style=\"color: #808000; text-decoration-color: #808000\">loops</span>=<span style=\"color: #008080; text-decoration-color: #008080; font-weight: bold\">1</span><span style=\"font-weight: bold\">)</span>\n",
       "                          Workers Planned: <span style=\"color: #008080; text-decoration-color: #008080; font-weight: bold\">2</span>\n",
       "                          Workers Launched: <span style=\"color: #008080; text-decoration-color: #008080; font-weight: bold\">2</span>\n",
       "                          -&gt;  Sort  <span style=\"font-weight: bold\">(</span><span style=\"color: #808000; text-decoration-color: #808000\">cost</span>=<span style=\"color: #008080; text-decoration-color: #008080; font-weight: bold\">544610.96</span>..<span style=\"color: #008080; text-decoration-color: #008080; font-weight: bold\">545229.24</span> <span style=\"color: #808000; text-decoration-color: #808000\">rows</span>=<span style=\"color: #008080; text-decoration-color: #008080; font-weight: bold\">247310</span> <span style=\"color: #808000; text-decoration-color: #808000\">width</span>=<span style=\"color: #008080; text-decoration-color: #008080; font-weight: bold\">878</span><span style=\"font-weight: bold\">)</span> <span style=\"font-weight: bold\">(</span>actual \n",
       "<span style=\"color: #808000; text-decoration-color: #808000\">time</span>=<span style=\"color: #008080; text-decoration-color: #008080; font-weight: bold\">4581.406</span>..<span style=\"color: #008080; text-decoration-color: #008080; font-weight: bold\">4726.694</span> <span style=\"color: #808000; text-decoration-color: #808000\">rows</span>=<span style=\"color: #008080; text-decoration-color: #008080; font-weight: bold\">201670</span> <span style=\"color: #808000; text-decoration-color: #808000\">loops</span>=<span style=\"color: #008080; text-decoration-color: #008080; font-weight: bold\">3</span><span style=\"font-weight: bold\">)</span>\n",
       "                                Sort Key: books_book.id, books_book.author_id\n",
       "                                Sort Method: external merge  Disk: 172456kB\n",
       "                                Worker <span style=\"color: #008080; text-decoration-color: #008080; font-weight: bold\">0</span>:  Sort Method: external merge  Disk: 182464kB\n",
       "                                Worker <span style=\"color: #008080; text-decoration-color: #008080; font-weight: bold\">1</span>:  Sort Method: external merge  Disk: 177952kB\n",
       "                                -&gt;  Parallel Hash Join  <span style=\"font-weight: bold\">(</span><span style=\"color: #808000; text-decoration-color: #808000\">cost</span>=<span style=\"color: #008080; text-decoration-color: #008080; font-weight: bold\">231382.69</span>..<span style=\"color: #008080; text-decoration-color: #008080; font-weight: bold\">331412.98</span> <span style=\"color: #808000; text-decoration-color: #808000\">rows</span>=<span style=\"color: #008080; text-decoration-color: #008080; font-weight: bold\">247310</span> <span style=\"color: #808000; text-decoration-color: #808000\">width</span>=<span style=\"color: #008080; text-decoration-color: #008080; font-weight: bold\">878</span><span style=\"font-weight: bold\">)</span> <span style=\"font-weight: bold\">(</span>actual \n",
       "<span style=\"color: #808000; text-decoration-color: #808000\">time</span>=<span style=\"color: #008080; text-decoration-color: #008080; font-weight: bold\">3636.083</span>..<span style=\"color: #008080; text-decoration-color: #008080; font-weight: bold\">3745.313</span> <span style=\"color: #808000; text-decoration-color: #808000\">rows</span>=<span style=\"color: #008080; text-decoration-color: #008080; font-weight: bold\">201670</span> <span style=\"color: #808000; text-decoration-color: #808000\">loops</span>=<span style=\"color: #008080; text-decoration-color: #008080; font-weight: bold\">3</span><span style=\"font-weight: bold\">)</span>\n",
       "                                      Hash Cond: <span style=\"font-weight: bold\">(</span>books_book.author_id = books_person.id<span style=\"font-weight: bold\">)</span>\n",
       "                                      -&gt;  Parallel Hash Left Join  <span style=\"font-weight: bold\">(</span><span style=\"color: #808000; text-decoration-color: #808000\">cost</span>=<span style=\"color: #008080; text-decoration-color: #008080; font-weight: bold\">227885.66</span>..<span style=\"color: #008080; text-decoration-color: #008080; font-weight: bold\">318369.62</span> <span style=\"color: #808000; text-decoration-color: #808000\">rows</span>=<span style=\"color: #008080; text-decoration-color: #008080; font-weight: bold\">247310</span> <span style=\"color: #808000; text-decoration-color: #808000\">width</span>=<span style=\"color: #008080; text-decoration-color: #008080; font-weight: bold\">97</span><span style=\"font-weight: bold\">)</span>\n",
       "<span style=\"font-weight: bold\">(</span>actual <span style=\"color: #808000; text-decoration-color: #808000\">time</span>=<span style=\"color: #008080; text-decoration-color: #008080; font-weight: bold\">2448.433</span>..<span style=\"color: #008080; text-decoration-color: #008080; font-weight: bold\">3518.788</span> <span style=\"color: #808000; text-decoration-color: #808000\">rows</span>=<span style=\"color: #008080; text-decoration-color: #008080; font-weight: bold\">201670</span> <span style=\"color: #808000; text-decoration-color: #808000\">loops</span>=<span style=\"color: #008080; text-decoration-color: #008080; font-weight: bold\">3</span><span style=\"font-weight: bold\">)</span>\n",
       "                                            Hash Cond: <span style=\"font-weight: bold\">(</span>books_book.id = books_booktag.book_id<span style=\"font-weight: bold\">)</span>\n",
       "                                            -&gt;  Parallel Bitmap Heap Scan on books_book  <span style=\"font-weight: bold\">(</span><span style=\"color: #808000; text-decoration-color: #808000\">cost</span>=<span style=\"color: #008080; text-decoration-color: #008080; font-weight: bold\">2318.39</span>..<span style=\"color: #008080; text-decoration-color: #008080; font-weight: bold\">64220.27</span> \n",
       "<span style=\"color: #808000; text-decoration-color: #808000\">rows</span>=<span style=\"color: #008080; text-decoration-color: #008080; font-weight: bold\">82471</span> <span style=\"color: #808000; text-decoration-color: #808000\">width</span>=<span style=\"color: #008080; text-decoration-color: #008080; font-weight: bold\">91</span><span style=\"font-weight: bold\">)</span> <span style=\"font-weight: bold\">(</span>actual <span style=\"color: #808000; text-decoration-color: #808000\">time</span>=<span style=\"color: #008080; text-decoration-color: #008080; font-weight: bold\">22.941</span>..<span style=\"color: #008080; text-decoration-color: #008080; font-weight: bold\">108.435</span> <span style=\"color: #808000; text-decoration-color: #808000\">rows</span>=<span style=\"color: #008080; text-decoration-color: #008080; font-weight: bold\">66904</span> <span style=\"color: #808000; text-decoration-color: #808000\">loops</span>=<span style=\"color: #008080; text-decoration-color: #008080; font-weight: bold\">3</span><span style=\"font-weight: bold\">)</span>\n",
       "                                                  Recheck Cond: <span style=\"font-weight: bold\">(</span>library_id = <span style=\"color: #008080; text-decoration-color: #008080; font-weight: bold\">6</span><span style=\"font-weight: bold\">)</span>\n",
       "                                                  Heap Blocks: <span style=\"color: #808000; text-decoration-color: #808000\">exact</span>=<span style=\"color: #008080; text-decoration-color: #008080; font-weight: bold\">11137</span>\n",
       "                                                  -&gt;  Bitmap Index Scan on books_book_library_id_9380ba4e  \n",
       "<span style=\"font-weight: bold\">(</span><span style=\"color: #808000; text-decoration-color: #808000\">cost</span>=<span style=\"color: #008080; text-decoration-color: #008080; font-weight: bold\">0.00</span>..<span style=\"color: #008080; text-decoration-color: #008080; font-weight: bold\">2268.90</span> <span style=\"color: #808000; text-decoration-color: #808000\">rows</span>=<span style=\"color: #008080; text-decoration-color: #008080; font-weight: bold\">197930</span> <span style=\"color: #808000; text-decoration-color: #808000\">width</span>=<span style=\"color: #008080; text-decoration-color: #008080; font-weight: bold\">0</span><span style=\"font-weight: bold\">)</span> <span style=\"font-weight: bold\">(</span>actual <span style=\"color: #808000; text-decoration-color: #808000\">time</span>=<span style=\"color: #008080; text-decoration-color: #008080; font-weight: bold\">15.710</span>..<span style=\"color: #008080; text-decoration-color: #008080; font-weight: bold\">15.711</span> <span style=\"color: #808000; text-decoration-color: #808000\">rows</span>=<span style=\"color: #008080; text-decoration-color: #008080; font-weight: bold\">200711</span> <span style=\"color: #808000; text-decoration-color: #808000\">loops</span>=<span style=\"color: #008080; text-decoration-color: #008080; font-weight: bold\">1</span><span style=\"font-weight: bold\">)</span>\n",
       "                                                        Index Cond: <span style=\"font-weight: bold\">(</span>library_id = <span style=\"color: #008080; text-decoration-color: #008080; font-weight: bold\">6</span><span style=\"font-weight: bold\">)</span>\n",
       "                                            -&gt;  Parallel Hash  <span style=\"font-weight: bold\">(</span><span style=\"color: #808000; text-decoration-color: #808000\">cost</span>=<span style=\"color: #008080; text-decoration-color: #008080; font-weight: bold\">138661.23</span>..<span style=\"color: #008080; text-decoration-color: #008080; font-weight: bold\">138661.23</span> <span style=\"color: #808000; text-decoration-color: #808000\">rows</span>=<span style=\"color: #008080; text-decoration-color: #008080; font-weight: bold\">4999523</span> <span style=\"color: #808000; text-decoration-color: #808000\">width</span>=<span style=\"color: #008080; text-decoration-color: #008080; font-weight: bold\">14</span><span style=\"font-weight: bold\">)</span> \n",
       "<span style=\"font-weight: bold\">(</span>actual <span style=\"color: #808000; text-decoration-color: #808000\">time</span>=<span style=\"color: #008080; text-decoration-color: #008080; font-weight: bold\">2236.130</span>..<span style=\"color: #008080; text-decoration-color: #008080; font-weight: bold\">2236.130</span> <span style=\"color: #808000; text-decoration-color: #808000\">rows</span>=<span style=\"color: #008080; text-decoration-color: #008080; font-weight: bold\">3999451</span> <span style=\"color: #808000; text-decoration-color: #808000\">loops</span>=<span style=\"color: #008080; text-decoration-color: #008080; font-weight: bold\">3</span><span style=\"font-weight: bold\">)</span>\n",
       "                                                  Buckets: <span style=\"color: #008080; text-decoration-color: #008080; font-weight: bold\">131072</span>  Batches: <span style=\"color: #008080; text-decoration-color: #008080; font-weight: bold\">256</span>  Memory Usage: 3296kB\n",
       "                                                  -&gt;  Parallel Seq Scan on books_booktag  <span style=\"font-weight: bold\">(</span><span style=\"color: #808000; text-decoration-color: #808000\">cost</span>=<span style=\"color: #008080; text-decoration-color: #008080; font-weight: bold\">0.00</span>..<span style=\"color: #008080; text-decoration-color: #008080; font-weight: bold\">138661.23</span> \n",
       "<span style=\"color: #808000; text-decoration-color: #808000\">rows</span>=<span style=\"color: #008080; text-decoration-color: #008080; font-weight: bold\">4999523</span> <span style=\"color: #808000; text-decoration-color: #808000\">width</span>=<span style=\"color: #008080; text-decoration-color: #008080; font-weight: bold\">14</span><span style=\"font-weight: bold\">)</span> <span style=\"font-weight: bold\">(</span>actual <span style=\"color: #808000; text-decoration-color: #808000\">time</span>=<span style=\"color: #008080; text-decoration-color: #008080; font-weight: bold\">197.740</span>..<span style=\"color: #008080; text-decoration-color: #008080; font-weight: bold\">789.655</span> <span style=\"color: #808000; text-decoration-color: #808000\">rows</span>=<span style=\"color: #008080; text-decoration-color: #008080; font-weight: bold\">3999451</span> <span style=\"color: #808000; text-decoration-color: #808000\">loops</span>=<span style=\"color: #008080; text-decoration-color: #008080; font-weight: bold\">3</span><span style=\"font-weight: bold\">)</span>\n",
       "                                      -&gt;  Parallel Hash  <span style=\"font-weight: bold\">(</span><span style=\"color: #808000; text-decoration-color: #808000\">cost</span>=<span style=\"color: #008080; text-decoration-color: #008080; font-weight: bold\">2182.24</span>..<span style=\"color: #008080; text-decoration-color: #008080; font-weight: bold\">2182.24</span> <span style=\"color: #808000; text-decoration-color: #808000\">rows</span>=<span style=\"color: #008080; text-decoration-color: #008080; font-weight: bold\">11824</span> <span style=\"color: #808000; text-decoration-color: #808000\">width</span>=<span style=\"color: #008080; text-decoration-color: #008080; font-weight: bold\">781</span><span style=\"font-weight: bold\">)</span> <span style=\"font-weight: bold\">(</span>actual \n",
       "<span style=\"color: #808000; text-decoration-color: #808000\">time</span>=<span style=\"color: #008080; text-decoration-color: #008080; font-weight: bold\">10.564</span>..<span style=\"color: #008080; text-decoration-color: #008080; font-weight: bold\">10.565</span> <span style=\"color: #808000; text-decoration-color: #808000\">rows</span>=<span style=\"color: #008080; text-decoration-color: #008080; font-weight: bold\">6700</span> <span style=\"color: #808000; text-decoration-color: #808000\">loops</span>=<span style=\"color: #008080; text-decoration-color: #008080; font-weight: bold\">3</span><span style=\"font-weight: bold\">)</span>\n",
       "                                            Buckets: <span style=\"color: #008080; text-decoration-color: #008080; font-weight: bold\">8192</span>  Batches: <span style=\"color: #008080; text-decoration-color: #008080; font-weight: bold\">8</span>  Memory Usage: 2144kB\n",
       "                                            -&gt;  Parallel Seq Scan on books_person  <span style=\"font-weight: bold\">(</span><span style=\"color: #808000; text-decoration-color: #808000\">cost</span>=<span style=\"color: #008080; text-decoration-color: #008080; font-weight: bold\">0.00</span>..<span style=\"color: #008080; text-decoration-color: #008080; font-weight: bold\">2182.24</span> <span style=\"color: #808000; text-decoration-color: #808000\">rows</span>=<span style=\"color: #008080; text-decoration-color: #008080; font-weight: bold\">11824</span> \n",
       "<span style=\"color: #808000; text-decoration-color: #808000\">width</span>=<span style=\"color: #008080; text-decoration-color: #008080; font-weight: bold\">781</span><span style=\"font-weight: bold\">)</span> <span style=\"font-weight: bold\">(</span>actual <span style=\"color: #808000; text-decoration-color: #808000\">time</span>=<span style=\"color: #008080; text-decoration-color: #008080; font-weight: bold\">0.007</span>..<span style=\"color: #008080; text-decoration-color: #008080; font-weight: bold\">3.107</span> <span style=\"color: #808000; text-decoration-color: #808000\">rows</span>=<span style=\"color: #008080; text-decoration-color: #008080; font-weight: bold\">6700</span> <span style=\"color: #808000; text-decoration-color: #808000\">loops</span>=<span style=\"color: #008080; text-decoration-color: #008080; font-weight: bold\">3</span><span style=\"font-weight: bold\">)</span>\n",
       "                    -&gt;  Index Scan using books_review_book_id_a67a4c60 on books_review  <span style=\"font-weight: bold\">(</span><span style=\"color: #808000; text-decoration-color: #808000\">cost</span>=<span style=\"color: #008080; text-decoration-color: #008080; font-weight: bold\">0.44</span>..<span style=\"color: #008080; text-decoration-color: #008080; font-weight: bold\">2585866.27</span> \n",
       "<span style=\"color: #808000; text-decoration-color: #808000\">rows</span>=<span style=\"color: #008080; text-decoration-color: #008080; font-weight: bold\">40045392</span> <span style=\"color: #808000; text-decoration-color: #808000\">width</span>=<span style=\"color: #008080; text-decoration-color: #008080; font-weight: bold\">16</span><span style=\"font-weight: bold\">)</span> <span style=\"font-weight: bold\">(</span>actual <span style=\"color: #808000; text-decoration-color: #808000\">time</span>=<span style=\"color: #008080; text-decoration-color: #008080; font-weight: bold\">0.078</span>..<span style=\"color: #008080; text-decoration-color: #008080; font-weight: bold\">6345.773</span> <span style=\"color: #808000; text-decoration-color: #808000\">rows</span>=<span style=\"color: #008080; text-decoration-color: #008080; font-weight: bold\">24078361</span> <span style=\"color: #808000; text-decoration-color: #808000\">loops</span>=<span style=\"color: #008080; text-decoration-color: #008080; font-weight: bold\">1</span><span style=\"font-weight: bold\">)</span>\n",
       "Planning Time: <span style=\"color: #008080; text-decoration-color: #008080; font-weight: bold\">2.667</span> ms\n",
       "JIT:\n",
       "  Functions: <span style=\"color: #008080; text-decoration-color: #008080; font-weight: bold\">66</span>\n",
       "  Options: Inlining true, Optimization true, Expressions true, Deforming true\n",
       "  Timing: Generation <span style=\"color: #008080; text-decoration-color: #008080; font-weight: bold\">11.069</span> ms, Inlining <span style=\"color: #008080; text-decoration-color: #008080; font-weight: bold\">178.089</span> ms, Optimization <span style=\"color: #008080; text-decoration-color: #008080; font-weight: bold\">472.468</span> ms, Emission <span style=\"color: #008080; text-decoration-color: #008080; font-weight: bold\">295.915</span> ms, Total <span style=\"color: #008080; text-decoration-color: #008080; font-weight: bold\">957.541</span> ms\n",
       "Execution Time: <span style=\"color: #008080; text-decoration-color: #008080; font-weight: bold\">18931.454</span> ms\n",
       "</pre>\n"
      ],
      "text/plain": [
       "Limit  \u001b[1m(\u001b[0m\u001b[33mcost\u001b[0m=\u001b[1;36m3653166\u001b[0m\u001b[1;36m.13\u001b[0m..\u001b[1;36m3653166.18\u001b[0m \u001b[33mrows\u001b[0m=\u001b[1;36m20\u001b[0m \u001b[33mwidth\u001b[0m=\u001b[1;36m912\u001b[0m\u001b[1m)\u001b[0m \u001b[1m(\u001b[0mactual \u001b[33mtime\u001b[0m=\u001b[1;36m18626\u001b[0m\u001b[1;36m.307\u001b[0m..\u001b[1;36m18892.615\u001b[0m \u001b[33mrows\u001b[0m=\u001b[1;36m20\u001b[0m \u001b[33mloops\u001b[0m=\u001b[1;36m1\u001b[0m\u001b[1m)\u001b[0m\n",
       "  ->  Sort  \u001b[1m(\u001b[0m\u001b[33mcost\u001b[0m=\u001b[1;36m3653166\u001b[0m\u001b[1;36m.13\u001b[0m..\u001b[1;36m3668016.84\u001b[0m \u001b[33mrows\u001b[0m=\u001b[1;36m5940286\u001b[0m \u001b[33mwidth\u001b[0m=\u001b[1;36m912\u001b[0m\u001b[1m)\u001b[0m \u001b[1m(\u001b[0mactual \u001b[33mtime\u001b[0m=\u001b[1;36m18273\u001b[0m\u001b[1;36m.309\u001b[0m..\u001b[1;36m18539.615\u001b[0m \u001b[33mrows\u001b[0m=\u001b[1;36m20\u001b[0m \u001b[33mloops\u001b[0m=\u001b[1;36m1\u001b[0m\u001b[1m)\u001b[0m\n",
       "        Sort Key: books_book.release_date, books_book.id\n",
       "        Sort Method: top-N heapsort  Memory: 74kB\n",
       "        ->  GroupAggregate  \u001b[1m(\u001b[0m\u001b[33mcost\u001b[0m=\u001b[1;36m545611\u001b[0m\u001b[1;36m.43\u001b[0m..\u001b[1;36m3495097.25\u001b[0m \u001b[33mrows\u001b[0m=\u001b[1;36m5940286\u001b[0m \u001b[33mwidth\u001b[0m=\u001b[1;36m912\u001b[0m\u001b[1m)\u001b[0m \u001b[1m(\u001b[0mactual \u001b[33mtime\u001b[0m=\u001b[1;36m4701\u001b[0m\u001b[1;36m.367\u001b[0m..\u001b[1;36m18400.389\u001b[0m \n",
       "\u001b[33mrows\u001b[0m=\u001b[1;36m200711\u001b[0m \u001b[33mloops\u001b[0m=\u001b[1;36m1\u001b[0m\u001b[1m)\u001b[0m\n",
       "              Group Key: books_book.id, books_person.id\n",
       "              ->  Merge Left Join  \u001b[1m(\u001b[0m\u001b[33mcost\u001b[0m=\u001b[1;36m545611\u001b[0m\u001b[1;36m.43\u001b[0m..\u001b[1;36m3361440.82\u001b[0m \u001b[33mrows\u001b[0m=\u001b[1;36m5940286\u001b[0m \u001b[33mwidth\u001b[0m=\u001b[1;36m886\u001b[0m\u001b[1m)\u001b[0m \u001b[1m(\u001b[0mactual \n",
       "\u001b[33mtime\u001b[0m=\u001b[1;36m4619\u001b[0m\u001b[1;36m.543\u001b[0m..\u001b[1;36m14294.172\u001b[0m \u001b[33mrows\u001b[0m=\u001b[1;36m6069763\u001b[0m \u001b[33mloops\u001b[0m=\u001b[1;36m1\u001b[0m\u001b[1m)\u001b[0m\n",
       "                    Merge Cond: \u001b[1m(\u001b[0mbooks_book.id = books_review.book_id\u001b[1m)\u001b[0m\n",
       "                    ->  Gather Merge  \u001b[1m(\u001b[0m\u001b[33mcost\u001b[0m=\u001b[1;36m545610\u001b[0m\u001b[1;36m.99\u001b[0m..\u001b[1;36m614738.97\u001b[0m \u001b[33mrows\u001b[0m=\u001b[1;36m593544\u001b[0m \u001b[33mwidth\u001b[0m=\u001b[1;36m878\u001b[0m\u001b[1m)\u001b[0m \u001b[1m(\u001b[0mactual \n",
       "\u001b[33mtime\u001b[0m=\u001b[1;36m4618\u001b[0m\u001b[1;36m.033\u001b[0m..\u001b[1;36m5313.510\u001b[0m \u001b[33mrows\u001b[0m=\u001b[1;36m605010\u001b[0m \u001b[33mloops\u001b[0m=\u001b[1;36m1\u001b[0m\u001b[1m)\u001b[0m\n",
       "                          Workers Planned: \u001b[1;36m2\u001b[0m\n",
       "                          Workers Launched: \u001b[1;36m2\u001b[0m\n",
       "                          ->  Sort  \u001b[1m(\u001b[0m\u001b[33mcost\u001b[0m=\u001b[1;36m544610\u001b[0m\u001b[1;36m.96\u001b[0m..\u001b[1;36m545229.24\u001b[0m \u001b[33mrows\u001b[0m=\u001b[1;36m247310\u001b[0m \u001b[33mwidth\u001b[0m=\u001b[1;36m878\u001b[0m\u001b[1m)\u001b[0m \u001b[1m(\u001b[0mactual \n",
       "\u001b[33mtime\u001b[0m=\u001b[1;36m4581\u001b[0m\u001b[1;36m.406\u001b[0m..\u001b[1;36m4726.694\u001b[0m \u001b[33mrows\u001b[0m=\u001b[1;36m201670\u001b[0m \u001b[33mloops\u001b[0m=\u001b[1;36m3\u001b[0m\u001b[1m)\u001b[0m\n",
       "                                Sort Key: books_book.id, books_book.author_id\n",
       "                                Sort Method: external merge  Disk: 172456kB\n",
       "                                Worker \u001b[1;36m0\u001b[0m:  Sort Method: external merge  Disk: 182464kB\n",
       "                                Worker \u001b[1;36m1\u001b[0m:  Sort Method: external merge  Disk: 177952kB\n",
       "                                ->  Parallel Hash Join  \u001b[1m(\u001b[0m\u001b[33mcost\u001b[0m=\u001b[1;36m231382\u001b[0m\u001b[1;36m.69\u001b[0m..\u001b[1;36m331412.98\u001b[0m \u001b[33mrows\u001b[0m=\u001b[1;36m247310\u001b[0m \u001b[33mwidth\u001b[0m=\u001b[1;36m878\u001b[0m\u001b[1m)\u001b[0m \u001b[1m(\u001b[0mactual \n",
       "\u001b[33mtime\u001b[0m=\u001b[1;36m3636\u001b[0m\u001b[1;36m.083\u001b[0m..\u001b[1;36m3745.313\u001b[0m \u001b[33mrows\u001b[0m=\u001b[1;36m201670\u001b[0m \u001b[33mloops\u001b[0m=\u001b[1;36m3\u001b[0m\u001b[1m)\u001b[0m\n",
       "                                      Hash Cond: \u001b[1m(\u001b[0mbooks_book.author_id = books_person.id\u001b[1m)\u001b[0m\n",
       "                                      ->  Parallel Hash Left Join  \u001b[1m(\u001b[0m\u001b[33mcost\u001b[0m=\u001b[1;36m227885\u001b[0m\u001b[1;36m.66\u001b[0m..\u001b[1;36m318369.62\u001b[0m \u001b[33mrows\u001b[0m=\u001b[1;36m247310\u001b[0m \u001b[33mwidth\u001b[0m=\u001b[1;36m97\u001b[0m\u001b[1m)\u001b[0m\n",
       "\u001b[1m(\u001b[0mactual \u001b[33mtime\u001b[0m=\u001b[1;36m2448\u001b[0m\u001b[1;36m.433\u001b[0m..\u001b[1;36m3518.788\u001b[0m \u001b[33mrows\u001b[0m=\u001b[1;36m201670\u001b[0m \u001b[33mloops\u001b[0m=\u001b[1;36m3\u001b[0m\u001b[1m)\u001b[0m\n",
       "                                            Hash Cond: \u001b[1m(\u001b[0mbooks_book.id = books_booktag.book_id\u001b[1m)\u001b[0m\n",
       "                                            ->  Parallel Bitmap Heap Scan on books_book  \u001b[1m(\u001b[0m\u001b[33mcost\u001b[0m=\u001b[1;36m2318\u001b[0m\u001b[1;36m.39\u001b[0m..\u001b[1;36m64220.27\u001b[0m \n",
       "\u001b[33mrows\u001b[0m=\u001b[1;36m82471\u001b[0m \u001b[33mwidth\u001b[0m=\u001b[1;36m91\u001b[0m\u001b[1m)\u001b[0m \u001b[1m(\u001b[0mactual \u001b[33mtime\u001b[0m=\u001b[1;36m22\u001b[0m\u001b[1;36m.941\u001b[0m..\u001b[1;36m108.435\u001b[0m \u001b[33mrows\u001b[0m=\u001b[1;36m66904\u001b[0m \u001b[33mloops\u001b[0m=\u001b[1;36m3\u001b[0m\u001b[1m)\u001b[0m\n",
       "                                                  Recheck Cond: \u001b[1m(\u001b[0mlibrary_id = \u001b[1;36m6\u001b[0m\u001b[1m)\u001b[0m\n",
       "                                                  Heap Blocks: \u001b[33mexact\u001b[0m=\u001b[1;36m11137\u001b[0m\n",
       "                                                  ->  Bitmap Index Scan on books_book_library_id_9380ba4e  \n",
       "\u001b[1m(\u001b[0m\u001b[33mcost\u001b[0m=\u001b[1;36m0\u001b[0m\u001b[1;36m.00\u001b[0m..\u001b[1;36m2268.90\u001b[0m \u001b[33mrows\u001b[0m=\u001b[1;36m197930\u001b[0m \u001b[33mwidth\u001b[0m=\u001b[1;36m0\u001b[0m\u001b[1m)\u001b[0m \u001b[1m(\u001b[0mactual \u001b[33mtime\u001b[0m=\u001b[1;36m15\u001b[0m\u001b[1;36m.710\u001b[0m..\u001b[1;36m15.711\u001b[0m \u001b[33mrows\u001b[0m=\u001b[1;36m200711\u001b[0m \u001b[33mloops\u001b[0m=\u001b[1;36m1\u001b[0m\u001b[1m)\u001b[0m\n",
       "                                                        Index Cond: \u001b[1m(\u001b[0mlibrary_id = \u001b[1;36m6\u001b[0m\u001b[1m)\u001b[0m\n",
       "                                            ->  Parallel Hash  \u001b[1m(\u001b[0m\u001b[33mcost\u001b[0m=\u001b[1;36m138661\u001b[0m\u001b[1;36m.23\u001b[0m..\u001b[1;36m138661.23\u001b[0m \u001b[33mrows\u001b[0m=\u001b[1;36m4999523\u001b[0m \u001b[33mwidth\u001b[0m=\u001b[1;36m14\u001b[0m\u001b[1m)\u001b[0m \n",
       "\u001b[1m(\u001b[0mactual \u001b[33mtime\u001b[0m=\u001b[1;36m2236\u001b[0m\u001b[1;36m.130\u001b[0m..\u001b[1;36m2236.130\u001b[0m \u001b[33mrows\u001b[0m=\u001b[1;36m3999451\u001b[0m \u001b[33mloops\u001b[0m=\u001b[1;36m3\u001b[0m\u001b[1m)\u001b[0m\n",
       "                                                  Buckets: \u001b[1;36m131072\u001b[0m  Batches: \u001b[1;36m256\u001b[0m  Memory Usage: 3296kB\n",
       "                                                  ->  Parallel Seq Scan on books_booktag  \u001b[1m(\u001b[0m\u001b[33mcost\u001b[0m=\u001b[1;36m0\u001b[0m\u001b[1;36m.00\u001b[0m..\u001b[1;36m138661.23\u001b[0m \n",
       "\u001b[33mrows\u001b[0m=\u001b[1;36m4999523\u001b[0m \u001b[33mwidth\u001b[0m=\u001b[1;36m14\u001b[0m\u001b[1m)\u001b[0m \u001b[1m(\u001b[0mactual \u001b[33mtime\u001b[0m=\u001b[1;36m197\u001b[0m\u001b[1;36m.740\u001b[0m..\u001b[1;36m789.655\u001b[0m \u001b[33mrows\u001b[0m=\u001b[1;36m3999451\u001b[0m \u001b[33mloops\u001b[0m=\u001b[1;36m3\u001b[0m\u001b[1m)\u001b[0m\n",
       "                                      ->  Parallel Hash  \u001b[1m(\u001b[0m\u001b[33mcost\u001b[0m=\u001b[1;36m2182\u001b[0m\u001b[1;36m.24\u001b[0m..\u001b[1;36m2182.24\u001b[0m \u001b[33mrows\u001b[0m=\u001b[1;36m11824\u001b[0m \u001b[33mwidth\u001b[0m=\u001b[1;36m781\u001b[0m\u001b[1m)\u001b[0m \u001b[1m(\u001b[0mactual \n",
       "\u001b[33mtime\u001b[0m=\u001b[1;36m10\u001b[0m\u001b[1;36m.564\u001b[0m..\u001b[1;36m10.565\u001b[0m \u001b[33mrows\u001b[0m=\u001b[1;36m6700\u001b[0m \u001b[33mloops\u001b[0m=\u001b[1;36m3\u001b[0m\u001b[1m)\u001b[0m\n",
       "                                            Buckets: \u001b[1;36m8192\u001b[0m  Batches: \u001b[1;36m8\u001b[0m  Memory Usage: 2144kB\n",
       "                                            ->  Parallel Seq Scan on books_person  \u001b[1m(\u001b[0m\u001b[33mcost\u001b[0m=\u001b[1;36m0\u001b[0m\u001b[1;36m.00\u001b[0m..\u001b[1;36m2182.24\u001b[0m \u001b[33mrows\u001b[0m=\u001b[1;36m11824\u001b[0m \n",
       "\u001b[33mwidth\u001b[0m=\u001b[1;36m781\u001b[0m\u001b[1m)\u001b[0m \u001b[1m(\u001b[0mactual \u001b[33mtime\u001b[0m=\u001b[1;36m0\u001b[0m\u001b[1;36m.007\u001b[0m..\u001b[1;36m3.107\u001b[0m \u001b[33mrows\u001b[0m=\u001b[1;36m6700\u001b[0m \u001b[33mloops\u001b[0m=\u001b[1;36m3\u001b[0m\u001b[1m)\u001b[0m\n",
       "                    ->  Index Scan using books_review_book_id_a67a4c60 on books_review  \u001b[1m(\u001b[0m\u001b[33mcost\u001b[0m=\u001b[1;36m0\u001b[0m\u001b[1;36m.44\u001b[0m..\u001b[1;36m2585866.27\u001b[0m \n",
       "\u001b[33mrows\u001b[0m=\u001b[1;36m40045392\u001b[0m \u001b[33mwidth\u001b[0m=\u001b[1;36m16\u001b[0m\u001b[1m)\u001b[0m \u001b[1m(\u001b[0mactual \u001b[33mtime\u001b[0m=\u001b[1;36m0\u001b[0m\u001b[1;36m.078\u001b[0m..\u001b[1;36m6345.773\u001b[0m \u001b[33mrows\u001b[0m=\u001b[1;36m24078361\u001b[0m \u001b[33mloops\u001b[0m=\u001b[1;36m1\u001b[0m\u001b[1m)\u001b[0m\n",
       "Planning Time: \u001b[1;36m2.667\u001b[0m ms\n",
       "JIT:\n",
       "  Functions: \u001b[1;36m66\u001b[0m\n",
       "  Options: Inlining true, Optimization true, Expressions true, Deforming true\n",
       "  Timing: Generation \u001b[1;36m11.069\u001b[0m ms, Inlining \u001b[1;36m178.089\u001b[0m ms, Optimization \u001b[1;36m472.468\u001b[0m ms, Emission \u001b[1;36m295.915\u001b[0m ms, Total \u001b[1;36m957.541\u001b[0m ms\n",
       "Execution Time: \u001b[1;36m18931.454\u001b[0m ms\n"
      ]
     },
     "metadata": {},
     "output_type": "display_data"
    }
   ],
   "source": [
    "qs = get_queryset(alexandria_id)\n",
    "qs = annotate_books_aggregate(qs)\n",
    "result = qs.explain(analyze=True)\n",
    "\n",
    "print(result)"
   ]
  },
  {
   "attachments": {},
   "cell_type": "markdown",
   "metadata": {},
   "source": [
    "Right, this plan starts to be really complex. Several tools are available online to decrypt PostgreSQL plans, such as [this one](https://explain.dalibo.com/plan/g5h9cad9a38869gc)\n",
    "\n",
    "We can now see, as expected, that the slow operations are the scan on `books_review` and `books_booktag`.\n",
    "\n",
    "Even though the planner uses an index, it retrieves almost every row on both those tables, before merging them.\n",
    "\n",
    "The aggregation is applied only at the end, just before sorting by `release_date`.\n"
   ]
  },
  {
   "cell_type": "code",
   "execution_count": 12,
   "metadata": {},
   "outputs": [
    {
     "data": {
      "text/html": [
       "<pre style=\"white-space:pre;overflow-x:auto;line-height:normal;font-family:Menlo,'DejaVu Sans Mono',consolas,'Courier New',monospace\">Duration\n",
       "  Total: <span style=\"color: #008080; text-decoration-color: #008080; font-weight: bold\">0.11</span>\n",
       "  SQL: <span style=\"color: #008080; text-decoration-color: #008080; font-weight: bold\">0.10</span> \n",
       "\n",
       "      <span style=\"font-weight: bold\">(</span>duration: <span style=\"color: #008080; text-decoration-color: #008080; font-weight: bold\">0.105</span><span style=\"font-weight: bold\">)</span>   SELECT <span style=\"color: #008000; text-decoration-color: #008000\">\"books_book\"</span>.<span style=\"color: #008000; text-decoration-color: #008000\">\"id\"</span>, <span style=\"color: #008000; text-decoration-color: #008000\">\"books_book\"</span>.<span style=\"color: #008000; text-decoration-color: #008000\">\"title\"</span>, <span style=\"color: #008000; text-decoration-color: #008000\">\"books_book\"</span>.<span style=\"color: #008000; text-decoration-color: #008000\">\"author_id\"</span>, \n",
       "<span style=\"color: #008000; text-decoration-color: #008000\">\"books_book\"</span>.<span style=\"color: #008000; text-decoration-color: #008000\">\"release_date\"</span>, <span style=\"color: #008000; text-decoration-color: #008000\">\"books_book\"</span>.<span style=\"color: #008000; text-decoration-color: #008000\">\"library_id\"</span>, <span style=\"color: #800080; text-decoration-color: #800080; font-weight: bold\">COUNT</span><span style=\"font-weight: bold\">(</span>DISTINCT <span style=\"color: #008000; text-decoration-color: #008000\">\"books_review\"</span>.<span style=\"color: #008000; text-decoration-color: #008000\">\"id\"</span><span style=\"font-weight: bold\">)</span> AS <span style=\"color: #008000; text-decoration-color: #008000\">\"review_count\"</span>, \n",
       "<span style=\"color: #800080; text-decoration-color: #800080; font-weight: bold\">ARRAY_AGG</span><span style=\"font-weight: bold\">(</span>DISTINCT <span style=\"color: #008000; text-decoration-color: #008000\">\"books_booktag\"</span>.<span style=\"color: #008000; text-decoration-color: #008000\">\"name\"</span> <span style=\"font-weight: bold\">)</span> AS <span style=\"color: #008000; text-decoration-color: #008000\">\"tag_names\"</span>, <span style=\"color: #008000; text-decoration-color: #008000\">\"books_person\"</span>.<span style=\"color: #008000; text-decoration-color: #008000\">\"id\"</span>, <span style=\"color: #008000; text-decoration-color: #008000\">\"books_person\"</span>.<span style=\"color: #008000; text-decoration-color: #008000\">\"email\"</span>, \n",
       "<span style=\"color: #008000; text-decoration-color: #008000\">\"books_person\"</span>.<span style=\"color: #008000; text-decoration-color: #008000\">\"name\"</span>, <span style=\"color: #008000; text-decoration-color: #008000\">\"books_person\"</span>.<span style=\"color: #008000; text-decoration-color: #008000\">\"bio\"</span> FROM <span style=\"color: #008000; text-decoration-color: #008000\">\"books_book\"</span> LEFT OUTER JOIN <span style=\"color: #008000; text-decoration-color: #008000\">\"books_review\"</span> ON <span style=\"font-weight: bold\">(</span><span style=\"color: #008000; text-decoration-color: #008000\">\"books_book\"</span>.<span style=\"color: #008000; text-decoration-color: #008000\">\"id\"</span> \n",
       "= <span style=\"color: #008000; text-decoration-color: #008000\">\"books_review\"</span>.<span style=\"color: #008000; text-decoration-color: #008000\">\"book_id\"</span><span style=\"font-weight: bold\">)</span> LEFT OUTER JOIN <span style=\"color: #008000; text-decoration-color: #008000\">\"books_booktag\"</span> ON <span style=\"font-weight: bold\">(</span><span style=\"color: #008000; text-decoration-color: #008000\">\"books_book\"</span>.<span style=\"color: #008000; text-decoration-color: #008000\">\"id\"</span> = <span style=\"color: #008000; text-decoration-color: #008000\">\"books_booktag\"</span>.<span style=\"color: #008000; text-decoration-color: #008000\">\"book_id\"</span><span style=\"font-weight: bold\">)</span> \n",
       "INNER JOIN <span style=\"color: #008000; text-decoration-color: #008000\">\"books_person\"</span> ON <span style=\"font-weight: bold\">(</span><span style=\"color: #008000; text-decoration-color: #008000\">\"books_book\"</span>.<span style=\"color: #008000; text-decoration-color: #008000\">\"author_id\"</span> = <span style=\"color: #008000; text-decoration-color: #008000\">\"books_person\"</span>.<span style=\"color: #008000; text-decoration-color: #008000\">\"id\"</span><span style=\"font-weight: bold\">)</span> WHERE <span style=\"color: #008000; text-decoration-color: #008000\">\"books_book\"</span>.<span style=\"color: #008000; text-decoration-color: #008000\">\"library_id\"</span> = <span style=\"color: #008080; text-decoration-color: #008080; font-weight: bold\">6</span> \n",
       "GROUP BY <span style=\"color: #008000; text-decoration-color: #008000\">\"books_book\"</span>.<span style=\"color: #008000; text-decoration-color: #008000\">\"id\"</span>, <span style=\"color: #008000; text-decoration-color: #008000\">\"books_person\"</span>.<span style=\"color: #008000; text-decoration-color: #008000\">\"id\"</span> ORDER BY <span style=\"color: #008000; text-decoration-color: #008000\">\"books_book\"</span>.<span style=\"color: #008000; text-decoration-color: #008000\">\"id\"</span> ASC LIMIT <span style=\"color: #008080; text-decoration-color: #008080; font-weight: bold\">20</span>\n",
       "</pre>\n"
      ],
      "text/plain": [
       "Duration\n",
       "  Total: \u001b[1;36m0.11\u001b[0m\n",
       "  SQL: \u001b[1;36m0.10\u001b[0m \n",
       "\n",
       "      \u001b[1m(\u001b[0mduration: \u001b[1;36m0.105\u001b[0m\u001b[1m)\u001b[0m   SELECT \u001b[32m\"books_book\"\u001b[0m.\u001b[32m\"id\"\u001b[0m, \u001b[32m\"books_book\"\u001b[0m.\u001b[32m\"title\"\u001b[0m, \u001b[32m\"books_book\"\u001b[0m.\u001b[32m\"author_id\"\u001b[0m, \n",
       "\u001b[32m\"books_book\"\u001b[0m.\u001b[32m\"release_date\"\u001b[0m, \u001b[32m\"books_book\"\u001b[0m.\u001b[32m\"library_id\"\u001b[0m, \u001b[1;35mCOUNT\u001b[0m\u001b[1m(\u001b[0mDISTINCT \u001b[32m\"books_review\"\u001b[0m.\u001b[32m\"id\"\u001b[0m\u001b[1m)\u001b[0m AS \u001b[32m\"review_count\"\u001b[0m, \n",
       "\u001b[1;35mARRAY_AGG\u001b[0m\u001b[1m(\u001b[0mDISTINCT \u001b[32m\"books_booktag\"\u001b[0m.\u001b[32m\"name\"\u001b[0m \u001b[1m)\u001b[0m AS \u001b[32m\"tag_names\"\u001b[0m, \u001b[32m\"books_person\"\u001b[0m.\u001b[32m\"id\"\u001b[0m, \u001b[32m\"books_person\"\u001b[0m.\u001b[32m\"email\"\u001b[0m, \n",
       "\u001b[32m\"books_person\"\u001b[0m.\u001b[32m\"name\"\u001b[0m, \u001b[32m\"books_person\"\u001b[0m.\u001b[32m\"bio\"\u001b[0m FROM \u001b[32m\"books_book\"\u001b[0m LEFT OUTER JOIN \u001b[32m\"books_review\"\u001b[0m ON \u001b[1m(\u001b[0m\u001b[32m\"books_book\"\u001b[0m.\u001b[32m\"id\"\u001b[0m \n",
       "= \u001b[32m\"books_review\"\u001b[0m.\u001b[32m\"book_id\"\u001b[0m\u001b[1m)\u001b[0m LEFT OUTER JOIN \u001b[32m\"books_booktag\"\u001b[0m ON \u001b[1m(\u001b[0m\u001b[32m\"books_book\"\u001b[0m.\u001b[32m\"id\"\u001b[0m = \u001b[32m\"books_booktag\"\u001b[0m.\u001b[32m\"book_id\"\u001b[0m\u001b[1m)\u001b[0m \n",
       "INNER JOIN \u001b[32m\"books_person\"\u001b[0m ON \u001b[1m(\u001b[0m\u001b[32m\"books_book\"\u001b[0m.\u001b[32m\"author_id\"\u001b[0m = \u001b[32m\"books_person\"\u001b[0m.\u001b[32m\"id\"\u001b[0m\u001b[1m)\u001b[0m WHERE \u001b[32m\"books_book\"\u001b[0m.\u001b[32m\"library_id\"\u001b[0m = \u001b[1;36m6\u001b[0m \n",
       "GROUP BY \u001b[32m\"books_book\"\u001b[0m.\u001b[32m\"id\"\u001b[0m, \u001b[32m\"books_person\"\u001b[0m.\u001b[32m\"id\"\u001b[0m ORDER BY \u001b[32m\"books_book\"\u001b[0m.\u001b[32m\"id\"\u001b[0m ASC LIMIT \u001b[1;36m20\u001b[0m\n"
      ]
     },
     "metadata": {},
     "output_type": "display_data"
    },
    {
     "data": {
      "text/html": [
       "<pre style=\"white-space:pre;overflow-x:auto;line-height:normal;font-family:Menlo,'DejaVu Sans Mono',consolas,'Courier New',monospace\"><span style=\"font-weight: bold\">{</span>\n",
       "    <span style=\"color: #008000; text-decoration-color: #008000\">'id'</span>: <span style=\"color: #008080; text-decoration-color: #008080; font-weight: bold\">1005</span>,\n",
       "    <span style=\"color: #008000; text-decoration-color: #008000\">'title'</span>: <span style=\"color: #008000; text-decoration-color: #008000\">'Fear not major top arm social follow economy.'</span>,\n",
       "    <span style=\"color: #008000; text-decoration-color: #008000\">'release_date'</span>: <span style=\"color: #800080; text-decoration-color: #800080; font-weight: bold\">datetime.date</span><span style=\"font-weight: bold\">(</span><span style=\"color: #008080; text-decoration-color: #008080; font-weight: bold\">1968</span>, <span style=\"color: #008080; text-decoration-color: #008080; font-weight: bold\">10</span>, <span style=\"color: #008080; text-decoration-color: #008080; font-weight: bold\">1</span><span style=\"font-weight: bold\">)</span>,\n",
       "    <span style=\"color: #008000; text-decoration-color: #008000\">'library_id'</span>: <span style=\"color: #008080; text-decoration-color: #008080; font-weight: bold\">6</span>,\n",
       "    <span style=\"color: #008000; text-decoration-color: #008000\">'review_count'</span>: <span style=\"color: #008080; text-decoration-color: #008080; font-weight: bold\">9</span>,\n",
       "    <span style=\"color: #008000; text-decoration-color: #008000\">'tag_names'</span>: <span style=\"font-weight: bold\">[</span><span style=\"color: #008000; text-decoration-color: #008000\">'movie'</span><span style=\"font-weight: bold\">]</span>,\n",
       "    <span style=\"color: #008000; text-decoration-color: #008000\">'author'</span>: <span style=\"font-weight: bold\">{</span><span style=\"color: #008000; text-decoration-color: #008000\">'id'</span>: <span style=\"color: #008080; text-decoration-color: #008080; font-weight: bold\">3489</span>, <span style=\"color: #008000; text-decoration-color: #008000\">'name'</span>: <span style=\"color: #008000; text-decoration-color: #008000\">'Wesley Gibbs'</span><span style=\"font-weight: bold\">}</span>\n",
       "<span style=\"font-weight: bold\">}</span>\n",
       "</pre>\n"
      ],
      "text/plain": [
       "\u001b[1m{\u001b[0m\n",
       "    \u001b[32m'id'\u001b[0m: \u001b[1;36m1005\u001b[0m,\n",
       "    \u001b[32m'title'\u001b[0m: \u001b[32m'Fear not major top arm social follow economy.'\u001b[0m,\n",
       "    \u001b[32m'release_date'\u001b[0m: \u001b[1;35mdatetime.date\u001b[0m\u001b[1m(\u001b[0m\u001b[1;36m1968\u001b[0m, \u001b[1;36m10\u001b[0m, \u001b[1;36m1\u001b[0m\u001b[1m)\u001b[0m,\n",
       "    \u001b[32m'library_id'\u001b[0m: \u001b[1;36m6\u001b[0m,\n",
       "    \u001b[32m'review_count'\u001b[0m: \u001b[1;36m9\u001b[0m,\n",
       "    \u001b[32m'tag_names'\u001b[0m: \u001b[1m[\u001b[0m\u001b[32m'movie'\u001b[0m\u001b[1m]\u001b[0m,\n",
       "    \u001b[32m'author'\u001b[0m: \u001b[1m{\u001b[0m\u001b[32m'id'\u001b[0m: \u001b[1;36m3489\u001b[0m, \u001b[32m'name'\u001b[0m: \u001b[32m'Wesley Gibbs'\u001b[0m\u001b[1m}\u001b[0m\n",
       "\u001b[1m}\u001b[0m\n"
      ]
     },
     "metadata": {},
     "output_type": "display_data"
    }
   ],
   "source": [
    "with perf_counter(time_sql=True, print_sql=True):\n",
    "    qs = get_queryset(alexandria_id, orderings=(\"id\",))\n",
    "    qs = annotate_books_aggregate(qs)\n",
    "    result = serialize_books(qs)\n",
    "\n",
    "print(result[0])\n"
   ]
  },
  {
   "cell_type": "code",
   "execution_count": 13,
   "metadata": {},
   "outputs": [
    {
     "data": {
      "text/html": [
       "<pre style=\"white-space:pre;overflow-x:auto;line-height:normal;font-family:Menlo,'DejaVu Sans Mono',consolas,'Courier New',monospace\">Limit  <span style=\"font-weight: bold\">(</span><span style=\"color: #808000; text-decoration-color: #808000\">cost</span>=<span style=\"color: #008080; text-decoration-color: #008080; font-weight: bold\">28.33</span>..<span style=\"color: #008080; text-decoration-color: #008080; font-weight: bold\">46.88</span> <span style=\"color: #808000; text-decoration-color: #808000\">rows</span>=<span style=\"color: #008080; text-decoration-color: #008080; font-weight: bold\">20</span> <span style=\"color: #808000; text-decoration-color: #808000\">width</span>=<span style=\"color: #008080; text-decoration-color: #008080; font-weight: bold\">912</span><span style=\"font-weight: bold\">)</span> <span style=\"font-weight: bold\">(</span>actual <span style=\"color: #808000; text-decoration-color: #808000\">time</span>=<span style=\"color: #008080; text-decoration-color: #008080; font-weight: bold\">37.564</span>..<span style=\"color: #008080; text-decoration-color: #008080; font-weight: bold\">40.077</span> <span style=\"color: #808000; text-decoration-color: #808000\">rows</span>=<span style=\"color: #008080; text-decoration-color: #008080; font-weight: bold\">20</span> <span style=\"color: #808000; text-decoration-color: #808000\">loops</span>=<span style=\"color: #008080; text-decoration-color: #008080; font-weight: bold\">1</span><span style=\"font-weight: bold\">)</span>\n",
       "  -&gt;  GroupAggregate  <span style=\"font-weight: bold\">(</span><span style=\"color: #808000; text-decoration-color: #808000\">cost</span>=<span style=\"color: #008080; text-decoration-color: #008080; font-weight: bold\">28.33</span>..<span style=\"color: #008080; text-decoration-color: #008080; font-weight: bold\">5509789.13</span> <span style=\"color: #808000; text-decoration-color: #808000\">rows</span>=<span style=\"color: #008080; text-decoration-color: #008080; font-weight: bold\">5940286</span> <span style=\"color: #808000; text-decoration-color: #808000\">width</span>=<span style=\"color: #008080; text-decoration-color: #008080; font-weight: bold\">912</span><span style=\"font-weight: bold\">)</span> <span style=\"font-weight: bold\">(</span>actual <span style=\"color: #808000; text-decoration-color: #808000\">time</span>=<span style=\"color: #008080; text-decoration-color: #008080; font-weight: bold\">37.562</span>..<span style=\"color: #008080; text-decoration-color: #008080; font-weight: bold\">40.070</span> <span style=\"color: #808000; text-decoration-color: #808000\">rows</span>=<span style=\"color: #008080; text-decoration-color: #008080; font-weight: bold\">20</span> <span style=\"color: #808000; text-decoration-color: #808000\">loops</span>=<span style=\"color: #008080; text-decoration-color: #008080; font-weight: bold\">1</span><span style=\"font-weight: bold\">)</span>\n",
       "        Group Key: books_book.id, books_person.id\n",
       "        -&gt;  Incremental Sort  <span style=\"font-weight: bold\">(</span><span style=\"color: #808000; text-decoration-color: #808000\">cost</span>=<span style=\"color: #008080; text-decoration-color: #008080; font-weight: bold\">28.33</span>..<span style=\"color: #008080; text-decoration-color: #008080; font-weight: bold\">5376132.69</span> <span style=\"color: #808000; text-decoration-color: #808000\">rows</span>=<span style=\"color: #008080; text-decoration-color: #008080; font-weight: bold\">5940286</span> <span style=\"color: #808000; text-decoration-color: #808000\">width</span>=<span style=\"color: #008080; text-decoration-color: #008080; font-weight: bold\">886</span><span style=\"font-weight: bold\">)</span> <span style=\"font-weight: bold\">(</span>actual <span style=\"color: #808000; text-decoration-color: #808000\">time</span>=<span style=\"color: #008080; text-decoration-color: #008080; font-weight: bold\">37.500</span>..<span style=\"color: #008080; text-decoration-color: #008080; font-weight: bold\">39.524</span> <span style=\"color: #808000; text-decoration-color: #808000\">rows</span>=<span style=\"color: #008080; text-decoration-color: #008080; font-weight: bold\">489</span> \n",
       "<span style=\"color: #808000; text-decoration-color: #808000\">loops</span>=<span style=\"color: #008080; text-decoration-color: #008080; font-weight: bold\">1</span><span style=\"font-weight: bold\">)</span>\n",
       "              Sort Key: books_book.id, books_person.id\n",
       "              Presorted Key: books_book.id\n",
       "              Full-sort Groups: <span style=\"color: #008080; text-decoration-color: #008080; font-weight: bold\">12</span>  Sort Method: quicksort  Average Memory: 77kB  Peak Memory: 83kB\n",
       "              Pre-sorted Groups: <span style=\"color: #008080; text-decoration-color: #008080; font-weight: bold\">5</span>  Sort Method: quicksort  Average Memory: 39kB  Peak Memory: 40kB\n",
       "              -&gt;  Merge Left Join  <span style=\"font-weight: bold\">(</span><span style=\"color: #808000; text-decoration-color: #808000\">cost</span>=<span style=\"color: #008080; text-decoration-color: #008080; font-weight: bold\">1.60</span>..<span style=\"color: #008080; text-decoration-color: #008080; font-weight: bold\">5045795.50</span> <span style=\"color: #808000; text-decoration-color: #808000\">rows</span>=<span style=\"color: #008080; text-decoration-color: #008080; font-weight: bold\">5940286</span> <span style=\"color: #808000; text-decoration-color: #808000\">width</span>=<span style=\"color: #008080; text-decoration-color: #008080; font-weight: bold\">886</span><span style=\"font-weight: bold\">)</span> <span style=\"font-weight: bold\">(</span>actual <span style=\"color: #808000; text-decoration-color: #808000\">time</span>=<span style=\"color: #008080; text-decoration-color: #008080; font-weight: bold\">1.503</span>..<span style=\"color: #008080; text-decoration-color: #008080; font-weight: bold\">38.821</span> \n",
       "<span style=\"color: #808000; text-decoration-color: #808000\">rows</span>=<span style=\"color: #008080; text-decoration-color: #008080; font-weight: bold\">525</span> <span style=\"color: #808000; text-decoration-color: #808000\">loops</span>=<span style=\"color: #008080; text-decoration-color: #008080; font-weight: bold\">1</span><span style=\"font-weight: bold\">)</span>\n",
       "                    Merge Cond: <span style=\"font-weight: bold\">(</span>books_book.id = books_review.book_id<span style=\"font-weight: bold\">)</span>\n",
       "                    -&gt;  Nested Loop Left Join  <span style=\"font-weight: bold\">(</span><span style=\"color: #808000; text-decoration-color: #808000\">cost</span>=<span style=\"color: #008080; text-decoration-color: #008080; font-weight: bold\">1.16</span>..<span style=\"color: #008080; text-decoration-color: #008080; font-weight: bold\">2299093.65</span> <span style=\"color: #808000; text-decoration-color: #808000\">rows</span>=<span style=\"color: #008080; text-decoration-color: #008080; font-weight: bold\">593544</span> <span style=\"color: #808000; text-decoration-color: #808000\">width</span>=<span style=\"color: #008080; text-decoration-color: #008080; font-weight: bold\">878</span><span style=\"font-weight: bold\">)</span> <span style=\"font-weight: bold\">(</span>actual \n",
       "<span style=\"color: #808000; text-decoration-color: #808000\">time</span>=<span style=\"color: #008080; text-decoration-color: #008080; font-weight: bold\">0.368</span>..<span style=\"color: #008080; text-decoration-color: #008080; font-weight: bold\">0.802</span> <span style=\"color: #808000; text-decoration-color: #808000\">rows</span>=<span style=\"color: #008080; text-decoration-color: #008080; font-weight: bold\">59</span> <span style=\"color: #808000; text-decoration-color: #808000\">loops</span>=<span style=\"color: #008080; text-decoration-color: #008080; font-weight: bold\">1</span><span style=\"font-weight: bold\">)</span>\n",
       "                          -&gt;  Nested Loop  <span style=\"font-weight: bold\">(</span><span style=\"color: #808000; text-decoration-color: #808000\">cost</span>=<span style=\"color: #008080; text-decoration-color: #008080; font-weight: bold\">0.73</span>..<span style=\"color: #008080; text-decoration-color: #008080; font-weight: bold\">1123055.75</span> <span style=\"color: #808000; text-decoration-color: #808000\">rows</span>=<span style=\"color: #008080; text-decoration-color: #008080; font-weight: bold\">197930</span> <span style=\"color: #808000; text-decoration-color: #808000\">width</span>=<span style=\"color: #008080; text-decoration-color: #008080; font-weight: bold\">872</span><span style=\"font-weight: bold\">)</span> <span style=\"font-weight: bold\">(</span>actual <span style=\"color: #808000; text-decoration-color: #808000\">time</span>=<span style=\"color: #008080; text-decoration-color: #008080; font-weight: bold\">0.342</span>..<span style=\"color: #008080; text-decoration-color: #008080; font-weight: bold\">0.640</span> \n",
       "<span style=\"color: #808000; text-decoration-color: #808000\">rows</span>=<span style=\"color: #008080; text-decoration-color: #008080; font-weight: bold\">23</span> <span style=\"color: #808000; text-decoration-color: #808000\">loops</span>=<span style=\"color: #008080; text-decoration-color: #008080; font-weight: bold\">1</span><span style=\"font-weight: bold\">)</span>\n",
       "                                -&gt;  Index Scan using books_book_pkey on books_book  <span style=\"font-weight: bold\">(</span><span style=\"color: #808000; text-decoration-color: #808000\">cost</span>=<span style=\"color: #008080; text-decoration-color: #008080; font-weight: bold\">0.43</span>..<span style=\"color: #008080; text-decoration-color: #008080; font-weight: bold\">227962.47</span> \n",
       "<span style=\"color: #808000; text-decoration-color: #808000\">rows</span>=<span style=\"color: #008080; text-decoration-color: #008080; font-weight: bold\">197930</span> <span style=\"color: #808000; text-decoration-color: #808000\">width</span>=<span style=\"color: #008080; text-decoration-color: #008080; font-weight: bold\">91</span><span style=\"font-weight: bold\">)</span> <span style=\"font-weight: bold\">(</span>actual <span style=\"color: #808000; text-decoration-color: #808000\">time</span>=<span style=\"color: #008080; text-decoration-color: #008080; font-weight: bold\">0.310</span>..<span style=\"color: #008080; text-decoration-color: #008080; font-weight: bold\">0.401</span> <span style=\"color: #808000; text-decoration-color: #808000\">rows</span>=<span style=\"color: #008080; text-decoration-color: #008080; font-weight: bold\">23</span> <span style=\"color: #808000; text-decoration-color: #808000\">loops</span>=<span style=\"color: #008080; text-decoration-color: #008080; font-weight: bold\">1</span><span style=\"font-weight: bold\">)</span>\n",
       "                                      Filter: <span style=\"font-weight: bold\">(</span>library_id = <span style=\"color: #008080; text-decoration-color: #008080; font-weight: bold\">6</span><span style=\"font-weight: bold\">)</span>\n",
       "                                      Rows Removed by Filter: <span style=\"color: #008080; text-decoration-color: #008080; font-weight: bold\">1225</span>\n",
       "                                -&gt;  Memoize  <span style=\"font-weight: bold\">(</span><span style=\"color: #808000; text-decoration-color: #808000\">cost</span>=<span style=\"color: #008080; text-decoration-color: #008080; font-weight: bold\">0.30</span>..<span style=\"color: #008080; text-decoration-color: #008080; font-weight: bold\">5.24</span> <span style=\"color: #808000; text-decoration-color: #808000\">rows</span>=<span style=\"color: #008080; text-decoration-color: #008080; font-weight: bold\">1</span> <span style=\"color: #808000; text-decoration-color: #808000\">width</span>=<span style=\"color: #008080; text-decoration-color: #008080; font-weight: bold\">781</span><span style=\"font-weight: bold\">)</span> <span style=\"font-weight: bold\">(</span>actual <span style=\"color: #808000; text-decoration-color: #808000\">time</span>=<span style=\"color: #008080; text-decoration-color: #008080; font-weight: bold\">0.009</span>..<span style=\"color: #008080; text-decoration-color: #008080; font-weight: bold\">0.009</span> <span style=\"color: #808000; text-decoration-color: #808000\">rows</span>=<span style=\"color: #008080; text-decoration-color: #008080; font-weight: bold\">1</span> \n",
       "<span style=\"color: #808000; text-decoration-color: #808000\">loops</span>=<span style=\"color: #008080; text-decoration-color: #008080; font-weight: bold\">23</span><span style=\"font-weight: bold\">)</span>\n",
       "                                      Cache Key: books_book.author_id\n",
       "                                      Cache Mode: logical\n",
       "                                      Hits: <span style=\"color: #008080; text-decoration-color: #008080; font-weight: bold\">0</span>  Misses: <span style=\"color: #008080; text-decoration-color: #008080; font-weight: bold\">23</span>  Evictions: <span style=\"color: #008080; text-decoration-color: #008080; font-weight: bold\">0</span>  Overflows: <span style=\"color: #008080; text-decoration-color: #008080; font-weight: bold\">0</span>  Memory Usage: 19kB\n",
       "                                      -&gt;  Index Scan using books_person_pkey on books_person  <span style=\"font-weight: bold\">(</span><span style=\"color: #808000; text-decoration-color: #808000\">cost</span>=<span style=\"color: #008080; text-decoration-color: #008080; font-weight: bold\">0.29</span>..<span style=\"color: #008080; text-decoration-color: #008080; font-weight: bold\">5.23</span> \n",
       "<span style=\"color: #808000; text-decoration-color: #808000\">rows</span>=<span style=\"color: #008080; text-decoration-color: #008080; font-weight: bold\">1</span> <span style=\"color: #808000; text-decoration-color: #808000\">width</span>=<span style=\"color: #008080; text-decoration-color: #008080; font-weight: bold\">781</span><span style=\"font-weight: bold\">)</span> <span style=\"font-weight: bold\">(</span>actual <span style=\"color: #808000; text-decoration-color: #808000\">time</span>=<span style=\"color: #008080; text-decoration-color: #008080; font-weight: bold\">0.005</span>..<span style=\"color: #008080; text-decoration-color: #008080; font-weight: bold\">0.005</span> <span style=\"color: #808000; text-decoration-color: #808000\">rows</span>=<span style=\"color: #008080; text-decoration-color: #008080; font-weight: bold\">1</span> <span style=\"color: #808000; text-decoration-color: #808000\">loops</span>=<span style=\"color: #008080; text-decoration-color: #008080; font-weight: bold\">23</span><span style=\"font-weight: bold\">)</span>\n",
       "                                            Index Cond: <span style=\"font-weight: bold\">(</span>id = books_book.author_id<span style=\"font-weight: bold\">)</span>\n",
       "                          -&gt;  Index Scan using books_booktag_book_id_361012b4 on books_booktag  <span style=\"font-weight: bold\">(</span><span style=\"color: #808000; text-decoration-color: #808000\">cost</span>=<span style=\"color: #008080; text-decoration-color: #008080; font-weight: bold\">0.43</span>..<span style=\"color: #008080; text-decoration-color: #008080; font-weight: bold\">5.85</span> \n",
       "<span style=\"color: #808000; text-decoration-color: #808000\">rows</span>=<span style=\"color: #008080; text-decoration-color: #008080; font-weight: bold\">9</span> <span style=\"color: #808000; text-decoration-color: #808000\">width</span>=<span style=\"color: #008080; text-decoration-color: #008080; font-weight: bold\">14</span><span style=\"font-weight: bold\">)</span> <span style=\"font-weight: bold\">(</span>actual <span style=\"color: #808000; text-decoration-color: #808000\">time</span>=<span style=\"color: #008080; text-decoration-color: #008080; font-weight: bold\">0.004</span>..<span style=\"color: #008080; text-decoration-color: #008080; font-weight: bold\">0.005</span> <span style=\"color: #808000; text-decoration-color: #808000\">rows</span>=<span style=\"color: #008080; text-decoration-color: #008080; font-weight: bold\">3</span> <span style=\"color: #808000; text-decoration-color: #808000\">loops</span>=<span style=\"color: #008080; text-decoration-color: #008080; font-weight: bold\">23</span><span style=\"font-weight: bold\">)</span>\n",
       "                                Index Cond: <span style=\"font-weight: bold\">(</span>book_id = books_book.id<span style=\"font-weight: bold\">)</span>\n",
       "                    -&gt;  Index Scan using books_review_book_id_a67a4c60 on books_review  <span style=\"font-weight: bold\">(</span><span style=\"color: #808000; text-decoration-color: #808000\">cost</span>=<span style=\"color: #008080; text-decoration-color: #008080; font-weight: bold\">0.44</span>..<span style=\"color: #008080; text-decoration-color: #008080; font-weight: bold\">2585866.27</span> \n",
       "<span style=\"color: #808000; text-decoration-color: #808000\">rows</span>=<span style=\"color: #008080; text-decoration-color: #008080; font-weight: bold\">40045392</span> <span style=\"color: #808000; text-decoration-color: #808000\">width</span>=<span style=\"color: #008080; text-decoration-color: #008080; font-weight: bold\">16</span><span style=\"font-weight: bold\">)</span> <span style=\"font-weight: bold\">(</span>actual <span style=\"color: #808000; text-decoration-color: #808000\">time</span>=<span style=\"color: #008080; text-decoration-color: #008080; font-weight: bold\">0.027</span>..<span style=\"color: #008080; text-decoration-color: #008080; font-weight: bold\">34.091</span> <span style=\"color: #808000; text-decoration-color: #808000\">rows</span>=<span style=\"color: #008080; text-decoration-color: #008080; font-weight: bold\">25725</span> <span style=\"color: #808000; text-decoration-color: #808000\">loops</span>=<span style=\"color: #008080; text-decoration-color: #008080; font-weight: bold\">1</span><span style=\"font-weight: bold\">)</span>\n",
       "Planning Time: <span style=\"color: #008080; text-decoration-color: #008080; font-weight: bold\">2.179</span> ms\n",
       "Execution Time: <span style=\"color: #008080; text-decoration-color: #008080; font-weight: bold\">40.479</span> ms\n",
       "</pre>\n"
      ],
      "text/plain": [
       "Limit  \u001b[1m(\u001b[0m\u001b[33mcost\u001b[0m=\u001b[1;36m28\u001b[0m\u001b[1;36m.33\u001b[0m..\u001b[1;36m46.88\u001b[0m \u001b[33mrows\u001b[0m=\u001b[1;36m20\u001b[0m \u001b[33mwidth\u001b[0m=\u001b[1;36m912\u001b[0m\u001b[1m)\u001b[0m \u001b[1m(\u001b[0mactual \u001b[33mtime\u001b[0m=\u001b[1;36m37\u001b[0m\u001b[1;36m.564\u001b[0m..\u001b[1;36m40.077\u001b[0m \u001b[33mrows\u001b[0m=\u001b[1;36m20\u001b[0m \u001b[33mloops\u001b[0m=\u001b[1;36m1\u001b[0m\u001b[1m)\u001b[0m\n",
       "  ->  GroupAggregate  \u001b[1m(\u001b[0m\u001b[33mcost\u001b[0m=\u001b[1;36m28\u001b[0m\u001b[1;36m.33\u001b[0m..\u001b[1;36m5509789.13\u001b[0m \u001b[33mrows\u001b[0m=\u001b[1;36m5940286\u001b[0m \u001b[33mwidth\u001b[0m=\u001b[1;36m912\u001b[0m\u001b[1m)\u001b[0m \u001b[1m(\u001b[0mactual \u001b[33mtime\u001b[0m=\u001b[1;36m37\u001b[0m\u001b[1;36m.562\u001b[0m..\u001b[1;36m40.070\u001b[0m \u001b[33mrows\u001b[0m=\u001b[1;36m20\u001b[0m \u001b[33mloops\u001b[0m=\u001b[1;36m1\u001b[0m\u001b[1m)\u001b[0m\n",
       "        Group Key: books_book.id, books_person.id\n",
       "        ->  Incremental Sort  \u001b[1m(\u001b[0m\u001b[33mcost\u001b[0m=\u001b[1;36m28\u001b[0m\u001b[1;36m.33\u001b[0m..\u001b[1;36m5376132.69\u001b[0m \u001b[33mrows\u001b[0m=\u001b[1;36m5940286\u001b[0m \u001b[33mwidth\u001b[0m=\u001b[1;36m886\u001b[0m\u001b[1m)\u001b[0m \u001b[1m(\u001b[0mactual \u001b[33mtime\u001b[0m=\u001b[1;36m37\u001b[0m\u001b[1;36m.500\u001b[0m..\u001b[1;36m39.524\u001b[0m \u001b[33mrows\u001b[0m=\u001b[1;36m489\u001b[0m \n",
       "\u001b[33mloops\u001b[0m=\u001b[1;36m1\u001b[0m\u001b[1m)\u001b[0m\n",
       "              Sort Key: books_book.id, books_person.id\n",
       "              Presorted Key: books_book.id\n",
       "              Full-sort Groups: \u001b[1;36m12\u001b[0m  Sort Method: quicksort  Average Memory: 77kB  Peak Memory: 83kB\n",
       "              Pre-sorted Groups: \u001b[1;36m5\u001b[0m  Sort Method: quicksort  Average Memory: 39kB  Peak Memory: 40kB\n",
       "              ->  Merge Left Join  \u001b[1m(\u001b[0m\u001b[33mcost\u001b[0m=\u001b[1;36m1\u001b[0m\u001b[1;36m.60\u001b[0m..\u001b[1;36m5045795.50\u001b[0m \u001b[33mrows\u001b[0m=\u001b[1;36m5940286\u001b[0m \u001b[33mwidth\u001b[0m=\u001b[1;36m886\u001b[0m\u001b[1m)\u001b[0m \u001b[1m(\u001b[0mactual \u001b[33mtime\u001b[0m=\u001b[1;36m1\u001b[0m\u001b[1;36m.503\u001b[0m..\u001b[1;36m38.821\u001b[0m \n",
       "\u001b[33mrows\u001b[0m=\u001b[1;36m525\u001b[0m \u001b[33mloops\u001b[0m=\u001b[1;36m1\u001b[0m\u001b[1m)\u001b[0m\n",
       "                    Merge Cond: \u001b[1m(\u001b[0mbooks_book.id = books_review.book_id\u001b[1m)\u001b[0m\n",
       "                    ->  Nested Loop Left Join  \u001b[1m(\u001b[0m\u001b[33mcost\u001b[0m=\u001b[1;36m1\u001b[0m\u001b[1;36m.16\u001b[0m..\u001b[1;36m2299093.65\u001b[0m \u001b[33mrows\u001b[0m=\u001b[1;36m593544\u001b[0m \u001b[33mwidth\u001b[0m=\u001b[1;36m878\u001b[0m\u001b[1m)\u001b[0m \u001b[1m(\u001b[0mactual \n",
       "\u001b[33mtime\u001b[0m=\u001b[1;36m0\u001b[0m\u001b[1;36m.368\u001b[0m..\u001b[1;36m0.802\u001b[0m \u001b[33mrows\u001b[0m=\u001b[1;36m59\u001b[0m \u001b[33mloops\u001b[0m=\u001b[1;36m1\u001b[0m\u001b[1m)\u001b[0m\n",
       "                          ->  Nested Loop  \u001b[1m(\u001b[0m\u001b[33mcost\u001b[0m=\u001b[1;36m0\u001b[0m\u001b[1;36m.73\u001b[0m..\u001b[1;36m1123055.75\u001b[0m \u001b[33mrows\u001b[0m=\u001b[1;36m197930\u001b[0m \u001b[33mwidth\u001b[0m=\u001b[1;36m872\u001b[0m\u001b[1m)\u001b[0m \u001b[1m(\u001b[0mactual \u001b[33mtime\u001b[0m=\u001b[1;36m0\u001b[0m\u001b[1;36m.342\u001b[0m..\u001b[1;36m0.640\u001b[0m \n",
       "\u001b[33mrows\u001b[0m=\u001b[1;36m23\u001b[0m \u001b[33mloops\u001b[0m=\u001b[1;36m1\u001b[0m\u001b[1m)\u001b[0m\n",
       "                                ->  Index Scan using books_book_pkey on books_book  \u001b[1m(\u001b[0m\u001b[33mcost\u001b[0m=\u001b[1;36m0\u001b[0m\u001b[1;36m.43\u001b[0m..\u001b[1;36m227962.47\u001b[0m \n",
       "\u001b[33mrows\u001b[0m=\u001b[1;36m197930\u001b[0m \u001b[33mwidth\u001b[0m=\u001b[1;36m91\u001b[0m\u001b[1m)\u001b[0m \u001b[1m(\u001b[0mactual \u001b[33mtime\u001b[0m=\u001b[1;36m0\u001b[0m\u001b[1;36m.310\u001b[0m..\u001b[1;36m0.401\u001b[0m \u001b[33mrows\u001b[0m=\u001b[1;36m23\u001b[0m \u001b[33mloops\u001b[0m=\u001b[1;36m1\u001b[0m\u001b[1m)\u001b[0m\n",
       "                                      Filter: \u001b[1m(\u001b[0mlibrary_id = \u001b[1;36m6\u001b[0m\u001b[1m)\u001b[0m\n",
       "                                      Rows Removed by Filter: \u001b[1;36m1225\u001b[0m\n",
       "                                ->  Memoize  \u001b[1m(\u001b[0m\u001b[33mcost\u001b[0m=\u001b[1;36m0\u001b[0m\u001b[1;36m.30\u001b[0m..\u001b[1;36m5.24\u001b[0m \u001b[33mrows\u001b[0m=\u001b[1;36m1\u001b[0m \u001b[33mwidth\u001b[0m=\u001b[1;36m781\u001b[0m\u001b[1m)\u001b[0m \u001b[1m(\u001b[0mactual \u001b[33mtime\u001b[0m=\u001b[1;36m0\u001b[0m\u001b[1;36m.009\u001b[0m..\u001b[1;36m0.009\u001b[0m \u001b[33mrows\u001b[0m=\u001b[1;36m1\u001b[0m \n",
       "\u001b[33mloops\u001b[0m=\u001b[1;36m23\u001b[0m\u001b[1m)\u001b[0m\n",
       "                                      Cache Key: books_book.author_id\n",
       "                                      Cache Mode: logical\n",
       "                                      Hits: \u001b[1;36m0\u001b[0m  Misses: \u001b[1;36m23\u001b[0m  Evictions: \u001b[1;36m0\u001b[0m  Overflows: \u001b[1;36m0\u001b[0m  Memory Usage: 19kB\n",
       "                                      ->  Index Scan using books_person_pkey on books_person  \u001b[1m(\u001b[0m\u001b[33mcost\u001b[0m=\u001b[1;36m0\u001b[0m\u001b[1;36m.29\u001b[0m..\u001b[1;36m5.23\u001b[0m \n",
       "\u001b[33mrows\u001b[0m=\u001b[1;36m1\u001b[0m \u001b[33mwidth\u001b[0m=\u001b[1;36m781\u001b[0m\u001b[1m)\u001b[0m \u001b[1m(\u001b[0mactual \u001b[33mtime\u001b[0m=\u001b[1;36m0\u001b[0m\u001b[1;36m.005\u001b[0m..\u001b[1;36m0.005\u001b[0m \u001b[33mrows\u001b[0m=\u001b[1;36m1\u001b[0m \u001b[33mloops\u001b[0m=\u001b[1;36m23\u001b[0m\u001b[1m)\u001b[0m\n",
       "                                            Index Cond: \u001b[1m(\u001b[0mid = books_book.author_id\u001b[1m)\u001b[0m\n",
       "                          ->  Index Scan using books_booktag_book_id_361012b4 on books_booktag  \u001b[1m(\u001b[0m\u001b[33mcost\u001b[0m=\u001b[1;36m0\u001b[0m\u001b[1;36m.43\u001b[0m..\u001b[1;36m5.85\u001b[0m \n",
       "\u001b[33mrows\u001b[0m=\u001b[1;36m9\u001b[0m \u001b[33mwidth\u001b[0m=\u001b[1;36m14\u001b[0m\u001b[1m)\u001b[0m \u001b[1m(\u001b[0mactual \u001b[33mtime\u001b[0m=\u001b[1;36m0\u001b[0m\u001b[1;36m.004\u001b[0m..\u001b[1;36m0.005\u001b[0m \u001b[33mrows\u001b[0m=\u001b[1;36m3\u001b[0m \u001b[33mloops\u001b[0m=\u001b[1;36m23\u001b[0m\u001b[1m)\u001b[0m\n",
       "                                Index Cond: \u001b[1m(\u001b[0mbook_id = books_book.id\u001b[1m)\u001b[0m\n",
       "                    ->  Index Scan using books_review_book_id_a67a4c60 on books_review  \u001b[1m(\u001b[0m\u001b[33mcost\u001b[0m=\u001b[1;36m0\u001b[0m\u001b[1;36m.44\u001b[0m..\u001b[1;36m2585866.27\u001b[0m \n",
       "\u001b[33mrows\u001b[0m=\u001b[1;36m40045392\u001b[0m \u001b[33mwidth\u001b[0m=\u001b[1;36m16\u001b[0m\u001b[1m)\u001b[0m \u001b[1m(\u001b[0mactual \u001b[33mtime\u001b[0m=\u001b[1;36m0\u001b[0m\u001b[1;36m.027\u001b[0m..\u001b[1;36m34.091\u001b[0m \u001b[33mrows\u001b[0m=\u001b[1;36m25725\u001b[0m \u001b[33mloops\u001b[0m=\u001b[1;36m1\u001b[0m\u001b[1m)\u001b[0m\n",
       "Planning Time: \u001b[1;36m2.179\u001b[0m ms\n",
       "Execution Time: \u001b[1;36m40.479\u001b[0m ms\n"
      ]
     },
     "metadata": {},
     "output_type": "display_data"
    }
   ],
   "source": [
    "qs = get_queryset(alexandria_id, orderings=(\"id\",))\n",
    "qs = annotate_books_aggregate(qs)\n",
    "result = qs.explain(analyze=True)\n",
    "\n",
    "print(result)"
   ]
  },
  {
   "attachments": {},
   "cell_type": "markdown",
   "metadata": {},
   "source": [
    "By comparison, we can look at [the plan](https://explain.dalibo.com/plan/31ae7aa178g5f1da) when ordering by `id`. It's completely different.\n",
    "1 key difference is the sort, which is now incremental\n",
    "\n",
    "> Compared to regular sorts, sorting incrementally allows returning tuples before the entire result set has been sorted, which particularly enables optimizations with LIMIT queries. It may also reduce memory usage and the likelihood of spilling sorts to disk, but it comes at the cost of the increased overhead of splitting the result set into multiple sorting batches.\n",
    "\n",
    "<br>\n",
    "<br>\n"
   ]
  },
  {
   "attachments": {},
   "cell_type": "markdown",
   "metadata": {},
   "source": [
    "---\n",
    "\n",
    "While we could try to find clever indexes to improve our queries, we'll try to find other solutions to reach the same result.\n"
   ]
  },
  {
   "attachments": {},
   "cell_type": "markdown",
   "metadata": {},
   "source": [
    "<br>\n",
    "<br>\n",
    "Since the aggregates are expensive, and only used for the output, but not to filter book rows, we can try to split the logic in two parts\n"
   ]
  },
  {
   "cell_type": "code",
   "execution_count": 14,
   "metadata": {},
   "outputs": [],
   "source": [
    "def get_book_ids(library_id, page_size=20, orderings=(\"release_date\", \"id\")):\n",
    "    return list(\n",
    "        Book.objects.filter(library_id=library_id)\n",
    "        .order_by(*orderings)[:page_size]\n",
    "        .values_list(\"id\", flat=True)\n",
    "    )\n",
    "\n",
    "\n",
    "def get_queryset_from_ids(book_ids, orderings=(\"release_date\", \"id\")):\n",
    "    return (\n",
    "        Book.objects.filter(id__in=book_ids)\n",
    "        .select_related(\"author\")\n",
    "        .order_by(*orderings)\n",
    "    )\n",
    "\n",
    "\n",
    "def get_queryset_using_ids(library_id, page_size=20, orderings=(\"release_date\", \"id\")):\n",
    "    book_ids = get_book_ids(library_id, page_size=page_size, orderings=orderings)\n",
    "    return get_queryset_from_ids(book_ids, orderings=orderings)"
   ]
  },
  {
   "cell_type": "code",
   "execution_count": 15,
   "metadata": {},
   "outputs": [
    {
     "data": {
      "text/html": [
       "<pre style=\"white-space:pre;overflow-x:auto;line-height:normal;font-family:Menlo,'DejaVu Sans Mono',consolas,'Courier New',monospace\">Duration\n",
       "  Total: <span style=\"color: #008080; text-decoration-color: #008080; font-weight: bold\">0.42</span>\n",
       "  SQL: <span style=\"color: #008080; text-decoration-color: #008080; font-weight: bold\">0.41</span> \n",
       "\n",
       "      <span style=\"font-weight: bold\">(</span>duration: <span style=\"color: #008080; text-decoration-color: #008080; font-weight: bold\">0.238</span><span style=\"font-weight: bold\">)</span>   SELECT <span style=\"color: #008000; text-decoration-color: #008000\">\"books_book\"</span>.<span style=\"color: #008000; text-decoration-color: #008000\">\"id\"</span> FROM <span style=\"color: #008000; text-decoration-color: #008000\">\"books_book\"</span> WHERE <span style=\"color: #008000; text-decoration-color: #008000\">\"books_book\"</span>.<span style=\"color: #008000; text-decoration-color: #008000\">\"library_id\"</span> = <span style=\"color: #008080; text-decoration-color: #008080; font-weight: bold\">6</span> ORDER BY \n",
       "<span style=\"color: #008000; text-decoration-color: #008000\">\"books_book\"</span>.<span style=\"color: #008000; text-decoration-color: #008000\">\"release_date\"</span> ASC, <span style=\"color: #008000; text-decoration-color: #008000\">\"books_book\"</span>.<span style=\"color: #008000; text-decoration-color: #008000\">\"id\"</span> ASC LIMIT <span style=\"color: #008080; text-decoration-color: #008080; font-weight: bold\">20</span> \n",
       "\n",
       "      <span style=\"font-weight: bold\">(</span>duration: <span style=\"color: #008080; text-decoration-color: #008080; font-weight: bold\">0.177</span><span style=\"font-weight: bold\">)</span>   SELECT <span style=\"color: #008000; text-decoration-color: #008000\">\"books_book\"</span>.<span style=\"color: #008000; text-decoration-color: #008000\">\"id\"</span>, <span style=\"color: #008000; text-decoration-color: #008000\">\"books_book\"</span>.<span style=\"color: #008000; text-decoration-color: #008000\">\"title\"</span>, <span style=\"color: #008000; text-decoration-color: #008000\">\"books_book\"</span>.<span style=\"color: #008000; text-decoration-color: #008000\">\"author_id\"</span>, \n",
       "<span style=\"color: #008000; text-decoration-color: #008000\">\"books_book\"</span>.<span style=\"color: #008000; text-decoration-color: #008000\">\"release_date\"</span>, <span style=\"color: #008000; text-decoration-color: #008000\">\"books_book\"</span>.<span style=\"color: #008000; text-decoration-color: #008000\">\"library_id\"</span>, <span style=\"color: #800080; text-decoration-color: #800080; font-weight: bold\">COUNT</span><span style=\"font-weight: bold\">(</span>DISTINCT <span style=\"color: #008000; text-decoration-color: #008000\">\"books_review\"</span>.<span style=\"color: #008000; text-decoration-color: #008000\">\"id\"</span><span style=\"font-weight: bold\">)</span> AS <span style=\"color: #008000; text-decoration-color: #008000\">\"review_count\"</span>, \n",
       "<span style=\"color: #800080; text-decoration-color: #800080; font-weight: bold\">ARRAY_AGG</span><span style=\"font-weight: bold\">(</span>DISTINCT <span style=\"color: #008000; text-decoration-color: #008000\">\"books_booktag\"</span>.<span style=\"color: #008000; text-decoration-color: #008000\">\"name\"</span> <span style=\"font-weight: bold\">)</span> AS <span style=\"color: #008000; text-decoration-color: #008000\">\"tag_names\"</span>, <span style=\"color: #008000; text-decoration-color: #008000\">\"books_person\"</span>.<span style=\"color: #008000; text-decoration-color: #008000\">\"id\"</span>, <span style=\"color: #008000; text-decoration-color: #008000\">\"books_person\"</span>.<span style=\"color: #008000; text-decoration-color: #008000\">\"email\"</span>, \n",
       "<span style=\"color: #008000; text-decoration-color: #008000\">\"books_person\"</span>.<span style=\"color: #008000; text-decoration-color: #008000\">\"name\"</span>, <span style=\"color: #008000; text-decoration-color: #008000\">\"books_person\"</span>.<span style=\"color: #008000; text-decoration-color: #008000\">\"bio\"</span> FROM <span style=\"color: #008000; text-decoration-color: #008000\">\"books_book\"</span> LEFT OUTER JOIN <span style=\"color: #008000; text-decoration-color: #008000\">\"books_review\"</span> ON <span style=\"font-weight: bold\">(</span><span style=\"color: #008000; text-decoration-color: #008000\">\"books_book\"</span>.<span style=\"color: #008000; text-decoration-color: #008000\">\"id\"</span> \n",
       "= <span style=\"color: #008000; text-decoration-color: #008000\">\"books_review\"</span>.<span style=\"color: #008000; text-decoration-color: #008000\">\"book_id\"</span><span style=\"font-weight: bold\">)</span> LEFT OUTER JOIN <span style=\"color: #008000; text-decoration-color: #008000\">\"books_booktag\"</span> ON <span style=\"font-weight: bold\">(</span><span style=\"color: #008000; text-decoration-color: #008000\">\"books_book\"</span>.<span style=\"color: #008000; text-decoration-color: #008000\">\"id\"</span> = <span style=\"color: #008000; text-decoration-color: #008000\">\"books_booktag\"</span>.<span style=\"color: #008000; text-decoration-color: #008000\">\"book_id\"</span><span style=\"font-weight: bold\">)</span> \n",
       "INNER JOIN <span style=\"color: #008000; text-decoration-color: #008000\">\"books_person\"</span> ON <span style=\"font-weight: bold\">(</span><span style=\"color: #008000; text-decoration-color: #008000\">\"books_book\"</span>.<span style=\"color: #008000; text-decoration-color: #008000\">\"author_id\"</span> = <span style=\"color: #008000; text-decoration-color: #008000\">\"books_person\"</span>.<span style=\"color: #008000; text-decoration-color: #008000\">\"id\"</span><span style=\"font-weight: bold\">)</span> WHERE <span style=\"color: #008000; text-decoration-color: #008000\">\"books_book\"</span>.<span style=\"color: #008000; text-decoration-color: #008000\">\"id\"</span> IN <span style=\"font-weight: bold\">(</span><span style=\"color: #008080; text-decoration-color: #008080; font-weight: bold\">251127</span>, \n",
       "<span style=\"color: #008080; text-decoration-color: #008080; font-weight: bold\">359638</span>, <span style=\"color: #008080; text-decoration-color: #008080; font-weight: bold\">1156714</span>, <span style=\"color: #008080; text-decoration-color: #008080; font-weight: bold\">1213190</span>, <span style=\"color: #008080; text-decoration-color: #008080; font-weight: bold\">1402817</span>, <span style=\"color: #008080; text-decoration-color: #008080; font-weight: bold\">303340</span>, <span style=\"color: #008080; text-decoration-color: #008080; font-weight: bold\">645062</span>, <span style=\"color: #008080; text-decoration-color: #008080; font-weight: bold\">712181</span>, <span style=\"color: #008080; text-decoration-color: #008080; font-weight: bold\">912196</span>, <span style=\"color: #008080; text-decoration-color: #008080; font-weight: bold\">1345919</span>, <span style=\"color: #008080; text-decoration-color: #008080; font-weight: bold\">344098</span>, <span style=\"color: #008080; text-decoration-color: #008080; font-weight: bold\">821709</span>, <span style=\"color: #008080; text-decoration-color: #008080; font-weight: bold\">1976681</span>, <span style=\"color: #008080; text-decoration-color: #008080; font-weight: bold\">183742</span>, \n",
       "<span style=\"color: #008080; text-decoration-color: #008080; font-weight: bold\">278596</span>, <span style=\"color: #008080; text-decoration-color: #008080; font-weight: bold\">710710</span>, <span style=\"color: #008080; text-decoration-color: #008080; font-weight: bold\">17364</span>, <span style=\"color: #008080; text-decoration-color: #008080; font-weight: bold\">76125</span>, <span style=\"color: #008080; text-decoration-color: #008080; font-weight: bold\">148950</span>, <span style=\"color: #008080; text-decoration-color: #008080; font-weight: bold\">420567</span><span style=\"font-weight: bold\">)</span> GROUP BY <span style=\"color: #008000; text-decoration-color: #008000\">\"books_book\"</span>.<span style=\"color: #008000; text-decoration-color: #008000\">\"id\"</span>, <span style=\"color: #008000; text-decoration-color: #008000\">\"books_person\"</span>.<span style=\"color: #008000; text-decoration-color: #008000\">\"id\"</span> ORDER BY \n",
       "<span style=\"color: #008000; text-decoration-color: #008000\">\"books_book\"</span>.<span style=\"color: #008000; text-decoration-color: #008000\">\"release_date\"</span> ASC, <span style=\"color: #008000; text-decoration-color: #008000\">\"books_book\"</span>.<span style=\"color: #008000; text-decoration-color: #008000\">\"id\"</span> ASC\n",
       "</pre>\n"
      ],
      "text/plain": [
       "Duration\n",
       "  Total: \u001b[1;36m0.42\u001b[0m\n",
       "  SQL: \u001b[1;36m0.41\u001b[0m \n",
       "\n",
       "      \u001b[1m(\u001b[0mduration: \u001b[1;36m0.238\u001b[0m\u001b[1m)\u001b[0m   SELECT \u001b[32m\"books_book\"\u001b[0m.\u001b[32m\"id\"\u001b[0m FROM \u001b[32m\"books_book\"\u001b[0m WHERE \u001b[32m\"books_book\"\u001b[0m.\u001b[32m\"library_id\"\u001b[0m = \u001b[1;36m6\u001b[0m ORDER BY \n",
       "\u001b[32m\"books_book\"\u001b[0m.\u001b[32m\"release_date\"\u001b[0m ASC, \u001b[32m\"books_book\"\u001b[0m.\u001b[32m\"id\"\u001b[0m ASC LIMIT \u001b[1;36m20\u001b[0m \n",
       "\n",
       "      \u001b[1m(\u001b[0mduration: \u001b[1;36m0.177\u001b[0m\u001b[1m)\u001b[0m   SELECT \u001b[32m\"books_book\"\u001b[0m.\u001b[32m\"id\"\u001b[0m, \u001b[32m\"books_book\"\u001b[0m.\u001b[32m\"title\"\u001b[0m, \u001b[32m\"books_book\"\u001b[0m.\u001b[32m\"author_id\"\u001b[0m, \n",
       "\u001b[32m\"books_book\"\u001b[0m.\u001b[32m\"release_date\"\u001b[0m, \u001b[32m\"books_book\"\u001b[0m.\u001b[32m\"library_id\"\u001b[0m, \u001b[1;35mCOUNT\u001b[0m\u001b[1m(\u001b[0mDISTINCT \u001b[32m\"books_review\"\u001b[0m.\u001b[32m\"id\"\u001b[0m\u001b[1m)\u001b[0m AS \u001b[32m\"review_count\"\u001b[0m, \n",
       "\u001b[1;35mARRAY_AGG\u001b[0m\u001b[1m(\u001b[0mDISTINCT \u001b[32m\"books_booktag\"\u001b[0m.\u001b[32m\"name\"\u001b[0m \u001b[1m)\u001b[0m AS \u001b[32m\"tag_names\"\u001b[0m, \u001b[32m\"books_person\"\u001b[0m.\u001b[32m\"id\"\u001b[0m, \u001b[32m\"books_person\"\u001b[0m.\u001b[32m\"email\"\u001b[0m, \n",
       "\u001b[32m\"books_person\"\u001b[0m.\u001b[32m\"name\"\u001b[0m, \u001b[32m\"books_person\"\u001b[0m.\u001b[32m\"bio\"\u001b[0m FROM \u001b[32m\"books_book\"\u001b[0m LEFT OUTER JOIN \u001b[32m\"books_review\"\u001b[0m ON \u001b[1m(\u001b[0m\u001b[32m\"books_book\"\u001b[0m.\u001b[32m\"id\"\u001b[0m \n",
       "= \u001b[32m\"books_review\"\u001b[0m.\u001b[32m\"book_id\"\u001b[0m\u001b[1m)\u001b[0m LEFT OUTER JOIN \u001b[32m\"books_booktag\"\u001b[0m ON \u001b[1m(\u001b[0m\u001b[32m\"books_book\"\u001b[0m.\u001b[32m\"id\"\u001b[0m = \u001b[32m\"books_booktag\"\u001b[0m.\u001b[32m\"book_id\"\u001b[0m\u001b[1m)\u001b[0m \n",
       "INNER JOIN \u001b[32m\"books_person\"\u001b[0m ON \u001b[1m(\u001b[0m\u001b[32m\"books_book\"\u001b[0m.\u001b[32m\"author_id\"\u001b[0m = \u001b[32m\"books_person\"\u001b[0m.\u001b[32m\"id\"\u001b[0m\u001b[1m)\u001b[0m WHERE \u001b[32m\"books_book\"\u001b[0m.\u001b[32m\"id\"\u001b[0m IN \u001b[1m(\u001b[0m\u001b[1;36m251127\u001b[0m, \n",
       "\u001b[1;36m359638\u001b[0m, \u001b[1;36m1156714\u001b[0m, \u001b[1;36m1213190\u001b[0m, \u001b[1;36m1402817\u001b[0m, \u001b[1;36m303340\u001b[0m, \u001b[1;36m645062\u001b[0m, \u001b[1;36m712181\u001b[0m, \u001b[1;36m912196\u001b[0m, \u001b[1;36m1345919\u001b[0m, \u001b[1;36m344098\u001b[0m, \u001b[1;36m821709\u001b[0m, \u001b[1;36m1976681\u001b[0m, \u001b[1;36m183742\u001b[0m, \n",
       "\u001b[1;36m278596\u001b[0m, \u001b[1;36m710710\u001b[0m, \u001b[1;36m17364\u001b[0m, \u001b[1;36m76125\u001b[0m, \u001b[1;36m148950\u001b[0m, \u001b[1;36m420567\u001b[0m\u001b[1m)\u001b[0m GROUP BY \u001b[32m\"books_book\"\u001b[0m.\u001b[32m\"id\"\u001b[0m, \u001b[32m\"books_person\"\u001b[0m.\u001b[32m\"id\"\u001b[0m ORDER BY \n",
       "\u001b[32m\"books_book\"\u001b[0m.\u001b[32m\"release_date\"\u001b[0m ASC, \u001b[32m\"books_book\"\u001b[0m.\u001b[32m\"id\"\u001b[0m ASC\n"
      ]
     },
     "metadata": {},
     "output_type": "display_data"
    },
    {
     "data": {
      "text/html": [
       "<pre style=\"white-space:pre;overflow-x:auto;line-height:normal;font-family:Menlo,'DejaVu Sans Mono',consolas,'Courier New',monospace\"><span style=\"font-weight: bold\">{</span>\n",
       "    <span style=\"color: #008000; text-decoration-color: #008000\">'id'</span>: <span style=\"color: #008080; text-decoration-color: #008080; font-weight: bold\">251127</span>,\n",
       "    <span style=\"color: #008000; text-decoration-color: #008000\">'title'</span>: <span style=\"color: #008000; text-decoration-color: #008000\">'Design care there six must keep on.'</span>,\n",
       "    <span style=\"color: #008000; text-decoration-color: #008000\">'release_date'</span>: <span style=\"color: #800080; text-decoration-color: #800080; font-weight: bold\">datetime.date</span><span style=\"font-weight: bold\">(</span><span style=\"color: #008080; text-decoration-color: #008080; font-weight: bold\">1923</span>, <span style=\"color: #008080; text-decoration-color: #008080; font-weight: bold\">5</span>, <span style=\"color: #008080; text-decoration-color: #008080; font-weight: bold\">31</span><span style=\"font-weight: bold\">)</span>,\n",
       "    <span style=\"color: #008000; text-decoration-color: #008000\">'library_id'</span>: <span style=\"color: #008080; text-decoration-color: #008080; font-weight: bold\">6</span>,\n",
       "    <span style=\"color: #008000; text-decoration-color: #008000\">'review_count'</span>: <span style=\"color: #008080; text-decoration-color: #008080; font-weight: bold\">10</span>,\n",
       "    <span style=\"color: #008000; text-decoration-color: #008000\">'tag_names'</span>: <span style=\"font-weight: bold\">[</span><span style=\"color: #008000; text-decoration-color: #008000\">'audio'</span>, <span style=\"color: #008000; text-decoration-color: #008000\">'braille'</span>, <span style=\"color: #008000; text-decoration-color: #008000\">'comics'</span>, <span style=\"color: #008000; text-decoration-color: #008000\">'movie'</span><span style=\"font-weight: bold\">]</span>,\n",
       "    <span style=\"color: #008000; text-decoration-color: #008000\">'author'</span>: <span style=\"font-weight: bold\">{</span><span style=\"color: #008000; text-decoration-color: #008000\">'id'</span>: <span style=\"color: #008080; text-decoration-color: #008080; font-weight: bold\">3454</span>, <span style=\"color: #008000; text-decoration-color: #008000\">'name'</span>: <span style=\"color: #008000; text-decoration-color: #008000\">'Charles Ingram'</span><span style=\"font-weight: bold\">}</span>\n",
       "<span style=\"font-weight: bold\">}</span>\n",
       "</pre>\n"
      ],
      "text/plain": [
       "\u001b[1m{\u001b[0m\n",
       "    \u001b[32m'id'\u001b[0m: \u001b[1;36m251127\u001b[0m,\n",
       "    \u001b[32m'title'\u001b[0m: \u001b[32m'Design care there six must keep on.'\u001b[0m,\n",
       "    \u001b[32m'release_date'\u001b[0m: \u001b[1;35mdatetime.date\u001b[0m\u001b[1m(\u001b[0m\u001b[1;36m1923\u001b[0m, \u001b[1;36m5\u001b[0m, \u001b[1;36m31\u001b[0m\u001b[1m)\u001b[0m,\n",
       "    \u001b[32m'library_id'\u001b[0m: \u001b[1;36m6\u001b[0m,\n",
       "    \u001b[32m'review_count'\u001b[0m: \u001b[1;36m10\u001b[0m,\n",
       "    \u001b[32m'tag_names'\u001b[0m: \u001b[1m[\u001b[0m\u001b[32m'audio'\u001b[0m, \u001b[32m'braille'\u001b[0m, \u001b[32m'comics'\u001b[0m, \u001b[32m'movie'\u001b[0m\u001b[1m]\u001b[0m,\n",
       "    \u001b[32m'author'\u001b[0m: \u001b[1m{\u001b[0m\u001b[32m'id'\u001b[0m: \u001b[1;36m3454\u001b[0m, \u001b[32m'name'\u001b[0m: \u001b[32m'Charles Ingram'\u001b[0m\u001b[1m}\u001b[0m\n",
       "\u001b[1m}\u001b[0m\n"
      ]
     },
     "metadata": {},
     "output_type": "display_data"
    }
   ],
   "source": [
    "with perf_counter(time_sql=True, print_sql=True):\n",
    "    qs = get_queryset_using_ids(alexandria_id)\n",
    "    qs = annotate_books_aggregate(qs)\n",
    "\n",
    "    result = serialize_books(qs)\n",
    "print(result[0])"
   ]
  },
  {
   "cell_type": "code",
   "execution_count": 16,
   "metadata": {},
   "outputs": [
    {
     "data": {
      "text/html": [
       "<pre style=\"white-space:pre;overflow-x:auto;line-height:normal;font-family:Menlo,'DejaVu Sans Mono',consolas,'Courier New',monospace\">Sort  <span style=\"font-weight: bold\">(</span><span style=\"color: #808000; text-decoration-color: #808000\">cost</span>=<span style=\"color: #008080; text-decoration-color: #008080; font-weight: bold\">1840.63</span>..<span style=\"color: #008080; text-decoration-color: #008080; font-weight: bold\">1842.13</span> <span style=\"color: #808000; text-decoration-color: #808000\">rows</span>=<span style=\"color: #008080; text-decoration-color: #008080; font-weight: bold\">600</span> <span style=\"color: #808000; text-decoration-color: #808000\">width</span>=<span style=\"color: #008080; text-decoration-color: #008080; font-weight: bold\">912</span><span style=\"font-weight: bold\">)</span> <span style=\"font-weight: bold\">(</span>actual <span style=\"color: #808000; text-decoration-color: #808000\">time</span>=<span style=\"color: #008080; text-decoration-color: #008080; font-weight: bold\">170.571</span>..<span style=\"color: #008080; text-decoration-color: #008080; font-weight: bold\">170.574</span> <span style=\"color: #808000; text-decoration-color: #808000\">rows</span>=<span style=\"color: #008080; text-decoration-color: #008080; font-weight: bold\">20</span> <span style=\"color: #808000; text-decoration-color: #808000\">loops</span>=<span style=\"color: #008080; text-decoration-color: #008080; font-weight: bold\">1</span><span style=\"font-weight: bold\">)</span>\n",
       "  Sort Key: books_book.release_date, books_book.id\n",
       "  Sort Method: quicksort  Memory: 51kB\n",
       "  -&gt;  GroupAggregate  <span style=\"font-weight: bold\">(</span><span style=\"color: #808000; text-decoration-color: #808000\">cost</span>=<span style=\"color: #008080; text-decoration-color: #008080; font-weight: bold\">91.06</span>..<span style=\"color: #008080; text-decoration-color: #008080; font-weight: bold\">1812.94</span> <span style=\"color: #808000; text-decoration-color: #808000\">rows</span>=<span style=\"color: #008080; text-decoration-color: #008080; font-weight: bold\">600</span> <span style=\"color: #808000; text-decoration-color: #808000\">width</span>=<span style=\"color: #008080; text-decoration-color: #008080; font-weight: bold\">912</span><span style=\"font-weight: bold\">)</span> <span style=\"font-weight: bold\">(</span>actual <span style=\"color: #808000; text-decoration-color: #808000\">time</span>=<span style=\"color: #008080; text-decoration-color: #008080; font-weight: bold\">0.372</span>..<span style=\"color: #008080; text-decoration-color: #008080; font-weight: bold\">170.515</span> <span style=\"color: #808000; text-decoration-color: #808000\">rows</span>=<span style=\"color: #008080; text-decoration-color: #008080; font-weight: bold\">20</span> <span style=\"color: #808000; text-decoration-color: #808000\">loops</span>=<span style=\"color: #008080; text-decoration-color: #008080; font-weight: bold\">1</span><span style=\"font-weight: bold\">)</span>\n",
       "        Group Key: books_book.id, books_person.id\n",
       "        -&gt;  Incremental Sort  <span style=\"font-weight: bold\">(</span><span style=\"color: #808000; text-decoration-color: #808000\">cost</span>=<span style=\"color: #008080; text-decoration-color: #008080; font-weight: bold\">91.06</span>..<span style=\"color: #008080; text-decoration-color: #008080; font-weight: bold\">1799.44</span> <span style=\"color: #808000; text-decoration-color: #808000\">rows</span>=<span style=\"color: #008080; text-decoration-color: #008080; font-weight: bold\">600</span> <span style=\"color: #808000; text-decoration-color: #808000\">width</span>=<span style=\"color: #008080; text-decoration-color: #008080; font-weight: bold\">886</span><span style=\"font-weight: bold\">)</span> <span style=\"font-weight: bold\">(</span>actual <span style=\"color: #808000; text-decoration-color: #808000\">time</span>=<span style=\"color: #008080; text-decoration-color: #008080; font-weight: bold\">0.317</span>..<span style=\"color: #008080; text-decoration-color: #008080; font-weight: bold\">155.780</span> <span style=\"color: #808000; text-decoration-color: #808000\">rows</span>=<span style=\"color: #008080; text-decoration-color: #008080; font-weight: bold\">20662</span> \n",
       "<span style=\"color: #808000; text-decoration-color: #808000\">loops</span>=<span style=\"color: #008080; text-decoration-color: #008080; font-weight: bold\">1</span><span style=\"font-weight: bold\">)</span>\n",
       "              Sort Key: books_book.id, books_person.id\n",
       "              Presorted Key: books_book.id\n",
       "              Full-sort Groups: <span style=\"color: #008080; text-decoration-color: #008080; font-weight: bold\">12</span>  Sort Method: quicksort  Average Memory: 109kB  Peak Memory: 115kB\n",
       "              Pre-sorted Groups: <span style=\"color: #008080; text-decoration-color: #008080; font-weight: bold\">5</span>  Sort Methods: quicksort, external merge  Average Memory: 58kB  Peak Memory: \n",
       "79kB  Average Disk: 2665kB  Peak Disk: 13328kB\n",
       "              -&gt;  Nested Loop Left Join  <span style=\"font-weight: bold\">(</span><span style=\"color: #808000; text-decoration-color: #808000\">cost</span>=<span style=\"color: #008080; text-decoration-color: #008080; font-weight: bold\">1.60</span>..<span style=\"color: #008080; text-decoration-color: #008080; font-weight: bold\">1766.08</span> <span style=\"color: #808000; text-decoration-color: #808000\">rows</span>=<span style=\"color: #008080; text-decoration-color: #008080; font-weight: bold\">600</span> <span style=\"color: #808000; text-decoration-color: #808000\">width</span>=<span style=\"color: #008080; text-decoration-color: #008080; font-weight: bold\">886</span><span style=\"font-weight: bold\">)</span> <span style=\"font-weight: bold\">(</span>actual <span style=\"color: #808000; text-decoration-color: #808000\">time</span>=<span style=\"color: #008080; text-decoration-color: #008080; font-weight: bold\">0.132</span>..<span style=\"color: #008080; text-decoration-color: #008080; font-weight: bold\">94.851</span> \n",
       "<span style=\"color: #808000; text-decoration-color: #808000\">rows</span>=<span style=\"color: #008080; text-decoration-color: #008080; font-weight: bold\">20662</span> <span style=\"color: #808000; text-decoration-color: #808000\">loops</span>=<span style=\"color: #008080; text-decoration-color: #008080; font-weight: bold\">1</span><span style=\"font-weight: bold\">)</span>\n",
       "                    -&gt;  Nested Loop Left Join  <span style=\"font-weight: bold\">(</span><span style=\"color: #808000; text-decoration-color: #808000\">cost</span>=<span style=\"color: #008080; text-decoration-color: #008080; font-weight: bold\">1.16</span>..<span style=\"color: #008080; text-decoration-color: #008080; font-weight: bold\">1558.89</span> <span style=\"color: #808000; text-decoration-color: #808000\">rows</span>=<span style=\"color: #008080; text-decoration-color: #008080; font-weight: bold\">200</span> <span style=\"color: #808000; text-decoration-color: #808000\">width</span>=<span style=\"color: #008080; text-decoration-color: #008080; font-weight: bold\">880</span><span style=\"font-weight: bold\">)</span> <span style=\"font-weight: bold\">(</span>actual <span style=\"color: #808000; text-decoration-color: #808000\">time</span>=<span style=\"color: #008080; text-decoration-color: #008080; font-weight: bold\">0.099</span>..<span style=\"color: #008080; text-decoration-color: #008080; font-weight: bold\">74.596</span> \n",
       "<span style=\"color: #808000; text-decoration-color: #808000\">rows</span>=<span style=\"color: #008080; text-decoration-color: #008080; font-weight: bold\">20281</span> <span style=\"color: #808000; text-decoration-color: #808000\">loops</span>=<span style=\"color: #008080; text-decoration-color: #008080; font-weight: bold\">1</span><span style=\"font-weight: bold\">)</span>\n",
       "                          -&gt;  Nested Loop  <span style=\"font-weight: bold\">(</span><span style=\"color: #808000; text-decoration-color: #808000\">cost</span>=<span style=\"color: #008080; text-decoration-color: #008080; font-weight: bold\">0.72</span>..<span style=\"color: #008080; text-decoration-color: #008080; font-weight: bold\">251.46</span> <span style=\"color: #808000; text-decoration-color: #808000\">rows</span>=<span style=\"color: #008080; text-decoration-color: #008080; font-weight: bold\">20</span> <span style=\"color: #808000; text-decoration-color: #808000\">width</span>=<span style=\"color: #008080; text-decoration-color: #008080; font-weight: bold\">872</span><span style=\"font-weight: bold\">)</span> <span style=\"font-weight: bold\">(</span>actual <span style=\"color: #808000; text-decoration-color: #808000\">time</span>=<span style=\"color: #008080; text-decoration-color: #008080; font-weight: bold\">0.071</span>..<span style=\"color: #008080; text-decoration-color: #008080; font-weight: bold\">0.576</span> <span style=\"color: #808000; text-decoration-color: #808000\">rows</span>=<span style=\"color: #008080; text-decoration-color: #008080; font-weight: bold\">20</span> \n",
       "<span style=\"color: #808000; text-decoration-color: #808000\">loops</span>=<span style=\"color: #008080; text-decoration-color: #008080; font-weight: bold\">1</span><span style=\"font-weight: bold\">)</span>\n",
       "                                -&gt;  Index Scan using books_book_pkey on books_book  <span style=\"font-weight: bold\">(</span><span style=\"color: #808000; text-decoration-color: #808000\">cost</span>=<span style=\"color: #008080; text-decoration-color: #008080; font-weight: bold\">0.43</span>..<span style=\"color: #008080; text-decoration-color: #008080; font-weight: bold\">93.36</span> <span style=\"color: #808000; text-decoration-color: #808000\">rows</span>=<span style=\"color: #008080; text-decoration-color: #008080; font-weight: bold\">20</span> \n",
       "<span style=\"color: #808000; text-decoration-color: #808000\">width</span>=<span style=\"color: #008080; text-decoration-color: #008080; font-weight: bold\">91</span><span style=\"font-weight: bold\">)</span> <span style=\"font-weight: bold\">(</span>actual <span style=\"color: #808000; text-decoration-color: #808000\">time</span>=<span style=\"color: #008080; text-decoration-color: #008080; font-weight: bold\">0.042</span>..<span style=\"color: #008080; text-decoration-color: #008080; font-weight: bold\">0.343</span> <span style=\"color: #808000; text-decoration-color: #808000\">rows</span>=<span style=\"color: #008080; text-decoration-color: #008080; font-weight: bold\">20</span> <span style=\"color: #808000; text-decoration-color: #808000\">loops</span>=<span style=\"color: #008080; text-decoration-color: #008080; font-weight: bold\">1</span><span style=\"font-weight: bold\">)</span>\n",
       "                                      Index Cond: <span style=\"font-weight: bold\">(</span>id = ANY \n",
       "<span style=\"font-weight: bold\">(</span><span style=\"color: #008000; text-decoration-color: #008000\">'{251127,359638,1156714,1213190,1402817,303340,645062,712181,912196,1345919,344098,821709,1976681,183742,278596,71</span>\n",
       "<span style=\"color: #008000; text-decoration-color: #008000\">0710,17364,76125,148950,420567}'</span>::bigint<span style=\"font-weight: bold\">[]))</span>\n",
       "                                -&gt;  Index Scan using books_person_pkey on books_person  <span style=\"font-weight: bold\">(</span><span style=\"color: #808000; text-decoration-color: #808000\">cost</span>=<span style=\"color: #008080; text-decoration-color: #008080; font-weight: bold\">0.29</span>..<span style=\"color: #008080; text-decoration-color: #008080; font-weight: bold\">7.90</span> <span style=\"color: #808000; text-decoration-color: #808000\">rows</span>=<span style=\"color: #008080; text-decoration-color: #008080; font-weight: bold\">1</span> \n",
       "<span style=\"color: #808000; text-decoration-color: #808000\">width</span>=<span style=\"color: #008080; text-decoration-color: #008080; font-weight: bold\">781</span><span style=\"font-weight: bold\">)</span> <span style=\"font-weight: bold\">(</span>actual <span style=\"color: #808000; text-decoration-color: #808000\">time</span>=<span style=\"color: #008080; text-decoration-color: #008080; font-weight: bold\">0.010</span>..<span style=\"color: #008080; text-decoration-color: #008080; font-weight: bold\">0.010</span> <span style=\"color: #808000; text-decoration-color: #808000\">rows</span>=<span style=\"color: #008080; text-decoration-color: #008080; font-weight: bold\">1</span> <span style=\"color: #808000; text-decoration-color: #808000\">loops</span>=<span style=\"color: #008080; text-decoration-color: #008080; font-weight: bold\">20</span><span style=\"font-weight: bold\">)</span>\n",
       "                                      Index Cond: <span style=\"font-weight: bold\">(</span>id = books_book.author_id<span style=\"font-weight: bold\">)</span>\n",
       "                          -&gt;  Index Scan using books_review_book_id_a67a4c60 on books_review  <span style=\"font-weight: bold\">(</span><span style=\"color: #808000; text-decoration-color: #808000\">cost</span>=<span style=\"color: #008080; text-decoration-color: #008080; font-weight: bold\">0.44</span>..<span style=\"color: #008080; text-decoration-color: #008080; font-weight: bold\">61.99</span> \n",
       "<span style=\"color: #808000; text-decoration-color: #808000\">rows</span>=<span style=\"color: #008080; text-decoration-color: #008080; font-weight: bold\">338</span> <span style=\"color: #808000; text-decoration-color: #808000\">width</span>=<span style=\"color: #008080; text-decoration-color: #008080; font-weight: bold\">16</span><span style=\"font-weight: bold\">)</span> <span style=\"font-weight: bold\">(</span>actual <span style=\"color: #808000; text-decoration-color: #808000\">time</span>=<span style=\"color: #008080; text-decoration-color: #008080; font-weight: bold\">0.016</span>..<span style=\"color: #008080; text-decoration-color: #008080; font-weight: bold\">3.373</span> <span style=\"color: #808000; text-decoration-color: #808000\">rows</span>=<span style=\"color: #008080; text-decoration-color: #008080; font-weight: bold\">1014</span> <span style=\"color: #808000; text-decoration-color: #808000\">loops</span>=<span style=\"color: #008080; text-decoration-color: #008080; font-weight: bold\">20</span><span style=\"font-weight: bold\">)</span>\n",
       "                                Index Cond: <span style=\"font-weight: bold\">(</span>book_id = books_book.id<span style=\"font-weight: bold\">)</span>\n",
       "                    -&gt;  Memoize  <span style=\"font-weight: bold\">(</span><span style=\"color: #808000; text-decoration-color: #808000\">cost</span>=<span style=\"color: #008080; text-decoration-color: #008080; font-weight: bold\">0.45</span>..<span style=\"color: #008080; text-decoration-color: #008080; font-weight: bold\">8.73</span> <span style=\"color: #808000; text-decoration-color: #808000\">rows</span>=<span style=\"color: #008080; text-decoration-color: #008080; font-weight: bold\">9</span> <span style=\"color: #808000; text-decoration-color: #808000\">width</span>=<span style=\"color: #008080; text-decoration-color: #008080; font-weight: bold\">14</span><span style=\"font-weight: bold\">)</span> <span style=\"font-weight: bold\">(</span>actual <span style=\"color: #808000; text-decoration-color: #808000\">time</span>=<span style=\"color: #008080; text-decoration-color: #008080; font-weight: bold\">0.000</span>..<span style=\"color: #008080; text-decoration-color: #008080; font-weight: bold\">0.000</span> <span style=\"color: #808000; text-decoration-color: #808000\">rows</span>=<span style=\"color: #008080; text-decoration-color: #008080; font-weight: bold\">1</span> <span style=\"color: #808000; text-decoration-color: #808000\">loops</span>=<span style=\"color: #008080; text-decoration-color: #008080; font-weight: bold\">20281</span><span style=\"font-weight: bold\">)</span>\n",
       "                          Cache Key: books_book.id\n",
       "                          Cache Mode: logical\n",
       "                          Hits: <span style=\"color: #008080; text-decoration-color: #008080; font-weight: bold\">20261</span>  Misses: <span style=\"color: #008080; text-decoration-color: #008080; font-weight: bold\">20</span>  Evictions: <span style=\"color: #008080; text-decoration-color: #008080; font-weight: bold\">0</span>  Overflows: <span style=\"color: #008080; text-decoration-color: #008080; font-weight: bold\">0</span>  Memory Usage: 5kB\n",
       "                          -&gt;  Index Scan using books_booktag_book_id_361012b4 on books_booktag  <span style=\"font-weight: bold\">(</span><span style=\"color: #808000; text-decoration-color: #808000\">cost</span>=<span style=\"color: #008080; text-decoration-color: #008080; font-weight: bold\">0.43</span>..<span style=\"color: #008080; text-decoration-color: #008080; font-weight: bold\">8.72</span> \n",
       "<span style=\"color: #808000; text-decoration-color: #808000\">rows</span>=<span style=\"color: #008080; text-decoration-color: #008080; font-weight: bold\">9</span> <span style=\"color: #808000; text-decoration-color: #808000\">width</span>=<span style=\"color: #008080; text-decoration-color: #008080; font-weight: bold\">14</span><span style=\"font-weight: bold\">)</span> <span style=\"font-weight: bold\">(</span>actual <span style=\"color: #808000; text-decoration-color: #808000\">time</span>=<span style=\"color: #008080; text-decoration-color: #008080; font-weight: bold\">0.014</span>..<span style=\"color: #008080; text-decoration-color: #008080; font-weight: bold\">0.016</span> <span style=\"color: #808000; text-decoration-color: #808000\">rows</span>=<span style=\"color: #008080; text-decoration-color: #008080; font-weight: bold\">3</span> <span style=\"color: #808000; text-decoration-color: #808000\">loops</span>=<span style=\"color: #008080; text-decoration-color: #008080; font-weight: bold\">20</span><span style=\"font-weight: bold\">)</span>\n",
       "                                Index Cond: <span style=\"font-weight: bold\">(</span>book_id = books_book.id<span style=\"font-weight: bold\">)</span>\n",
       "Planning Time: <span style=\"color: #008080; text-decoration-color: #008080; font-weight: bold\">1.656</span> ms\n",
       "Execution Time: <span style=\"color: #008080; text-decoration-color: #008080; font-weight: bold\">174.037</span> ms\n",
       "</pre>\n"
      ],
      "text/plain": [
       "Sort  \u001b[1m(\u001b[0m\u001b[33mcost\u001b[0m=\u001b[1;36m1840\u001b[0m\u001b[1;36m.63\u001b[0m..\u001b[1;36m1842.13\u001b[0m \u001b[33mrows\u001b[0m=\u001b[1;36m600\u001b[0m \u001b[33mwidth\u001b[0m=\u001b[1;36m912\u001b[0m\u001b[1m)\u001b[0m \u001b[1m(\u001b[0mactual \u001b[33mtime\u001b[0m=\u001b[1;36m170\u001b[0m\u001b[1;36m.571\u001b[0m..\u001b[1;36m170.574\u001b[0m \u001b[33mrows\u001b[0m=\u001b[1;36m20\u001b[0m \u001b[33mloops\u001b[0m=\u001b[1;36m1\u001b[0m\u001b[1m)\u001b[0m\n",
       "  Sort Key: books_book.release_date, books_book.id\n",
       "  Sort Method: quicksort  Memory: 51kB\n",
       "  ->  GroupAggregate  \u001b[1m(\u001b[0m\u001b[33mcost\u001b[0m=\u001b[1;36m91\u001b[0m\u001b[1;36m.06\u001b[0m..\u001b[1;36m1812.94\u001b[0m \u001b[33mrows\u001b[0m=\u001b[1;36m600\u001b[0m \u001b[33mwidth\u001b[0m=\u001b[1;36m912\u001b[0m\u001b[1m)\u001b[0m \u001b[1m(\u001b[0mactual \u001b[33mtime\u001b[0m=\u001b[1;36m0\u001b[0m\u001b[1;36m.372\u001b[0m..\u001b[1;36m170.515\u001b[0m \u001b[33mrows\u001b[0m=\u001b[1;36m20\u001b[0m \u001b[33mloops\u001b[0m=\u001b[1;36m1\u001b[0m\u001b[1m)\u001b[0m\n",
       "        Group Key: books_book.id, books_person.id\n",
       "        ->  Incremental Sort  \u001b[1m(\u001b[0m\u001b[33mcost\u001b[0m=\u001b[1;36m91\u001b[0m\u001b[1;36m.06\u001b[0m..\u001b[1;36m1799.44\u001b[0m \u001b[33mrows\u001b[0m=\u001b[1;36m600\u001b[0m \u001b[33mwidth\u001b[0m=\u001b[1;36m886\u001b[0m\u001b[1m)\u001b[0m \u001b[1m(\u001b[0mactual \u001b[33mtime\u001b[0m=\u001b[1;36m0\u001b[0m\u001b[1;36m.317\u001b[0m..\u001b[1;36m155.780\u001b[0m \u001b[33mrows\u001b[0m=\u001b[1;36m20662\u001b[0m \n",
       "\u001b[33mloops\u001b[0m=\u001b[1;36m1\u001b[0m\u001b[1m)\u001b[0m\n",
       "              Sort Key: books_book.id, books_person.id\n",
       "              Presorted Key: books_book.id\n",
       "              Full-sort Groups: \u001b[1;36m12\u001b[0m  Sort Method: quicksort  Average Memory: 109kB  Peak Memory: 115kB\n",
       "              Pre-sorted Groups: \u001b[1;36m5\u001b[0m  Sort Methods: quicksort, external merge  Average Memory: 58kB  Peak Memory: \n",
       "79kB  Average Disk: 2665kB  Peak Disk: 13328kB\n",
       "              ->  Nested Loop Left Join  \u001b[1m(\u001b[0m\u001b[33mcost\u001b[0m=\u001b[1;36m1\u001b[0m\u001b[1;36m.60\u001b[0m..\u001b[1;36m1766.08\u001b[0m \u001b[33mrows\u001b[0m=\u001b[1;36m600\u001b[0m \u001b[33mwidth\u001b[0m=\u001b[1;36m886\u001b[0m\u001b[1m)\u001b[0m \u001b[1m(\u001b[0mactual \u001b[33mtime\u001b[0m=\u001b[1;36m0\u001b[0m\u001b[1;36m.132\u001b[0m..\u001b[1;36m94.851\u001b[0m \n",
       "\u001b[33mrows\u001b[0m=\u001b[1;36m20662\u001b[0m \u001b[33mloops\u001b[0m=\u001b[1;36m1\u001b[0m\u001b[1m)\u001b[0m\n",
       "                    ->  Nested Loop Left Join  \u001b[1m(\u001b[0m\u001b[33mcost\u001b[0m=\u001b[1;36m1\u001b[0m\u001b[1;36m.16\u001b[0m..\u001b[1;36m1558.89\u001b[0m \u001b[33mrows\u001b[0m=\u001b[1;36m200\u001b[0m \u001b[33mwidth\u001b[0m=\u001b[1;36m880\u001b[0m\u001b[1m)\u001b[0m \u001b[1m(\u001b[0mactual \u001b[33mtime\u001b[0m=\u001b[1;36m0\u001b[0m\u001b[1;36m.099\u001b[0m..\u001b[1;36m74.596\u001b[0m \n",
       "\u001b[33mrows\u001b[0m=\u001b[1;36m20281\u001b[0m \u001b[33mloops\u001b[0m=\u001b[1;36m1\u001b[0m\u001b[1m)\u001b[0m\n",
       "                          ->  Nested Loop  \u001b[1m(\u001b[0m\u001b[33mcost\u001b[0m=\u001b[1;36m0\u001b[0m\u001b[1;36m.72\u001b[0m..\u001b[1;36m251.46\u001b[0m \u001b[33mrows\u001b[0m=\u001b[1;36m20\u001b[0m \u001b[33mwidth\u001b[0m=\u001b[1;36m872\u001b[0m\u001b[1m)\u001b[0m \u001b[1m(\u001b[0mactual \u001b[33mtime\u001b[0m=\u001b[1;36m0\u001b[0m\u001b[1;36m.071\u001b[0m..\u001b[1;36m0.576\u001b[0m \u001b[33mrows\u001b[0m=\u001b[1;36m20\u001b[0m \n",
       "\u001b[33mloops\u001b[0m=\u001b[1;36m1\u001b[0m\u001b[1m)\u001b[0m\n",
       "                                ->  Index Scan using books_book_pkey on books_book  \u001b[1m(\u001b[0m\u001b[33mcost\u001b[0m=\u001b[1;36m0\u001b[0m\u001b[1;36m.43\u001b[0m..\u001b[1;36m93.36\u001b[0m \u001b[33mrows\u001b[0m=\u001b[1;36m20\u001b[0m \n",
       "\u001b[33mwidth\u001b[0m=\u001b[1;36m91\u001b[0m\u001b[1m)\u001b[0m \u001b[1m(\u001b[0mactual \u001b[33mtime\u001b[0m=\u001b[1;36m0\u001b[0m\u001b[1;36m.042\u001b[0m..\u001b[1;36m0.343\u001b[0m \u001b[33mrows\u001b[0m=\u001b[1;36m20\u001b[0m \u001b[33mloops\u001b[0m=\u001b[1;36m1\u001b[0m\u001b[1m)\u001b[0m\n",
       "                                      Index Cond: \u001b[1m(\u001b[0mid = ANY \n",
       "\u001b[1m(\u001b[0m\u001b[32m'\u001b[0m\u001b[32m{\u001b[0m\u001b[32m251127,359638,1156714,1213190,1402817,303340,645062,712181,912196,1345919,344098,821709,1976681,183742,278596,71\u001b[0m\n",
       "\u001b[32m0710,17364,76125,148950,420567\u001b[0m\u001b[32m}\u001b[0m\u001b[32m'\u001b[0m::bigint\u001b[1m[\u001b[0m\u001b[1m]\u001b[0m\u001b[1m)\u001b[0m\u001b[1m)\u001b[0m\n",
       "                                ->  Index Scan using books_person_pkey on books_person  \u001b[1m(\u001b[0m\u001b[33mcost\u001b[0m=\u001b[1;36m0\u001b[0m\u001b[1;36m.29\u001b[0m..\u001b[1;36m7.90\u001b[0m \u001b[33mrows\u001b[0m=\u001b[1;36m1\u001b[0m \n",
       "\u001b[33mwidth\u001b[0m=\u001b[1;36m781\u001b[0m\u001b[1m)\u001b[0m \u001b[1m(\u001b[0mactual \u001b[33mtime\u001b[0m=\u001b[1;36m0\u001b[0m\u001b[1;36m.010\u001b[0m..\u001b[1;36m0.010\u001b[0m \u001b[33mrows\u001b[0m=\u001b[1;36m1\u001b[0m \u001b[33mloops\u001b[0m=\u001b[1;36m20\u001b[0m\u001b[1m)\u001b[0m\n",
       "                                      Index Cond: \u001b[1m(\u001b[0mid = books_book.author_id\u001b[1m)\u001b[0m\n",
       "                          ->  Index Scan using books_review_book_id_a67a4c60 on books_review  \u001b[1m(\u001b[0m\u001b[33mcost\u001b[0m=\u001b[1;36m0\u001b[0m\u001b[1;36m.44\u001b[0m..\u001b[1;36m61.99\u001b[0m \n",
       "\u001b[33mrows\u001b[0m=\u001b[1;36m338\u001b[0m \u001b[33mwidth\u001b[0m=\u001b[1;36m16\u001b[0m\u001b[1m)\u001b[0m \u001b[1m(\u001b[0mactual \u001b[33mtime\u001b[0m=\u001b[1;36m0\u001b[0m\u001b[1;36m.016\u001b[0m..\u001b[1;36m3.373\u001b[0m \u001b[33mrows\u001b[0m=\u001b[1;36m1014\u001b[0m \u001b[33mloops\u001b[0m=\u001b[1;36m20\u001b[0m\u001b[1m)\u001b[0m\n",
       "                                Index Cond: \u001b[1m(\u001b[0mbook_id = books_book.id\u001b[1m)\u001b[0m\n",
       "                    ->  Memoize  \u001b[1m(\u001b[0m\u001b[33mcost\u001b[0m=\u001b[1;36m0\u001b[0m\u001b[1;36m.45\u001b[0m..\u001b[1;36m8.73\u001b[0m \u001b[33mrows\u001b[0m=\u001b[1;36m9\u001b[0m \u001b[33mwidth\u001b[0m=\u001b[1;36m14\u001b[0m\u001b[1m)\u001b[0m \u001b[1m(\u001b[0mactual \u001b[33mtime\u001b[0m=\u001b[1;36m0\u001b[0m\u001b[1;36m.000\u001b[0m..\u001b[1;36m0.000\u001b[0m \u001b[33mrows\u001b[0m=\u001b[1;36m1\u001b[0m \u001b[33mloops\u001b[0m=\u001b[1;36m20281\u001b[0m\u001b[1m)\u001b[0m\n",
       "                          Cache Key: books_book.id\n",
       "                          Cache Mode: logical\n",
       "                          Hits: \u001b[1;36m20261\u001b[0m  Misses: \u001b[1;36m20\u001b[0m  Evictions: \u001b[1;36m0\u001b[0m  Overflows: \u001b[1;36m0\u001b[0m  Memory Usage: 5kB\n",
       "                          ->  Index Scan using books_booktag_book_id_361012b4 on books_booktag  \u001b[1m(\u001b[0m\u001b[33mcost\u001b[0m=\u001b[1;36m0\u001b[0m\u001b[1;36m.43\u001b[0m..\u001b[1;36m8.72\u001b[0m \n",
       "\u001b[33mrows\u001b[0m=\u001b[1;36m9\u001b[0m \u001b[33mwidth\u001b[0m=\u001b[1;36m14\u001b[0m\u001b[1m)\u001b[0m \u001b[1m(\u001b[0mactual \u001b[33mtime\u001b[0m=\u001b[1;36m0\u001b[0m\u001b[1;36m.014\u001b[0m..\u001b[1;36m0.016\u001b[0m \u001b[33mrows\u001b[0m=\u001b[1;36m3\u001b[0m \u001b[33mloops\u001b[0m=\u001b[1;36m20\u001b[0m\u001b[1m)\u001b[0m\n",
       "                                Index Cond: \u001b[1m(\u001b[0mbook_id = books_book.id\u001b[1m)\u001b[0m\n",
       "Planning Time: \u001b[1;36m1.656\u001b[0m ms\n",
       "Execution Time: \u001b[1;36m174.037\u001b[0m ms\n"
      ]
     },
     "metadata": {},
     "output_type": "display_data"
    }
   ],
   "source": [
    "qs = get_queryset_using_ids(alexandria_id)\n",
    "qs = annotate_books_aggregate(qs)\n",
    "result = qs.explain(analyze=True)\n",
    "\n",
    "print(result)"
   ]
  },
  {
   "attachments": {},
   "cell_type": "markdown",
   "metadata": {},
   "source": [
    "Another try: Instead of using aggregation (with a `GROUP BY` clause), can use subqueries.\n"
   ]
  },
  {
   "cell_type": "code",
   "execution_count": 17,
   "metadata": {},
   "outputs": [],
   "source": [
    "from django.contrib.postgres.expressions import ArraySubquery\n",
    "from django.db.models import Count, OuterRef, QuerySet\n",
    "from django.db.models.functions import Coalesce\n",
    "\n",
    "from books.models import Book, BookTag, Review\n",
    "\n",
    "\n",
    "def annotate_books_subquery(book_qs: QuerySet[Book]):\n",
    "    return book_qs.annotate(\n",
    "        review_count=Coalesce(\n",
    "            Review.objects.filter(book_id=OuterRef(\"id\"))\n",
    "            .values(\"book_id\")\n",
    "            .annotate(count=Count(\"id\", distinct=True))\n",
    "            .values(\"count\"),\n",
    "            0,\n",
    "        ),\n",
    "        tag_names=ArraySubquery(\n",
    "            BookTag.objects.filter(book_id=OuterRef(\"id\")).values(\"name\")\n",
    "        ),\n",
    "    )\n"
   ]
  },
  {
   "cell_type": "code",
   "execution_count": 18,
   "metadata": {},
   "outputs": [
    {
     "data": {
      "text/html": [
       "<pre style=\"white-space:pre;overflow-x:auto;line-height:normal;font-family:Menlo,'DejaVu Sans Mono',consolas,'Courier New',monospace\">Duration\n",
       "  Total: <span style=\"color: #008080; text-decoration-color: #008080; font-weight: bold\">0.33</span>\n",
       "  SQL: <span style=\"color: #008080; text-decoration-color: #008080; font-weight: bold\">0.32</span> \n",
       "\n",
       "      <span style=\"font-weight: bold\">(</span>duration: <span style=\"color: #008080; text-decoration-color: #008080; font-weight: bold\">0.253</span><span style=\"font-weight: bold\">)</span>   SELECT <span style=\"color: #008000; text-decoration-color: #008000\">\"books_book\"</span>.<span style=\"color: #008000; text-decoration-color: #008000\">\"id\"</span> FROM <span style=\"color: #008000; text-decoration-color: #008000\">\"books_book\"</span> WHERE <span style=\"color: #008000; text-decoration-color: #008000\">\"books_book\"</span>.<span style=\"color: #008000; text-decoration-color: #008000\">\"library_id\"</span> = <span style=\"color: #008080; text-decoration-color: #008080; font-weight: bold\">6</span> ORDER BY \n",
       "<span style=\"color: #008000; text-decoration-color: #008000\">\"books_book\"</span>.<span style=\"color: #008000; text-decoration-color: #008000\">\"release_date\"</span> ASC, <span style=\"color: #008000; text-decoration-color: #008000\">\"books_book\"</span>.<span style=\"color: #008000; text-decoration-color: #008000\">\"id\"</span> ASC LIMIT <span style=\"color: #008080; text-decoration-color: #008080; font-weight: bold\">20</span> \n",
       "\n",
       "      <span style=\"font-weight: bold\">(</span>duration: <span style=\"color: #008080; text-decoration-color: #008080; font-weight: bold\">0.067</span><span style=\"font-weight: bold\">)</span>   SELECT <span style=\"color: #008000; text-decoration-color: #008000\">\"books_book\"</span>.<span style=\"color: #008000; text-decoration-color: #008000\">\"id\"</span>, <span style=\"color: #008000; text-decoration-color: #008000\">\"books_book\"</span>.<span style=\"color: #008000; text-decoration-color: #008000\">\"title\"</span>, <span style=\"color: #008000; text-decoration-color: #008000\">\"books_book\"</span>.<span style=\"color: #008000; text-decoration-color: #008000\">\"author_id\"</span>, \n",
       "<span style=\"color: #008000; text-decoration-color: #008000\">\"books_book\"</span>.<span style=\"color: #008000; text-decoration-color: #008000\">\"release_date\"</span>, <span style=\"color: #008000; text-decoration-color: #008000\">\"books_book\"</span>.<span style=\"color: #008000; text-decoration-color: #008000\">\"library_id\"</span>, <span style=\"color: #800080; text-decoration-color: #800080; font-weight: bold\">COALESCE</span><span style=\"font-weight: bold\">((</span>SELECT <span style=\"color: #800080; text-decoration-color: #800080; font-weight: bold\">COUNT</span><span style=\"font-weight: bold\">(</span>DISTINCT U0.<span style=\"color: #008000; text-decoration-color: #008000\">\"id\"</span><span style=\"font-weight: bold\">)</span> AS <span style=\"color: #008000; text-decoration-color: #008000\">\"count\"</span> FROM \n",
       "<span style=\"color: #008000; text-decoration-color: #008000\">\"books_review\"</span> U0 WHERE U0.<span style=\"color: #008000; text-decoration-color: #008000\">\"book_id\"</span> = <span style=\"font-weight: bold\">(</span><span style=\"color: #008000; text-decoration-color: #008000\">\"books_book\"</span>.<span style=\"color: #008000; text-decoration-color: #008000\">\"id\"</span><span style=\"font-weight: bold\">)</span> GROUP BY U0.<span style=\"color: #008000; text-decoration-color: #008000\">\"book_id\"</span><span style=\"font-weight: bold\">)</span>, <span style=\"color: #008080; text-decoration-color: #008080; font-weight: bold\">0</span><span style=\"font-weight: bold\">)</span> AS <span style=\"color: #008000; text-decoration-color: #008000\">\"review_count\"</span>, \n",
       "<span style=\"color: #800080; text-decoration-color: #800080; font-weight: bold\">ARRAY</span><span style=\"font-weight: bold\">(</span>SELECT U0.<span style=\"color: #008000; text-decoration-color: #008000\">\"name\"</span> FROM <span style=\"color: #008000; text-decoration-color: #008000\">\"books_booktag\"</span> U0 WHERE U0.<span style=\"color: #008000; text-decoration-color: #008000\">\"book_id\"</span> = <span style=\"font-weight: bold\">(</span><span style=\"color: #008000; text-decoration-color: #008000\">\"books_book\"</span>.<span style=\"color: #008000; text-decoration-color: #008000\">\"id\"</span><span style=\"font-weight: bold\">))</span> AS <span style=\"color: #008000; text-decoration-color: #008000\">\"tag_names\"</span>, \n",
       "<span style=\"color: #008000; text-decoration-color: #008000\">\"books_person\"</span>.<span style=\"color: #008000; text-decoration-color: #008000\">\"id\"</span>, <span style=\"color: #008000; text-decoration-color: #008000\">\"books_person\"</span>.<span style=\"color: #008000; text-decoration-color: #008000\">\"email\"</span>, <span style=\"color: #008000; text-decoration-color: #008000\">\"books_person\"</span>.<span style=\"color: #008000; text-decoration-color: #008000\">\"name\"</span>, <span style=\"color: #008000; text-decoration-color: #008000\">\"books_person\"</span>.<span style=\"color: #008000; text-decoration-color: #008000\">\"bio\"</span> FROM <span style=\"color: #008000; text-decoration-color: #008000\">\"books_book\"</span> INNER \n",
       "JOIN <span style=\"color: #008000; text-decoration-color: #008000\">\"books_person\"</span> ON <span style=\"font-weight: bold\">(</span><span style=\"color: #008000; text-decoration-color: #008000\">\"books_book\"</span>.<span style=\"color: #008000; text-decoration-color: #008000\">\"author_id\"</span> = <span style=\"color: #008000; text-decoration-color: #008000\">\"books_person\"</span>.<span style=\"color: #008000; text-decoration-color: #008000\">\"id\"</span><span style=\"font-weight: bold\">)</span> WHERE <span style=\"color: #008000; text-decoration-color: #008000\">\"books_book\"</span>.<span style=\"color: #008000; text-decoration-color: #008000\">\"id\"</span> IN <span style=\"font-weight: bold\">(</span><span style=\"color: #008080; text-decoration-color: #008080; font-weight: bold\">251127</span>, <span style=\"color: #008080; text-decoration-color: #008080; font-weight: bold\">359638</span>,\n",
       "<span style=\"color: #008080; text-decoration-color: #008080; font-weight: bold\">1156714</span>, <span style=\"color: #008080; text-decoration-color: #008080; font-weight: bold\">1213190</span>, <span style=\"color: #008080; text-decoration-color: #008080; font-weight: bold\">1402817</span>, <span style=\"color: #008080; text-decoration-color: #008080; font-weight: bold\">303340</span>, <span style=\"color: #008080; text-decoration-color: #008080; font-weight: bold\">645062</span>, <span style=\"color: #008080; text-decoration-color: #008080; font-weight: bold\">712181</span>, <span style=\"color: #008080; text-decoration-color: #008080; font-weight: bold\">912196</span>, <span style=\"color: #008080; text-decoration-color: #008080; font-weight: bold\">1345919</span>, <span style=\"color: #008080; text-decoration-color: #008080; font-weight: bold\">344098</span>, <span style=\"color: #008080; text-decoration-color: #008080; font-weight: bold\">821709</span>, <span style=\"color: #008080; text-decoration-color: #008080; font-weight: bold\">1976681</span>, <span style=\"color: #008080; text-decoration-color: #008080; font-weight: bold\">183742</span>, <span style=\"color: #008080; text-decoration-color: #008080; font-weight: bold\">278596</span>, \n",
       "<span style=\"color: #008080; text-decoration-color: #008080; font-weight: bold\">710710</span>, <span style=\"color: #008080; text-decoration-color: #008080; font-weight: bold\">17364</span>, <span style=\"color: #008080; text-decoration-color: #008080; font-weight: bold\">76125</span>, <span style=\"color: #008080; text-decoration-color: #008080; font-weight: bold\">148950</span>, <span style=\"color: #008080; text-decoration-color: #008080; font-weight: bold\">420567</span><span style=\"font-weight: bold\">)</span> ORDER BY <span style=\"color: #008000; text-decoration-color: #008000\">\"books_book\"</span>.<span style=\"color: #008000; text-decoration-color: #008000\">\"release_date\"</span> ASC, <span style=\"color: #008000; text-decoration-color: #008000\">\"books_book\"</span>.<span style=\"color: #008000; text-decoration-color: #008000\">\"id\"</span> ASC\n",
       "</pre>\n"
      ],
      "text/plain": [
       "Duration\n",
       "  Total: \u001b[1;36m0.33\u001b[0m\n",
       "  SQL: \u001b[1;36m0.32\u001b[0m \n",
       "\n",
       "      \u001b[1m(\u001b[0mduration: \u001b[1;36m0.253\u001b[0m\u001b[1m)\u001b[0m   SELECT \u001b[32m\"books_book\"\u001b[0m.\u001b[32m\"id\"\u001b[0m FROM \u001b[32m\"books_book\"\u001b[0m WHERE \u001b[32m\"books_book\"\u001b[0m.\u001b[32m\"library_id\"\u001b[0m = \u001b[1;36m6\u001b[0m ORDER BY \n",
       "\u001b[32m\"books_book\"\u001b[0m.\u001b[32m\"release_date\"\u001b[0m ASC, \u001b[32m\"books_book\"\u001b[0m.\u001b[32m\"id\"\u001b[0m ASC LIMIT \u001b[1;36m20\u001b[0m \n",
       "\n",
       "      \u001b[1m(\u001b[0mduration: \u001b[1;36m0.067\u001b[0m\u001b[1m)\u001b[0m   SELECT \u001b[32m\"books_book\"\u001b[0m.\u001b[32m\"id\"\u001b[0m, \u001b[32m\"books_book\"\u001b[0m.\u001b[32m\"title\"\u001b[0m, \u001b[32m\"books_book\"\u001b[0m.\u001b[32m\"author_id\"\u001b[0m, \n",
       "\u001b[32m\"books_book\"\u001b[0m.\u001b[32m\"release_date\"\u001b[0m, \u001b[32m\"books_book\"\u001b[0m.\u001b[32m\"library_id\"\u001b[0m, \u001b[1;35mCOALESCE\u001b[0m\u001b[1m(\u001b[0m\u001b[1m(\u001b[0mSELECT \u001b[1;35mCOUNT\u001b[0m\u001b[1m(\u001b[0mDISTINCT U0.\u001b[32m\"id\"\u001b[0m\u001b[1m)\u001b[0m AS \u001b[32m\"count\"\u001b[0m FROM \n",
       "\u001b[32m\"books_review\"\u001b[0m U0 WHERE U0.\u001b[32m\"book_id\"\u001b[0m = \u001b[1m(\u001b[0m\u001b[32m\"books_book\"\u001b[0m.\u001b[32m\"id\"\u001b[0m\u001b[1m)\u001b[0m GROUP BY U0.\u001b[32m\"book_id\"\u001b[0m\u001b[1m)\u001b[0m, \u001b[1;36m0\u001b[0m\u001b[1m)\u001b[0m AS \u001b[32m\"review_count\"\u001b[0m, \n",
       "\u001b[1;35mARRAY\u001b[0m\u001b[1m(\u001b[0mSELECT U0.\u001b[32m\"name\"\u001b[0m FROM \u001b[32m\"books_booktag\"\u001b[0m U0 WHERE U0.\u001b[32m\"book_id\"\u001b[0m = \u001b[1m(\u001b[0m\u001b[32m\"books_book\"\u001b[0m.\u001b[32m\"id\"\u001b[0m\u001b[1m)\u001b[0m\u001b[1m)\u001b[0m AS \u001b[32m\"tag_names\"\u001b[0m, \n",
       "\u001b[32m\"books_person\"\u001b[0m.\u001b[32m\"id\"\u001b[0m, \u001b[32m\"books_person\"\u001b[0m.\u001b[32m\"email\"\u001b[0m, \u001b[32m\"books_person\"\u001b[0m.\u001b[32m\"name\"\u001b[0m, \u001b[32m\"books_person\"\u001b[0m.\u001b[32m\"bio\"\u001b[0m FROM \u001b[32m\"books_book\"\u001b[0m INNER \n",
       "JOIN \u001b[32m\"books_person\"\u001b[0m ON \u001b[1m(\u001b[0m\u001b[32m\"books_book\"\u001b[0m.\u001b[32m\"author_id\"\u001b[0m = \u001b[32m\"books_person\"\u001b[0m.\u001b[32m\"id\"\u001b[0m\u001b[1m)\u001b[0m WHERE \u001b[32m\"books_book\"\u001b[0m.\u001b[32m\"id\"\u001b[0m IN \u001b[1m(\u001b[0m\u001b[1;36m251127\u001b[0m, \u001b[1;36m359638\u001b[0m,\n",
       "\u001b[1;36m1156714\u001b[0m, \u001b[1;36m1213190\u001b[0m, \u001b[1;36m1402817\u001b[0m, \u001b[1;36m303340\u001b[0m, \u001b[1;36m645062\u001b[0m, \u001b[1;36m712181\u001b[0m, \u001b[1;36m912196\u001b[0m, \u001b[1;36m1345919\u001b[0m, \u001b[1;36m344098\u001b[0m, \u001b[1;36m821709\u001b[0m, \u001b[1;36m1976681\u001b[0m, \u001b[1;36m183742\u001b[0m, \u001b[1;36m278596\u001b[0m, \n",
       "\u001b[1;36m710710\u001b[0m, \u001b[1;36m17364\u001b[0m, \u001b[1;36m76125\u001b[0m, \u001b[1;36m148950\u001b[0m, \u001b[1;36m420567\u001b[0m\u001b[1m)\u001b[0m ORDER BY \u001b[32m\"books_book\"\u001b[0m.\u001b[32m\"release_date\"\u001b[0m ASC, \u001b[32m\"books_book\"\u001b[0m.\u001b[32m\"id\"\u001b[0m ASC\n"
      ]
     },
     "metadata": {},
     "output_type": "display_data"
    },
    {
     "data": {
      "text/html": [
       "<pre style=\"white-space:pre;overflow-x:auto;line-height:normal;font-family:Menlo,'DejaVu Sans Mono',consolas,'Courier New',monospace\"><span style=\"font-weight: bold\">{</span>\n",
       "    <span style=\"color: #008000; text-decoration-color: #008000\">'id'</span>: <span style=\"color: #008080; text-decoration-color: #008080; font-weight: bold\">251127</span>,\n",
       "    <span style=\"color: #008000; text-decoration-color: #008000\">'title'</span>: <span style=\"color: #008000; text-decoration-color: #008000\">'Design care there six must keep on.'</span>,\n",
       "    <span style=\"color: #008000; text-decoration-color: #008000\">'release_date'</span>: <span style=\"color: #800080; text-decoration-color: #800080; font-weight: bold\">datetime.date</span><span style=\"font-weight: bold\">(</span><span style=\"color: #008080; text-decoration-color: #008080; font-weight: bold\">1923</span>, <span style=\"color: #008080; text-decoration-color: #008080; font-weight: bold\">5</span>, <span style=\"color: #008080; text-decoration-color: #008080; font-weight: bold\">31</span><span style=\"font-weight: bold\">)</span>,\n",
       "    <span style=\"color: #008000; text-decoration-color: #008000\">'library_id'</span>: <span style=\"color: #008080; text-decoration-color: #008080; font-weight: bold\">6</span>,\n",
       "    <span style=\"color: #008000; text-decoration-color: #008000\">'review_count'</span>: <span style=\"color: #008080; text-decoration-color: #008080; font-weight: bold\">10</span>,\n",
       "    <span style=\"color: #008000; text-decoration-color: #008000\">'tag_names'</span>: <span style=\"font-weight: bold\">[</span><span style=\"color: #008000; text-decoration-color: #008000\">'movie'</span>, <span style=\"color: #008000; text-decoration-color: #008000\">'audio'</span>, <span style=\"color: #008000; text-decoration-color: #008000\">'comics'</span>, <span style=\"color: #008000; text-decoration-color: #008000\">'braille'</span><span style=\"font-weight: bold\">]</span>,\n",
       "    <span style=\"color: #008000; text-decoration-color: #008000\">'author'</span>: <span style=\"font-weight: bold\">{</span><span style=\"color: #008000; text-decoration-color: #008000\">'id'</span>: <span style=\"color: #008080; text-decoration-color: #008080; font-weight: bold\">3454</span>, <span style=\"color: #008000; text-decoration-color: #008000\">'name'</span>: <span style=\"color: #008000; text-decoration-color: #008000\">'Charles Ingram'</span><span style=\"font-weight: bold\">}</span>\n",
       "<span style=\"font-weight: bold\">}</span>\n",
       "</pre>\n"
      ],
      "text/plain": [
       "\u001b[1m{\u001b[0m\n",
       "    \u001b[32m'id'\u001b[0m: \u001b[1;36m251127\u001b[0m,\n",
       "    \u001b[32m'title'\u001b[0m: \u001b[32m'Design care there six must keep on.'\u001b[0m,\n",
       "    \u001b[32m'release_date'\u001b[0m: \u001b[1;35mdatetime.date\u001b[0m\u001b[1m(\u001b[0m\u001b[1;36m1923\u001b[0m, \u001b[1;36m5\u001b[0m, \u001b[1;36m31\u001b[0m\u001b[1m)\u001b[0m,\n",
       "    \u001b[32m'library_id'\u001b[0m: \u001b[1;36m6\u001b[0m,\n",
       "    \u001b[32m'review_count'\u001b[0m: \u001b[1;36m10\u001b[0m,\n",
       "    \u001b[32m'tag_names'\u001b[0m: \u001b[1m[\u001b[0m\u001b[32m'movie'\u001b[0m, \u001b[32m'audio'\u001b[0m, \u001b[32m'comics'\u001b[0m, \u001b[32m'braille'\u001b[0m\u001b[1m]\u001b[0m,\n",
       "    \u001b[32m'author'\u001b[0m: \u001b[1m{\u001b[0m\u001b[32m'id'\u001b[0m: \u001b[1;36m3454\u001b[0m, \u001b[32m'name'\u001b[0m: \u001b[32m'Charles Ingram'\u001b[0m\u001b[1m}\u001b[0m\n",
       "\u001b[1m}\u001b[0m\n"
      ]
     },
     "metadata": {},
     "output_type": "display_data"
    }
   ],
   "source": [
    "with perf_counter(time_sql=True, print_sql=True):\n",
    "    qs = get_queryset_using_ids(alexandria_id)\n",
    "    qs = annotate_books_subquery(qs)\n",
    "\n",
    "    result = serialize_books(qs)\n",
    "\n",
    "print(result[0])"
   ]
  },
  {
   "cell_type": "code",
   "execution_count": 19,
   "metadata": {},
   "outputs": [
    {
     "data": {
      "text/html": [
       "<pre style=\"white-space:pre;overflow-x:auto;line-height:normal;font-family:Menlo,'DejaVu Sans Mono',consolas,'Courier New',monospace\">Sort  <span style=\"font-weight: bold\">(</span><span style=\"color: #808000; text-decoration-color: #808000\">cost</span>=<span style=\"color: #008080; text-decoration-color: #008080; font-weight: bold\">1171.42</span>..<span style=\"color: #008080; text-decoration-color: #008080; font-weight: bold\">1171.47</span> <span style=\"color: #808000; text-decoration-color: #808000\">rows</span>=<span style=\"color: #008080; text-decoration-color: #008080; font-weight: bold\">20</span> <span style=\"color: #808000; text-decoration-color: #808000\">width</span>=<span style=\"color: #008080; text-decoration-color: #008080; font-weight: bold\">912</span><span style=\"font-weight: bold\">)</span> <span style=\"font-weight: bold\">(</span>actual <span style=\"color: #808000; text-decoration-color: #808000\">time</span>=<span style=\"color: #008080; text-decoration-color: #008080; font-weight: bold\">75.773</span>..<span style=\"color: #008080; text-decoration-color: #008080; font-weight: bold\">75.776</span> <span style=\"color: #808000; text-decoration-color: #808000\">rows</span>=<span style=\"color: #008080; text-decoration-color: #008080; font-weight: bold\">20</span> <span style=\"color: #808000; text-decoration-color: #808000\">loops</span>=<span style=\"color: #008080; text-decoration-color: #008080; font-weight: bold\">1</span><span style=\"font-weight: bold\">)</span>\n",
       "  Sort Key: books_book.release_date, books_book.id\n",
       "  Sort Method: quicksort  Memory: 51kB\n",
       "  -&gt;  Nested Loop  <span style=\"font-weight: bold\">(</span><span style=\"color: #808000; text-decoration-color: #808000\">cost</span>=<span style=\"color: #008080; text-decoration-color: #008080; font-weight: bold\">0.72</span>..<span style=\"color: #008080; text-decoration-color: #008080; font-weight: bold\">1170.99</span> <span style=\"color: #808000; text-decoration-color: #808000\">rows</span>=<span style=\"color: #008080; text-decoration-color: #008080; font-weight: bold\">20</span> <span style=\"color: #808000; text-decoration-color: #808000\">width</span>=<span style=\"color: #008080; text-decoration-color: #008080; font-weight: bold\">912</span><span style=\"font-weight: bold\">)</span> <span style=\"font-weight: bold\">(</span>actual <span style=\"color: #808000; text-decoration-color: #808000\">time</span>=<span style=\"color: #008080; text-decoration-color: #008080; font-weight: bold\">0.150</span>..<span style=\"color: #008080; text-decoration-color: #008080; font-weight: bold\">75.718</span> <span style=\"color: #808000; text-decoration-color: #808000\">rows</span>=<span style=\"color: #008080; text-decoration-color: #008080; font-weight: bold\">20</span> <span style=\"color: #808000; text-decoration-color: #808000\">loops</span>=<span style=\"color: #008080; text-decoration-color: #008080; font-weight: bold\">1</span><span style=\"font-weight: bold\">)</span>\n",
       "        -&gt;  Index Scan using books_book_pkey on books_book  <span style=\"font-weight: bold\">(</span><span style=\"color: #808000; text-decoration-color: #808000\">cost</span>=<span style=\"color: #008080; text-decoration-color: #008080; font-weight: bold\">0.43</span>..<span style=\"color: #008080; text-decoration-color: #008080; font-weight: bold\">93.36</span> <span style=\"color: #808000; text-decoration-color: #808000\">rows</span>=<span style=\"color: #008080; text-decoration-color: #008080; font-weight: bold\">20</span> <span style=\"color: #808000; text-decoration-color: #808000\">width</span>=<span style=\"color: #008080; text-decoration-color: #008080; font-weight: bold\">91</span><span style=\"font-weight: bold\">)</span> <span style=\"font-weight: bold\">(</span>actual \n",
       "<span style=\"color: #808000; text-decoration-color: #808000\">time</span>=<span style=\"color: #008080; text-decoration-color: #008080; font-weight: bold\">0.039</span>..<span style=\"color: #008080; text-decoration-color: #008080; font-weight: bold\">0.281</span> <span style=\"color: #808000; text-decoration-color: #808000\">rows</span>=<span style=\"color: #008080; text-decoration-color: #008080; font-weight: bold\">20</span> <span style=\"color: #808000; text-decoration-color: #808000\">loops</span>=<span style=\"color: #008080; text-decoration-color: #008080; font-weight: bold\">1</span><span style=\"font-weight: bold\">)</span>\n",
       "              Index Cond: <span style=\"font-weight: bold\">(</span>id = ANY \n",
       "<span style=\"font-weight: bold\">(</span><span style=\"color: #008000; text-decoration-color: #008000\">'{251127,359638,1156714,1213190,1402817,303340,645062,712181,912196,1345919,344098,821709,1976681,183742,278596,71</span>\n",
       "<span style=\"color: #008000; text-decoration-color: #008000\">0710,17364,76125,148950,420567}'</span>::bigint<span style=\"font-weight: bold\">[]))</span>\n",
       "        -&gt;  Index Scan using books_person_pkey on books_person  <span style=\"font-weight: bold\">(</span><span style=\"color: #808000; text-decoration-color: #808000\">cost</span>=<span style=\"color: #008080; text-decoration-color: #008080; font-weight: bold\">0.29</span>..<span style=\"color: #008080; text-decoration-color: #008080; font-weight: bold\">7.90</span> <span style=\"color: #808000; text-decoration-color: #808000\">rows</span>=<span style=\"color: #008080; text-decoration-color: #008080; font-weight: bold\">1</span> <span style=\"color: #808000; text-decoration-color: #808000\">width</span>=<span style=\"color: #008080; text-decoration-color: #008080; font-weight: bold\">781</span><span style=\"font-weight: bold\">)</span> <span style=\"font-weight: bold\">(</span>actual \n",
       "<span style=\"color: #808000; text-decoration-color: #808000\">time</span>=<span style=\"color: #008080; text-decoration-color: #008080; font-weight: bold\">0.009</span>..<span style=\"color: #008080; text-decoration-color: #008080; font-weight: bold\">0.009</span> <span style=\"color: #808000; text-decoration-color: #808000\">rows</span>=<span style=\"color: #008080; text-decoration-color: #008080; font-weight: bold\">1</span> <span style=\"color: #808000; text-decoration-color: #808000\">loops</span>=<span style=\"color: #008080; text-decoration-color: #008080; font-weight: bold\">20</span><span style=\"font-weight: bold\">)</span>\n",
       "              Index Cond: <span style=\"font-weight: bold\">(</span>id = books_book.author_id<span style=\"font-weight: bold\">)</span>\n",
       "        SubPlan <span style=\"color: #008080; text-decoration-color: #008080; font-weight: bold\">1</span>\n",
       "          -&gt;  GroupAggregate  <span style=\"font-weight: bold\">(</span><span style=\"color: #808000; text-decoration-color: #808000\">cost</span>=<span style=\"color: #008080; text-decoration-color: #008080; font-weight: bold\">0.44</span>..<span style=\"color: #008080; text-decoration-color: #008080; font-weight: bold\">37.26</span> <span style=\"color: #808000; text-decoration-color: #808000\">rows</span>=<span style=\"color: #008080; text-decoration-color: #008080; font-weight: bold\">338</span> <span style=\"color: #808000; text-decoration-color: #808000\">width</span>=<span style=\"color: #008080; text-decoration-color: #008080; font-weight: bold\">16</span><span style=\"font-weight: bold\">)</span> <span style=\"font-weight: bold\">(</span>actual <span style=\"color: #808000; text-decoration-color: #808000\">time</span>=<span style=\"color: #008080; text-decoration-color: #008080; font-weight: bold\">3.741</span>..<span style=\"color: #008080; text-decoration-color: #008080; font-weight: bold\">3.741</span> <span style=\"color: #808000; text-decoration-color: #808000\">rows</span>=<span style=\"color: #008080; text-decoration-color: #008080; font-weight: bold\">1</span> <span style=\"color: #808000; text-decoration-color: #808000\">loops</span>=<span style=\"color: #008080; text-decoration-color: #008080; font-weight: bold\">20</span><span style=\"font-weight: bold\">)</span>\n",
       "                Group Key: u0.book_id\n",
       "                -&gt;  Index Scan using books_review_book_id_a67a4c60 on books_review u0  <span style=\"font-weight: bold\">(</span><span style=\"color: #808000; text-decoration-color: #808000\">cost</span>=<span style=\"color: #008080; text-decoration-color: #008080; font-weight: bold\">0.44</span>..<span style=\"color: #008080; text-decoration-color: #008080; font-weight: bold\">32.19</span> <span style=\"color: #808000; text-decoration-color: #808000\">rows</span>=<span style=\"color: #008080; text-decoration-color: #008080; font-weight: bold\">338</span> \n",
       "<span style=\"color: #808000; text-decoration-color: #808000\">width</span>=<span style=\"color: #008080; text-decoration-color: #008080; font-weight: bold\">16</span><span style=\"font-weight: bold\">)</span> <span style=\"font-weight: bold\">(</span>actual <span style=\"color: #808000; text-decoration-color: #808000\">time</span>=<span style=\"color: #008080; text-decoration-color: #008080; font-weight: bold\">0.015</span>..<span style=\"color: #008080; text-decoration-color: #008080; font-weight: bold\">3.206</span> <span style=\"color: #808000; text-decoration-color: #808000\">rows</span>=<span style=\"color: #008080; text-decoration-color: #008080; font-weight: bold\">1014</span> <span style=\"color: #808000; text-decoration-color: #808000\">loops</span>=<span style=\"color: #008080; text-decoration-color: #008080; font-weight: bold\">20</span><span style=\"font-weight: bold\">)</span>\n",
       "                      Index Cond: <span style=\"font-weight: bold\">(</span>book_id = books_book.id<span style=\"font-weight: bold\">)</span>\n",
       "        SubPlan <span style=\"color: #008080; text-decoration-color: #008080; font-weight: bold\">2</span>\n",
       "          -&gt;  Index Scan using books_booktag_book_id_361012b4 on books_booktag u0_1  <span style=\"font-weight: bold\">(</span><span style=\"color: #808000; text-decoration-color: #808000\">cost</span>=<span style=\"color: #008080; text-decoration-color: #008080; font-weight: bold\">0.43</span>..<span style=\"color: #008080; text-decoration-color: #008080; font-weight: bold\">8.72</span> <span style=\"color: #808000; text-decoration-color: #808000\">rows</span>=<span style=\"color: #008080; text-decoration-color: #008080; font-weight: bold\">9</span> \n",
       "<span style=\"color: #808000; text-decoration-color: #808000\">width</span>=<span style=\"color: #008080; text-decoration-color: #008080; font-weight: bold\">6</span><span style=\"font-weight: bold\">)</span> <span style=\"font-weight: bold\">(</span>actual <span style=\"color: #808000; text-decoration-color: #808000\">time</span>=<span style=\"color: #008080; text-decoration-color: #008080; font-weight: bold\">0.015</span>..<span style=\"color: #008080; text-decoration-color: #008080; font-weight: bold\">0.016</span> <span style=\"color: #808000; text-decoration-color: #808000\">rows</span>=<span style=\"color: #008080; text-decoration-color: #008080; font-weight: bold\">3</span> <span style=\"color: #808000; text-decoration-color: #808000\">loops</span>=<span style=\"color: #008080; text-decoration-color: #008080; font-weight: bold\">20</span><span style=\"font-weight: bold\">)</span>\n",
       "                Index Cond: <span style=\"font-weight: bold\">(</span>book_id = books_book.id<span style=\"font-weight: bold\">)</span>\n",
       "Planning Time: <span style=\"color: #008080; text-decoration-color: #008080; font-weight: bold\">0.696</span> ms\n",
       "Execution Time: <span style=\"color: #008080; text-decoration-color: #008080; font-weight: bold\">75.889</span> ms\n",
       "</pre>\n"
      ],
      "text/plain": [
       "Sort  \u001b[1m(\u001b[0m\u001b[33mcost\u001b[0m=\u001b[1;36m1171\u001b[0m\u001b[1;36m.42\u001b[0m..\u001b[1;36m1171.47\u001b[0m \u001b[33mrows\u001b[0m=\u001b[1;36m20\u001b[0m \u001b[33mwidth\u001b[0m=\u001b[1;36m912\u001b[0m\u001b[1m)\u001b[0m \u001b[1m(\u001b[0mactual \u001b[33mtime\u001b[0m=\u001b[1;36m75\u001b[0m\u001b[1;36m.773\u001b[0m..\u001b[1;36m75.776\u001b[0m \u001b[33mrows\u001b[0m=\u001b[1;36m20\u001b[0m \u001b[33mloops\u001b[0m=\u001b[1;36m1\u001b[0m\u001b[1m)\u001b[0m\n",
       "  Sort Key: books_book.release_date, books_book.id\n",
       "  Sort Method: quicksort  Memory: 51kB\n",
       "  ->  Nested Loop  \u001b[1m(\u001b[0m\u001b[33mcost\u001b[0m=\u001b[1;36m0\u001b[0m\u001b[1;36m.72\u001b[0m..\u001b[1;36m1170.99\u001b[0m \u001b[33mrows\u001b[0m=\u001b[1;36m20\u001b[0m \u001b[33mwidth\u001b[0m=\u001b[1;36m912\u001b[0m\u001b[1m)\u001b[0m \u001b[1m(\u001b[0mactual \u001b[33mtime\u001b[0m=\u001b[1;36m0\u001b[0m\u001b[1;36m.150\u001b[0m..\u001b[1;36m75.718\u001b[0m \u001b[33mrows\u001b[0m=\u001b[1;36m20\u001b[0m \u001b[33mloops\u001b[0m=\u001b[1;36m1\u001b[0m\u001b[1m)\u001b[0m\n",
       "        ->  Index Scan using books_book_pkey on books_book  \u001b[1m(\u001b[0m\u001b[33mcost\u001b[0m=\u001b[1;36m0\u001b[0m\u001b[1;36m.43\u001b[0m..\u001b[1;36m93.36\u001b[0m \u001b[33mrows\u001b[0m=\u001b[1;36m20\u001b[0m \u001b[33mwidth\u001b[0m=\u001b[1;36m91\u001b[0m\u001b[1m)\u001b[0m \u001b[1m(\u001b[0mactual \n",
       "\u001b[33mtime\u001b[0m=\u001b[1;36m0\u001b[0m\u001b[1;36m.039\u001b[0m..\u001b[1;36m0.281\u001b[0m \u001b[33mrows\u001b[0m=\u001b[1;36m20\u001b[0m \u001b[33mloops\u001b[0m=\u001b[1;36m1\u001b[0m\u001b[1m)\u001b[0m\n",
       "              Index Cond: \u001b[1m(\u001b[0mid = ANY \n",
       "\u001b[1m(\u001b[0m\u001b[32m'\u001b[0m\u001b[32m{\u001b[0m\u001b[32m251127,359638,1156714,1213190,1402817,303340,645062,712181,912196,1345919,344098,821709,1976681,183742,278596,71\u001b[0m\n",
       "\u001b[32m0710,17364,76125,148950,420567\u001b[0m\u001b[32m}\u001b[0m\u001b[32m'\u001b[0m::bigint\u001b[1m[\u001b[0m\u001b[1m]\u001b[0m\u001b[1m)\u001b[0m\u001b[1m)\u001b[0m\n",
       "        ->  Index Scan using books_person_pkey on books_person  \u001b[1m(\u001b[0m\u001b[33mcost\u001b[0m=\u001b[1;36m0\u001b[0m\u001b[1;36m.29\u001b[0m..\u001b[1;36m7.90\u001b[0m \u001b[33mrows\u001b[0m=\u001b[1;36m1\u001b[0m \u001b[33mwidth\u001b[0m=\u001b[1;36m781\u001b[0m\u001b[1m)\u001b[0m \u001b[1m(\u001b[0mactual \n",
       "\u001b[33mtime\u001b[0m=\u001b[1;36m0\u001b[0m\u001b[1;36m.009\u001b[0m..\u001b[1;36m0.009\u001b[0m \u001b[33mrows\u001b[0m=\u001b[1;36m1\u001b[0m \u001b[33mloops\u001b[0m=\u001b[1;36m20\u001b[0m\u001b[1m)\u001b[0m\n",
       "              Index Cond: \u001b[1m(\u001b[0mid = books_book.author_id\u001b[1m)\u001b[0m\n",
       "        SubPlan \u001b[1;36m1\u001b[0m\n",
       "          ->  GroupAggregate  \u001b[1m(\u001b[0m\u001b[33mcost\u001b[0m=\u001b[1;36m0\u001b[0m\u001b[1;36m.44\u001b[0m..\u001b[1;36m37.26\u001b[0m \u001b[33mrows\u001b[0m=\u001b[1;36m338\u001b[0m \u001b[33mwidth\u001b[0m=\u001b[1;36m16\u001b[0m\u001b[1m)\u001b[0m \u001b[1m(\u001b[0mactual \u001b[33mtime\u001b[0m=\u001b[1;36m3\u001b[0m\u001b[1;36m.741\u001b[0m..\u001b[1;36m3.741\u001b[0m \u001b[33mrows\u001b[0m=\u001b[1;36m1\u001b[0m \u001b[33mloops\u001b[0m=\u001b[1;36m20\u001b[0m\u001b[1m)\u001b[0m\n",
       "                Group Key: u0.book_id\n",
       "                ->  Index Scan using books_review_book_id_a67a4c60 on books_review u0  \u001b[1m(\u001b[0m\u001b[33mcost\u001b[0m=\u001b[1;36m0\u001b[0m\u001b[1;36m.44\u001b[0m..\u001b[1;36m32.19\u001b[0m \u001b[33mrows\u001b[0m=\u001b[1;36m338\u001b[0m \n",
       "\u001b[33mwidth\u001b[0m=\u001b[1;36m16\u001b[0m\u001b[1m)\u001b[0m \u001b[1m(\u001b[0mactual \u001b[33mtime\u001b[0m=\u001b[1;36m0\u001b[0m\u001b[1;36m.015\u001b[0m..\u001b[1;36m3.206\u001b[0m \u001b[33mrows\u001b[0m=\u001b[1;36m1014\u001b[0m \u001b[33mloops\u001b[0m=\u001b[1;36m20\u001b[0m\u001b[1m)\u001b[0m\n",
       "                      Index Cond: \u001b[1m(\u001b[0mbook_id = books_book.id\u001b[1m)\u001b[0m\n",
       "        SubPlan \u001b[1;36m2\u001b[0m\n",
       "          ->  Index Scan using books_booktag_book_id_361012b4 on books_booktag u0_1  \u001b[1m(\u001b[0m\u001b[33mcost\u001b[0m=\u001b[1;36m0\u001b[0m\u001b[1;36m.43\u001b[0m..\u001b[1;36m8.72\u001b[0m \u001b[33mrows\u001b[0m=\u001b[1;36m9\u001b[0m \n",
       "\u001b[33mwidth\u001b[0m=\u001b[1;36m6\u001b[0m\u001b[1m)\u001b[0m \u001b[1m(\u001b[0mactual \u001b[33mtime\u001b[0m=\u001b[1;36m0\u001b[0m\u001b[1;36m.015\u001b[0m..\u001b[1;36m0.016\u001b[0m \u001b[33mrows\u001b[0m=\u001b[1;36m3\u001b[0m \u001b[33mloops\u001b[0m=\u001b[1;36m20\u001b[0m\u001b[1m)\u001b[0m\n",
       "                Index Cond: \u001b[1m(\u001b[0mbook_id = books_book.id\u001b[1m)\u001b[0m\n",
       "Planning Time: \u001b[1;36m0.696\u001b[0m ms\n",
       "Execution Time: \u001b[1;36m75.889\u001b[0m ms\n"
      ]
     },
     "metadata": {},
     "output_type": "display_data"
    }
   ],
   "source": [
    "qs = get_queryset_using_ids(alexandria_id)\n",
    "qs = annotate_books_subquery(qs)\n",
    "result = qs.explain(analyze=True)\n",
    "\n",
    "print(result)"
   ]
  },
  {
   "attachments": {},
   "cell_type": "markdown",
   "metadata": {},
   "source": [
    "This method is already really fast.k\n",
    "1 thing to note though: the `loops=20` on the `books_reviews` index.\n",
    "\n",
    "If the query becomes more complex, we'll have to execute this part once par item in the page\n",
    "\n",
    "Let's try to avoid this loop, using multiple queries, and joining them in python\n"
   ]
  },
  {
   "cell_type": "code",
   "execution_count": 20,
   "metadata": {},
   "outputs": [],
   "source": [
    "def annotate_books_python(books):\n",
    "    book_ids = [book.id for book in books]\n",
    "\n",
    "    review_count = dict(\n",
    "        Review.objects.filter(book_id__in=book_ids)\n",
    "        .values(\"book_id\")\n",
    "        .annotate(count=Count(\"id\"))\n",
    "        .values_list(\"book_id\", \"count\")\n",
    "    )\n",
    "    tag_list = dict(\n",
    "        BookTag.objects.filter(book_id__in=book_ids)\n",
    "        .values(\"book_id\")\n",
    "        .annotate(tags=ArrayAgg(\"name\"))\n",
    "        .values_list(\"book_id\", \"tags\")\n",
    "    )\n",
    "    books = list(qs)\n",
    "    for book in books:\n",
    "        book.review_count = review_count[book.id]\n",
    "        book.tag_names = tag_list.get(book.id, [])\n",
    "    return books"
   ]
  },
  {
   "cell_type": "code",
   "execution_count": 21,
   "metadata": {},
   "outputs": [
    {
     "data": {
      "text/html": [
       "<pre style=\"white-space:pre;overflow-x:auto;line-height:normal;font-family:Menlo,'DejaVu Sans Mono',consolas,'Courier New',monospace\">Duration\n",
       "  Total: <span style=\"color: #008080; text-decoration-color: #008080; font-weight: bold\">0.31</span>\n",
       "  SQL: <span style=\"color: #008080; text-decoration-color: #008080; font-weight: bold\">0.30</span> \n",
       "\n",
       "      <span style=\"font-weight: bold\">(</span>duration: <span style=\"color: #008080; text-decoration-color: #008080; font-weight: bold\">0.226</span><span style=\"font-weight: bold\">)</span>   SELECT <span style=\"color: #008000; text-decoration-color: #008000\">\"books_book\"</span>.<span style=\"color: #008000; text-decoration-color: #008000\">\"id\"</span> FROM <span style=\"color: #008000; text-decoration-color: #008000\">\"books_book\"</span> WHERE <span style=\"color: #008000; text-decoration-color: #008000\">\"books_book\"</span>.<span style=\"color: #008000; text-decoration-color: #008000\">\"library_id\"</span> = <span style=\"color: #008080; text-decoration-color: #008080; font-weight: bold\">6</span> ORDER BY \n",
       "<span style=\"color: #008000; text-decoration-color: #008000\">\"books_book\"</span>.<span style=\"color: #008000; text-decoration-color: #008000\">\"release_date\"</span> ASC, <span style=\"color: #008000; text-decoration-color: #008000\">\"books_book\"</span>.<span style=\"color: #008000; text-decoration-color: #008000\">\"id\"</span> ASC LIMIT <span style=\"color: #008080; text-decoration-color: #008080; font-weight: bold\">20</span> \n",
       "\n",
       "      <span style=\"font-weight: bold\">(</span>duration: <span style=\"color: #008080; text-decoration-color: #008080; font-weight: bold\">0.003</span><span style=\"font-weight: bold\">)</span>   SELECT <span style=\"color: #008000; text-decoration-color: #008000\">\"books_book\"</span>.<span style=\"color: #008000; text-decoration-color: #008000\">\"id\"</span>, <span style=\"color: #008000; text-decoration-color: #008000\">\"books_book\"</span>.<span style=\"color: #008000; text-decoration-color: #008000\">\"title\"</span>, <span style=\"color: #008000; text-decoration-color: #008000\">\"books_book\"</span>.<span style=\"color: #008000; text-decoration-color: #008000\">\"author_id\"</span>, \n",
       "<span style=\"color: #008000; text-decoration-color: #008000\">\"books_book\"</span>.<span style=\"color: #008000; text-decoration-color: #008000\">\"release_date\"</span>, <span style=\"color: #008000; text-decoration-color: #008000\">\"books_book\"</span>.<span style=\"color: #008000; text-decoration-color: #008000\">\"library_id\"</span>, <span style=\"color: #008000; text-decoration-color: #008000\">\"books_person\"</span>.<span style=\"color: #008000; text-decoration-color: #008000\">\"id\"</span>, <span style=\"color: #008000; text-decoration-color: #008000\">\"books_person\"</span>.<span style=\"color: #008000; text-decoration-color: #008000\">\"email\"</span>, \n",
       "<span style=\"color: #008000; text-decoration-color: #008000\">\"books_person\"</span>.<span style=\"color: #008000; text-decoration-color: #008000\">\"name\"</span>, <span style=\"color: #008000; text-decoration-color: #008000\">\"books_person\"</span>.<span style=\"color: #008000; text-decoration-color: #008000\">\"bio\"</span> FROM <span style=\"color: #008000; text-decoration-color: #008000\">\"books_book\"</span> INNER JOIN <span style=\"color: #008000; text-decoration-color: #008000\">\"books_person\"</span> ON \n",
       "<span style=\"font-weight: bold\">(</span><span style=\"color: #008000; text-decoration-color: #008000\">\"books_book\"</span>.<span style=\"color: #008000; text-decoration-color: #008000\">\"author_id\"</span> = <span style=\"color: #008000; text-decoration-color: #008000\">\"books_person\"</span>.<span style=\"color: #008000; text-decoration-color: #008000\">\"id\"</span><span style=\"font-weight: bold\">)</span> WHERE <span style=\"color: #008000; text-decoration-color: #008000\">\"books_book\"</span>.<span style=\"color: #008000; text-decoration-color: #008000\">\"id\"</span> IN <span style=\"font-weight: bold\">(</span><span style=\"color: #008080; text-decoration-color: #008080; font-weight: bold\">251127</span>, <span style=\"color: #008080; text-decoration-color: #008080; font-weight: bold\">359638</span>, <span style=\"color: #008080; text-decoration-color: #008080; font-weight: bold\">1156714</span>, <span style=\"color: #008080; text-decoration-color: #008080; font-weight: bold\">1213190</span>, \n",
       "<span style=\"color: #008080; text-decoration-color: #008080; font-weight: bold\">1402817</span>, <span style=\"color: #008080; text-decoration-color: #008080; font-weight: bold\">303340</span>, <span style=\"color: #008080; text-decoration-color: #008080; font-weight: bold\">645062</span>, <span style=\"color: #008080; text-decoration-color: #008080; font-weight: bold\">712181</span>, <span style=\"color: #008080; text-decoration-color: #008080; font-weight: bold\">912196</span>, <span style=\"color: #008080; text-decoration-color: #008080; font-weight: bold\">1345919</span>, <span style=\"color: #008080; text-decoration-color: #008080; font-weight: bold\">344098</span>, <span style=\"color: #008080; text-decoration-color: #008080; font-weight: bold\">821709</span>, <span style=\"color: #008080; text-decoration-color: #008080; font-weight: bold\">1976681</span>, <span style=\"color: #008080; text-decoration-color: #008080; font-weight: bold\">183742</span>, <span style=\"color: #008080; text-decoration-color: #008080; font-weight: bold\">278596</span>, <span style=\"color: #008080; text-decoration-color: #008080; font-weight: bold\">710710</span>, <span style=\"color: #008080; text-decoration-color: #008080; font-weight: bold\">17364</span>, <span style=\"color: #008080; text-decoration-color: #008080; font-weight: bold\">76125</span>, \n",
       "<span style=\"color: #008080; text-decoration-color: #008080; font-weight: bold\">148950</span>, <span style=\"color: #008080; text-decoration-color: #008080; font-weight: bold\">420567</span><span style=\"font-weight: bold\">)</span> ORDER BY <span style=\"color: #008000; text-decoration-color: #008000\">\"books_book\"</span>.<span style=\"color: #008000; text-decoration-color: #008000\">\"release_date\"</span> ASC, <span style=\"color: #008000; text-decoration-color: #008000\">\"books_book\"</span>.<span style=\"color: #008000; text-decoration-color: #008000\">\"id\"</span> ASC \n",
       "\n",
       "      <span style=\"font-weight: bold\">(</span>duration: <span style=\"color: #008080; text-decoration-color: #008080; font-weight: bold\">0.072</span><span style=\"font-weight: bold\">)</span>   SELECT <span style=\"color: #008000; text-decoration-color: #008000\">\"books_review\"</span>.<span style=\"color: #008000; text-decoration-color: #008000\">\"book_id\"</span>, <span style=\"color: #800080; text-decoration-color: #800080; font-weight: bold\">COUNT</span><span style=\"font-weight: bold\">(</span><span style=\"color: #008000; text-decoration-color: #008000\">\"books_review\"</span>.<span style=\"color: #008000; text-decoration-color: #008000\">\"id\"</span><span style=\"font-weight: bold\">)</span> AS <span style=\"color: #008000; text-decoration-color: #008000\">\"count\"</span> FROM \n",
       "<span style=\"color: #008000; text-decoration-color: #008000\">\"books_review\"</span> WHERE <span style=\"color: #008000; text-decoration-color: #008000\">\"books_review\"</span>.<span style=\"color: #008000; text-decoration-color: #008000\">\"book_id\"</span> IN <span style=\"font-weight: bold\">(</span><span style=\"color: #008080; text-decoration-color: #008080; font-weight: bold\">251127</span>, <span style=\"color: #008080; text-decoration-color: #008080; font-weight: bold\">359638</span>, <span style=\"color: #008080; text-decoration-color: #008080; font-weight: bold\">1156714</span>, <span style=\"color: #008080; text-decoration-color: #008080; font-weight: bold\">1213190</span>, <span style=\"color: #008080; text-decoration-color: #008080; font-weight: bold\">1402817</span>, <span style=\"color: #008080; text-decoration-color: #008080; font-weight: bold\">303340</span>, <span style=\"color: #008080; text-decoration-color: #008080; font-weight: bold\">645062</span>, \n",
       "<span style=\"color: #008080; text-decoration-color: #008080; font-weight: bold\">712181</span>, <span style=\"color: #008080; text-decoration-color: #008080; font-weight: bold\">912196</span>, <span style=\"color: #008080; text-decoration-color: #008080; font-weight: bold\">1345919</span>, <span style=\"color: #008080; text-decoration-color: #008080; font-weight: bold\">344098</span>, <span style=\"color: #008080; text-decoration-color: #008080; font-weight: bold\">821709</span>, <span style=\"color: #008080; text-decoration-color: #008080; font-weight: bold\">1976681</span>, <span style=\"color: #008080; text-decoration-color: #008080; font-weight: bold\">183742</span>, <span style=\"color: #008080; text-decoration-color: #008080; font-weight: bold\">278596</span>, <span style=\"color: #008080; text-decoration-color: #008080; font-weight: bold\">710710</span>, <span style=\"color: #008080; text-decoration-color: #008080; font-weight: bold\">17364</span>, <span style=\"color: #008080; text-decoration-color: #008080; font-weight: bold\">76125</span>, <span style=\"color: #008080; text-decoration-color: #008080; font-weight: bold\">148950</span>, <span style=\"color: #008080; text-decoration-color: #008080; font-weight: bold\">420567</span><span style=\"font-weight: bold\">)</span> GROUP BY \n",
       "<span style=\"color: #008000; text-decoration-color: #008000\">\"books_review\"</span>.<span style=\"color: #008000; text-decoration-color: #008000\">\"book_id\"</span> \n",
       "\n",
       "      <span style=\"font-weight: bold\">(</span>duration: <span style=\"color: #008080; text-decoration-color: #008080; font-weight: bold\">0.001</span><span style=\"font-weight: bold\">)</span>   SELECT <span style=\"color: #008000; text-decoration-color: #008000\">\"books_booktag\"</span>.<span style=\"color: #008000; text-decoration-color: #008000\">\"book_id\"</span>, <span style=\"color: #800080; text-decoration-color: #800080; font-weight: bold\">ARRAY_AGG</span><span style=\"font-weight: bold\">(</span><span style=\"color: #008000; text-decoration-color: #008000\">\"books_booktag\"</span>.<span style=\"color: #008000; text-decoration-color: #008000\">\"name\"</span> <span style=\"font-weight: bold\">)</span> AS <span style=\"color: #008000; text-decoration-color: #008000\">\"tags\"</span> FROM \n",
       "<span style=\"color: #008000; text-decoration-color: #008000\">\"books_booktag\"</span> WHERE <span style=\"color: #008000; text-decoration-color: #008000\">\"books_booktag\"</span>.<span style=\"color: #008000; text-decoration-color: #008000\">\"book_id\"</span> IN <span style=\"font-weight: bold\">(</span><span style=\"color: #008080; text-decoration-color: #008080; font-weight: bold\">251127</span>, <span style=\"color: #008080; text-decoration-color: #008080; font-weight: bold\">359638</span>, <span style=\"color: #008080; text-decoration-color: #008080; font-weight: bold\">1156714</span>, <span style=\"color: #008080; text-decoration-color: #008080; font-weight: bold\">1213190</span>, <span style=\"color: #008080; text-decoration-color: #008080; font-weight: bold\">1402817</span>, <span style=\"color: #008080; text-decoration-color: #008080; font-weight: bold\">303340</span>, <span style=\"color: #008080; text-decoration-color: #008080; font-weight: bold\">645062</span>, \n",
       "<span style=\"color: #008080; text-decoration-color: #008080; font-weight: bold\">712181</span>, <span style=\"color: #008080; text-decoration-color: #008080; font-weight: bold\">912196</span>, <span style=\"color: #008080; text-decoration-color: #008080; font-weight: bold\">1345919</span>, <span style=\"color: #008080; text-decoration-color: #008080; font-weight: bold\">344098</span>, <span style=\"color: #008080; text-decoration-color: #008080; font-weight: bold\">821709</span>, <span style=\"color: #008080; text-decoration-color: #008080; font-weight: bold\">1976681</span>, <span style=\"color: #008080; text-decoration-color: #008080; font-weight: bold\">183742</span>, <span style=\"color: #008080; text-decoration-color: #008080; font-weight: bold\">278596</span>, <span style=\"color: #008080; text-decoration-color: #008080; font-weight: bold\">710710</span>, <span style=\"color: #008080; text-decoration-color: #008080; font-weight: bold\">17364</span>, <span style=\"color: #008080; text-decoration-color: #008080; font-weight: bold\">76125</span>, <span style=\"color: #008080; text-decoration-color: #008080; font-weight: bold\">148950</span>, <span style=\"color: #008080; text-decoration-color: #008080; font-weight: bold\">420567</span><span style=\"font-weight: bold\">)</span> GROUP BY \n",
       "<span style=\"color: #008000; text-decoration-color: #008000\">\"books_booktag\"</span>.<span style=\"color: #008000; text-decoration-color: #008000\">\"book_id\"</span>\n",
       "</pre>\n"
      ],
      "text/plain": [
       "Duration\n",
       "  Total: \u001b[1;36m0.31\u001b[0m\n",
       "  SQL: \u001b[1;36m0.30\u001b[0m \n",
       "\n",
       "      \u001b[1m(\u001b[0mduration: \u001b[1;36m0.226\u001b[0m\u001b[1m)\u001b[0m   SELECT \u001b[32m\"books_book\"\u001b[0m.\u001b[32m\"id\"\u001b[0m FROM \u001b[32m\"books_book\"\u001b[0m WHERE \u001b[32m\"books_book\"\u001b[0m.\u001b[32m\"library_id\"\u001b[0m = \u001b[1;36m6\u001b[0m ORDER BY \n",
       "\u001b[32m\"books_book\"\u001b[0m.\u001b[32m\"release_date\"\u001b[0m ASC, \u001b[32m\"books_book\"\u001b[0m.\u001b[32m\"id\"\u001b[0m ASC LIMIT \u001b[1;36m20\u001b[0m \n",
       "\n",
       "      \u001b[1m(\u001b[0mduration: \u001b[1;36m0.003\u001b[0m\u001b[1m)\u001b[0m   SELECT \u001b[32m\"books_book\"\u001b[0m.\u001b[32m\"id\"\u001b[0m, \u001b[32m\"books_book\"\u001b[0m.\u001b[32m\"title\"\u001b[0m, \u001b[32m\"books_book\"\u001b[0m.\u001b[32m\"author_id\"\u001b[0m, \n",
       "\u001b[32m\"books_book\"\u001b[0m.\u001b[32m\"release_date\"\u001b[0m, \u001b[32m\"books_book\"\u001b[0m.\u001b[32m\"library_id\"\u001b[0m, \u001b[32m\"books_person\"\u001b[0m.\u001b[32m\"id\"\u001b[0m, \u001b[32m\"books_person\"\u001b[0m.\u001b[32m\"email\"\u001b[0m, \n",
       "\u001b[32m\"books_person\"\u001b[0m.\u001b[32m\"name\"\u001b[0m, \u001b[32m\"books_person\"\u001b[0m.\u001b[32m\"bio\"\u001b[0m FROM \u001b[32m\"books_book\"\u001b[0m INNER JOIN \u001b[32m\"books_person\"\u001b[0m ON \n",
       "\u001b[1m(\u001b[0m\u001b[32m\"books_book\"\u001b[0m.\u001b[32m\"author_id\"\u001b[0m = \u001b[32m\"books_person\"\u001b[0m.\u001b[32m\"id\"\u001b[0m\u001b[1m)\u001b[0m WHERE \u001b[32m\"books_book\"\u001b[0m.\u001b[32m\"id\"\u001b[0m IN \u001b[1m(\u001b[0m\u001b[1;36m251127\u001b[0m, \u001b[1;36m359638\u001b[0m, \u001b[1;36m1156714\u001b[0m, \u001b[1;36m1213190\u001b[0m, \n",
       "\u001b[1;36m1402817\u001b[0m, \u001b[1;36m303340\u001b[0m, \u001b[1;36m645062\u001b[0m, \u001b[1;36m712181\u001b[0m, \u001b[1;36m912196\u001b[0m, \u001b[1;36m1345919\u001b[0m, \u001b[1;36m344098\u001b[0m, \u001b[1;36m821709\u001b[0m, \u001b[1;36m1976681\u001b[0m, \u001b[1;36m183742\u001b[0m, \u001b[1;36m278596\u001b[0m, \u001b[1;36m710710\u001b[0m, \u001b[1;36m17364\u001b[0m, \u001b[1;36m76125\u001b[0m, \n",
       "\u001b[1;36m148950\u001b[0m, \u001b[1;36m420567\u001b[0m\u001b[1m)\u001b[0m ORDER BY \u001b[32m\"books_book\"\u001b[0m.\u001b[32m\"release_date\"\u001b[0m ASC, \u001b[32m\"books_book\"\u001b[0m.\u001b[32m\"id\"\u001b[0m ASC \n",
       "\n",
       "      \u001b[1m(\u001b[0mduration: \u001b[1;36m0.072\u001b[0m\u001b[1m)\u001b[0m   SELECT \u001b[32m\"books_review\"\u001b[0m.\u001b[32m\"book_id\"\u001b[0m, \u001b[1;35mCOUNT\u001b[0m\u001b[1m(\u001b[0m\u001b[32m\"books_review\"\u001b[0m.\u001b[32m\"id\"\u001b[0m\u001b[1m)\u001b[0m AS \u001b[32m\"count\"\u001b[0m FROM \n",
       "\u001b[32m\"books_review\"\u001b[0m WHERE \u001b[32m\"books_review\"\u001b[0m.\u001b[32m\"book_id\"\u001b[0m IN \u001b[1m(\u001b[0m\u001b[1;36m251127\u001b[0m, \u001b[1;36m359638\u001b[0m, \u001b[1;36m1156714\u001b[0m, \u001b[1;36m1213190\u001b[0m, \u001b[1;36m1402817\u001b[0m, \u001b[1;36m303340\u001b[0m, \u001b[1;36m645062\u001b[0m, \n",
       "\u001b[1;36m712181\u001b[0m, \u001b[1;36m912196\u001b[0m, \u001b[1;36m1345919\u001b[0m, \u001b[1;36m344098\u001b[0m, \u001b[1;36m821709\u001b[0m, \u001b[1;36m1976681\u001b[0m, \u001b[1;36m183742\u001b[0m, \u001b[1;36m278596\u001b[0m, \u001b[1;36m710710\u001b[0m, \u001b[1;36m17364\u001b[0m, \u001b[1;36m76125\u001b[0m, \u001b[1;36m148950\u001b[0m, \u001b[1;36m420567\u001b[0m\u001b[1m)\u001b[0m GROUP BY \n",
       "\u001b[32m\"books_review\"\u001b[0m.\u001b[32m\"book_id\"\u001b[0m \n",
       "\n",
       "      \u001b[1m(\u001b[0mduration: \u001b[1;36m0.001\u001b[0m\u001b[1m)\u001b[0m   SELECT \u001b[32m\"books_booktag\"\u001b[0m.\u001b[32m\"book_id\"\u001b[0m, \u001b[1;35mARRAY_AGG\u001b[0m\u001b[1m(\u001b[0m\u001b[32m\"books_booktag\"\u001b[0m.\u001b[32m\"name\"\u001b[0m \u001b[1m)\u001b[0m AS \u001b[32m\"tags\"\u001b[0m FROM \n",
       "\u001b[32m\"books_booktag\"\u001b[0m WHERE \u001b[32m\"books_booktag\"\u001b[0m.\u001b[32m\"book_id\"\u001b[0m IN \u001b[1m(\u001b[0m\u001b[1;36m251127\u001b[0m, \u001b[1;36m359638\u001b[0m, \u001b[1;36m1156714\u001b[0m, \u001b[1;36m1213190\u001b[0m, \u001b[1;36m1402817\u001b[0m, \u001b[1;36m303340\u001b[0m, \u001b[1;36m645062\u001b[0m, \n",
       "\u001b[1;36m712181\u001b[0m, \u001b[1;36m912196\u001b[0m, \u001b[1;36m1345919\u001b[0m, \u001b[1;36m344098\u001b[0m, \u001b[1;36m821709\u001b[0m, \u001b[1;36m1976681\u001b[0m, \u001b[1;36m183742\u001b[0m, \u001b[1;36m278596\u001b[0m, \u001b[1;36m710710\u001b[0m, \u001b[1;36m17364\u001b[0m, \u001b[1;36m76125\u001b[0m, \u001b[1;36m148950\u001b[0m, \u001b[1;36m420567\u001b[0m\u001b[1m)\u001b[0m GROUP BY \n",
       "\u001b[32m\"books_booktag\"\u001b[0m.\u001b[32m\"book_id\"\u001b[0m\n"
      ]
     },
     "metadata": {},
     "output_type": "display_data"
    },
    {
     "data": {
      "text/html": [
       "<pre style=\"white-space:pre;overflow-x:auto;line-height:normal;font-family:Menlo,'DejaVu Sans Mono',consolas,'Courier New',monospace\"><span style=\"font-weight: bold\">{</span>\n",
       "    <span style=\"color: #008000; text-decoration-color: #008000\">'id'</span>: <span style=\"color: #008080; text-decoration-color: #008080; font-weight: bold\">251127</span>,\n",
       "    <span style=\"color: #008000; text-decoration-color: #008000\">'title'</span>: <span style=\"color: #008000; text-decoration-color: #008000\">'Design care there six must keep on.'</span>,\n",
       "    <span style=\"color: #008000; text-decoration-color: #008000\">'release_date'</span>: <span style=\"color: #800080; text-decoration-color: #800080; font-weight: bold\">datetime.date</span><span style=\"font-weight: bold\">(</span><span style=\"color: #008080; text-decoration-color: #008080; font-weight: bold\">1923</span>, <span style=\"color: #008080; text-decoration-color: #008080; font-weight: bold\">5</span>, <span style=\"color: #008080; text-decoration-color: #008080; font-weight: bold\">31</span><span style=\"font-weight: bold\">)</span>,\n",
       "    <span style=\"color: #008000; text-decoration-color: #008000\">'library_id'</span>: <span style=\"color: #008080; text-decoration-color: #008080; font-weight: bold\">6</span>,\n",
       "    <span style=\"color: #008000; text-decoration-color: #008000\">'review_count'</span>: <span style=\"color: #008080; text-decoration-color: #008080; font-weight: bold\">10</span>,\n",
       "    <span style=\"color: #008000; text-decoration-color: #008000\">'tag_names'</span>: <span style=\"font-weight: bold\">[</span><span style=\"color: #008000; text-decoration-color: #008000\">'movie'</span>, <span style=\"color: #008000; text-decoration-color: #008000\">'audio'</span>, <span style=\"color: #008000; text-decoration-color: #008000\">'comics'</span>, <span style=\"color: #008000; text-decoration-color: #008000\">'braille'</span><span style=\"font-weight: bold\">]</span>,\n",
       "    <span style=\"color: #008000; text-decoration-color: #008000\">'author'</span>: <span style=\"font-weight: bold\">{</span><span style=\"color: #008000; text-decoration-color: #008000\">'id'</span>: <span style=\"color: #008080; text-decoration-color: #008080; font-weight: bold\">3454</span>, <span style=\"color: #008000; text-decoration-color: #008000\">'name'</span>: <span style=\"color: #008000; text-decoration-color: #008000\">'Charles Ingram'</span><span style=\"font-weight: bold\">}</span>\n",
       "<span style=\"font-weight: bold\">}</span>\n",
       "</pre>\n"
      ],
      "text/plain": [
       "\u001b[1m{\u001b[0m\n",
       "    \u001b[32m'id'\u001b[0m: \u001b[1;36m251127\u001b[0m,\n",
       "    \u001b[32m'title'\u001b[0m: \u001b[32m'Design care there six must keep on.'\u001b[0m,\n",
       "    \u001b[32m'release_date'\u001b[0m: \u001b[1;35mdatetime.date\u001b[0m\u001b[1m(\u001b[0m\u001b[1;36m1923\u001b[0m, \u001b[1;36m5\u001b[0m, \u001b[1;36m31\u001b[0m\u001b[1m)\u001b[0m,\n",
       "    \u001b[32m'library_id'\u001b[0m: \u001b[1;36m6\u001b[0m,\n",
       "    \u001b[32m'review_count'\u001b[0m: \u001b[1;36m10\u001b[0m,\n",
       "    \u001b[32m'tag_names'\u001b[0m: \u001b[1m[\u001b[0m\u001b[32m'movie'\u001b[0m, \u001b[32m'audio'\u001b[0m, \u001b[32m'comics'\u001b[0m, \u001b[32m'braille'\u001b[0m\u001b[1m]\u001b[0m,\n",
       "    \u001b[32m'author'\u001b[0m: \u001b[1m{\u001b[0m\u001b[32m'id'\u001b[0m: \u001b[1;36m3454\u001b[0m, \u001b[32m'name'\u001b[0m: \u001b[32m'Charles Ingram'\u001b[0m\u001b[1m}\u001b[0m\n",
       "\u001b[1m}\u001b[0m\n"
      ]
     },
     "metadata": {},
     "output_type": "display_data"
    }
   ],
   "source": [
    "with perf_counter(time_sql=True, print_sql=True):\n",
    "    qs = get_queryset_using_ids(alexandria_id, page_size=20)\n",
    "    qs = annotate_books_python(list(qs))\n",
    "\n",
    "    result = serialize_books(qs)\n",
    "print(result[0])"
   ]
  },
  {
   "attachments": {},
   "cell_type": "markdown",
   "metadata": {},
   "source": [
    "That's a bit faster.\n",
    "\n",
    "---\n",
    "\n",
    "We can try to reduce the number of queries by using Common Table Expressions (CTE), i.e. queries having `WITH` clauses.\n"
   ]
  },
  {
   "cell_type": "code",
   "execution_count": 22,
   "metadata": {},
   "outputs": [],
   "source": [
    "raw_query = \"\"\"\n",
    "WITH review_count AS (\n",
    "    SELECT\n",
    "        books_review.book_id as id,\n",
    "        count(books_review.id) as review_count\n",
    "    FROM\n",
    "        books_review\n",
    "    WHERE\n",
    "        books_review.book_id IN %(book_ids)s\n",
    "        GROUP BY\n",
    "            book_id\n",
    "),\n",
    "tag_names AS (\n",
    "    SELECT\n",
    "        books_booktag.book_id as id,\n",
    "        array_agg(DISTINCT books_booktag.name) as tags_list\n",
    "    FROM\n",
    "        books_booktag\n",
    "    WHERE\n",
    "        books_booktag.book_id IN %(book_ids)s\n",
    "        GROUP BY\n",
    "            book_id\n",
    ")\n",
    "SELECT\n",
    "    id,\n",
    "    review_count,\n",
    "    COALESCE(tags_list, '{}') as tags_list\n",
    "FROM\n",
    "    review_count FULL OUTER JOIN tag_names USING (id);\n",
    "\n",
    "\"\"\"\n",
    "\n",
    "\n",
    "def annotate_books_cte(books):\n",
    "    book_ids = tuple(book.id for book in books)\n",
    "    annotations_by_book_id = {\n",
    "        raw_book.id: {\n",
    "            \"review_count\": raw_book.review_count,\n",
    "            \"tag_names\": raw_book.tags_list,\n",
    "        }\n",
    "        for raw_book in Book.objects.raw(raw_query, params={\"book_ids\": book_ids})\n",
    "    }\n",
    "    for book in books:\n",
    "        annotations = annotations_by_book_id[book.id]\n",
    "        for name, value in annotations.items():\n",
    "            setattr(book, name, value)\n",
    "    return books\n"
   ]
  },
  {
   "cell_type": "code",
   "execution_count": 23,
   "metadata": {},
   "outputs": [
    {
     "data": {
      "text/html": [
       "<pre style=\"white-space:pre;overflow-x:auto;line-height:normal;font-family:Menlo,'DejaVu Sans Mono',consolas,'Courier New',monospace\">Duration\n",
       "  Total: <span style=\"color: #008080; text-decoration-color: #008080; font-weight: bold\">0.28</span>\n",
       "  SQL: <span style=\"color: #008080; text-decoration-color: #008080; font-weight: bold\">0.27</span> \n",
       "\n",
       "      <span style=\"font-weight: bold\">(</span>duration: <span style=\"color: #008080; text-decoration-color: #008080; font-weight: bold\">0.188</span><span style=\"font-weight: bold\">)</span>   SELECT <span style=\"color: #008000; text-decoration-color: #008000\">\"books_book\"</span>.<span style=\"color: #008000; text-decoration-color: #008000\">\"id\"</span> FROM <span style=\"color: #008000; text-decoration-color: #008000\">\"books_book\"</span> WHERE <span style=\"color: #008000; text-decoration-color: #008000\">\"books_book\"</span>.<span style=\"color: #008000; text-decoration-color: #008000\">\"library_id\"</span> = <span style=\"color: #008080; text-decoration-color: #008080; font-weight: bold\">6</span> ORDER BY \n",
       "<span style=\"color: #008000; text-decoration-color: #008000\">\"books_book\"</span>.<span style=\"color: #008000; text-decoration-color: #008000\">\"release_date\"</span> ASC, <span style=\"color: #008000; text-decoration-color: #008000\">\"books_book\"</span>.<span style=\"color: #008000; text-decoration-color: #008000\">\"id\"</span> ASC LIMIT <span style=\"color: #008080; text-decoration-color: #008080; font-weight: bold\">20</span> \n",
       "\n",
       "      <span style=\"font-weight: bold\">(</span>duration: <span style=\"color: #008080; text-decoration-color: #008080; font-weight: bold\">0.006</span><span style=\"font-weight: bold\">)</span>   SELECT <span style=\"color: #008000; text-decoration-color: #008000\">\"books_book\"</span>.<span style=\"color: #008000; text-decoration-color: #008000\">\"id\"</span>, <span style=\"color: #008000; text-decoration-color: #008000\">\"books_book\"</span>.<span style=\"color: #008000; text-decoration-color: #008000\">\"title\"</span>, <span style=\"color: #008000; text-decoration-color: #008000\">\"books_book\"</span>.<span style=\"color: #008000; text-decoration-color: #008000\">\"author_id\"</span>, \n",
       "<span style=\"color: #008000; text-decoration-color: #008000\">\"books_book\"</span>.<span style=\"color: #008000; text-decoration-color: #008000\">\"release_date\"</span>, <span style=\"color: #008000; text-decoration-color: #008000\">\"books_book\"</span>.<span style=\"color: #008000; text-decoration-color: #008000\">\"library_id\"</span>, <span style=\"color: #008000; text-decoration-color: #008000\">\"books_person\"</span>.<span style=\"color: #008000; text-decoration-color: #008000\">\"id\"</span>, <span style=\"color: #008000; text-decoration-color: #008000\">\"books_person\"</span>.<span style=\"color: #008000; text-decoration-color: #008000\">\"email\"</span>, \n",
       "<span style=\"color: #008000; text-decoration-color: #008000\">\"books_person\"</span>.<span style=\"color: #008000; text-decoration-color: #008000\">\"name\"</span>, <span style=\"color: #008000; text-decoration-color: #008000\">\"books_person\"</span>.<span style=\"color: #008000; text-decoration-color: #008000\">\"bio\"</span> FROM <span style=\"color: #008000; text-decoration-color: #008000\">\"books_book\"</span> INNER JOIN <span style=\"color: #008000; text-decoration-color: #008000\">\"books_person\"</span> ON \n",
       "<span style=\"font-weight: bold\">(</span><span style=\"color: #008000; text-decoration-color: #008000\">\"books_book\"</span>.<span style=\"color: #008000; text-decoration-color: #008000\">\"author_id\"</span> = <span style=\"color: #008000; text-decoration-color: #008000\">\"books_person\"</span>.<span style=\"color: #008000; text-decoration-color: #008000\">\"id\"</span><span style=\"font-weight: bold\">)</span> WHERE <span style=\"color: #008000; text-decoration-color: #008000\">\"books_book\"</span>.<span style=\"color: #008000; text-decoration-color: #008000\">\"id\"</span> IN <span style=\"font-weight: bold\">(</span><span style=\"color: #008080; text-decoration-color: #008080; font-weight: bold\">251127</span>, <span style=\"color: #008080; text-decoration-color: #008080; font-weight: bold\">359638</span>, <span style=\"color: #008080; text-decoration-color: #008080; font-weight: bold\">1156714</span>, <span style=\"color: #008080; text-decoration-color: #008080; font-weight: bold\">1213190</span>, \n",
       "<span style=\"color: #008080; text-decoration-color: #008080; font-weight: bold\">1402817</span>, <span style=\"color: #008080; text-decoration-color: #008080; font-weight: bold\">303340</span>, <span style=\"color: #008080; text-decoration-color: #008080; font-weight: bold\">645062</span>, <span style=\"color: #008080; text-decoration-color: #008080; font-weight: bold\">712181</span>, <span style=\"color: #008080; text-decoration-color: #008080; font-weight: bold\">912196</span>, <span style=\"color: #008080; text-decoration-color: #008080; font-weight: bold\">1345919</span>, <span style=\"color: #008080; text-decoration-color: #008080; font-weight: bold\">344098</span>, <span style=\"color: #008080; text-decoration-color: #008080; font-weight: bold\">821709</span>, <span style=\"color: #008080; text-decoration-color: #008080; font-weight: bold\">1976681</span>, <span style=\"color: #008080; text-decoration-color: #008080; font-weight: bold\">183742</span>, <span style=\"color: #008080; text-decoration-color: #008080; font-weight: bold\">278596</span>, <span style=\"color: #008080; text-decoration-color: #008080; font-weight: bold\">710710</span>, <span style=\"color: #008080; text-decoration-color: #008080; font-weight: bold\">17364</span>, <span style=\"color: #008080; text-decoration-color: #008080; font-weight: bold\">76125</span>, \n",
       "<span style=\"color: #008080; text-decoration-color: #008080; font-weight: bold\">148950</span>, <span style=\"color: #008080; text-decoration-color: #008080; font-weight: bold\">420567</span><span style=\"font-weight: bold\">)</span> ORDER BY <span style=\"color: #008000; text-decoration-color: #008000\">\"books_book\"</span>.<span style=\"color: #008000; text-decoration-color: #008000\">\"release_date\"</span> ASC, <span style=\"color: #008000; text-decoration-color: #008000\">\"books_book\"</span>.<span style=\"color: #008000; text-decoration-color: #008000\">\"id\"</span> ASC \n",
       "\n",
       "      <span style=\"font-weight: bold\">(</span>duration: <span style=\"color: #008080; text-decoration-color: #008080; font-weight: bold\">0.078</span><span style=\"font-weight: bold\">)</span>   \n",
       "WITH review_count AS <span style=\"font-weight: bold\">(</span>\n",
       "    SELECT\n",
       "        books_review.book_id as id,\n",
       "        <span style=\"color: #800080; text-decoration-color: #800080; font-weight: bold\">count</span><span style=\"font-weight: bold\">(</span>books_review.id<span style=\"font-weight: bold\">)</span> as review_count\n",
       "    FROM\n",
       "        books_review\n",
       "    WHERE\n",
       "        books_review.book_id IN <span style=\"font-weight: bold\">(</span><span style=\"color: #008080; text-decoration-color: #008080; font-weight: bold\">251127</span>, <span style=\"color: #008080; text-decoration-color: #008080; font-weight: bold\">359638</span>, <span style=\"color: #008080; text-decoration-color: #008080; font-weight: bold\">1156714</span>, <span style=\"color: #008080; text-decoration-color: #008080; font-weight: bold\">1213190</span>, <span style=\"color: #008080; text-decoration-color: #008080; font-weight: bold\">1402817</span>, <span style=\"color: #008080; text-decoration-color: #008080; font-weight: bold\">303340</span>, <span style=\"color: #008080; text-decoration-color: #008080; font-weight: bold\">645062</span>, <span style=\"color: #008080; text-decoration-color: #008080; font-weight: bold\">712181</span>, <span style=\"color: #008080; text-decoration-color: #008080; font-weight: bold\">912196</span>, \n",
       "<span style=\"color: #008080; text-decoration-color: #008080; font-weight: bold\">1345919</span>, <span style=\"color: #008080; text-decoration-color: #008080; font-weight: bold\">344098</span>, <span style=\"color: #008080; text-decoration-color: #008080; font-weight: bold\">821709</span>, <span style=\"color: #008080; text-decoration-color: #008080; font-weight: bold\">1976681</span>, <span style=\"color: #008080; text-decoration-color: #008080; font-weight: bold\">183742</span>, <span style=\"color: #008080; text-decoration-color: #008080; font-weight: bold\">278596</span>, <span style=\"color: #008080; text-decoration-color: #008080; font-weight: bold\">710710</span>, <span style=\"color: #008080; text-decoration-color: #008080; font-weight: bold\">17364</span>, <span style=\"color: #008080; text-decoration-color: #008080; font-weight: bold\">76125</span>, <span style=\"color: #008080; text-decoration-color: #008080; font-weight: bold\">148950</span>, <span style=\"color: #008080; text-decoration-color: #008080; font-weight: bold\">420567</span><span style=\"font-weight: bold\">)</span>\n",
       "        GROUP BY\n",
       "            book_id\n",
       "<span style=\"font-weight: bold\">)</span>,\n",
       "tag_names AS <span style=\"font-weight: bold\">(</span>\n",
       "    SELECT\n",
       "        books_booktag.book_id as id,\n",
       "        <span style=\"color: #800080; text-decoration-color: #800080; font-weight: bold\">array_agg</span><span style=\"font-weight: bold\">(</span>DISTINCT books_booktag.name<span style=\"font-weight: bold\">)</span> as tags_list\n",
       "    FROM\n",
       "        books_booktag\n",
       "    WHERE\n",
       "        books_booktag.book_id IN <span style=\"font-weight: bold\">(</span><span style=\"color: #008080; text-decoration-color: #008080; font-weight: bold\">251127</span>, <span style=\"color: #008080; text-decoration-color: #008080; font-weight: bold\">359638</span>, <span style=\"color: #008080; text-decoration-color: #008080; font-weight: bold\">1156714</span>, <span style=\"color: #008080; text-decoration-color: #008080; font-weight: bold\">1213190</span>, <span style=\"color: #008080; text-decoration-color: #008080; font-weight: bold\">1402817</span>, <span style=\"color: #008080; text-decoration-color: #008080; font-weight: bold\">303340</span>, <span style=\"color: #008080; text-decoration-color: #008080; font-weight: bold\">645062</span>, <span style=\"color: #008080; text-decoration-color: #008080; font-weight: bold\">712181</span>, <span style=\"color: #008080; text-decoration-color: #008080; font-weight: bold\">912196</span>, \n",
       "<span style=\"color: #008080; text-decoration-color: #008080; font-weight: bold\">1345919</span>, <span style=\"color: #008080; text-decoration-color: #008080; font-weight: bold\">344098</span>, <span style=\"color: #008080; text-decoration-color: #008080; font-weight: bold\">821709</span>, <span style=\"color: #008080; text-decoration-color: #008080; font-weight: bold\">1976681</span>, <span style=\"color: #008080; text-decoration-color: #008080; font-weight: bold\">183742</span>, <span style=\"color: #008080; text-decoration-color: #008080; font-weight: bold\">278596</span>, <span style=\"color: #008080; text-decoration-color: #008080; font-weight: bold\">710710</span>, <span style=\"color: #008080; text-decoration-color: #008080; font-weight: bold\">17364</span>, <span style=\"color: #008080; text-decoration-color: #008080; font-weight: bold\">76125</span>, <span style=\"color: #008080; text-decoration-color: #008080; font-weight: bold\">148950</span>, <span style=\"color: #008080; text-decoration-color: #008080; font-weight: bold\">420567</span><span style=\"font-weight: bold\">)</span>\n",
       "        GROUP BY\n",
       "            book_id\n",
       "<span style=\"font-weight: bold\">)</span>\n",
       "SELECT\n",
       "    id,\n",
       "    review_count,\n",
       "    <span style=\"color: #800080; text-decoration-color: #800080; font-weight: bold\">COALESCE</span><span style=\"font-weight: bold\">(</span>tags_list, <span style=\"color: #008000; text-decoration-color: #008000\">'{}'</span><span style=\"font-weight: bold\">)</span> as tags_list\n",
       "FROM\n",
       "    review_count FULL OUTER JOIN tag_names USING <span style=\"font-weight: bold\">(</span>id<span style=\"font-weight: bold\">)</span>;\n",
       "\n",
       "\n",
       "</pre>\n"
      ],
      "text/plain": [
       "Duration\n",
       "  Total: \u001b[1;36m0.28\u001b[0m\n",
       "  SQL: \u001b[1;36m0.27\u001b[0m \n",
       "\n",
       "      \u001b[1m(\u001b[0mduration: \u001b[1;36m0.188\u001b[0m\u001b[1m)\u001b[0m   SELECT \u001b[32m\"books_book\"\u001b[0m.\u001b[32m\"id\"\u001b[0m FROM \u001b[32m\"books_book\"\u001b[0m WHERE \u001b[32m\"books_book\"\u001b[0m.\u001b[32m\"library_id\"\u001b[0m = \u001b[1;36m6\u001b[0m ORDER BY \n",
       "\u001b[32m\"books_book\"\u001b[0m.\u001b[32m\"release_date\"\u001b[0m ASC, \u001b[32m\"books_book\"\u001b[0m.\u001b[32m\"id\"\u001b[0m ASC LIMIT \u001b[1;36m20\u001b[0m \n",
       "\n",
       "      \u001b[1m(\u001b[0mduration: \u001b[1;36m0.006\u001b[0m\u001b[1m)\u001b[0m   SELECT \u001b[32m\"books_book\"\u001b[0m.\u001b[32m\"id\"\u001b[0m, \u001b[32m\"books_book\"\u001b[0m.\u001b[32m\"title\"\u001b[0m, \u001b[32m\"books_book\"\u001b[0m.\u001b[32m\"author_id\"\u001b[0m, \n",
       "\u001b[32m\"books_book\"\u001b[0m.\u001b[32m\"release_date\"\u001b[0m, \u001b[32m\"books_book\"\u001b[0m.\u001b[32m\"library_id\"\u001b[0m, \u001b[32m\"books_person\"\u001b[0m.\u001b[32m\"id\"\u001b[0m, \u001b[32m\"books_person\"\u001b[0m.\u001b[32m\"email\"\u001b[0m, \n",
       "\u001b[32m\"books_person\"\u001b[0m.\u001b[32m\"name\"\u001b[0m, \u001b[32m\"books_person\"\u001b[0m.\u001b[32m\"bio\"\u001b[0m FROM \u001b[32m\"books_book\"\u001b[0m INNER JOIN \u001b[32m\"books_person\"\u001b[0m ON \n",
       "\u001b[1m(\u001b[0m\u001b[32m\"books_book\"\u001b[0m.\u001b[32m\"author_id\"\u001b[0m = \u001b[32m\"books_person\"\u001b[0m.\u001b[32m\"id\"\u001b[0m\u001b[1m)\u001b[0m WHERE \u001b[32m\"books_book\"\u001b[0m.\u001b[32m\"id\"\u001b[0m IN \u001b[1m(\u001b[0m\u001b[1;36m251127\u001b[0m, \u001b[1;36m359638\u001b[0m, \u001b[1;36m1156714\u001b[0m, \u001b[1;36m1213190\u001b[0m, \n",
       "\u001b[1;36m1402817\u001b[0m, \u001b[1;36m303340\u001b[0m, \u001b[1;36m645062\u001b[0m, \u001b[1;36m712181\u001b[0m, \u001b[1;36m912196\u001b[0m, \u001b[1;36m1345919\u001b[0m, \u001b[1;36m344098\u001b[0m, \u001b[1;36m821709\u001b[0m, \u001b[1;36m1976681\u001b[0m, \u001b[1;36m183742\u001b[0m, \u001b[1;36m278596\u001b[0m, \u001b[1;36m710710\u001b[0m, \u001b[1;36m17364\u001b[0m, \u001b[1;36m76125\u001b[0m, \n",
       "\u001b[1;36m148950\u001b[0m, \u001b[1;36m420567\u001b[0m\u001b[1m)\u001b[0m ORDER BY \u001b[32m\"books_book\"\u001b[0m.\u001b[32m\"release_date\"\u001b[0m ASC, \u001b[32m\"books_book\"\u001b[0m.\u001b[32m\"id\"\u001b[0m ASC \n",
       "\n",
       "      \u001b[1m(\u001b[0mduration: \u001b[1;36m0.078\u001b[0m\u001b[1m)\u001b[0m   \n",
       "WITH review_count AS \u001b[1m(\u001b[0m\n",
       "    SELECT\n",
       "        books_review.book_id as id,\n",
       "        \u001b[1;35mcount\u001b[0m\u001b[1m(\u001b[0mbooks_review.id\u001b[1m)\u001b[0m as review_count\n",
       "    FROM\n",
       "        books_review\n",
       "    WHERE\n",
       "        books_review.book_id IN \u001b[1m(\u001b[0m\u001b[1;36m251127\u001b[0m, \u001b[1;36m359638\u001b[0m, \u001b[1;36m1156714\u001b[0m, \u001b[1;36m1213190\u001b[0m, \u001b[1;36m1402817\u001b[0m, \u001b[1;36m303340\u001b[0m, \u001b[1;36m645062\u001b[0m, \u001b[1;36m712181\u001b[0m, \u001b[1;36m912196\u001b[0m, \n",
       "\u001b[1;36m1345919\u001b[0m, \u001b[1;36m344098\u001b[0m, \u001b[1;36m821709\u001b[0m, \u001b[1;36m1976681\u001b[0m, \u001b[1;36m183742\u001b[0m, \u001b[1;36m278596\u001b[0m, \u001b[1;36m710710\u001b[0m, \u001b[1;36m17364\u001b[0m, \u001b[1;36m76125\u001b[0m, \u001b[1;36m148950\u001b[0m, \u001b[1;36m420567\u001b[0m\u001b[1m)\u001b[0m\n",
       "        GROUP BY\n",
       "            book_id\n",
       "\u001b[1m)\u001b[0m,\n",
       "tag_names AS \u001b[1m(\u001b[0m\n",
       "    SELECT\n",
       "        books_booktag.book_id as id,\n",
       "        \u001b[1;35marray_agg\u001b[0m\u001b[1m(\u001b[0mDISTINCT books_booktag.name\u001b[1m)\u001b[0m as tags_list\n",
       "    FROM\n",
       "        books_booktag\n",
       "    WHERE\n",
       "        books_booktag.book_id IN \u001b[1m(\u001b[0m\u001b[1;36m251127\u001b[0m, \u001b[1;36m359638\u001b[0m, \u001b[1;36m1156714\u001b[0m, \u001b[1;36m1213190\u001b[0m, \u001b[1;36m1402817\u001b[0m, \u001b[1;36m303340\u001b[0m, \u001b[1;36m645062\u001b[0m, \u001b[1;36m712181\u001b[0m, \u001b[1;36m912196\u001b[0m, \n",
       "\u001b[1;36m1345919\u001b[0m, \u001b[1;36m344098\u001b[0m, \u001b[1;36m821709\u001b[0m, \u001b[1;36m1976681\u001b[0m, \u001b[1;36m183742\u001b[0m, \u001b[1;36m278596\u001b[0m, \u001b[1;36m710710\u001b[0m, \u001b[1;36m17364\u001b[0m, \u001b[1;36m76125\u001b[0m, \u001b[1;36m148950\u001b[0m, \u001b[1;36m420567\u001b[0m\u001b[1m)\u001b[0m\n",
       "        GROUP BY\n",
       "            book_id\n",
       "\u001b[1m)\u001b[0m\n",
       "SELECT\n",
       "    id,\n",
       "    review_count,\n",
       "    \u001b[1;35mCOALESCE\u001b[0m\u001b[1m(\u001b[0mtags_list, \u001b[32m'\u001b[0m\u001b[32m{\u001b[0m\u001b[32m}\u001b[0m\u001b[32m'\u001b[0m\u001b[1m)\u001b[0m as tags_list\n",
       "FROM\n",
       "    review_count FULL OUTER JOIN tag_names USING \u001b[1m(\u001b[0mid\u001b[1m)\u001b[0m;\n",
       "\n",
       "\n"
      ]
     },
     "metadata": {},
     "output_type": "display_data"
    },
    {
     "data": {
      "text/html": [
       "<pre style=\"white-space:pre;overflow-x:auto;line-height:normal;font-family:Menlo,'DejaVu Sans Mono',consolas,'Courier New',monospace\"><span style=\"font-weight: bold\">{</span>\n",
       "    <span style=\"color: #008000; text-decoration-color: #008000\">'id'</span>: <span style=\"color: #008080; text-decoration-color: #008080; font-weight: bold\">251127</span>,\n",
       "    <span style=\"color: #008000; text-decoration-color: #008000\">'title'</span>: <span style=\"color: #008000; text-decoration-color: #008000\">'Design care there six must keep on.'</span>,\n",
       "    <span style=\"color: #008000; text-decoration-color: #008000\">'release_date'</span>: <span style=\"color: #800080; text-decoration-color: #800080; font-weight: bold\">datetime.date</span><span style=\"font-weight: bold\">(</span><span style=\"color: #008080; text-decoration-color: #008080; font-weight: bold\">1923</span>, <span style=\"color: #008080; text-decoration-color: #008080; font-weight: bold\">5</span>, <span style=\"color: #008080; text-decoration-color: #008080; font-weight: bold\">31</span><span style=\"font-weight: bold\">)</span>,\n",
       "    <span style=\"color: #008000; text-decoration-color: #008000\">'library_id'</span>: <span style=\"color: #008080; text-decoration-color: #008080; font-weight: bold\">6</span>,\n",
       "    <span style=\"color: #008000; text-decoration-color: #008000\">'review_count'</span>: <span style=\"color: #008080; text-decoration-color: #008080; font-weight: bold\">10</span>,\n",
       "    <span style=\"color: #008000; text-decoration-color: #008000\">'tag_names'</span>: <span style=\"font-weight: bold\">[</span><span style=\"color: #008000; text-decoration-color: #008000\">'audio'</span>, <span style=\"color: #008000; text-decoration-color: #008000\">'braille'</span>, <span style=\"color: #008000; text-decoration-color: #008000\">'comics'</span>, <span style=\"color: #008000; text-decoration-color: #008000\">'movie'</span><span style=\"font-weight: bold\">]</span>,\n",
       "    <span style=\"color: #008000; text-decoration-color: #008000\">'author'</span>: <span style=\"font-weight: bold\">{</span><span style=\"color: #008000; text-decoration-color: #008000\">'id'</span>: <span style=\"color: #008080; text-decoration-color: #008080; font-weight: bold\">3454</span>, <span style=\"color: #008000; text-decoration-color: #008000\">'name'</span>: <span style=\"color: #008000; text-decoration-color: #008000\">'Charles Ingram'</span><span style=\"font-weight: bold\">}</span>\n",
       "<span style=\"font-weight: bold\">}</span>\n",
       "</pre>\n"
      ],
      "text/plain": [
       "\u001b[1m{\u001b[0m\n",
       "    \u001b[32m'id'\u001b[0m: \u001b[1;36m251127\u001b[0m,\n",
       "    \u001b[32m'title'\u001b[0m: \u001b[32m'Design care there six must keep on.'\u001b[0m,\n",
       "    \u001b[32m'release_date'\u001b[0m: \u001b[1;35mdatetime.date\u001b[0m\u001b[1m(\u001b[0m\u001b[1;36m1923\u001b[0m, \u001b[1;36m5\u001b[0m, \u001b[1;36m31\u001b[0m\u001b[1m)\u001b[0m,\n",
       "    \u001b[32m'library_id'\u001b[0m: \u001b[1;36m6\u001b[0m,\n",
       "    \u001b[32m'review_count'\u001b[0m: \u001b[1;36m10\u001b[0m,\n",
       "    \u001b[32m'tag_names'\u001b[0m: \u001b[1m[\u001b[0m\u001b[32m'audio'\u001b[0m, \u001b[32m'braille'\u001b[0m, \u001b[32m'comics'\u001b[0m, \u001b[32m'movie'\u001b[0m\u001b[1m]\u001b[0m,\n",
       "    \u001b[32m'author'\u001b[0m: \u001b[1m{\u001b[0m\u001b[32m'id'\u001b[0m: \u001b[1;36m3454\u001b[0m, \u001b[32m'name'\u001b[0m: \u001b[32m'Charles Ingram'\u001b[0m\u001b[1m}\u001b[0m\n",
       "\u001b[1m}\u001b[0m\n"
      ]
     },
     "metadata": {},
     "output_type": "display_data"
    }
   ],
   "source": [
    "with perf_counter(time_sql=True, print_sql=True):\n",
    "    qs = get_queryset_using_ids(alexandria_id, page_size=20)\n",
    "    qs = annotate_books_cte(list(qs))\n",
    "\n",
    "    result = serialize_books(qs)\n",
    "print(result[0])"
   ]
  },
  {
   "cell_type": "code",
   "execution_count": 29,
   "metadata": {},
   "outputs": [
    {
     "data": {
      "text/html": [
       "<pre style=\"white-space:pre;overflow-x:auto;line-height:normal;font-family:Menlo,'DejaVu Sans Mono',consolas,'Courier New',monospace\">┏━━━━━━━━━━━━━━━━━━━━━━━━━━┳━━━━━━━━━━┓\n",
       "┃<span style=\"font-weight: bold\"> name                     </span>┃<span style=\"font-weight: bold\"> duration </span>┃\n",
       "┡━━━━━━━━━━━━━━━━━━━━━━━━━━╇━━━━━━━━━━┩\n",
       "│<span style=\"color: #008000; text-decoration-color: #008000; font-weight: bold\"> annotate_books_aggregate </span>│ <span style=\"color: #008080; text-decoration-color: #008080\">0.56</span>     │\n",
       "├──────────────────────────┼──────────┤\n",
       "│<span style=\"color: #008000; text-decoration-color: #008000; font-weight: bold\"> annotate_books_subquery  </span>│ <span style=\"color: #008080; text-decoration-color: #008080\">0.44</span>     │\n",
       "├──────────────────────────┼──────────┤\n",
       "│<span style=\"color: #008000; text-decoration-color: #008000; font-weight: bold\"> annotate_books_python    </span>│ <span style=\"color: #008080; text-decoration-color: #008080\">0.26</span>     │\n",
       "├──────────────────────────┼──────────┤\n",
       "│<span style=\"color: #008000; text-decoration-color: #008000; font-weight: bold\"> annotate_books_cte       </span>│ <span style=\"color: #008080; text-decoration-color: #008080\">0.22</span>     │\n",
       "└──────────────────────────┴──────────┘\n",
       "</pre>\n"
      ],
      "text/plain": [
       "┏━━━━━━━━━━━━━━━━━━━━━━━━━━┳━━━━━━━━━━┓\n",
       "┃\u001b[1m \u001b[0m\u001b[1mname                    \u001b[0m\u001b[1m \u001b[0m┃\u001b[1m \u001b[0m\u001b[1mduration\u001b[0m\u001b[1m \u001b[0m┃\n",
       "┡━━━━━━━━━━━━━━━━━━━━━━━━━━╇━━━━━━━━━━┩\n",
       "│\u001b[1;32m \u001b[0m\u001b[1;32mannotate_books_aggregate\u001b[0m\u001b[1;32m \u001b[0m│ \u001b[36m0.56\u001b[0m     │\n",
       "├──────────────────────────┼──────────┤\n",
       "│\u001b[1;32m \u001b[0m\u001b[1;32mannotate_books_subquery \u001b[0m\u001b[1;32m \u001b[0m│ \u001b[36m0.44\u001b[0m     │\n",
       "├──────────────────────────┼──────────┤\n",
       "│\u001b[1;32m \u001b[0m\u001b[1;32mannotate_books_python   \u001b[0m\u001b[1;32m \u001b[0m│ \u001b[36m0.26\u001b[0m     │\n",
       "├──────────────────────────┼──────────┤\n",
       "│\u001b[1;32m \u001b[0m\u001b[1;32mannotate_books_cte      \u001b[0m\u001b[1;32m \u001b[0m│ \u001b[36m0.22\u001b[0m     │\n",
       "└──────────────────────────┴──────────┘\n"
      ]
     },
     "metadata": {},
     "output_type": "display_data"
    }
   ],
   "source": [
    "from rich.table import Table\n",
    "import time\n",
    "from utils.perf_display import format_duration\n",
    "\n",
    "table = Table(show_lines=True)\n",
    "table.add_column(\"name\", style=\"bold green\")\n",
    "table.add_column(\"duration\")\n",
    "\n",
    "\n",
    "def add_row(annotate_func):\n",
    "    start = time.perf_counter()\n",
    "    qs = get_queryset_using_ids(alexandria_id, page_size=100)\n",
    "    qs = annotate_func(qs)\n",
    "    serialize_books(qs)\n",
    "    duration = time.perf_counter() - start\n",
    "    table.add_row(annotate_func.__name__, format_duration(duration))\n",
    "\n",
    "\n",
    "for annotate_func in [\n",
    "    annotate_books_aggregate,\n",
    "    annotate_books_subquery,\n",
    "    annotate_books_python,\n",
    "    annotate_books_cte,\n",
    "]:\n",
    "    add_row(annotate_func)\n",
    "\n",
    "console.print(table)"
   ]
  },
  {
   "attachments": {},
   "cell_type": "markdown",
   "metadata": {},
   "source": [
    "We could even merge this query with the one retrieving all the `Book` and `Person` fields.\n",
    "\n",
    "This would require to write more raw SQL code, though, which is not always a good idea\n"
   ]
  }
 ],
 "metadata": {
  "kernelspec": {
   "display_name": "django-perfs-playground-tFy-cSse",
   "language": "python",
   "name": "python3"
  },
  "language_info": {
   "codemirror_mode": {
    "name": "ipython",
    "version": 3
   },
   "file_extension": ".py",
   "mimetype": "text/x-python",
   "name": "python",
   "nbconvert_exporter": "python",
   "pygments_lexer": "ipython3",
   "version": "3.10.5"
  },
  "orig_nbformat": 4
 },
 "nbformat": 4,
 "nbformat_minor": 2
}
