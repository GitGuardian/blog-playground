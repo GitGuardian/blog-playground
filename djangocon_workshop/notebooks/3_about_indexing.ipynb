{
 "cells": [
  {
   "attachments": {},
   "cell_type": "markdown",
   "metadata": {},
   "source": [
    "Same setup as before\n"
   ]
  },
  {
   "cell_type": "code",
   "execution_count": 1,
   "metadata": {},
   "outputs": [],
   "source": [
    "import os\n",
    "\n",
    "os.chdir(\"../..\")\n",
    "import django_init\n"
   ]
  },
  {
   "cell_type": "code",
   "execution_count": 2,
   "metadata": {},
   "outputs": [],
   "source": [
    "%load_ext autoreload\n",
    "%autoreload 2"
   ]
  },
  {
   "cell_type": "code",
   "execution_count": 3,
   "metadata": {},
   "outputs": [],
   "source": [
    "# For better printing\n",
    "\n",
    "from rich import print\n",
    "from rich.console import Console\n",
    "from rich.table import Table\n",
    "\n",
    "console = Console()\n",
    "\n",
    "from django.db import connection"
   ]
  },
  {
   "cell_type": "code",
   "execution_count": 4,
   "metadata": {},
   "outputs": [],
   "source": [
    "from utils.perf_display import format_duration, perf_counter"
   ]
  },
  {
   "cell_type": "code",
   "execution_count": 5,
   "metadata": {},
   "outputs": [],
   "source": [
    "from books.models import Library, Review, Book\n",
    "from django.db.models import Count\n",
    "\n",
    "public = Library.objects.order_by(\"-id\").first()\n",
    "public_id = public.id\n",
    "\n",
    "# Get the library with the most books\n",
    "alexandria_id, book_count = (\n",
    "    Book.objects.values(\"library_id\")\n",
    "    .annotate(book_count=Count(\"id\"))\n",
    "    .order_by(\"-book_count\")\n",
    "    .values_list(\"library_id\", \"book_count\")\n",
    "    .first()\n",
    ")\n",
    "\n",
    "alexandria = Library.objects.get(id=alexandria_id)"
   ]
  },
  {
   "attachments": {},
   "cell_type": "markdown",
   "metadata": {},
   "source": [
    "---\n",
    "\n",
    "## 2nd exercice\n",
    "\n",
    "Let's continue with another usual example.\n",
    "We want to implement a standard endpoint returning a page of filtered and ordered reviews.\n",
    "\n",
    "A minimal implementation is available in [this file](\"../../../../books/views/review/simple.py).\n"
   ]
  },
  {
   "cell_type": "code",
   "execution_count": 6,
   "metadata": {},
   "outputs": [
    {
     "name": "stderr",
     "output_type": "stream",
     "text": [
      "/home/laurent/.local/share/virtualenvs/django-perfs-playground-tFy-cSse/lib/python3.10/site-packages/rest_framework/pagination.py:200: UnorderedObjectListWarning: Pagination may yield inconsistent results with an unordered object_list: <class 'books.models.review.Review'> QuerySet.\n",
      "  paginator = self.django_paginator_class(queryset, page_size)\n"
     ]
    }
   ],
   "source": [
    "# Let's try the existing endpoint\n",
    "from rest_framework.test import APIClient\n",
    "\n",
    "client = APIClient()\n",
    "result = client.get(f\"/reviews/{alexandria_id}/simple\")\n"
   ]
  },
  {
   "attachments": {},
   "cell_type": "markdown",
   "metadata": {},
   "source": [
    "<br>\n",
    "<br>\n",
    "<br>\n"
   ]
  },
  {
   "attachments": {},
   "cell_type": "markdown",
   "metadata": {},
   "source": [
    "---\n",
    "\n",
    "Let's try two different orderings:\n",
    "\n",
    "- by descending `written_at` datetime\n",
    "- by ascending `id`\n"
   ]
  },
  {
   "cell_type": "code",
   "execution_count": 7,
   "metadata": {},
   "outputs": [
    {
     "data": {
      "text/html": [
       "<pre style=\"white-space:pre;overflow-x:auto;line-height:normal;font-family:Menlo,'DejaVu Sans Mono',consolas,'Courier New',monospace\">ordering: -written_at\n",
       "  Total: <span style=\"color: #008080; text-decoration-color: #008080; font-weight: bold\">16.65</span>\n",
       "  SQL: <span style=\"color: #008080; text-decoration-color: #008080; font-weight: bold\">16.64</span> \n",
       "\n",
       "      <span style=\"font-weight: bold\">(</span>duration: <span style=\"color: #008080; text-decoration-color: #008080; font-weight: bold\">16.644</span><span style=\"font-weight: bold\">)</span>   SELECT <span style=\"color: #008000; text-decoration-color: #008000\">\"books_review\"</span>.<span style=\"color: #008000; text-decoration-color: #008000\">\"id\"</span>, <span style=\"color: #008000; text-decoration-color: #008000\">\"books_review\"</span>.<span style=\"color: #008000; text-decoration-color: #008000\">\"book_id\"</span>, <span style=\"color: #008000; text-decoration-color: #008000\">\"books_review\"</span>.<span style=\"color: #008000; text-decoration-color: #008000\">\"reader_id\"</span>, \n",
       "<span style=\"color: #008000; text-decoration-color: #008000\">\"books_review\"</span>.<span style=\"color: #008000; text-decoration-color: #008000\">\"rating\"</span>, <span style=\"color: #008000; text-decoration-color: #008000\">\"books_review\"</span>.<span style=\"color: #008000; text-decoration-color: #008000\">\"comments\"</span>, <span style=\"color: #008000; text-decoration-color: #008000\">\"books_review\"</span>.<span style=\"color: #008000; text-decoration-color: #008000\">\"written_at\"</span>, <span style=\"color: #008000; text-decoration-color: #008000\">\"books_review\"</span>.<span style=\"color: #008000; text-decoration-color: #008000\">\"library_id\"</span> FROM \n",
       "<span style=\"color: #008000; text-decoration-color: #008000\">\"books_review\"</span> WHERE <span style=\"color: #008000; text-decoration-color: #008000\">\"books_review\"</span>.<span style=\"color: #008000; text-decoration-color: #008000\">\"library_id\"</span> = <span style=\"color: #008080; text-decoration-color: #008080; font-weight: bold\">6</span> ORDER BY <span style=\"color: #008000; text-decoration-color: #008000\">\"books_review\"</span>.<span style=\"color: #008000; text-decoration-color: #008000\">\"written_at\"</span> DESC LIMIT <span style=\"color: #008080; text-decoration-color: #008080; font-weight: bold\">20</span>\n",
       "</pre>\n"
      ],
      "text/plain": [
       "ordering: -written_at\n",
       "  Total: \u001b[1;36m16.65\u001b[0m\n",
       "  SQL: \u001b[1;36m16.64\u001b[0m \n",
       "\n",
       "      \u001b[1m(\u001b[0mduration: \u001b[1;36m16.644\u001b[0m\u001b[1m)\u001b[0m   SELECT \u001b[32m\"books_review\"\u001b[0m.\u001b[32m\"id\"\u001b[0m, \u001b[32m\"books_review\"\u001b[0m.\u001b[32m\"book_id\"\u001b[0m, \u001b[32m\"books_review\"\u001b[0m.\u001b[32m\"reader_id\"\u001b[0m, \n",
       "\u001b[32m\"books_review\"\u001b[0m.\u001b[32m\"rating\"\u001b[0m, \u001b[32m\"books_review\"\u001b[0m.\u001b[32m\"comments\"\u001b[0m, \u001b[32m\"books_review\"\u001b[0m.\u001b[32m\"written_at\"\u001b[0m, \u001b[32m\"books_review\"\u001b[0m.\u001b[32m\"library_id\"\u001b[0m FROM \n",
       "\u001b[32m\"books_review\"\u001b[0m WHERE \u001b[32m\"books_review\"\u001b[0m.\u001b[32m\"library_id\"\u001b[0m = \u001b[1;36m6\u001b[0m ORDER BY \u001b[32m\"books_review\"\u001b[0m.\u001b[32m\"written_at\"\u001b[0m DESC LIMIT \u001b[1;36m20\u001b[0m\n"
      ]
     },
     "metadata": {},
     "output_type": "display_data"
    }
   ],
   "source": [
    "with perf_counter(message=f\"ordering: -written_at\", time_sql=True, print_sql=True):\n",
    "    result = client.get(f\"/reviews/{alexandria_id}/ordered?ordering=-written_at\")"
   ]
  },
  {
   "cell_type": "code",
   "execution_count": 8,
   "metadata": {},
   "outputs": [
    {
     "data": {
      "text/html": [
       "<pre style=\"white-space:pre;overflow-x:auto;line-height:normal;font-family:Menlo,'DejaVu Sans Mono',consolas,'Courier New',monospace\">ordering: id\n",
       "  Total: <span style=\"color: #008080; text-decoration-color: #008080; font-weight: bold\">0.02</span>\n",
       "  SQL: <span style=\"color: #008080; text-decoration-color: #008080; font-weight: bold\">0.01</span> \n",
       "\n",
       "      <span style=\"font-weight: bold\">(</span>duration: <span style=\"color: #008080; text-decoration-color: #008080; font-weight: bold\">0.009</span><span style=\"font-weight: bold\">)</span>   SELECT <span style=\"color: #008000; text-decoration-color: #008000\">\"books_review\"</span>.<span style=\"color: #008000; text-decoration-color: #008000\">\"id\"</span>, <span style=\"color: #008000; text-decoration-color: #008000\">\"books_review\"</span>.<span style=\"color: #008000; text-decoration-color: #008000\">\"book_id\"</span>, <span style=\"color: #008000; text-decoration-color: #008000\">\"books_review\"</span>.<span style=\"color: #008000; text-decoration-color: #008000\">\"reader_id\"</span>, \n",
       "<span style=\"color: #008000; text-decoration-color: #008000\">\"books_review\"</span>.<span style=\"color: #008000; text-decoration-color: #008000\">\"rating\"</span>, <span style=\"color: #008000; text-decoration-color: #008000\">\"books_review\"</span>.<span style=\"color: #008000; text-decoration-color: #008000\">\"comments\"</span>, <span style=\"color: #008000; text-decoration-color: #008000\">\"books_review\"</span>.<span style=\"color: #008000; text-decoration-color: #008000\">\"written_at\"</span>, <span style=\"color: #008000; text-decoration-color: #008000\">\"books_review\"</span>.<span style=\"color: #008000; text-decoration-color: #008000\">\"library_id\"</span> FROM \n",
       "<span style=\"color: #008000; text-decoration-color: #008000\">\"books_review\"</span> WHERE <span style=\"color: #008000; text-decoration-color: #008000\">\"books_review\"</span>.<span style=\"color: #008000; text-decoration-color: #008000\">\"library_id\"</span> = <span style=\"color: #008080; text-decoration-color: #008080; font-weight: bold\">6</span> ORDER BY <span style=\"color: #008000; text-decoration-color: #008000\">\"books_review\"</span>.<span style=\"color: #008000; text-decoration-color: #008000\">\"id\"</span> ASC LIMIT <span style=\"color: #008080; text-decoration-color: #008080; font-weight: bold\">20</span>\n",
       "</pre>\n"
      ],
      "text/plain": [
       "ordering: id\n",
       "  Total: \u001b[1;36m0.02\u001b[0m\n",
       "  SQL: \u001b[1;36m0.01\u001b[0m \n",
       "\n",
       "      \u001b[1m(\u001b[0mduration: \u001b[1;36m0.009\u001b[0m\u001b[1m)\u001b[0m   SELECT \u001b[32m\"books_review\"\u001b[0m.\u001b[32m\"id\"\u001b[0m, \u001b[32m\"books_review\"\u001b[0m.\u001b[32m\"book_id\"\u001b[0m, \u001b[32m\"books_review\"\u001b[0m.\u001b[32m\"reader_id\"\u001b[0m, \n",
       "\u001b[32m\"books_review\"\u001b[0m.\u001b[32m\"rating\"\u001b[0m, \u001b[32m\"books_review\"\u001b[0m.\u001b[32m\"comments\"\u001b[0m, \u001b[32m\"books_review\"\u001b[0m.\u001b[32m\"written_at\"\u001b[0m, \u001b[32m\"books_review\"\u001b[0m.\u001b[32m\"library_id\"\u001b[0m FROM \n",
       "\u001b[32m\"books_review\"\u001b[0m WHERE \u001b[32m\"books_review\"\u001b[0m.\u001b[32m\"library_id\"\u001b[0m = \u001b[1;36m6\u001b[0m ORDER BY \u001b[32m\"books_review\"\u001b[0m.\u001b[32m\"id\"\u001b[0m ASC LIMIT \u001b[1;36m20\u001b[0m\n"
      ]
     },
     "metadata": {},
     "output_type": "display_data"
    }
   ],
   "source": [
    "with perf_counter(message=f\"ordering: id\", time_sql=True, print_sql=True):\n",
    "    result = client.get(f\"/reviews/{alexandria_id}/ordered?ordering=id\")"
   ]
  },
  {
   "attachments": {},
   "cell_type": "markdown",
   "metadata": {},
   "source": [
    "The SQL queries are exactly the same, except for the `ORDER BY` clause, and yet, they have a really different execution time.\n",
    "\n",
    "We won't be able to improve the overall duration by improving the query (while keeping the expected behaviour).\n",
    "<br>\n",
    "\n",
    "Let's get a better summary of ordering duration.\n"
   ]
  },
  {
   "cell_type": "code",
   "execution_count": 9,
   "metadata": {},
   "outputs": [
    {
     "data": {
      "text/html": [
       "<pre style=\"white-space:pre;overflow-x:auto;line-height:normal;font-family:Menlo,'DejaVu Sans Mono',consolas,'Courier New',monospace\">┏━━━━━━━━━━━━━━━━━━━━━━━━━━━━━┳━━━━━━━━━━━━┳━━━━━━━━━━━┓\n",
       "┃<span style=\"font-weight: bold\"> Query params                </span>┃<span style=\"font-weight: bold\"> Library    </span>┃<span style=\"font-weight: bold\"> duration  </span>┃\n",
       "┡━━━━━━━━━━━━━━━━━━━━━━━━━━━━━╇━━━━━━━━━━━━╇━━━━━━━━━━━┩\n",
       "│                             │ Public     │ <span style=\"color: #008000; text-decoration-color: #008000; font-weight: bold\"> 0.008 s</span>  │\n",
       "├─────────────────────────────┼────────────┼───────────┤\n",
       "│                             │ Alexandria │ <span style=\"color: #008000; text-decoration-color: #008000; font-weight: bold\"> 0.006 s</span>  │\n",
       "├─────────────────────────────┼────────────┼───────────┤\n",
       "│ ordering=id                 │ Public     │ <span style=\"color: #ff0000; text-decoration-color: #ff0000; font-weight: bold\"> 23.688 s</span> │\n",
       "├─────────────────────────────┼────────────┼───────────┤\n",
       "│ ordering=id                 │ Alexandria │ <span style=\"color: #008000; text-decoration-color: #008000; font-weight: bold\"> 0.014 s</span>  │\n",
       "├─────────────────────────────┼────────────┼───────────┤\n",
       "│ ordering=written_at         │ Public     │ <span style=\"color: #008000; text-decoration-color: #008000; font-weight: bold\"> 0.949 s</span>  │\n",
       "├─────────────────────────────┼────────────┼───────────┤\n",
       "│ ordering=written_at         │ Alexandria │ <span style=\"color: #ff0000; text-decoration-color: #ff0000; font-weight: bold\"> 10.748 s</span> │\n",
       "├─────────────────────────────┼────────────┼───────────┤\n",
       "│ ordering=rating             │ Public     │ <span style=\"color: #008000; text-decoration-color: #008000; font-weight: bold\"> 0.127 s</span>  │\n",
       "├─────────────────────────────┼────────────┼───────────┤\n",
       "│ ordering=rating             │ Alexandria │ <span style=\"color: #ff0000; text-decoration-color: #ff0000; font-weight: bold\"> 9.138 s</span>  │\n",
       "├─────────────────────────────┼────────────┼───────────┤\n",
       "│ ordering=-id                │ Public     │ <span style=\"color: #008000; text-decoration-color: #008000; font-weight: bold\"> 0.337 s</span>  │\n",
       "├─────────────────────────────┼────────────┼───────────┤\n",
       "│ ordering=-id                │ Alexandria │ <span style=\"color: #008000; text-decoration-color: #008000; font-weight: bold\"> 0.005 s</span>  │\n",
       "├─────────────────────────────┼────────────┼───────────┤\n",
       "│ ordering=-written_at        │ Public     │ <span style=\"color: #008000; text-decoration-color: #008000; font-weight: bold\"> 0.689 s</span>  │\n",
       "├─────────────────────────────┼────────────┼───────────┤\n",
       "│ ordering=-written_at        │ Alexandria │ <span style=\"color: #808000; text-decoration-color: #808000; font-weight: bold\"> 2.864 s</span>  │\n",
       "├─────────────────────────────┼────────────┼───────────┤\n",
       "│ ordering=-rating            │ Public     │ <span style=\"color: #008000; text-decoration-color: #008000; font-weight: bold\"> 0.108 s</span>  │\n",
       "├─────────────────────────────┼────────────┼───────────┤\n",
       "│ ordering=-rating            │ Alexandria │ <span style=\"color: #808000; text-decoration-color: #808000; font-weight: bold\"> 2.655 s</span>  │\n",
       "├─────────────────────────────┼────────────┼───────────┤\n",
       "│ ordering=-written_at,rating │ Public     │ <span style=\"color: #008000; text-decoration-color: #008000; font-weight: bold\"> 0.124 s</span>  │\n",
       "├─────────────────────────────┼────────────┼───────────┤\n",
       "│ ordering=-written_at,rating │ Alexandria │ <span style=\"color: #808000; text-decoration-color: #808000; font-weight: bold\"> 2.236 s</span>  │\n",
       "└─────────────────────────────┴────────────┴───────────┘\n",
       "</pre>\n"
      ],
      "text/plain": [
       "┏━━━━━━━━━━━━━━━━━━━━━━━━━━━━━┳━━━━━━━━━━━━┳━━━━━━━━━━━┓\n",
       "┃\u001b[1m \u001b[0m\u001b[1mQuery params               \u001b[0m\u001b[1m \u001b[0m┃\u001b[1m \u001b[0m\u001b[1mLibrary   \u001b[0m\u001b[1m \u001b[0m┃\u001b[1m \u001b[0m\u001b[1mduration \u001b[0m\u001b[1m \u001b[0m┃\n",
       "┡━━━━━━━━━━━━━━━━━━━━━━━━━━━━━╇━━━━━━━━━━━━╇━━━━━━━━━━━┩\n",
       "│                             │ Public     │ \u001b[1;32m 0.008 s\u001b[0m  │\n",
       "├─────────────────────────────┼────────────┼───────────┤\n",
       "│                             │ Alexandria │ \u001b[1;32m 0.006 s\u001b[0m  │\n",
       "├─────────────────────────────┼────────────┼───────────┤\n",
       "│ ordering=id                 │ Public     │ \u001b[1;91m 23.688 s\u001b[0m │\n",
       "├─────────────────────────────┼────────────┼───────────┤\n",
       "│ ordering=id                 │ Alexandria │ \u001b[1;32m 0.014 s\u001b[0m  │\n",
       "├─────────────────────────────┼────────────┼───────────┤\n",
       "│ ordering=written_at         │ Public     │ \u001b[1;32m 0.949 s\u001b[0m  │\n",
       "├─────────────────────────────┼────────────┼───────────┤\n",
       "│ ordering=written_at         │ Alexandria │ \u001b[1;91m 10.748 s\u001b[0m │\n",
       "├─────────────────────────────┼────────────┼───────────┤\n",
       "│ ordering=rating             │ Public     │ \u001b[1;32m 0.127 s\u001b[0m  │\n",
       "├─────────────────────────────┼────────────┼───────────┤\n",
       "│ ordering=rating             │ Alexandria │ \u001b[1;91m 9.138 s\u001b[0m  │\n",
       "├─────────────────────────────┼────────────┼───────────┤\n",
       "│ ordering=-id                │ Public     │ \u001b[1;32m 0.337 s\u001b[0m  │\n",
       "├─────────────────────────────┼────────────┼───────────┤\n",
       "│ ordering=-id                │ Alexandria │ \u001b[1;32m 0.005 s\u001b[0m  │\n",
       "├─────────────────────────────┼────────────┼───────────┤\n",
       "│ ordering=-written_at        │ Public     │ \u001b[1;32m 0.689 s\u001b[0m  │\n",
       "├─────────────────────────────┼────────────┼───────────┤\n",
       "│ ordering=-written_at        │ Alexandria │ \u001b[1;33m 2.864 s\u001b[0m  │\n",
       "├─────────────────────────────┼────────────┼───────────┤\n",
       "│ ordering=-rating            │ Public     │ \u001b[1;32m 0.108 s\u001b[0m  │\n",
       "├─────────────────────────────┼────────────┼───────────┤\n",
       "│ ordering=-rating            │ Alexandria │ \u001b[1;33m 2.655 s\u001b[0m  │\n",
       "├─────────────────────────────┼────────────┼───────────┤\n",
       "│ ordering=-written_at,rating │ Public     │ \u001b[1;32m 0.124 s\u001b[0m  │\n",
       "├─────────────────────────────┼────────────┼───────────┤\n",
       "│ ordering=-written_at,rating │ Alexandria │ \u001b[1;33m 2.236 s\u001b[0m  │\n",
       "└─────────────────────────────┴────────────┴───────────┘\n"
      ]
     },
     "metadata": {},
     "output_type": "display_data"
    }
   ],
   "source": [
    "from books.tests.benchmarks import benchmark_list_reviews\n",
    "\n",
    "# benchmark the ordering endpoint\n",
    "benchmark_list_reviews(\n",
    "    [\"simple-list-reviews\", \"ordered-list-reviews\"],\n",
    "    library_ids=[public_id, alexandria_id],\n",
    ")\n"
   ]
  },
  {
   "attachments": {},
   "cell_type": "markdown",
   "metadata": {},
   "source": [
    "A few remarks about these results:\n",
    "\n",
    "- All these orderings are quite fast for `Public`, and all about the same duration\n",
    "- `Alexandria` is usually slower than `Public`, except for `id`, which is significantly faster\n",
    "- All `Alexandria` orderings are slow, except `id`\n",
    "\n",
    "We saw previously we cannot explain these differences just by looking at the SQL query.\n",
    "\n",
    "<br>\n",
    "<br>\n",
    "\n",
    "We'll now use a new tool: the **`EXPLAIN ANALYZE` SQL statement**. This will display the exact internal operations used by the PostgreSQL engine.\n",
    "\n",
    "In particular, we'll be able to inspect which indexes are used by each query.\n"
   ]
  },
  {
   "cell_type": "code",
   "execution_count": 10,
   "metadata": {},
   "outputs": [],
   "source": [
    "def explain_qs(library_id, ordering):\n",
    "    with perf_counter(message=f\"ordering: {ordering}\", time_sql=True, print_sql=True):\n",
    "        result = (\n",
    "            Review.objects.filter(library_id=library_id)\n",
    "            .order_by(ordering)[:20]\n",
    "            .explain(analyze=True)\n",
    "        )\n",
    "    print(result)\n",
    "    console.rule()"
   ]
  },
  {
   "cell_type": "code",
   "execution_count": 11,
   "metadata": {},
   "outputs": [
    {
     "data": {
      "text/html": [
       "<pre style=\"white-space:pre;overflow-x:auto;line-height:normal;font-family:Menlo,'DejaVu Sans Mono',consolas,'Courier New',monospace\">ordering: -written_at\n",
       "  Total: <span style=\"color: #008080; text-decoration-color: #008080; font-weight: bold\">2.55</span>\n",
       "  SQL: <span style=\"color: #008080; text-decoration-color: #008080; font-weight: bold\">2.55</span> \n",
       "\n",
       "      <span style=\"font-weight: bold\">(</span>duration: <span style=\"color: #008080; text-decoration-color: #008080; font-weight: bold\">2.548</span><span style=\"font-weight: bold\">)</span>   EXPLAIN <span style=\"font-weight: bold\">(</span>ANALYZE true<span style=\"font-weight: bold\">)</span> SELECT <span style=\"color: #008000; text-decoration-color: #008000\">\"books_review\"</span>.<span style=\"color: #008000; text-decoration-color: #008000\">\"id\"</span>, <span style=\"color: #008000; text-decoration-color: #008000\">\"books_review\"</span>.<span style=\"color: #008000; text-decoration-color: #008000\">\"book_id\"</span>, \n",
       "<span style=\"color: #008000; text-decoration-color: #008000\">\"books_review\"</span>.<span style=\"color: #008000; text-decoration-color: #008000\">\"reader_id\"</span>, <span style=\"color: #008000; text-decoration-color: #008000\">\"books_review\"</span>.<span style=\"color: #008000; text-decoration-color: #008000\">\"rating\"</span>, <span style=\"color: #008000; text-decoration-color: #008000\">\"books_review\"</span>.<span style=\"color: #008000; text-decoration-color: #008000\">\"comments\"</span>, <span style=\"color: #008000; text-decoration-color: #008000\">\"books_review\"</span>.<span style=\"color: #008000; text-decoration-color: #008000\">\"written_at\"</span>, \n",
       "<span style=\"color: #008000; text-decoration-color: #008000\">\"books_review\"</span>.<span style=\"color: #008000; text-decoration-color: #008000\">\"library_id\"</span> FROM <span style=\"color: #008000; text-decoration-color: #008000\">\"books_review\"</span> WHERE <span style=\"color: #008000; text-decoration-color: #008000\">\"books_review\"</span>.<span style=\"color: #008000; text-decoration-color: #008000\">\"library_id\"</span> = <span style=\"color: #008080; text-decoration-color: #008080; font-weight: bold\">6</span> ORDER BY \n",
       "<span style=\"color: #008000; text-decoration-color: #008000\">\"books_review\"</span>.<span style=\"color: #008000; text-decoration-color: #008000\">\"written_at\"</span> DESC LIMIT <span style=\"color: #008080; text-decoration-color: #008080; font-weight: bold\">20</span>\n",
       "</pre>\n"
      ],
      "text/plain": [
       "ordering: -written_at\n",
       "  Total: \u001b[1;36m2.55\u001b[0m\n",
       "  SQL: \u001b[1;36m2.55\u001b[0m \n",
       "\n",
       "      \u001b[1m(\u001b[0mduration: \u001b[1;36m2.548\u001b[0m\u001b[1m)\u001b[0m   EXPLAIN \u001b[1m(\u001b[0mANALYZE true\u001b[1m)\u001b[0m SELECT \u001b[32m\"books_review\"\u001b[0m.\u001b[32m\"id\"\u001b[0m, \u001b[32m\"books_review\"\u001b[0m.\u001b[32m\"book_id\"\u001b[0m, \n",
       "\u001b[32m\"books_review\"\u001b[0m.\u001b[32m\"reader_id\"\u001b[0m, \u001b[32m\"books_review\"\u001b[0m.\u001b[32m\"rating\"\u001b[0m, \u001b[32m\"books_review\"\u001b[0m.\u001b[32m\"comments\"\u001b[0m, \u001b[32m\"books_review\"\u001b[0m.\u001b[32m\"written_at\"\u001b[0m, \n",
       "\u001b[32m\"books_review\"\u001b[0m.\u001b[32m\"library_id\"\u001b[0m FROM \u001b[32m\"books_review\"\u001b[0m WHERE \u001b[32m\"books_review\"\u001b[0m.\u001b[32m\"library_id\"\u001b[0m = \u001b[1;36m6\u001b[0m ORDER BY \n",
       "\u001b[32m\"books_review\"\u001b[0m.\u001b[32m\"written_at\"\u001b[0m DESC LIMIT \u001b[1;36m20\u001b[0m\n"
      ]
     },
     "metadata": {},
     "output_type": "display_data"
    },
    {
     "data": {
      "text/html": [
       "<pre style=\"white-space:pre;overflow-x:auto;line-height:normal;font-family:Menlo,'DejaVu Sans Mono',consolas,'Courier New',monospace\">Limit  <span style=\"font-weight: bold\">(</span><span style=\"color: #808000; text-decoration-color: #808000\">cost</span>=<span style=\"color: #008080; text-decoration-color: #008080; font-weight: bold\">1447614.65</span>..<span style=\"color: #008080; text-decoration-color: #008080; font-weight: bold\">1447616.98</span> <span style=\"color: #808000; text-decoration-color: #808000\">rows</span>=<span style=\"color: #008080; text-decoration-color: #008080; font-weight: bold\">20</span> <span style=\"color: #808000; text-decoration-color: #808000\">width</span>=<span style=\"color: #008080; text-decoration-color: #008080; font-weight: bold\">211</span><span style=\"font-weight: bold\">)</span> <span style=\"font-weight: bold\">(</span>actual <span style=\"color: #808000; text-decoration-color: #808000\">time</span>=<span style=\"color: #008080; text-decoration-color: #008080; font-weight: bold\">2534.229</span>..<span style=\"color: #008080; text-decoration-color: #008080; font-weight: bold\">2542.902</span> <span style=\"color: #808000; text-decoration-color: #808000\">rows</span>=<span style=\"color: #008080; text-decoration-color: #008080; font-weight: bold\">20</span> <span style=\"color: #808000; text-decoration-color: #808000\">loops</span>=<span style=\"color: #008080; text-decoration-color: #008080; font-weight: bold\">1</span><span style=\"font-weight: bold\">)</span>\n",
       "  -&gt;  Gather Merge  <span style=\"font-weight: bold\">(</span><span style=\"color: #808000; text-decoration-color: #808000\">cost</span>=<span style=\"color: #008080; text-decoration-color: #008080; font-weight: bold\">1447614.65</span>..<span style=\"color: #008080; text-decoration-color: #008080; font-weight: bold\">1631039.59</span> <span style=\"color: #808000; text-decoration-color: #808000\">rows</span>=<span style=\"color: #008080; text-decoration-color: #008080; font-weight: bold\">1572104</span> <span style=\"color: #808000; text-decoration-color: #808000\">width</span>=<span style=\"color: #008080; text-decoration-color: #008080; font-weight: bold\">211</span><span style=\"font-weight: bold\">)</span> <span style=\"font-weight: bold\">(</span>actual <span style=\"color: #808000; text-decoration-color: #808000\">time</span>=<span style=\"color: #008080; text-decoration-color: #008080; font-weight: bold\">2465.210</span>..<span style=\"color: #008080; text-decoration-color: #008080; font-weight: bold\">2473.879</span> <span style=\"color: #808000; text-decoration-color: #808000\">rows</span>=<span style=\"color: #008080; text-decoration-color: #008080; font-weight: bold\">20</span> \n",
       "<span style=\"color: #808000; text-decoration-color: #808000\">loops</span>=<span style=\"color: #008080; text-decoration-color: #008080; font-weight: bold\">1</span><span style=\"font-weight: bold\">)</span>\n",
       "        Workers Planned: <span style=\"color: #008080; text-decoration-color: #008080; font-weight: bold\">2</span>\n",
       "        Workers Launched: <span style=\"color: #008080; text-decoration-color: #008080; font-weight: bold\">2</span>\n",
       "        -&gt;  Sort  <span style=\"font-weight: bold\">(</span><span style=\"color: #808000; text-decoration-color: #808000\">cost</span>=<span style=\"color: #008080; text-decoration-color: #008080; font-weight: bold\">1446614.62</span>..<span style=\"color: #008080; text-decoration-color: #008080; font-weight: bold\">1448579.75</span> <span style=\"color: #808000; text-decoration-color: #808000\">rows</span>=<span style=\"color: #008080; text-decoration-color: #008080; font-weight: bold\">786052</span> <span style=\"color: #808000; text-decoration-color: #808000\">width</span>=<span style=\"color: #008080; text-decoration-color: #008080; font-weight: bold\">211</span><span style=\"font-weight: bold\">)</span> <span style=\"font-weight: bold\">(</span>actual <span style=\"color: #808000; text-decoration-color: #808000\">time</span>=<span style=\"color: #008080; text-decoration-color: #008080; font-weight: bold\">2438.488</span>..<span style=\"color: #008080; text-decoration-color: #008080; font-weight: bold\">2438.491</span> <span style=\"color: #808000; text-decoration-color: #808000\">rows</span>=<span style=\"color: #008080; text-decoration-color: #008080; font-weight: bold\">16</span> \n",
       "<span style=\"color: #808000; text-decoration-color: #808000\">loops</span>=<span style=\"color: #008080; text-decoration-color: #008080; font-weight: bold\">3</span><span style=\"font-weight: bold\">)</span>\n",
       "              Sort Key: written_at DESC\n",
       "              Sort Method: top-N heapsort  Memory: 35kB\n",
       "              Worker <span style=\"color: #008080; text-decoration-color: #008080; font-weight: bold\">0</span>:  Sort Method: top-N heapsort  Memory: 38kB\n",
       "              Worker <span style=\"color: #008080; text-decoration-color: #008080; font-weight: bold\">1</span>:  Sort Method: top-N heapsort  Memory: 38kB\n",
       "              -&gt;  Parallel Seq Scan on books_review  <span style=\"font-weight: bold\">(</span><span style=\"color: #808000; text-decoration-color: #808000\">cost</span>=<span style=\"color: #008080; text-decoration-color: #008080; font-weight: bold\">0.00</span>..<span style=\"color: #008080; text-decoration-color: #008080; font-weight: bold\">1425698.06</span> <span style=\"color: #808000; text-decoration-color: #808000\">rows</span>=<span style=\"color: #008080; text-decoration-color: #008080; font-weight: bold\">786052</span> <span style=\"color: #808000; text-decoration-color: #808000\">width</span>=<span style=\"color: #008080; text-decoration-color: #008080; font-weight: bold\">211</span><span style=\"font-weight: bold\">)</span> <span style=\"font-weight: bold\">(</span>actual \n",
       "<span style=\"color: #808000; text-decoration-color: #808000\">time</span>=<span style=\"color: #008080; text-decoration-color: #008080; font-weight: bold\">91.790</span>..<span style=\"color: #008080; text-decoration-color: #008080; font-weight: bold\">2202.327</span> <span style=\"color: #808000; text-decoration-color: #808000\">rows</span>=<span style=\"color: #008080; text-decoration-color: #008080; font-weight: bold\">675591</span> <span style=\"color: #808000; text-decoration-color: #808000\">loops</span>=<span style=\"color: #008080; text-decoration-color: #008080; font-weight: bold\">3</span><span style=\"font-weight: bold\">)</span>\n",
       "                    Filter: <span style=\"font-weight: bold\">(</span>library_id = <span style=\"color: #008080; text-decoration-color: #008080; font-weight: bold\">6</span><span style=\"font-weight: bold\">)</span>\n",
       "                    Rows Removed by Filter: <span style=\"color: #008080; text-decoration-color: #008080; font-weight: bold\">12672873</span>\n",
       "Planning Time: <span style=\"color: #008080; text-decoration-color: #008080; font-weight: bold\">0.176</span> ms\n",
       "JIT:\n",
       "  Functions: <span style=\"color: #008080; text-decoration-color: #008080; font-weight: bold\">13</span>\n",
       "  Options: Inlining true, Optimization true, Expressions true, Deforming true\n",
       "  Timing: Generation <span style=\"color: #008080; text-decoration-color: #008080; font-weight: bold\">3.808</span> ms, Inlining <span style=\"color: #008080; text-decoration-color: #008080; font-weight: bold\">191.713</span> ms, Optimization <span style=\"color: #008080; text-decoration-color: #008080; font-weight: bold\">93.883</span> ms, Emission <span style=\"color: #008080; text-decoration-color: #008080; font-weight: bold\">58.421</span> ms, Total <span style=\"color: #008080; text-decoration-color: #008080; font-weight: bold\">347.825</span> ms\n",
       "Execution Time: <span style=\"color: #008080; text-decoration-color: #008080; font-weight: bold\">2544.114</span> ms\n",
       "</pre>\n"
      ],
      "text/plain": [
       "Limit  \u001b[1m(\u001b[0m\u001b[33mcost\u001b[0m=\u001b[1;36m1447614\u001b[0m\u001b[1;36m.65\u001b[0m..\u001b[1;36m1447616.98\u001b[0m \u001b[33mrows\u001b[0m=\u001b[1;36m20\u001b[0m \u001b[33mwidth\u001b[0m=\u001b[1;36m211\u001b[0m\u001b[1m)\u001b[0m \u001b[1m(\u001b[0mactual \u001b[33mtime\u001b[0m=\u001b[1;36m2534\u001b[0m\u001b[1;36m.229\u001b[0m..\u001b[1;36m2542.902\u001b[0m \u001b[33mrows\u001b[0m=\u001b[1;36m20\u001b[0m \u001b[33mloops\u001b[0m=\u001b[1;36m1\u001b[0m\u001b[1m)\u001b[0m\n",
       "  ->  Gather Merge  \u001b[1m(\u001b[0m\u001b[33mcost\u001b[0m=\u001b[1;36m1447614\u001b[0m\u001b[1;36m.65\u001b[0m..\u001b[1;36m1631039.59\u001b[0m \u001b[33mrows\u001b[0m=\u001b[1;36m1572104\u001b[0m \u001b[33mwidth\u001b[0m=\u001b[1;36m211\u001b[0m\u001b[1m)\u001b[0m \u001b[1m(\u001b[0mactual \u001b[33mtime\u001b[0m=\u001b[1;36m2465\u001b[0m\u001b[1;36m.210\u001b[0m..\u001b[1;36m2473.879\u001b[0m \u001b[33mrows\u001b[0m=\u001b[1;36m20\u001b[0m \n",
       "\u001b[33mloops\u001b[0m=\u001b[1;36m1\u001b[0m\u001b[1m)\u001b[0m\n",
       "        Workers Planned: \u001b[1;36m2\u001b[0m\n",
       "        Workers Launched: \u001b[1;36m2\u001b[0m\n",
       "        ->  Sort  \u001b[1m(\u001b[0m\u001b[33mcost\u001b[0m=\u001b[1;36m1446614\u001b[0m\u001b[1;36m.62\u001b[0m..\u001b[1;36m1448579.75\u001b[0m \u001b[33mrows\u001b[0m=\u001b[1;36m786052\u001b[0m \u001b[33mwidth\u001b[0m=\u001b[1;36m211\u001b[0m\u001b[1m)\u001b[0m \u001b[1m(\u001b[0mactual \u001b[33mtime\u001b[0m=\u001b[1;36m2438\u001b[0m\u001b[1;36m.488\u001b[0m..\u001b[1;36m2438.491\u001b[0m \u001b[33mrows\u001b[0m=\u001b[1;36m16\u001b[0m \n",
       "\u001b[33mloops\u001b[0m=\u001b[1;36m3\u001b[0m\u001b[1m)\u001b[0m\n",
       "              Sort Key: written_at DESC\n",
       "              Sort Method: top-N heapsort  Memory: 35kB\n",
       "              Worker \u001b[1;36m0\u001b[0m:  Sort Method: top-N heapsort  Memory: 38kB\n",
       "              Worker \u001b[1;36m1\u001b[0m:  Sort Method: top-N heapsort  Memory: 38kB\n",
       "              ->  Parallel Seq Scan on books_review  \u001b[1m(\u001b[0m\u001b[33mcost\u001b[0m=\u001b[1;36m0\u001b[0m\u001b[1;36m.00\u001b[0m..\u001b[1;36m1425698.06\u001b[0m \u001b[33mrows\u001b[0m=\u001b[1;36m786052\u001b[0m \u001b[33mwidth\u001b[0m=\u001b[1;36m211\u001b[0m\u001b[1m)\u001b[0m \u001b[1m(\u001b[0mactual \n",
       "\u001b[33mtime\u001b[0m=\u001b[1;36m91\u001b[0m\u001b[1;36m.790\u001b[0m..\u001b[1;36m2202.327\u001b[0m \u001b[33mrows\u001b[0m=\u001b[1;36m675591\u001b[0m \u001b[33mloops\u001b[0m=\u001b[1;36m3\u001b[0m\u001b[1m)\u001b[0m\n",
       "                    Filter: \u001b[1m(\u001b[0mlibrary_id = \u001b[1;36m6\u001b[0m\u001b[1m)\u001b[0m\n",
       "                    Rows Removed by Filter: \u001b[1;36m12672873\u001b[0m\n",
       "Planning Time: \u001b[1;36m0.176\u001b[0m ms\n",
       "JIT:\n",
       "  Functions: \u001b[1;36m13\u001b[0m\n",
       "  Options: Inlining true, Optimization true, Expressions true, Deforming true\n",
       "  Timing: Generation \u001b[1;36m3.808\u001b[0m ms, Inlining \u001b[1;36m191.713\u001b[0m ms, Optimization \u001b[1;36m93.883\u001b[0m ms, Emission \u001b[1;36m58.421\u001b[0m ms, Total \u001b[1;36m347.825\u001b[0m ms\n",
       "Execution Time: \u001b[1;36m2544.114\u001b[0m ms\n"
      ]
     },
     "metadata": {},
     "output_type": "display_data"
    },
    {
     "data": {
      "text/html": [
       "<pre style=\"white-space:pre;overflow-x:auto;line-height:normal;font-family:Menlo,'DejaVu Sans Mono',consolas,'Courier New',monospace\"><span style=\"color: #00ff00; text-decoration-color: #00ff00\">───────────────────────────────────────────────────────────────────────────────────────────────────────────────────</span>\n",
       "</pre>\n"
      ],
      "text/plain": [
       "\u001b[92m───────────────────────────────────────────────────────────────────────────────────────────────────────────────────\u001b[0m\n"
      ]
     },
     "metadata": {},
     "output_type": "display_data"
    }
   ],
   "source": [
    "explain_qs(alexandria_id, \"-written_at\")"
   ]
  },
  {
   "attachments": {},
   "cell_type": "markdown",
   "metadata": {},
   "source": [
    "Lot of information here. What can we notice?\n",
    "\n",
    "- Planning time is less than a millisecond\n",
    "\n",
    "- Execution time is around 10 seconds\n",
    "\n",
    "- The main operation is a `Parallel Seq Scan on books_review`, i.e. the whole `books_review` table is read, and only the rows matching `(library_id = 6)` are kept. `12666173` rows are filtered out\n",
    "\n",
    "- Finally, a heapsort is used to get the first 20 rows\n"
   ]
  },
  {
   "attachments": {},
   "cell_type": "markdown",
   "metadata": {},
   "source": [
    "Conclusion?\n",
    "<br>\n",
    "<br>\n",
    "<br>\n"
   ]
  },
  {
   "attachments": {},
   "cell_type": "markdown",
   "metadata": {},
   "source": [
    "<br>\n",
    "<br>\n",
    "<br>\n"
   ]
  },
  {
   "attachments": {},
   "cell_type": "markdown",
   "metadata": {},
   "source": [
    "Our database is probably missing some indexes:\n",
    "\n",
    "- `written_at` column\n",
    "- `rating` column\n"
   ]
  },
  {
   "cell_type": "code",
   "execution_count": 12,
   "metadata": {},
   "outputs": [
    {
     "data": {
      "text/html": [
       "<pre style=\"white-space:pre;overflow-x:auto;line-height:normal;font-family:Menlo,'DejaVu Sans Mono',consolas,'Courier New',monospace\">ordering: -written_at\n",
       "  Total: <span style=\"color: #008080; text-decoration-color: #008080; font-weight: bold\">0.01</span>\n",
       "  SQL: <span style=\"color: #008080; text-decoration-color: #008080; font-weight: bold\">0.01</span> \n",
       "\n",
       "      <span style=\"font-weight: bold\">(</span>duration: <span style=\"color: #008080; text-decoration-color: #008080; font-weight: bold\">0.006</span><span style=\"font-weight: bold\">)</span>   EXPLAIN <span style=\"font-weight: bold\">(</span>ANALYZE true<span style=\"font-weight: bold\">)</span> SELECT <span style=\"color: #008000; text-decoration-color: #008000\">\"books_review\"</span>.<span style=\"color: #008000; text-decoration-color: #008000\">\"id\"</span>, <span style=\"color: #008000; text-decoration-color: #008000\">\"books_review\"</span>.<span style=\"color: #008000; text-decoration-color: #008000\">\"book_id\"</span>, \n",
       "<span style=\"color: #008000; text-decoration-color: #008000\">\"books_review\"</span>.<span style=\"color: #008000; text-decoration-color: #008000\">\"reader_id\"</span>, <span style=\"color: #008000; text-decoration-color: #008000\">\"books_review\"</span>.<span style=\"color: #008000; text-decoration-color: #008000\">\"rating\"</span>, <span style=\"color: #008000; text-decoration-color: #008000\">\"books_review\"</span>.<span style=\"color: #008000; text-decoration-color: #008000\">\"comments\"</span>, <span style=\"color: #008000; text-decoration-color: #008000\">\"books_review\"</span>.<span style=\"color: #008000; text-decoration-color: #008000\">\"written_at\"</span>, \n",
       "<span style=\"color: #008000; text-decoration-color: #008000\">\"books_review\"</span>.<span style=\"color: #008000; text-decoration-color: #008000\">\"library_id\"</span> FROM <span style=\"color: #008000; text-decoration-color: #008000\">\"books_review\"</span> WHERE <span style=\"color: #008000; text-decoration-color: #008000\">\"books_review\"</span>.<span style=\"color: #008000; text-decoration-color: #008000\">\"library_id\"</span> = <span style=\"color: #008080; text-decoration-color: #008080; font-weight: bold\">6</span> ORDER BY \n",
       "<span style=\"color: #008000; text-decoration-color: #008000\">\"books_review\"</span>.<span style=\"color: #008000; text-decoration-color: #008000\">\"written_at\"</span> DESC LIMIT <span style=\"color: #008080; text-decoration-color: #008080; font-weight: bold\">20</span>\n",
       "</pre>\n"
      ],
      "text/plain": [
       "ordering: -written_at\n",
       "  Total: \u001b[1;36m0.01\u001b[0m\n",
       "  SQL: \u001b[1;36m0.01\u001b[0m \n",
       "\n",
       "      \u001b[1m(\u001b[0mduration: \u001b[1;36m0.006\u001b[0m\u001b[1m)\u001b[0m   EXPLAIN \u001b[1m(\u001b[0mANALYZE true\u001b[1m)\u001b[0m SELECT \u001b[32m\"books_review\"\u001b[0m.\u001b[32m\"id\"\u001b[0m, \u001b[32m\"books_review\"\u001b[0m.\u001b[32m\"book_id\"\u001b[0m, \n",
       "\u001b[32m\"books_review\"\u001b[0m.\u001b[32m\"reader_id\"\u001b[0m, \u001b[32m\"books_review\"\u001b[0m.\u001b[32m\"rating\"\u001b[0m, \u001b[32m\"books_review\"\u001b[0m.\u001b[32m\"comments\"\u001b[0m, \u001b[32m\"books_review\"\u001b[0m.\u001b[32m\"written_at\"\u001b[0m, \n",
       "\u001b[32m\"books_review\"\u001b[0m.\u001b[32m\"library_id\"\u001b[0m FROM \u001b[32m\"books_review\"\u001b[0m WHERE \u001b[32m\"books_review\"\u001b[0m.\u001b[32m\"library_id\"\u001b[0m = \u001b[1;36m6\u001b[0m ORDER BY \n",
       "\u001b[32m\"books_review\"\u001b[0m.\u001b[32m\"written_at\"\u001b[0m DESC LIMIT \u001b[1;36m20\u001b[0m\n"
      ]
     },
     "metadata": {},
     "output_type": "display_data"
    },
    {
     "data": {
      "text/html": [
       "<pre style=\"white-space:pre;overflow-x:auto;line-height:normal;font-family:Menlo,'DejaVu Sans Mono',consolas,'Courier New',monospace\">Limit  <span style=\"font-weight: bold\">(</span><span style=\"color: #808000; text-decoration-color: #808000\">cost</span>=<span style=\"color: #008080; text-decoration-color: #008080; font-weight: bold\">0.44</span>..<span style=\"color: #008080; text-decoration-color: #008080; font-weight: bold\">1043.93</span> <span style=\"color: #808000; text-decoration-color: #808000\">rows</span>=<span style=\"color: #008080; text-decoration-color: #008080; font-weight: bold\">20</span> <span style=\"color: #808000; text-decoration-color: #808000\">width</span>=<span style=\"color: #008080; text-decoration-color: #008080; font-weight: bold\">211</span><span style=\"font-weight: bold\">)</span> <span style=\"font-weight: bold\">(</span>actual <span style=\"color: #808000; text-decoration-color: #808000\">time</span>=<span style=\"color: #008080; text-decoration-color: #008080; font-weight: bold\">1.298</span>..<span style=\"color: #008080; text-decoration-color: #008080; font-weight: bold\">3.346</span> <span style=\"color: #808000; text-decoration-color: #808000\">rows</span>=<span style=\"color: #008080; text-decoration-color: #008080; font-weight: bold\">20</span> <span style=\"color: #808000; text-decoration-color: #808000\">loops</span>=<span style=\"color: #008080; text-decoration-color: #008080; font-weight: bold\">1</span><span style=\"font-weight: bold\">)</span>\n",
       "  -&gt;  Index Scan Backward using review_written_at_idx on books_review  <span style=\"font-weight: bold\">(</span><span style=\"color: #808000; text-decoration-color: #808000\">cost</span>=<span style=\"color: #008080; text-decoration-color: #008080; font-weight: bold\">0.44</span>..<span style=\"color: #008080; text-decoration-color: #008080; font-weight: bold\">98428448.77</span> <span style=\"color: #808000; text-decoration-color: #808000\">rows</span>=<span style=\"color: #008080; text-decoration-color: #008080; font-weight: bold\">1886525</span> \n",
       "<span style=\"color: #808000; text-decoration-color: #808000\">width</span>=<span style=\"color: #008080; text-decoration-color: #008080; font-weight: bold\">211</span><span style=\"font-weight: bold\">)</span> <span style=\"font-weight: bold\">(</span>actual <span style=\"color: #808000; text-decoration-color: #808000\">time</span>=<span style=\"color: #008080; text-decoration-color: #008080; font-weight: bold\">1.295</span>..<span style=\"color: #008080; text-decoration-color: #008080; font-weight: bold\">3.338</span> <span style=\"color: #808000; text-decoration-color: #808000\">rows</span>=<span style=\"color: #008080; text-decoration-color: #008080; font-weight: bold\">20</span> <span style=\"color: #808000; text-decoration-color: #808000\">loops</span>=<span style=\"color: #008080; text-decoration-color: #008080; font-weight: bold\">1</span><span style=\"font-weight: bold\">)</span>\n",
       "        Filter: <span style=\"font-weight: bold\">(</span>library_id = <span style=\"color: #008080; text-decoration-color: #008080; font-weight: bold\">6</span><span style=\"font-weight: bold\">)</span>\n",
       "        Rows Removed by Filter: <span style=\"color: #008080; text-decoration-color: #008080; font-weight: bold\">305</span>\n",
       "Planning Time: <span style=\"color: #008080; text-decoration-color: #008080; font-weight: bold\">2.117</span> ms\n",
       "Execution Time: <span style=\"color: #008080; text-decoration-color: #008080; font-weight: bold\">3.392</span> ms\n",
       "</pre>\n"
      ],
      "text/plain": [
       "Limit  \u001b[1m(\u001b[0m\u001b[33mcost\u001b[0m=\u001b[1;36m0\u001b[0m\u001b[1;36m.44\u001b[0m..\u001b[1;36m1043.93\u001b[0m \u001b[33mrows\u001b[0m=\u001b[1;36m20\u001b[0m \u001b[33mwidth\u001b[0m=\u001b[1;36m211\u001b[0m\u001b[1m)\u001b[0m \u001b[1m(\u001b[0mactual \u001b[33mtime\u001b[0m=\u001b[1;36m1\u001b[0m\u001b[1;36m.298\u001b[0m..\u001b[1;36m3.346\u001b[0m \u001b[33mrows\u001b[0m=\u001b[1;36m20\u001b[0m \u001b[33mloops\u001b[0m=\u001b[1;36m1\u001b[0m\u001b[1m)\u001b[0m\n",
       "  ->  Index Scan Backward using review_written_at_idx on books_review  \u001b[1m(\u001b[0m\u001b[33mcost\u001b[0m=\u001b[1;36m0\u001b[0m\u001b[1;36m.44\u001b[0m..\u001b[1;36m98428448.77\u001b[0m \u001b[33mrows\u001b[0m=\u001b[1;36m1886525\u001b[0m \n",
       "\u001b[33mwidth\u001b[0m=\u001b[1;36m211\u001b[0m\u001b[1m)\u001b[0m \u001b[1m(\u001b[0mactual \u001b[33mtime\u001b[0m=\u001b[1;36m1\u001b[0m\u001b[1;36m.295\u001b[0m..\u001b[1;36m3.338\u001b[0m \u001b[33mrows\u001b[0m=\u001b[1;36m20\u001b[0m \u001b[33mloops\u001b[0m=\u001b[1;36m1\u001b[0m\u001b[1m)\u001b[0m\n",
       "        Filter: \u001b[1m(\u001b[0mlibrary_id = \u001b[1;36m6\u001b[0m\u001b[1m)\u001b[0m\n",
       "        Rows Removed by Filter: \u001b[1;36m305\u001b[0m\n",
       "Planning Time: \u001b[1;36m2.117\u001b[0m ms\n",
       "Execution Time: \u001b[1;36m3.392\u001b[0m ms\n"
      ]
     },
     "metadata": {},
     "output_type": "display_data"
    },
    {
     "data": {
      "text/html": [
       "<pre style=\"white-space:pre;overflow-x:auto;line-height:normal;font-family:Menlo,'DejaVu Sans Mono',consolas,'Courier New',monospace\"><span style=\"color: #00ff00; text-decoration-color: #00ff00\">───────────────────────────────────────────────────────────────────────────────────────────────────────────────────</span>\n",
       "</pre>\n"
      ],
      "text/plain": [
       "\u001b[92m───────────────────────────────────────────────────────────────────────────────────────────────────────────────────\u001b[0m\n"
      ]
     },
     "metadata": {},
     "output_type": "display_data"
    },
    {
     "data": {
      "text/html": [
       "<pre style=\"white-space:pre;overflow-x:auto;line-height:normal;font-family:Menlo,'DejaVu Sans Mono',consolas,'Courier New',monospace\">ordering: written_at\n",
       "  Total: <span style=\"color: #008080; text-decoration-color: #008080; font-weight: bold\">0.01</span>\n",
       "  SQL: <span style=\"color: #008080; text-decoration-color: #008080; font-weight: bold\">0.00</span> \n",
       "\n",
       "      <span style=\"font-weight: bold\">(</span>duration: <span style=\"color: #008080; text-decoration-color: #008080; font-weight: bold\">0.003</span><span style=\"font-weight: bold\">)</span>   EXPLAIN <span style=\"font-weight: bold\">(</span>ANALYZE true<span style=\"font-weight: bold\">)</span> SELECT <span style=\"color: #008000; text-decoration-color: #008000\">\"books_review\"</span>.<span style=\"color: #008000; text-decoration-color: #008000\">\"id\"</span>, <span style=\"color: #008000; text-decoration-color: #008000\">\"books_review\"</span>.<span style=\"color: #008000; text-decoration-color: #008000\">\"book_id\"</span>, \n",
       "<span style=\"color: #008000; text-decoration-color: #008000\">\"books_review\"</span>.<span style=\"color: #008000; text-decoration-color: #008000\">\"reader_id\"</span>, <span style=\"color: #008000; text-decoration-color: #008000\">\"books_review\"</span>.<span style=\"color: #008000; text-decoration-color: #008000\">\"rating\"</span>, <span style=\"color: #008000; text-decoration-color: #008000\">\"books_review\"</span>.<span style=\"color: #008000; text-decoration-color: #008000\">\"comments\"</span>, <span style=\"color: #008000; text-decoration-color: #008000\">\"books_review\"</span>.<span style=\"color: #008000; text-decoration-color: #008000\">\"written_at\"</span>, \n",
       "<span style=\"color: #008000; text-decoration-color: #008000\">\"books_review\"</span>.<span style=\"color: #008000; text-decoration-color: #008000\">\"library_id\"</span> FROM <span style=\"color: #008000; text-decoration-color: #008000\">\"books_review\"</span> WHERE <span style=\"color: #008000; text-decoration-color: #008000\">\"books_review\"</span>.<span style=\"color: #008000; text-decoration-color: #008000\">\"library_id\"</span> = <span style=\"color: #008080; text-decoration-color: #008080; font-weight: bold\">6</span> ORDER BY \n",
       "<span style=\"color: #008000; text-decoration-color: #008000\">\"books_review\"</span>.<span style=\"color: #008000; text-decoration-color: #008000\">\"written_at\"</span> ASC LIMIT <span style=\"color: #008080; text-decoration-color: #008080; font-weight: bold\">20</span>\n",
       "</pre>\n"
      ],
      "text/plain": [
       "ordering: written_at\n",
       "  Total: \u001b[1;36m0.01\u001b[0m\n",
       "  SQL: \u001b[1;36m0.00\u001b[0m \n",
       "\n",
       "      \u001b[1m(\u001b[0mduration: \u001b[1;36m0.003\u001b[0m\u001b[1m)\u001b[0m   EXPLAIN \u001b[1m(\u001b[0mANALYZE true\u001b[1m)\u001b[0m SELECT \u001b[32m\"books_review\"\u001b[0m.\u001b[32m\"id\"\u001b[0m, \u001b[32m\"books_review\"\u001b[0m.\u001b[32m\"book_id\"\u001b[0m, \n",
       "\u001b[32m\"books_review\"\u001b[0m.\u001b[32m\"reader_id\"\u001b[0m, \u001b[32m\"books_review\"\u001b[0m.\u001b[32m\"rating\"\u001b[0m, \u001b[32m\"books_review\"\u001b[0m.\u001b[32m\"comments\"\u001b[0m, \u001b[32m\"books_review\"\u001b[0m.\u001b[32m\"written_at\"\u001b[0m, \n",
       "\u001b[32m\"books_review\"\u001b[0m.\u001b[32m\"library_id\"\u001b[0m FROM \u001b[32m\"books_review\"\u001b[0m WHERE \u001b[32m\"books_review\"\u001b[0m.\u001b[32m\"library_id\"\u001b[0m = \u001b[1;36m6\u001b[0m ORDER BY \n",
       "\u001b[32m\"books_review\"\u001b[0m.\u001b[32m\"written_at\"\u001b[0m ASC LIMIT \u001b[1;36m20\u001b[0m\n"
      ]
     },
     "metadata": {},
     "output_type": "display_data"
    },
    {
     "data": {
      "text/html": [
       "<pre style=\"white-space:pre;overflow-x:auto;line-height:normal;font-family:Menlo,'DejaVu Sans Mono',consolas,'Courier New',monospace\">Limit  <span style=\"font-weight: bold\">(</span><span style=\"color: #808000; text-decoration-color: #808000\">cost</span>=<span style=\"color: #008080; text-decoration-color: #008080; font-weight: bold\">0.44</span>..<span style=\"color: #008080; text-decoration-color: #008080; font-weight: bold\">1043.93</span> <span style=\"color: #808000; text-decoration-color: #808000\">rows</span>=<span style=\"color: #008080; text-decoration-color: #008080; font-weight: bold\">20</span> <span style=\"color: #808000; text-decoration-color: #808000\">width</span>=<span style=\"color: #008080; text-decoration-color: #008080; font-weight: bold\">211</span><span style=\"font-weight: bold\">)</span> <span style=\"font-weight: bold\">(</span>actual <span style=\"color: #808000; text-decoration-color: #808000\">time</span>=<span style=\"color: #008080; text-decoration-color: #008080; font-weight: bold\">0.688</span>..<span style=\"color: #008080; text-decoration-color: #008080; font-weight: bold\">2.135</span> <span style=\"color: #808000; text-decoration-color: #808000\">rows</span>=<span style=\"color: #008080; text-decoration-color: #008080; font-weight: bold\">20</span> <span style=\"color: #808000; text-decoration-color: #808000\">loops</span>=<span style=\"color: #008080; text-decoration-color: #008080; font-weight: bold\">1</span><span style=\"font-weight: bold\">)</span>\n",
       "  -&gt;  Index Scan using review_written_at_idx on books_review  <span style=\"font-weight: bold\">(</span><span style=\"color: #808000; text-decoration-color: #808000\">cost</span>=<span style=\"color: #008080; text-decoration-color: #008080; font-weight: bold\">0.44</span>..<span style=\"color: #008080; text-decoration-color: #008080; font-weight: bold\">98428448.77</span> <span style=\"color: #808000; text-decoration-color: #808000\">rows</span>=<span style=\"color: #008080; text-decoration-color: #008080; font-weight: bold\">1886525</span> <span style=\"color: #808000; text-decoration-color: #808000\">width</span>=<span style=\"color: #008080; text-decoration-color: #008080; font-weight: bold\">211</span><span style=\"font-weight: bold\">)</span> \n",
       "<span style=\"font-weight: bold\">(</span>actual <span style=\"color: #808000; text-decoration-color: #808000\">time</span>=<span style=\"color: #008080; text-decoration-color: #008080; font-weight: bold\">0.686</span>..<span style=\"color: #008080; text-decoration-color: #008080; font-weight: bold\">2.126</span> <span style=\"color: #808000; text-decoration-color: #808000\">rows</span>=<span style=\"color: #008080; text-decoration-color: #008080; font-weight: bold\">20</span> <span style=\"color: #808000; text-decoration-color: #808000\">loops</span>=<span style=\"color: #008080; text-decoration-color: #008080; font-weight: bold\">1</span><span style=\"font-weight: bold\">)</span>\n",
       "        Filter: <span style=\"font-weight: bold\">(</span>library_id = <span style=\"color: #008080; text-decoration-color: #008080; font-weight: bold\">6</span><span style=\"font-weight: bold\">)</span>\n",
       "        Rows Removed by Filter: <span style=\"color: #008080; text-decoration-color: #008080; font-weight: bold\">323</span>\n",
       "Planning Time: <span style=\"color: #008080; text-decoration-color: #008080; font-weight: bold\">0.148</span> ms\n",
       "Execution Time: <span style=\"color: #008080; text-decoration-color: #008080; font-weight: bold\">2.201</span> ms\n",
       "</pre>\n"
      ],
      "text/plain": [
       "Limit  \u001b[1m(\u001b[0m\u001b[33mcost\u001b[0m=\u001b[1;36m0\u001b[0m\u001b[1;36m.44\u001b[0m..\u001b[1;36m1043.93\u001b[0m \u001b[33mrows\u001b[0m=\u001b[1;36m20\u001b[0m \u001b[33mwidth\u001b[0m=\u001b[1;36m211\u001b[0m\u001b[1m)\u001b[0m \u001b[1m(\u001b[0mactual \u001b[33mtime\u001b[0m=\u001b[1;36m0\u001b[0m\u001b[1;36m.688\u001b[0m..\u001b[1;36m2.135\u001b[0m \u001b[33mrows\u001b[0m=\u001b[1;36m20\u001b[0m \u001b[33mloops\u001b[0m=\u001b[1;36m1\u001b[0m\u001b[1m)\u001b[0m\n",
       "  ->  Index Scan using review_written_at_idx on books_review  \u001b[1m(\u001b[0m\u001b[33mcost\u001b[0m=\u001b[1;36m0\u001b[0m\u001b[1;36m.44\u001b[0m..\u001b[1;36m98428448.77\u001b[0m \u001b[33mrows\u001b[0m=\u001b[1;36m1886525\u001b[0m \u001b[33mwidth\u001b[0m=\u001b[1;36m211\u001b[0m\u001b[1m)\u001b[0m \n",
       "\u001b[1m(\u001b[0mactual \u001b[33mtime\u001b[0m=\u001b[1;36m0\u001b[0m\u001b[1;36m.686\u001b[0m..\u001b[1;36m2.126\u001b[0m \u001b[33mrows\u001b[0m=\u001b[1;36m20\u001b[0m \u001b[33mloops\u001b[0m=\u001b[1;36m1\u001b[0m\u001b[1m)\u001b[0m\n",
       "        Filter: \u001b[1m(\u001b[0mlibrary_id = \u001b[1;36m6\u001b[0m\u001b[1m)\u001b[0m\n",
       "        Rows Removed by Filter: \u001b[1;36m323\u001b[0m\n",
       "Planning Time: \u001b[1;36m0.148\u001b[0m ms\n",
       "Execution Time: \u001b[1;36m2.201\u001b[0m ms\n"
      ]
     },
     "metadata": {},
     "output_type": "display_data"
    },
    {
     "data": {
      "text/html": [
       "<pre style=\"white-space:pre;overflow-x:auto;line-height:normal;font-family:Menlo,'DejaVu Sans Mono',consolas,'Courier New',monospace\"><span style=\"color: #00ff00; text-decoration-color: #00ff00\">───────────────────────────────────────────────────────────────────────────────────────────────────────────────────</span>\n",
       "</pre>\n"
      ],
      "text/plain": [
       "\u001b[92m───────────────────────────────────────────────────────────────────────────────────────────────────────────────────\u001b[0m\n"
      ]
     },
     "metadata": {},
     "output_type": "display_data"
    }
   ],
   "source": [
    "from utils.sql import use_indexes\n",
    "\n",
    "with use_indexes(\"review_written_at_idx\"):\n",
    "    explain_qs(alexandria_id, \"-written_at\")\n",
    "    explain_qs(alexandria_id, \"written_at\")\n"
   ]
  },
  {
   "attachments": {},
   "cell_type": "markdown",
   "metadata": {},
   "source": [
    "So far, so good, ordering by `written_at` is now fast enough.\n",
    "\n",
    "<br>\n",
    "<br>\n",
    "<br>\n"
   ]
  },
  {
   "cell_type": "code",
   "execution_count": 13,
   "metadata": {},
   "outputs": [
    {
     "data": {
      "text/html": [
       "<pre style=\"white-space:pre;overflow-x:auto;line-height:normal;font-family:Menlo,'DejaVu Sans Mono',consolas,'Courier New',monospace\">ordering: rating\n",
       "  Total: <span style=\"color: #008080; text-decoration-color: #008080; font-weight: bold\">0.00</span>\n",
       "  SQL: <span style=\"color: #008080; text-decoration-color: #008080; font-weight: bold\">0.00</span> \n",
       "\n",
       "      <span style=\"font-weight: bold\">(</span>duration: <span style=\"color: #008080; text-decoration-color: #008080; font-weight: bold\">0.003</span><span style=\"font-weight: bold\">)</span>   EXPLAIN <span style=\"font-weight: bold\">(</span>ANALYZE true<span style=\"font-weight: bold\">)</span> SELECT <span style=\"color: #008000; text-decoration-color: #008000\">\"books_review\"</span>.<span style=\"color: #008000; text-decoration-color: #008000\">\"id\"</span>, <span style=\"color: #008000; text-decoration-color: #008000\">\"books_review\"</span>.<span style=\"color: #008000; text-decoration-color: #008000\">\"book_id\"</span>, \n",
       "<span style=\"color: #008000; text-decoration-color: #008000\">\"books_review\"</span>.<span style=\"color: #008000; text-decoration-color: #008000\">\"reader_id\"</span>, <span style=\"color: #008000; text-decoration-color: #008000\">\"books_review\"</span>.<span style=\"color: #008000; text-decoration-color: #008000\">\"rating\"</span>, <span style=\"color: #008000; text-decoration-color: #008000\">\"books_review\"</span>.<span style=\"color: #008000; text-decoration-color: #008000\">\"comments\"</span>, <span style=\"color: #008000; text-decoration-color: #008000\">\"books_review\"</span>.<span style=\"color: #008000; text-decoration-color: #008000\">\"written_at\"</span>, \n",
       "<span style=\"color: #008000; text-decoration-color: #008000\">\"books_review\"</span>.<span style=\"color: #008000; text-decoration-color: #008000\">\"library_id\"</span> FROM <span style=\"color: #008000; text-decoration-color: #008000\">\"books_review\"</span> WHERE <span style=\"color: #008000; text-decoration-color: #008000\">\"books_review\"</span>.<span style=\"color: #008000; text-decoration-color: #008000\">\"library_id\"</span> = <span style=\"color: #008080; text-decoration-color: #008080; font-weight: bold\">6</span> ORDER BY \n",
       "<span style=\"color: #008000; text-decoration-color: #008000\">\"books_review\"</span>.<span style=\"color: #008000; text-decoration-color: #008000\">\"rating\"</span> ASC LIMIT <span style=\"color: #008080; text-decoration-color: #008080; font-weight: bold\">20</span>\n",
       "</pre>\n"
      ],
      "text/plain": [
       "ordering: rating\n",
       "  Total: \u001b[1;36m0.00\u001b[0m\n",
       "  SQL: \u001b[1;36m0.00\u001b[0m \n",
       "\n",
       "      \u001b[1m(\u001b[0mduration: \u001b[1;36m0.003\u001b[0m\u001b[1m)\u001b[0m   EXPLAIN \u001b[1m(\u001b[0mANALYZE true\u001b[1m)\u001b[0m SELECT \u001b[32m\"books_review\"\u001b[0m.\u001b[32m\"id\"\u001b[0m, \u001b[32m\"books_review\"\u001b[0m.\u001b[32m\"book_id\"\u001b[0m, \n",
       "\u001b[32m\"books_review\"\u001b[0m.\u001b[32m\"reader_id\"\u001b[0m, \u001b[32m\"books_review\"\u001b[0m.\u001b[32m\"rating\"\u001b[0m, \u001b[32m\"books_review\"\u001b[0m.\u001b[32m\"comments\"\u001b[0m, \u001b[32m\"books_review\"\u001b[0m.\u001b[32m\"written_at\"\u001b[0m, \n",
       "\u001b[32m\"books_review\"\u001b[0m.\u001b[32m\"library_id\"\u001b[0m FROM \u001b[32m\"books_review\"\u001b[0m WHERE \u001b[32m\"books_review\"\u001b[0m.\u001b[32m\"library_id\"\u001b[0m = \u001b[1;36m6\u001b[0m ORDER BY \n",
       "\u001b[32m\"books_review\"\u001b[0m.\u001b[32m\"rating\"\u001b[0m ASC LIMIT \u001b[1;36m20\u001b[0m\n"
      ]
     },
     "metadata": {},
     "output_type": "display_data"
    },
    {
     "data": {
      "text/html": [
       "<pre style=\"white-space:pre;overflow-x:auto;line-height:normal;font-family:Menlo,'DejaVu Sans Mono',consolas,'Courier New',monospace\">Limit  <span style=\"font-weight: bold\">(</span><span style=\"color: #808000; text-decoration-color: #808000\">cost</span>=<span style=\"color: #008080; text-decoration-color: #008080; font-weight: bold\">0.44</span>..<span style=\"color: #008080; text-decoration-color: #008080; font-weight: bold\">991.32</span> <span style=\"color: #808000; text-decoration-color: #808000\">rows</span>=<span style=\"color: #008080; text-decoration-color: #008080; font-weight: bold\">20</span> <span style=\"color: #808000; text-decoration-color: #808000\">width</span>=<span style=\"color: #008080; text-decoration-color: #008080; font-weight: bold\">211</span><span style=\"font-weight: bold\">)</span> <span style=\"font-weight: bold\">(</span>actual <span style=\"color: #808000; text-decoration-color: #808000\">time</span>=<span style=\"color: #008080; text-decoration-color: #008080; font-weight: bold\">0.895</span>..<span style=\"color: #008080; text-decoration-color: #008080; font-weight: bold\">1.104</span> <span style=\"color: #808000; text-decoration-color: #808000\">rows</span>=<span style=\"color: #008080; text-decoration-color: #008080; font-weight: bold\">20</span> <span style=\"color: #808000; text-decoration-color: #808000\">loops</span>=<span style=\"color: #008080; text-decoration-color: #008080; font-weight: bold\">1</span><span style=\"font-weight: bold\">)</span>\n",
       "  -&gt;  Index Scan using review_rating_idx on books_review  <span style=\"font-weight: bold\">(</span><span style=\"color: #808000; text-decoration-color: #808000\">cost</span>=<span style=\"color: #008080; text-decoration-color: #008080; font-weight: bold\">0.44</span>..<span style=\"color: #008080; text-decoration-color: #008080; font-weight: bold\">93465762.91</span> <span style=\"color: #808000; text-decoration-color: #808000\">rows</span>=<span style=\"color: #008080; text-decoration-color: #008080; font-weight: bold\">1886525</span> <span style=\"color: #808000; text-decoration-color: #808000\">width</span>=<span style=\"color: #008080; text-decoration-color: #008080; font-weight: bold\">211</span><span style=\"font-weight: bold\">)</span> <span style=\"font-weight: bold\">(</span>actual \n",
       "<span style=\"color: #808000; text-decoration-color: #808000\">time</span>=<span style=\"color: #008080; text-decoration-color: #008080; font-weight: bold\">0.893</span>..<span style=\"color: #008080; text-decoration-color: #008080; font-weight: bold\">1.100</span> <span style=\"color: #808000; text-decoration-color: #808000\">rows</span>=<span style=\"color: #008080; text-decoration-color: #008080; font-weight: bold\">20</span> <span style=\"color: #808000; text-decoration-color: #808000\">loops</span>=<span style=\"color: #008080; text-decoration-color: #008080; font-weight: bold\">1</span><span style=\"font-weight: bold\">)</span>\n",
       "        Filter: <span style=\"font-weight: bold\">(</span>library_id = <span style=\"color: #008080; text-decoration-color: #008080; font-weight: bold\">6</span><span style=\"font-weight: bold\">)</span>\n",
       "        Rows Removed by Filter: <span style=\"color: #008080; text-decoration-color: #008080; font-weight: bold\">481</span>\n",
       "Planning Time: <span style=\"color: #008080; text-decoration-color: #008080; font-weight: bold\">0.872</span> ms\n",
       "Execution Time: <span style=\"color: #008080; text-decoration-color: #008080; font-weight: bold\">1.137</span> ms\n",
       "</pre>\n"
      ],
      "text/plain": [
       "Limit  \u001b[1m(\u001b[0m\u001b[33mcost\u001b[0m=\u001b[1;36m0\u001b[0m\u001b[1;36m.44\u001b[0m..\u001b[1;36m991.32\u001b[0m \u001b[33mrows\u001b[0m=\u001b[1;36m20\u001b[0m \u001b[33mwidth\u001b[0m=\u001b[1;36m211\u001b[0m\u001b[1m)\u001b[0m \u001b[1m(\u001b[0mactual \u001b[33mtime\u001b[0m=\u001b[1;36m0\u001b[0m\u001b[1;36m.895\u001b[0m..\u001b[1;36m1.104\u001b[0m \u001b[33mrows\u001b[0m=\u001b[1;36m20\u001b[0m \u001b[33mloops\u001b[0m=\u001b[1;36m1\u001b[0m\u001b[1m)\u001b[0m\n",
       "  ->  Index Scan using review_rating_idx on books_review  \u001b[1m(\u001b[0m\u001b[33mcost\u001b[0m=\u001b[1;36m0\u001b[0m\u001b[1;36m.44\u001b[0m..\u001b[1;36m93465762.91\u001b[0m \u001b[33mrows\u001b[0m=\u001b[1;36m1886525\u001b[0m \u001b[33mwidth\u001b[0m=\u001b[1;36m211\u001b[0m\u001b[1m)\u001b[0m \u001b[1m(\u001b[0mactual \n",
       "\u001b[33mtime\u001b[0m=\u001b[1;36m0\u001b[0m\u001b[1;36m.893\u001b[0m..\u001b[1;36m1.100\u001b[0m \u001b[33mrows\u001b[0m=\u001b[1;36m20\u001b[0m \u001b[33mloops\u001b[0m=\u001b[1;36m1\u001b[0m\u001b[1m)\u001b[0m\n",
       "        Filter: \u001b[1m(\u001b[0mlibrary_id = \u001b[1;36m6\u001b[0m\u001b[1m)\u001b[0m\n",
       "        Rows Removed by Filter: \u001b[1;36m481\u001b[0m\n",
       "Planning Time: \u001b[1;36m0.872\u001b[0m ms\n",
       "Execution Time: \u001b[1;36m1.137\u001b[0m ms\n"
      ]
     },
     "metadata": {},
     "output_type": "display_data"
    },
    {
     "data": {
      "text/html": [
       "<pre style=\"white-space:pre;overflow-x:auto;line-height:normal;font-family:Menlo,'DejaVu Sans Mono',consolas,'Courier New',monospace\"><span style=\"color: #00ff00; text-decoration-color: #00ff00\">───────────────────────────────────────────────────────────────────────────────────────────────────────────────────</span>\n",
       "</pre>\n"
      ],
      "text/plain": [
       "\u001b[92m───────────────────────────────────────────────────────────────────────────────────────────────────────────────────\u001b[0m\n"
      ]
     },
     "metadata": {},
     "output_type": "display_data"
    },
    {
     "data": {
      "text/html": [
       "<pre style=\"white-space:pre;overflow-x:auto;line-height:normal;font-family:Menlo,'DejaVu Sans Mono',consolas,'Courier New',monospace\">ordering: -rating\n",
       "  Total: <span style=\"color: #008080; text-decoration-color: #008080; font-weight: bold\">4.18</span>\n",
       "  SQL: <span style=\"color: #008080; text-decoration-color: #008080; font-weight: bold\">4.17</span> \n",
       "\n",
       "      <span style=\"font-weight: bold\">(</span>duration: <span style=\"color: #008080; text-decoration-color: #008080; font-weight: bold\">4.174</span><span style=\"font-weight: bold\">)</span>   EXPLAIN <span style=\"font-weight: bold\">(</span>ANALYZE true<span style=\"font-weight: bold\">)</span> SELECT <span style=\"color: #008000; text-decoration-color: #008000\">\"books_review\"</span>.<span style=\"color: #008000; text-decoration-color: #008000\">\"id\"</span>, <span style=\"color: #008000; text-decoration-color: #008000\">\"books_review\"</span>.<span style=\"color: #008000; text-decoration-color: #008000\">\"book_id\"</span>, \n",
       "<span style=\"color: #008000; text-decoration-color: #008000\">\"books_review\"</span>.<span style=\"color: #008000; text-decoration-color: #008000\">\"reader_id\"</span>, <span style=\"color: #008000; text-decoration-color: #008000\">\"books_review\"</span>.<span style=\"color: #008000; text-decoration-color: #008000\">\"rating\"</span>, <span style=\"color: #008000; text-decoration-color: #008000\">\"books_review\"</span>.<span style=\"color: #008000; text-decoration-color: #008000\">\"comments\"</span>, <span style=\"color: #008000; text-decoration-color: #008000\">\"books_review\"</span>.<span style=\"color: #008000; text-decoration-color: #008000\">\"written_at\"</span>, \n",
       "<span style=\"color: #008000; text-decoration-color: #008000\">\"books_review\"</span>.<span style=\"color: #008000; text-decoration-color: #008000\">\"library_id\"</span> FROM <span style=\"color: #008000; text-decoration-color: #008000\">\"books_review\"</span> WHERE <span style=\"color: #008000; text-decoration-color: #008000\">\"books_review\"</span>.<span style=\"color: #008000; text-decoration-color: #008000\">\"library_id\"</span> = <span style=\"color: #008080; text-decoration-color: #008080; font-weight: bold\">6</span> ORDER BY \n",
       "<span style=\"color: #008000; text-decoration-color: #008000\">\"books_review\"</span>.<span style=\"color: #008000; text-decoration-color: #008000\">\"rating\"</span> DESC LIMIT <span style=\"color: #008080; text-decoration-color: #008080; font-weight: bold\">20</span>\n",
       "</pre>\n"
      ],
      "text/plain": [
       "ordering: -rating\n",
       "  Total: \u001b[1;36m4.18\u001b[0m\n",
       "  SQL: \u001b[1;36m4.17\u001b[0m \n",
       "\n",
       "      \u001b[1m(\u001b[0mduration: \u001b[1;36m4.174\u001b[0m\u001b[1m)\u001b[0m   EXPLAIN \u001b[1m(\u001b[0mANALYZE true\u001b[1m)\u001b[0m SELECT \u001b[32m\"books_review\"\u001b[0m.\u001b[32m\"id\"\u001b[0m, \u001b[32m\"books_review\"\u001b[0m.\u001b[32m\"book_id\"\u001b[0m, \n",
       "\u001b[32m\"books_review\"\u001b[0m.\u001b[32m\"reader_id\"\u001b[0m, \u001b[32m\"books_review\"\u001b[0m.\u001b[32m\"rating\"\u001b[0m, \u001b[32m\"books_review\"\u001b[0m.\u001b[32m\"comments\"\u001b[0m, \u001b[32m\"books_review\"\u001b[0m.\u001b[32m\"written_at\"\u001b[0m, \n",
       "\u001b[32m\"books_review\"\u001b[0m.\u001b[32m\"library_id\"\u001b[0m FROM \u001b[32m\"books_review\"\u001b[0m WHERE \u001b[32m\"books_review\"\u001b[0m.\u001b[32m\"library_id\"\u001b[0m = \u001b[1;36m6\u001b[0m ORDER BY \n",
       "\u001b[32m\"books_review\"\u001b[0m.\u001b[32m\"rating\"\u001b[0m DESC LIMIT \u001b[1;36m20\u001b[0m\n"
      ]
     },
     "metadata": {},
     "output_type": "display_data"
    },
    {
     "data": {
      "text/html": [
       "<pre style=\"white-space:pre;overflow-x:auto;line-height:normal;font-family:Menlo,'DejaVu Sans Mono',consolas,'Courier New',monospace\">Limit  <span style=\"font-weight: bold\">(</span><span style=\"color: #808000; text-decoration-color: #808000\">cost</span>=<span style=\"color: #008080; text-decoration-color: #008080; font-weight: bold\">0.44</span>..<span style=\"color: #008080; text-decoration-color: #008080; font-weight: bold\">991.32</span> <span style=\"color: #808000; text-decoration-color: #808000\">rows</span>=<span style=\"color: #008080; text-decoration-color: #008080; font-weight: bold\">20</span> <span style=\"color: #808000; text-decoration-color: #808000\">width</span>=<span style=\"color: #008080; text-decoration-color: #008080; font-weight: bold\">211</span><span style=\"font-weight: bold\">)</span> <span style=\"font-weight: bold\">(</span>actual <span style=\"color: #808000; text-decoration-color: #808000\">time</span>=<span style=\"color: #008080; text-decoration-color: #008080; font-weight: bold\">4171.901</span>..<span style=\"color: #008080; text-decoration-color: #008080; font-weight: bold\">4172.463</span> <span style=\"color: #808000; text-decoration-color: #808000\">rows</span>=<span style=\"color: #008080; text-decoration-color: #008080; font-weight: bold\">20</span> <span style=\"color: #808000; text-decoration-color: #808000\">loops</span>=<span style=\"color: #008080; text-decoration-color: #008080; font-weight: bold\">1</span><span style=\"font-weight: bold\">)</span>\n",
       "  -&gt;  Index Scan Backward using review_rating_idx on books_review  <span style=\"font-weight: bold\">(</span><span style=\"color: #808000; text-decoration-color: #808000\">cost</span>=<span style=\"color: #008080; text-decoration-color: #008080; font-weight: bold\">0.44</span>..<span style=\"color: #008080; text-decoration-color: #008080; font-weight: bold\">93465762.91</span> <span style=\"color: #808000; text-decoration-color: #808000\">rows</span>=<span style=\"color: #008080; text-decoration-color: #008080; font-weight: bold\">1886525</span> <span style=\"color: #808000; text-decoration-color: #808000\">width</span>=<span style=\"color: #008080; text-decoration-color: #008080; font-weight: bold\">211</span><span style=\"font-weight: bold\">)</span> \n",
       "<span style=\"font-weight: bold\">(</span>actual <span style=\"color: #808000; text-decoration-color: #808000\">time</span>=<span style=\"color: #008080; text-decoration-color: #008080; font-weight: bold\">4171.899</span>..<span style=\"color: #008080; text-decoration-color: #008080; font-weight: bold\">4172.454</span> <span style=\"color: #808000; text-decoration-color: #808000\">rows</span>=<span style=\"color: #008080; text-decoration-color: #008080; font-weight: bold\">20</span> <span style=\"color: #808000; text-decoration-color: #808000\">loops</span>=<span style=\"color: #008080; text-decoration-color: #008080; font-weight: bold\">1</span><span style=\"font-weight: bold\">)</span>\n",
       "        Filter: <span style=\"font-weight: bold\">(</span>library_id = <span style=\"color: #008080; text-decoration-color: #008080; font-weight: bold\">6</span><span style=\"font-weight: bold\">)</span>\n",
       "        Rows Removed by Filter: <span style=\"color: #008080; text-decoration-color: #008080; font-weight: bold\">1819598</span>\n",
       "Planning Time: <span style=\"color: #008080; text-decoration-color: #008080; font-weight: bold\">0.106</span> ms\n",
       "Execution Time: <span style=\"color: #008080; text-decoration-color: #008080; font-weight: bold\">4172.543</span> ms\n",
       "</pre>\n"
      ],
      "text/plain": [
       "Limit  \u001b[1m(\u001b[0m\u001b[33mcost\u001b[0m=\u001b[1;36m0\u001b[0m\u001b[1;36m.44\u001b[0m..\u001b[1;36m991.32\u001b[0m \u001b[33mrows\u001b[0m=\u001b[1;36m20\u001b[0m \u001b[33mwidth\u001b[0m=\u001b[1;36m211\u001b[0m\u001b[1m)\u001b[0m \u001b[1m(\u001b[0mactual \u001b[33mtime\u001b[0m=\u001b[1;36m4171\u001b[0m\u001b[1;36m.901\u001b[0m..\u001b[1;36m4172.463\u001b[0m \u001b[33mrows\u001b[0m=\u001b[1;36m20\u001b[0m \u001b[33mloops\u001b[0m=\u001b[1;36m1\u001b[0m\u001b[1m)\u001b[0m\n",
       "  ->  Index Scan Backward using review_rating_idx on books_review  \u001b[1m(\u001b[0m\u001b[33mcost\u001b[0m=\u001b[1;36m0\u001b[0m\u001b[1;36m.44\u001b[0m..\u001b[1;36m93465762.91\u001b[0m \u001b[33mrows\u001b[0m=\u001b[1;36m1886525\u001b[0m \u001b[33mwidth\u001b[0m=\u001b[1;36m211\u001b[0m\u001b[1m)\u001b[0m \n",
       "\u001b[1m(\u001b[0mactual \u001b[33mtime\u001b[0m=\u001b[1;36m4171\u001b[0m\u001b[1;36m.899\u001b[0m..\u001b[1;36m4172.454\u001b[0m \u001b[33mrows\u001b[0m=\u001b[1;36m20\u001b[0m \u001b[33mloops\u001b[0m=\u001b[1;36m1\u001b[0m\u001b[1m)\u001b[0m\n",
       "        Filter: \u001b[1m(\u001b[0mlibrary_id = \u001b[1;36m6\u001b[0m\u001b[1m)\u001b[0m\n",
       "        Rows Removed by Filter: \u001b[1;36m1819598\u001b[0m\n",
       "Planning Time: \u001b[1;36m0.106\u001b[0m ms\n",
       "Execution Time: \u001b[1;36m4172.543\u001b[0m ms\n"
      ]
     },
     "metadata": {},
     "output_type": "display_data"
    },
    {
     "data": {
      "text/html": [
       "<pre style=\"white-space:pre;overflow-x:auto;line-height:normal;font-family:Menlo,'DejaVu Sans Mono',consolas,'Courier New',monospace\"><span style=\"color: #00ff00; text-decoration-color: #00ff00\">───────────────────────────────────────────────────────────────────────────────────────────────────────────────────</span>\n",
       "</pre>\n"
      ],
      "text/plain": [
       "\u001b[92m───────────────────────────────────────────────────────────────────────────────────────────────────────────────────\u001b[0m\n"
      ]
     },
     "metadata": {},
     "output_type": "display_data"
    }
   ],
   "source": [
    "with use_indexes(\"review_rating_idx\"):\n",
    "    explain_qs(alexandria_id, \"rating\")\n",
    "    explain_qs(alexandria_id, \"-rating\")"
   ]
  },
  {
   "attachments": {},
   "cell_type": "markdown",
   "metadata": {},
   "source": [
    "`rating` is ok, but `-rating` is still too slow\n",
    "\n",
    "```sql\n",
    "CREATE INDEX review_library_id_rating_idx ON public.books_review USING btree (library_id, rating)\n",
    "```\n"
   ]
  },
  {
   "attachments": {},
   "cell_type": "markdown",
   "metadata": {},
   "source": [
    "<br>\n",
    "<br>\n",
    "<br>\n"
   ]
  },
  {
   "attachments": {},
   "cell_type": "markdown",
   "metadata": {},
   "source": [
    "<br>\n",
    "<br>\n",
    "<br>\n"
   ]
  },
  {
   "cell_type": "code",
   "execution_count": 14,
   "metadata": {},
   "outputs": [
    {
     "data": {
      "text/html": [
       "<pre style=\"white-space:pre;overflow-x:auto;line-height:normal;font-family:Menlo,'DejaVu Sans Mono',consolas,'Courier New',monospace\">ordering: rating\n",
       "  Total: <span style=\"color: #008080; text-decoration-color: #008080; font-weight: bold\">0.01</span>\n",
       "  SQL: <span style=\"color: #008080; text-decoration-color: #008080; font-weight: bold\">0.01</span> \n",
       "\n",
       "      <span style=\"font-weight: bold\">(</span>duration: <span style=\"color: #008080; text-decoration-color: #008080; font-weight: bold\">0.005</span><span style=\"font-weight: bold\">)</span>   EXPLAIN <span style=\"font-weight: bold\">(</span>ANALYZE true<span style=\"font-weight: bold\">)</span> SELECT <span style=\"color: #008000; text-decoration-color: #008000\">\"books_review\"</span>.<span style=\"color: #008000; text-decoration-color: #008000\">\"id\"</span>, <span style=\"color: #008000; text-decoration-color: #008000\">\"books_review\"</span>.<span style=\"color: #008000; text-decoration-color: #008000\">\"book_id\"</span>, \n",
       "<span style=\"color: #008000; text-decoration-color: #008000\">\"books_review\"</span>.<span style=\"color: #008000; text-decoration-color: #008000\">\"reader_id\"</span>, <span style=\"color: #008000; text-decoration-color: #008000\">\"books_review\"</span>.<span style=\"color: #008000; text-decoration-color: #008000\">\"rating\"</span>, <span style=\"color: #008000; text-decoration-color: #008000\">\"books_review\"</span>.<span style=\"color: #008000; text-decoration-color: #008000\">\"comments\"</span>, <span style=\"color: #008000; text-decoration-color: #008000\">\"books_review\"</span>.<span style=\"color: #008000; text-decoration-color: #008000\">\"written_at\"</span>, \n",
       "<span style=\"color: #008000; text-decoration-color: #008000\">\"books_review\"</span>.<span style=\"color: #008000; text-decoration-color: #008000\">\"library_id\"</span> FROM <span style=\"color: #008000; text-decoration-color: #008000\">\"books_review\"</span> WHERE <span style=\"color: #008000; text-decoration-color: #008000\">\"books_review\"</span>.<span style=\"color: #008000; text-decoration-color: #008000\">\"library_id\"</span> = <span style=\"color: #008080; text-decoration-color: #008080; font-weight: bold\">6</span> ORDER BY \n",
       "<span style=\"color: #008000; text-decoration-color: #008000\">\"books_review\"</span>.<span style=\"color: #008000; text-decoration-color: #008000\">\"rating\"</span> ASC LIMIT <span style=\"color: #008080; text-decoration-color: #008080; font-weight: bold\">20</span>\n",
       "</pre>\n"
      ],
      "text/plain": [
       "ordering: rating\n",
       "  Total: \u001b[1;36m0.01\u001b[0m\n",
       "  SQL: \u001b[1;36m0.01\u001b[0m \n",
       "\n",
       "      \u001b[1m(\u001b[0mduration: \u001b[1;36m0.005\u001b[0m\u001b[1m)\u001b[0m   EXPLAIN \u001b[1m(\u001b[0mANALYZE true\u001b[1m)\u001b[0m SELECT \u001b[32m\"books_review\"\u001b[0m.\u001b[32m\"id\"\u001b[0m, \u001b[32m\"books_review\"\u001b[0m.\u001b[32m\"book_id\"\u001b[0m, \n",
       "\u001b[32m\"books_review\"\u001b[0m.\u001b[32m\"reader_id\"\u001b[0m, \u001b[32m\"books_review\"\u001b[0m.\u001b[32m\"rating\"\u001b[0m, \u001b[32m\"books_review\"\u001b[0m.\u001b[32m\"comments\"\u001b[0m, \u001b[32m\"books_review\"\u001b[0m.\u001b[32m\"written_at\"\u001b[0m, \n",
       "\u001b[32m\"books_review\"\u001b[0m.\u001b[32m\"library_id\"\u001b[0m FROM \u001b[32m\"books_review\"\u001b[0m WHERE \u001b[32m\"books_review\"\u001b[0m.\u001b[32m\"library_id\"\u001b[0m = \u001b[1;36m6\u001b[0m ORDER BY \n",
       "\u001b[32m\"books_review\"\u001b[0m.\u001b[32m\"rating\"\u001b[0m ASC LIMIT \u001b[1;36m20\u001b[0m\n"
      ]
     },
     "metadata": {},
     "output_type": "display_data"
    },
    {
     "data": {
      "text/html": [
       "<pre style=\"white-space:pre;overflow-x:auto;line-height:normal;font-family:Menlo,'DejaVu Sans Mono',consolas,'Courier New',monospace\">Limit  <span style=\"font-weight: bold\">(</span><span style=\"color: #808000; text-decoration-color: #808000\">cost</span>=<span style=\"color: #008080; text-decoration-color: #008080; font-weight: bold\">0.56</span>..<span style=\"color: #008080; text-decoration-color: #008080; font-weight: bold\">36.07</span> <span style=\"color: #808000; text-decoration-color: #808000\">rows</span>=<span style=\"color: #008080; text-decoration-color: #008080; font-weight: bold\">20</span> <span style=\"color: #808000; text-decoration-color: #808000\">width</span>=<span style=\"color: #008080; text-decoration-color: #008080; font-weight: bold\">211</span><span style=\"font-weight: bold\">)</span> <span style=\"font-weight: bold\">(</span>actual <span style=\"color: #808000; text-decoration-color: #808000\">time</span>=<span style=\"color: #008080; text-decoration-color: #008080; font-weight: bold\">1.446</span>..<span style=\"color: #008080; text-decoration-color: #008080; font-weight: bold\">1.496</span> <span style=\"color: #808000; text-decoration-color: #808000\">rows</span>=<span style=\"color: #008080; text-decoration-color: #008080; font-weight: bold\">20</span> <span style=\"color: #808000; text-decoration-color: #808000\">loops</span>=<span style=\"color: #008080; text-decoration-color: #008080; font-weight: bold\">1</span><span style=\"font-weight: bold\">)</span>\n",
       "  -&gt;  Index Scan using review_library_id_rating_idx on books_review  <span style=\"font-weight: bold\">(</span><span style=\"color: #808000; text-decoration-color: #808000\">cost</span>=<span style=\"color: #008080; text-decoration-color: #008080; font-weight: bold\">0.56</span>..<span style=\"color: #008080; text-decoration-color: #008080; font-weight: bold\">3348862.04</span> <span style=\"color: #808000; text-decoration-color: #808000\">rows</span>=<span style=\"color: #008080; text-decoration-color: #008080; font-weight: bold\">1886525</span> <span style=\"color: #808000; text-decoration-color: #808000\">width</span>=<span style=\"color: #008080; text-decoration-color: #008080; font-weight: bold\">211</span><span style=\"font-weight: bold\">)</span>\n",
       "<span style=\"font-weight: bold\">(</span>actual <span style=\"color: #808000; text-decoration-color: #808000\">time</span>=<span style=\"color: #008080; text-decoration-color: #008080; font-weight: bold\">1.443</span>..<span style=\"color: #008080; text-decoration-color: #008080; font-weight: bold\">1.490</span> <span style=\"color: #808000; text-decoration-color: #808000\">rows</span>=<span style=\"color: #008080; text-decoration-color: #008080; font-weight: bold\">20</span> <span style=\"color: #808000; text-decoration-color: #808000\">loops</span>=<span style=\"color: #008080; text-decoration-color: #008080; font-weight: bold\">1</span><span style=\"font-weight: bold\">)</span>\n",
       "        Index Cond: <span style=\"font-weight: bold\">(</span>library_id = <span style=\"color: #008080; text-decoration-color: #008080; font-weight: bold\">6</span><span style=\"font-weight: bold\">)</span>\n",
       "Planning Time: <span style=\"color: #008080; text-decoration-color: #008080; font-weight: bold\">1.966</span> ms\n",
       "Execution Time: <span style=\"color: #008080; text-decoration-color: #008080; font-weight: bold\">1.540</span> ms\n",
       "</pre>\n"
      ],
      "text/plain": [
       "Limit  \u001b[1m(\u001b[0m\u001b[33mcost\u001b[0m=\u001b[1;36m0\u001b[0m\u001b[1;36m.56\u001b[0m..\u001b[1;36m36.07\u001b[0m \u001b[33mrows\u001b[0m=\u001b[1;36m20\u001b[0m \u001b[33mwidth\u001b[0m=\u001b[1;36m211\u001b[0m\u001b[1m)\u001b[0m \u001b[1m(\u001b[0mactual \u001b[33mtime\u001b[0m=\u001b[1;36m1\u001b[0m\u001b[1;36m.446\u001b[0m..\u001b[1;36m1.496\u001b[0m \u001b[33mrows\u001b[0m=\u001b[1;36m20\u001b[0m \u001b[33mloops\u001b[0m=\u001b[1;36m1\u001b[0m\u001b[1m)\u001b[0m\n",
       "  ->  Index Scan using review_library_id_rating_idx on books_review  \u001b[1m(\u001b[0m\u001b[33mcost\u001b[0m=\u001b[1;36m0\u001b[0m\u001b[1;36m.56\u001b[0m..\u001b[1;36m3348862.04\u001b[0m \u001b[33mrows\u001b[0m=\u001b[1;36m1886525\u001b[0m \u001b[33mwidth\u001b[0m=\u001b[1;36m211\u001b[0m\u001b[1m)\u001b[0m\n",
       "\u001b[1m(\u001b[0mactual \u001b[33mtime\u001b[0m=\u001b[1;36m1\u001b[0m\u001b[1;36m.443\u001b[0m..\u001b[1;36m1.490\u001b[0m \u001b[33mrows\u001b[0m=\u001b[1;36m20\u001b[0m \u001b[33mloops\u001b[0m=\u001b[1;36m1\u001b[0m\u001b[1m)\u001b[0m\n",
       "        Index Cond: \u001b[1m(\u001b[0mlibrary_id = \u001b[1;36m6\u001b[0m\u001b[1m)\u001b[0m\n",
       "Planning Time: \u001b[1;36m1.966\u001b[0m ms\n",
       "Execution Time: \u001b[1;36m1.540\u001b[0m ms\n"
      ]
     },
     "metadata": {},
     "output_type": "display_data"
    },
    {
     "data": {
      "text/html": [
       "<pre style=\"white-space:pre;overflow-x:auto;line-height:normal;font-family:Menlo,'DejaVu Sans Mono',consolas,'Courier New',monospace\"><span style=\"color: #00ff00; text-decoration-color: #00ff00\">───────────────────────────────────────────────────────────────────────────────────────────────────────────────────</span>\n",
       "</pre>\n"
      ],
      "text/plain": [
       "\u001b[92m───────────────────────────────────────────────────────────────────────────────────────────────────────────────────\u001b[0m\n"
      ]
     },
     "metadata": {},
     "output_type": "display_data"
    },
    {
     "data": {
      "text/html": [
       "<pre style=\"white-space:pre;overflow-x:auto;line-height:normal;font-family:Menlo,'DejaVu Sans Mono',consolas,'Courier New',monospace\">ordering: -rating\n",
       "  Total: <span style=\"color: #008080; text-decoration-color: #008080; font-weight: bold\">0.00</span>\n",
       "  SQL: <span style=\"color: #008080; text-decoration-color: #008080; font-weight: bold\">0.00</span> \n",
       "\n",
       "      <span style=\"font-weight: bold\">(</span>duration: <span style=\"color: #008080; text-decoration-color: #008080; font-weight: bold\">0.002</span><span style=\"font-weight: bold\">)</span>   EXPLAIN <span style=\"font-weight: bold\">(</span>ANALYZE true<span style=\"font-weight: bold\">)</span> SELECT <span style=\"color: #008000; text-decoration-color: #008000\">\"books_review\"</span>.<span style=\"color: #008000; text-decoration-color: #008000\">\"id\"</span>, <span style=\"color: #008000; text-decoration-color: #008000\">\"books_review\"</span>.<span style=\"color: #008000; text-decoration-color: #008000\">\"book_id\"</span>, \n",
       "<span style=\"color: #008000; text-decoration-color: #008000\">\"books_review\"</span>.<span style=\"color: #008000; text-decoration-color: #008000\">\"reader_id\"</span>, <span style=\"color: #008000; text-decoration-color: #008000\">\"books_review\"</span>.<span style=\"color: #008000; text-decoration-color: #008000\">\"rating\"</span>, <span style=\"color: #008000; text-decoration-color: #008000\">\"books_review\"</span>.<span style=\"color: #008000; text-decoration-color: #008000\">\"comments\"</span>, <span style=\"color: #008000; text-decoration-color: #008000\">\"books_review\"</span>.<span style=\"color: #008000; text-decoration-color: #008000\">\"written_at\"</span>, \n",
       "<span style=\"color: #008000; text-decoration-color: #008000\">\"books_review\"</span>.<span style=\"color: #008000; text-decoration-color: #008000\">\"library_id\"</span> FROM <span style=\"color: #008000; text-decoration-color: #008000\">\"books_review\"</span> WHERE <span style=\"color: #008000; text-decoration-color: #008000\">\"books_review\"</span>.<span style=\"color: #008000; text-decoration-color: #008000\">\"library_id\"</span> = <span style=\"color: #008080; text-decoration-color: #008080; font-weight: bold\">6</span> ORDER BY \n",
       "<span style=\"color: #008000; text-decoration-color: #008000\">\"books_review\"</span>.<span style=\"color: #008000; text-decoration-color: #008000\">\"rating\"</span> DESC LIMIT <span style=\"color: #008080; text-decoration-color: #008080; font-weight: bold\">20</span>\n",
       "</pre>\n"
      ],
      "text/plain": [
       "ordering: -rating\n",
       "  Total: \u001b[1;36m0.00\u001b[0m\n",
       "  SQL: \u001b[1;36m0.00\u001b[0m \n",
       "\n",
       "      \u001b[1m(\u001b[0mduration: \u001b[1;36m0.002\u001b[0m\u001b[1m)\u001b[0m   EXPLAIN \u001b[1m(\u001b[0mANALYZE true\u001b[1m)\u001b[0m SELECT \u001b[32m\"books_review\"\u001b[0m.\u001b[32m\"id\"\u001b[0m, \u001b[32m\"books_review\"\u001b[0m.\u001b[32m\"book_id\"\u001b[0m, \n",
       "\u001b[32m\"books_review\"\u001b[0m.\u001b[32m\"reader_id\"\u001b[0m, \u001b[32m\"books_review\"\u001b[0m.\u001b[32m\"rating\"\u001b[0m, \u001b[32m\"books_review\"\u001b[0m.\u001b[32m\"comments\"\u001b[0m, \u001b[32m\"books_review\"\u001b[0m.\u001b[32m\"written_at\"\u001b[0m, \n",
       "\u001b[32m\"books_review\"\u001b[0m.\u001b[32m\"library_id\"\u001b[0m FROM \u001b[32m\"books_review\"\u001b[0m WHERE \u001b[32m\"books_review\"\u001b[0m.\u001b[32m\"library_id\"\u001b[0m = \u001b[1;36m6\u001b[0m ORDER BY \n",
       "\u001b[32m\"books_review\"\u001b[0m.\u001b[32m\"rating\"\u001b[0m DESC LIMIT \u001b[1;36m20\u001b[0m\n"
      ]
     },
     "metadata": {},
     "output_type": "display_data"
    },
    {
     "data": {
      "text/html": [
       "<pre style=\"white-space:pre;overflow-x:auto;line-height:normal;font-family:Menlo,'DejaVu Sans Mono',consolas,'Courier New',monospace\">Limit  <span style=\"font-weight: bold\">(</span><span style=\"color: #808000; text-decoration-color: #808000\">cost</span>=<span style=\"color: #008080; text-decoration-color: #008080; font-weight: bold\">0.56</span>..<span style=\"color: #008080; text-decoration-color: #008080; font-weight: bold\">36.07</span> <span style=\"color: #808000; text-decoration-color: #808000\">rows</span>=<span style=\"color: #008080; text-decoration-color: #008080; font-weight: bold\">20</span> <span style=\"color: #808000; text-decoration-color: #808000\">width</span>=<span style=\"color: #008080; text-decoration-color: #008080; font-weight: bold\">211</span><span style=\"font-weight: bold\">)</span> <span style=\"font-weight: bold\">(</span>actual <span style=\"color: #808000; text-decoration-color: #808000\">time</span>=<span style=\"color: #008080; text-decoration-color: #008080; font-weight: bold\">0.769</span>..<span style=\"color: #008080; text-decoration-color: #008080; font-weight: bold\">0.827</span> <span style=\"color: #808000; text-decoration-color: #808000\">rows</span>=<span style=\"color: #008080; text-decoration-color: #008080; font-weight: bold\">20</span> <span style=\"color: #808000; text-decoration-color: #808000\">loops</span>=<span style=\"color: #008080; text-decoration-color: #008080; font-weight: bold\">1</span><span style=\"font-weight: bold\">)</span>\n",
       "  -&gt;  Index Scan Backward using review_library_id_rating_idx on books_review  <span style=\"font-weight: bold\">(</span><span style=\"color: #808000; text-decoration-color: #808000\">cost</span>=<span style=\"color: #008080; text-decoration-color: #008080; font-weight: bold\">0.56</span>..<span style=\"color: #008080; text-decoration-color: #008080; font-weight: bold\">3348862.04</span> <span style=\"color: #808000; text-decoration-color: #808000\">rows</span>=<span style=\"color: #008080; text-decoration-color: #008080; font-weight: bold\">1886525</span> \n",
       "<span style=\"color: #808000; text-decoration-color: #808000\">width</span>=<span style=\"color: #008080; text-decoration-color: #008080; font-weight: bold\">211</span><span style=\"font-weight: bold\">)</span> <span style=\"font-weight: bold\">(</span>actual <span style=\"color: #808000; text-decoration-color: #808000\">time</span>=<span style=\"color: #008080; text-decoration-color: #008080; font-weight: bold\">0.768</span>..<span style=\"color: #008080; text-decoration-color: #008080; font-weight: bold\">0.823</span> <span style=\"color: #808000; text-decoration-color: #808000\">rows</span>=<span style=\"color: #008080; text-decoration-color: #008080; font-weight: bold\">20</span> <span style=\"color: #808000; text-decoration-color: #808000\">loops</span>=<span style=\"color: #008080; text-decoration-color: #008080; font-weight: bold\">1</span><span style=\"font-weight: bold\">)</span>\n",
       "        Index Cond: <span style=\"font-weight: bold\">(</span>library_id = <span style=\"color: #008080; text-decoration-color: #008080; font-weight: bold\">6</span><span style=\"font-weight: bold\">)</span>\n",
       "Planning Time: <span style=\"color: #008080; text-decoration-color: #008080; font-weight: bold\">0.102</span> ms\n",
       "Execution Time: <span style=\"color: #008080; text-decoration-color: #008080; font-weight: bold\">0.871</span> ms\n",
       "</pre>\n"
      ],
      "text/plain": [
       "Limit  \u001b[1m(\u001b[0m\u001b[33mcost\u001b[0m=\u001b[1;36m0\u001b[0m\u001b[1;36m.56\u001b[0m..\u001b[1;36m36.07\u001b[0m \u001b[33mrows\u001b[0m=\u001b[1;36m20\u001b[0m \u001b[33mwidth\u001b[0m=\u001b[1;36m211\u001b[0m\u001b[1m)\u001b[0m \u001b[1m(\u001b[0mactual \u001b[33mtime\u001b[0m=\u001b[1;36m0\u001b[0m\u001b[1;36m.769\u001b[0m..\u001b[1;36m0.827\u001b[0m \u001b[33mrows\u001b[0m=\u001b[1;36m20\u001b[0m \u001b[33mloops\u001b[0m=\u001b[1;36m1\u001b[0m\u001b[1m)\u001b[0m\n",
       "  ->  Index Scan Backward using review_library_id_rating_idx on books_review  \u001b[1m(\u001b[0m\u001b[33mcost\u001b[0m=\u001b[1;36m0\u001b[0m\u001b[1;36m.56\u001b[0m..\u001b[1;36m3348862.04\u001b[0m \u001b[33mrows\u001b[0m=\u001b[1;36m1886525\u001b[0m \n",
       "\u001b[33mwidth\u001b[0m=\u001b[1;36m211\u001b[0m\u001b[1m)\u001b[0m \u001b[1m(\u001b[0mactual \u001b[33mtime\u001b[0m=\u001b[1;36m0\u001b[0m\u001b[1;36m.768\u001b[0m..\u001b[1;36m0.823\u001b[0m \u001b[33mrows\u001b[0m=\u001b[1;36m20\u001b[0m \u001b[33mloops\u001b[0m=\u001b[1;36m1\u001b[0m\u001b[1m)\u001b[0m\n",
       "        Index Cond: \u001b[1m(\u001b[0mlibrary_id = \u001b[1;36m6\u001b[0m\u001b[1m)\u001b[0m\n",
       "Planning Time: \u001b[1;36m0.102\u001b[0m ms\n",
       "Execution Time: \u001b[1;36m0.871\u001b[0m ms\n"
      ]
     },
     "metadata": {},
     "output_type": "display_data"
    },
    {
     "data": {
      "text/html": [
       "<pre style=\"white-space:pre;overflow-x:auto;line-height:normal;font-family:Menlo,'DejaVu Sans Mono',consolas,'Courier New',monospace\"><span style=\"color: #00ff00; text-decoration-color: #00ff00\">───────────────────────────────────────────────────────────────────────────────────────────────────────────────────</span>\n",
       "</pre>\n"
      ],
      "text/plain": [
       "\u001b[92m───────────────────────────────────────────────────────────────────────────────────────────────────────────────────\u001b[0m\n"
      ]
     },
     "metadata": {},
     "output_type": "display_data"
    }
   ],
   "source": [
    "with use_indexes(\"review_library_id_rating_idx\"):\n",
    "    explain_qs(alexandria_id, \"rating\")\n",
    "    explain_qs(alexandria_id, \"-rating\")"
   ]
  },
  {
   "attachments": {},
   "cell_type": "markdown",
   "metadata": {},
   "source": [
    "Ok, seems goood now!\n",
    "<br>\n",
    "<br>\n",
    "<br>\n"
   ]
  },
  {
   "attachments": {},
   "cell_type": "markdown",
   "metadata": {},
   "source": [
    "<br>\n",
    "<br>\n",
    "<br>\n"
   ]
  },
  {
   "attachments": {},
   "cell_type": "markdown",
   "metadata": {},
   "source": [
    "<br>\n",
    "<br>\n",
    "<br>\n"
   ]
  },
  {
   "attachments": {},
   "cell_type": "markdown",
   "metadata": {},
   "source": [
    "---\n",
    "\n",
    "Let's now investigate the weird results on the `id` / `-id` ordering\n"
   ]
  },
  {
   "cell_type": "code",
   "execution_count": 15,
   "metadata": {},
   "outputs": [
    {
     "data": {
      "text/html": [
       "<pre style=\"white-space:pre;overflow-x:auto;line-height:normal;font-family:Menlo,'DejaVu Sans Mono',consolas,'Courier New',monospace\">ordering: id\n",
       "  Total: <span style=\"color: #008080; text-decoration-color: #008080; font-weight: bold\">6.42</span>\n",
       "  SQL: <span style=\"color: #008080; text-decoration-color: #008080; font-weight: bold\">6.42</span> \n",
       "\n",
       "      <span style=\"font-weight: bold\">(</span>duration: <span style=\"color: #008080; text-decoration-color: #008080; font-weight: bold\">6.417</span><span style=\"font-weight: bold\">)</span>   EXPLAIN <span style=\"font-weight: bold\">(</span>ANALYZE true<span style=\"font-weight: bold\">)</span> SELECT <span style=\"color: #008000; text-decoration-color: #008000\">\"books_review\"</span>.<span style=\"color: #008000; text-decoration-color: #008000\">\"id\"</span>, <span style=\"color: #008000; text-decoration-color: #008000\">\"books_review\"</span>.<span style=\"color: #008000; text-decoration-color: #008000\">\"book_id\"</span>, \n",
       "<span style=\"color: #008000; text-decoration-color: #008000\">\"books_review\"</span>.<span style=\"color: #008000; text-decoration-color: #008000\">\"reader_id\"</span>, <span style=\"color: #008000; text-decoration-color: #008000\">\"books_review\"</span>.<span style=\"color: #008000; text-decoration-color: #008000\">\"rating\"</span>, <span style=\"color: #008000; text-decoration-color: #008000\">\"books_review\"</span>.<span style=\"color: #008000; text-decoration-color: #008000\">\"comments\"</span>, <span style=\"color: #008000; text-decoration-color: #008000\">\"books_review\"</span>.<span style=\"color: #008000; text-decoration-color: #008000\">\"written_at\"</span>, \n",
       "<span style=\"color: #008000; text-decoration-color: #008000\">\"books_review\"</span>.<span style=\"color: #008000; text-decoration-color: #008000\">\"library_id\"</span> FROM <span style=\"color: #008000; text-decoration-color: #008000\">\"books_review\"</span> WHERE <span style=\"color: #008000; text-decoration-color: #008000\">\"books_review\"</span>.<span style=\"color: #008000; text-decoration-color: #008000\">\"library_id\"</span> = <span style=\"color: #008080; text-decoration-color: #008080; font-weight: bold\">10015</span> ORDER BY \n",
       "<span style=\"color: #008000; text-decoration-color: #008000\">\"books_review\"</span>.<span style=\"color: #008000; text-decoration-color: #008000\">\"id\"</span> ASC LIMIT <span style=\"color: #008080; text-decoration-color: #008080; font-weight: bold\">20</span>\n",
       "</pre>\n"
      ],
      "text/plain": [
       "ordering: id\n",
       "  Total: \u001b[1;36m6.42\u001b[0m\n",
       "  SQL: \u001b[1;36m6.42\u001b[0m \n",
       "\n",
       "      \u001b[1m(\u001b[0mduration: \u001b[1;36m6.417\u001b[0m\u001b[1m)\u001b[0m   EXPLAIN \u001b[1m(\u001b[0mANALYZE true\u001b[1m)\u001b[0m SELECT \u001b[32m\"books_review\"\u001b[0m.\u001b[32m\"id\"\u001b[0m, \u001b[32m\"books_review\"\u001b[0m.\u001b[32m\"book_id\"\u001b[0m, \n",
       "\u001b[32m\"books_review\"\u001b[0m.\u001b[32m\"reader_id\"\u001b[0m, \u001b[32m\"books_review\"\u001b[0m.\u001b[32m\"rating\"\u001b[0m, \u001b[32m\"books_review\"\u001b[0m.\u001b[32m\"comments\"\u001b[0m, \u001b[32m\"books_review\"\u001b[0m.\u001b[32m\"written_at\"\u001b[0m, \n",
       "\u001b[32m\"books_review\"\u001b[0m.\u001b[32m\"library_id\"\u001b[0m FROM \u001b[32m\"books_review\"\u001b[0m WHERE \u001b[32m\"books_review\"\u001b[0m.\u001b[32m\"library_id\"\u001b[0m = \u001b[1;36m10015\u001b[0m ORDER BY \n",
       "\u001b[32m\"books_review\"\u001b[0m.\u001b[32m\"id\"\u001b[0m ASC LIMIT \u001b[1;36m20\u001b[0m\n"
      ]
     },
     "metadata": {},
     "output_type": "display_data"
    },
    {
     "data": {
      "text/html": [
       "<pre style=\"white-space:pre;overflow-x:auto;line-height:normal;font-family:Menlo,'DejaVu Sans Mono',consolas,'Courier New',monospace\">Limit  <span style=\"font-weight: bold\">(</span><span style=\"color: #808000; text-decoration-color: #808000\">cost</span>=<span style=\"color: #008080; text-decoration-color: #008080; font-weight: bold\">0.44</span>..<span style=\"color: #008080; text-decoration-color: #008080; font-weight: bold\">280.67</span> <span style=\"color: #808000; text-decoration-color: #808000\">rows</span>=<span style=\"color: #008080; text-decoration-color: #008080; font-weight: bold\">20</span> <span style=\"color: #808000; text-decoration-color: #808000\">width</span>=<span style=\"color: #008080; text-decoration-color: #008080; font-weight: bold\">211</span><span style=\"font-weight: bold\">)</span> <span style=\"font-weight: bold\">(</span>actual <span style=\"color: #808000; text-decoration-color: #808000\">time</span>=<span style=\"color: #008080; text-decoration-color: #008080; font-weight: bold\">6413.715</span>..<span style=\"color: #008080; text-decoration-color: #008080; font-weight: bold\">6415.238</span> <span style=\"color: #808000; text-decoration-color: #808000\">rows</span>=<span style=\"color: #008080; text-decoration-color: #008080; font-weight: bold\">20</span> <span style=\"color: #808000; text-decoration-color: #808000\">loops</span>=<span style=\"color: #008080; text-decoration-color: #008080; font-weight: bold\">1</span><span style=\"font-weight: bold\">)</span>\n",
       "  -&gt;  Index Scan using books_review_pkey on books_review  <span style=\"font-weight: bold\">(</span><span style=\"color: #808000; text-decoration-color: #808000\">cost</span>=<span style=\"color: #008080; text-decoration-color: #008080; font-weight: bold\">0.44</span>..<span style=\"color: #008080; text-decoration-color: #008080; font-weight: bold\">2860175.68</span> <span style=\"color: #808000; text-decoration-color: #808000\">rows</span>=<span style=\"color: #008080; text-decoration-color: #008080; font-weight: bold\">204129</span> <span style=\"color: #808000; text-decoration-color: #808000\">width</span>=<span style=\"color: #008080; text-decoration-color: #008080; font-weight: bold\">211</span><span style=\"font-weight: bold\">)</span> <span style=\"font-weight: bold\">(</span>actual \n",
       "<span style=\"color: #808000; text-decoration-color: #808000\">time</span>=<span style=\"color: #008080; text-decoration-color: #008080; font-weight: bold\">6413.714</span>..<span style=\"color: #008080; text-decoration-color: #008080; font-weight: bold\">6415.234</span> <span style=\"color: #808000; text-decoration-color: #808000\">rows</span>=<span style=\"color: #008080; text-decoration-color: #008080; font-weight: bold\">20</span> <span style=\"color: #808000; text-decoration-color: #808000\">loops</span>=<span style=\"color: #008080; text-decoration-color: #008080; font-weight: bold\">1</span><span style=\"font-weight: bold\">)</span>\n",
       "        Filter: <span style=\"font-weight: bold\">(</span>library_id = <span style=\"color: #008080; text-decoration-color: #008080; font-weight: bold\">10015</span><span style=\"font-weight: bold\">)</span>\n",
       "        Rows Removed by Filter: <span style=\"color: #008080; text-decoration-color: #008080; font-weight: bold\">20004693</span>\n",
       "Planning Time: <span style=\"color: #008080; text-decoration-color: #008080; font-weight: bold\">0.220</span> ms\n",
       "Execution Time: <span style=\"color: #008080; text-decoration-color: #008080; font-weight: bold\">6415.268</span> ms\n",
       "</pre>\n"
      ],
      "text/plain": [
       "Limit  \u001b[1m(\u001b[0m\u001b[33mcost\u001b[0m=\u001b[1;36m0\u001b[0m\u001b[1;36m.44\u001b[0m..\u001b[1;36m280.67\u001b[0m \u001b[33mrows\u001b[0m=\u001b[1;36m20\u001b[0m \u001b[33mwidth\u001b[0m=\u001b[1;36m211\u001b[0m\u001b[1m)\u001b[0m \u001b[1m(\u001b[0mactual \u001b[33mtime\u001b[0m=\u001b[1;36m6413\u001b[0m\u001b[1;36m.715\u001b[0m..\u001b[1;36m6415.238\u001b[0m \u001b[33mrows\u001b[0m=\u001b[1;36m20\u001b[0m \u001b[33mloops\u001b[0m=\u001b[1;36m1\u001b[0m\u001b[1m)\u001b[0m\n",
       "  ->  Index Scan using books_review_pkey on books_review  \u001b[1m(\u001b[0m\u001b[33mcost\u001b[0m=\u001b[1;36m0\u001b[0m\u001b[1;36m.44\u001b[0m..\u001b[1;36m2860175.68\u001b[0m \u001b[33mrows\u001b[0m=\u001b[1;36m204129\u001b[0m \u001b[33mwidth\u001b[0m=\u001b[1;36m211\u001b[0m\u001b[1m)\u001b[0m \u001b[1m(\u001b[0mactual \n",
       "\u001b[33mtime\u001b[0m=\u001b[1;36m6413\u001b[0m\u001b[1;36m.714\u001b[0m..\u001b[1;36m6415.234\u001b[0m \u001b[33mrows\u001b[0m=\u001b[1;36m20\u001b[0m \u001b[33mloops\u001b[0m=\u001b[1;36m1\u001b[0m\u001b[1m)\u001b[0m\n",
       "        Filter: \u001b[1m(\u001b[0mlibrary_id = \u001b[1;36m10015\u001b[0m\u001b[1m)\u001b[0m\n",
       "        Rows Removed by Filter: \u001b[1;36m20004693\u001b[0m\n",
       "Planning Time: \u001b[1;36m0.220\u001b[0m ms\n",
       "Execution Time: \u001b[1;36m6415.268\u001b[0m ms\n"
      ]
     },
     "metadata": {},
     "output_type": "display_data"
    },
    {
     "data": {
      "text/html": [
       "<pre style=\"white-space:pre;overflow-x:auto;line-height:normal;font-family:Menlo,'DejaVu Sans Mono',consolas,'Courier New',monospace\"><span style=\"color: #00ff00; text-decoration-color: #00ff00\">───────────────────────────────────────────────────────────────────────────────────────────────────────────────────</span>\n",
       "</pre>\n"
      ],
      "text/plain": [
       "\u001b[92m───────────────────────────────────────────────────────────────────────────────────────────────────────────────────\u001b[0m\n"
      ]
     },
     "metadata": {},
     "output_type": "display_data"
    },
    {
     "data": {
      "text/html": [
       "<pre style=\"white-space:pre;overflow-x:auto;line-height:normal;font-family:Menlo,'DejaVu Sans Mono',consolas,'Courier New',monospace\">ordering: -id\n",
       "  Total: <span style=\"color: #008080; text-decoration-color: #008080; font-weight: bold\">0.11</span>\n",
       "  SQL: <span style=\"color: #008080; text-decoration-color: #008080; font-weight: bold\">0.11</span> \n",
       "\n",
       "      <span style=\"font-weight: bold\">(</span>duration: <span style=\"color: #008080; text-decoration-color: #008080; font-weight: bold\">0.110</span><span style=\"font-weight: bold\">)</span>   EXPLAIN <span style=\"font-weight: bold\">(</span>ANALYZE true<span style=\"font-weight: bold\">)</span> SELECT <span style=\"color: #008000; text-decoration-color: #008000\">\"books_review\"</span>.<span style=\"color: #008000; text-decoration-color: #008000\">\"id\"</span>, <span style=\"color: #008000; text-decoration-color: #008000\">\"books_review\"</span>.<span style=\"color: #008000; text-decoration-color: #008000\">\"book_id\"</span>, \n",
       "<span style=\"color: #008000; text-decoration-color: #008000\">\"books_review\"</span>.<span style=\"color: #008000; text-decoration-color: #008000\">\"reader_id\"</span>, <span style=\"color: #008000; text-decoration-color: #008000\">\"books_review\"</span>.<span style=\"color: #008000; text-decoration-color: #008000\">\"rating\"</span>, <span style=\"color: #008000; text-decoration-color: #008000\">\"books_review\"</span>.<span style=\"color: #008000; text-decoration-color: #008000\">\"comments\"</span>, <span style=\"color: #008000; text-decoration-color: #008000\">\"books_review\"</span>.<span style=\"color: #008000; text-decoration-color: #008000\">\"written_at\"</span>, \n",
       "<span style=\"color: #008000; text-decoration-color: #008000\">\"books_review\"</span>.<span style=\"color: #008000; text-decoration-color: #008000\">\"library_id\"</span> FROM <span style=\"color: #008000; text-decoration-color: #008000\">\"books_review\"</span> WHERE <span style=\"color: #008000; text-decoration-color: #008000\">\"books_review\"</span>.<span style=\"color: #008000; text-decoration-color: #008000\">\"library_id\"</span> = <span style=\"color: #008080; text-decoration-color: #008080; font-weight: bold\">10015</span> ORDER BY \n",
       "<span style=\"color: #008000; text-decoration-color: #008000\">\"books_review\"</span>.<span style=\"color: #008000; text-decoration-color: #008000\">\"id\"</span> DESC LIMIT <span style=\"color: #008080; text-decoration-color: #008080; font-weight: bold\">20</span>\n",
       "</pre>\n"
      ],
      "text/plain": [
       "ordering: -id\n",
       "  Total: \u001b[1;36m0.11\u001b[0m\n",
       "  SQL: \u001b[1;36m0.11\u001b[0m \n",
       "\n",
       "      \u001b[1m(\u001b[0mduration: \u001b[1;36m0.110\u001b[0m\u001b[1m)\u001b[0m   EXPLAIN \u001b[1m(\u001b[0mANALYZE true\u001b[1m)\u001b[0m SELECT \u001b[32m\"books_review\"\u001b[0m.\u001b[32m\"id\"\u001b[0m, \u001b[32m\"books_review\"\u001b[0m.\u001b[32m\"book_id\"\u001b[0m, \n",
       "\u001b[32m\"books_review\"\u001b[0m.\u001b[32m\"reader_id\"\u001b[0m, \u001b[32m\"books_review\"\u001b[0m.\u001b[32m\"rating\"\u001b[0m, \u001b[32m\"books_review\"\u001b[0m.\u001b[32m\"comments\"\u001b[0m, \u001b[32m\"books_review\"\u001b[0m.\u001b[32m\"written_at\"\u001b[0m, \n",
       "\u001b[32m\"books_review\"\u001b[0m.\u001b[32m\"library_id\"\u001b[0m FROM \u001b[32m\"books_review\"\u001b[0m WHERE \u001b[32m\"books_review\"\u001b[0m.\u001b[32m\"library_id\"\u001b[0m = \u001b[1;36m10015\u001b[0m ORDER BY \n",
       "\u001b[32m\"books_review\"\u001b[0m.\u001b[32m\"id\"\u001b[0m DESC LIMIT \u001b[1;36m20\u001b[0m\n"
      ]
     },
     "metadata": {},
     "output_type": "display_data"
    },
    {
     "data": {
      "text/html": [
       "<pre style=\"white-space:pre;overflow-x:auto;line-height:normal;font-family:Menlo,'DejaVu Sans Mono',consolas,'Courier New',monospace\">Limit  <span style=\"font-weight: bold\">(</span><span style=\"color: #808000; text-decoration-color: #808000\">cost</span>=<span style=\"color: #008080; text-decoration-color: #008080; font-weight: bold\">0.44</span>..<span style=\"color: #008080; text-decoration-color: #008080; font-weight: bold\">280.67</span> <span style=\"color: #808000; text-decoration-color: #808000\">rows</span>=<span style=\"color: #008080; text-decoration-color: #008080; font-weight: bold\">20</span> <span style=\"color: #808000; text-decoration-color: #808000\">width</span>=<span style=\"color: #008080; text-decoration-color: #008080; font-weight: bold\">211</span><span style=\"font-weight: bold\">)</span> <span style=\"font-weight: bold\">(</span>actual <span style=\"color: #808000; text-decoration-color: #808000\">time</span>=<span style=\"color: #008080; text-decoration-color: #008080; font-weight: bold\">108.751</span>..<span style=\"color: #008080; text-decoration-color: #008080; font-weight: bold\">109.198</span> <span style=\"color: #808000; text-decoration-color: #808000\">rows</span>=<span style=\"color: #008080; text-decoration-color: #008080; font-weight: bold\">20</span> <span style=\"color: #808000; text-decoration-color: #808000\">loops</span>=<span style=\"color: #008080; text-decoration-color: #008080; font-weight: bold\">1</span><span style=\"font-weight: bold\">)</span>\n",
       "  -&gt;  Index Scan Backward using books_review_pkey on books_review  <span style=\"font-weight: bold\">(</span><span style=\"color: #808000; text-decoration-color: #808000\">cost</span>=<span style=\"color: #008080; text-decoration-color: #008080; font-weight: bold\">0.44</span>..<span style=\"color: #008080; text-decoration-color: #008080; font-weight: bold\">2860175.68</span> <span style=\"color: #808000; text-decoration-color: #808000\">rows</span>=<span style=\"color: #008080; text-decoration-color: #008080; font-weight: bold\">204129</span> <span style=\"color: #808000; text-decoration-color: #808000\">width</span>=<span style=\"color: #008080; text-decoration-color: #008080; font-weight: bold\">211</span><span style=\"font-weight: bold\">)</span> \n",
       "<span style=\"font-weight: bold\">(</span>actual <span style=\"color: #808000; text-decoration-color: #808000\">time</span>=<span style=\"color: #008080; text-decoration-color: #008080; font-weight: bold\">108.750</span>..<span style=\"color: #008080; text-decoration-color: #008080; font-weight: bold\">109.193</span> <span style=\"color: #808000; text-decoration-color: #808000\">rows</span>=<span style=\"color: #008080; text-decoration-color: #008080; font-weight: bold\">20</span> <span style=\"color: #808000; text-decoration-color: #808000\">loops</span>=<span style=\"color: #008080; text-decoration-color: #008080; font-weight: bold\">1</span><span style=\"font-weight: bold\">)</span>\n",
       "        Filter: <span style=\"font-weight: bold\">(</span>library_id = <span style=\"color: #008080; text-decoration-color: #008080; font-weight: bold\">10015</span><span style=\"font-weight: bold\">)</span>\n",
       "        Rows Removed by Filter: <span style=\"color: #008080; text-decoration-color: #008080; font-weight: bold\">41442</span>\n",
       "Planning Time: <span style=\"color: #008080; text-decoration-color: #008080; font-weight: bold\">0.097</span> ms\n",
       "Execution Time: <span style=\"color: #008080; text-decoration-color: #008080; font-weight: bold\">109.263</span> ms\n",
       "</pre>\n"
      ],
      "text/plain": [
       "Limit  \u001b[1m(\u001b[0m\u001b[33mcost\u001b[0m=\u001b[1;36m0\u001b[0m\u001b[1;36m.44\u001b[0m..\u001b[1;36m280.67\u001b[0m \u001b[33mrows\u001b[0m=\u001b[1;36m20\u001b[0m \u001b[33mwidth\u001b[0m=\u001b[1;36m211\u001b[0m\u001b[1m)\u001b[0m \u001b[1m(\u001b[0mactual \u001b[33mtime\u001b[0m=\u001b[1;36m108\u001b[0m\u001b[1;36m.751\u001b[0m..\u001b[1;36m109.198\u001b[0m \u001b[33mrows\u001b[0m=\u001b[1;36m20\u001b[0m \u001b[33mloops\u001b[0m=\u001b[1;36m1\u001b[0m\u001b[1m)\u001b[0m\n",
       "  ->  Index Scan Backward using books_review_pkey on books_review  \u001b[1m(\u001b[0m\u001b[33mcost\u001b[0m=\u001b[1;36m0\u001b[0m\u001b[1;36m.44\u001b[0m..\u001b[1;36m2860175.68\u001b[0m \u001b[33mrows\u001b[0m=\u001b[1;36m204129\u001b[0m \u001b[33mwidth\u001b[0m=\u001b[1;36m211\u001b[0m\u001b[1m)\u001b[0m \n",
       "\u001b[1m(\u001b[0mactual \u001b[33mtime\u001b[0m=\u001b[1;36m108\u001b[0m\u001b[1;36m.750\u001b[0m..\u001b[1;36m109.193\u001b[0m \u001b[33mrows\u001b[0m=\u001b[1;36m20\u001b[0m \u001b[33mloops\u001b[0m=\u001b[1;36m1\u001b[0m\u001b[1m)\u001b[0m\n",
       "        Filter: \u001b[1m(\u001b[0mlibrary_id = \u001b[1;36m10015\u001b[0m\u001b[1m)\u001b[0m\n",
       "        Rows Removed by Filter: \u001b[1;36m41442\u001b[0m\n",
       "Planning Time: \u001b[1;36m0.097\u001b[0m ms\n",
       "Execution Time: \u001b[1;36m109.263\u001b[0m ms\n"
      ]
     },
     "metadata": {},
     "output_type": "display_data"
    },
    {
     "data": {
      "text/html": [
       "<pre style=\"white-space:pre;overflow-x:auto;line-height:normal;font-family:Menlo,'DejaVu Sans Mono',consolas,'Courier New',monospace\"><span style=\"color: #00ff00; text-decoration-color: #00ff00\">───────────────────────────────────────────────────────────────────────────────────────────────────────────────────</span>\n",
       "</pre>\n"
      ],
      "text/plain": [
       "\u001b[92m───────────────────────────────────────────────────────────────────────────────────────────────────────────────────\u001b[0m\n"
      ]
     },
     "metadata": {},
     "output_type": "display_data"
    },
    {
     "data": {
      "text/html": [
       "<pre style=\"white-space:pre;overflow-x:auto;line-height:normal;font-family:Menlo,'DejaVu Sans Mono',consolas,'Courier New',monospace\">ordering: id\n",
       "  Total: <span style=\"color: #008080; text-decoration-color: #008080; font-weight: bold\">0.00</span>\n",
       "  SQL: <span style=\"color: #008080; text-decoration-color: #008080; font-weight: bold\">0.00</span> \n",
       "\n",
       "      <span style=\"font-weight: bold\">(</span>duration: <span style=\"color: #008080; text-decoration-color: #008080; font-weight: bold\">0.003</span><span style=\"font-weight: bold\">)</span>   EXPLAIN <span style=\"font-weight: bold\">(</span>ANALYZE true<span style=\"font-weight: bold\">)</span> SELECT <span style=\"color: #008000; text-decoration-color: #008000\">\"books_review\"</span>.<span style=\"color: #008000; text-decoration-color: #008000\">\"id\"</span>, <span style=\"color: #008000; text-decoration-color: #008000\">\"books_review\"</span>.<span style=\"color: #008000; text-decoration-color: #008000\">\"book_id\"</span>, \n",
       "<span style=\"color: #008000; text-decoration-color: #008000\">\"books_review\"</span>.<span style=\"color: #008000; text-decoration-color: #008000\">\"reader_id\"</span>, <span style=\"color: #008000; text-decoration-color: #008000\">\"books_review\"</span>.<span style=\"color: #008000; text-decoration-color: #008000\">\"rating\"</span>, <span style=\"color: #008000; text-decoration-color: #008000\">\"books_review\"</span>.<span style=\"color: #008000; text-decoration-color: #008000\">\"comments\"</span>, <span style=\"color: #008000; text-decoration-color: #008000\">\"books_review\"</span>.<span style=\"color: #008000; text-decoration-color: #008000\">\"written_at\"</span>, \n",
       "<span style=\"color: #008000; text-decoration-color: #008000\">\"books_review\"</span>.<span style=\"color: #008000; text-decoration-color: #008000\">\"library_id\"</span> FROM <span style=\"color: #008000; text-decoration-color: #008000\">\"books_review\"</span> WHERE <span style=\"color: #008000; text-decoration-color: #008000\">\"books_review\"</span>.<span style=\"color: #008000; text-decoration-color: #008000\">\"library_id\"</span> = <span style=\"color: #008080; text-decoration-color: #008080; font-weight: bold\">6</span> ORDER BY <span style=\"color: #008000; text-decoration-color: #008000\">\"books_review\"</span>.<span style=\"color: #008000; text-decoration-color: #008000\">\"id\"</span> \n",
       "ASC LIMIT <span style=\"color: #008080; text-decoration-color: #008080; font-weight: bold\">20</span>\n",
       "</pre>\n"
      ],
      "text/plain": [
       "ordering: id\n",
       "  Total: \u001b[1;36m0.00\u001b[0m\n",
       "  SQL: \u001b[1;36m0.00\u001b[0m \n",
       "\n",
       "      \u001b[1m(\u001b[0mduration: \u001b[1;36m0.003\u001b[0m\u001b[1m)\u001b[0m   EXPLAIN \u001b[1m(\u001b[0mANALYZE true\u001b[1m)\u001b[0m SELECT \u001b[32m\"books_review\"\u001b[0m.\u001b[32m\"id\"\u001b[0m, \u001b[32m\"books_review\"\u001b[0m.\u001b[32m\"book_id\"\u001b[0m, \n",
       "\u001b[32m\"books_review\"\u001b[0m.\u001b[32m\"reader_id\"\u001b[0m, \u001b[32m\"books_review\"\u001b[0m.\u001b[32m\"rating\"\u001b[0m, \u001b[32m\"books_review\"\u001b[0m.\u001b[32m\"comments\"\u001b[0m, \u001b[32m\"books_review\"\u001b[0m.\u001b[32m\"written_at\"\u001b[0m, \n",
       "\u001b[32m\"books_review\"\u001b[0m.\u001b[32m\"library_id\"\u001b[0m FROM \u001b[32m\"books_review\"\u001b[0m WHERE \u001b[32m\"books_review\"\u001b[0m.\u001b[32m\"library_id\"\u001b[0m = \u001b[1;36m6\u001b[0m ORDER BY \u001b[32m\"books_review\"\u001b[0m.\u001b[32m\"id\"\u001b[0m \n",
       "ASC LIMIT \u001b[1;36m20\u001b[0m\n"
      ]
     },
     "metadata": {},
     "output_type": "display_data"
    },
    {
     "data": {
      "text/html": [
       "<pre style=\"white-space:pre;overflow-x:auto;line-height:normal;font-family:Menlo,'DejaVu Sans Mono',consolas,'Courier New',monospace\">Limit  <span style=\"font-weight: bold\">(</span><span style=\"color: #808000; text-decoration-color: #808000\">cost</span>=<span style=\"color: #008080; text-decoration-color: #008080; font-weight: bold\">0.44</span>..<span style=\"color: #008080; text-decoration-color: #008080; font-weight: bold\">30.76</span> <span style=\"color: #808000; text-decoration-color: #808000\">rows</span>=<span style=\"color: #008080; text-decoration-color: #008080; font-weight: bold\">20</span> <span style=\"color: #808000; text-decoration-color: #808000\">width</span>=<span style=\"color: #008080; text-decoration-color: #008080; font-weight: bold\">211</span><span style=\"font-weight: bold\">)</span> <span style=\"font-weight: bold\">(</span>actual <span style=\"color: #808000; text-decoration-color: #808000\">time</span>=<span style=\"color: #008080; text-decoration-color: #008080; font-weight: bold\">1.599</span>..<span style=\"color: #008080; text-decoration-color: #008080; font-weight: bold\">1.753</span> <span style=\"color: #808000; text-decoration-color: #808000\">rows</span>=<span style=\"color: #008080; text-decoration-color: #008080; font-weight: bold\">20</span> <span style=\"color: #808000; text-decoration-color: #808000\">loops</span>=<span style=\"color: #008080; text-decoration-color: #008080; font-weight: bold\">1</span><span style=\"font-weight: bold\">)</span>\n",
       "  -&gt;  Index Scan using books_review_pkey on books_review  <span style=\"font-weight: bold\">(</span><span style=\"color: #808000; text-decoration-color: #808000\">cost</span>=<span style=\"color: #008080; text-decoration-color: #008080; font-weight: bold\">0.44</span>..<span style=\"color: #008080; text-decoration-color: #008080; font-weight: bold\">2860175.68</span> <span style=\"color: #808000; text-decoration-color: #808000\">rows</span>=<span style=\"color: #008080; text-decoration-color: #008080; font-weight: bold\">1886525</span> <span style=\"color: #808000; text-decoration-color: #808000\">width</span>=<span style=\"color: #008080; text-decoration-color: #008080; font-weight: bold\">211</span><span style=\"font-weight: bold\">)</span> <span style=\"font-weight: bold\">(</span>actual \n",
       "<span style=\"color: #808000; text-decoration-color: #808000\">time</span>=<span style=\"color: #008080; text-decoration-color: #008080; font-weight: bold\">1.597</span>..<span style=\"color: #008080; text-decoration-color: #008080; font-weight: bold\">1.748</span> <span style=\"color: #808000; text-decoration-color: #808000\">rows</span>=<span style=\"color: #008080; text-decoration-color: #008080; font-weight: bold\">20</span> <span style=\"color: #808000; text-decoration-color: #808000\">loops</span>=<span style=\"color: #008080; text-decoration-color: #008080; font-weight: bold\">1</span><span style=\"font-weight: bold\">)</span>\n",
       "        Filter: <span style=\"font-weight: bold\">(</span>library_id = <span style=\"color: #008080; text-decoration-color: #008080; font-weight: bold\">6</span><span style=\"font-weight: bold\">)</span>\n",
       "        Rows Removed by Filter: <span style=\"color: #008080; text-decoration-color: #008080; font-weight: bold\">3276</span>\n",
       "Planning Time: <span style=\"color: #008080; text-decoration-color: #008080; font-weight: bold\">0.119</span> ms\n",
       "Execution Time: <span style=\"color: #008080; text-decoration-color: #008080; font-weight: bold\">1.828</span> ms\n",
       "</pre>\n"
      ],
      "text/plain": [
       "Limit  \u001b[1m(\u001b[0m\u001b[33mcost\u001b[0m=\u001b[1;36m0\u001b[0m\u001b[1;36m.44\u001b[0m..\u001b[1;36m30.76\u001b[0m \u001b[33mrows\u001b[0m=\u001b[1;36m20\u001b[0m \u001b[33mwidth\u001b[0m=\u001b[1;36m211\u001b[0m\u001b[1m)\u001b[0m \u001b[1m(\u001b[0mactual \u001b[33mtime\u001b[0m=\u001b[1;36m1\u001b[0m\u001b[1;36m.599\u001b[0m..\u001b[1;36m1.753\u001b[0m \u001b[33mrows\u001b[0m=\u001b[1;36m20\u001b[0m \u001b[33mloops\u001b[0m=\u001b[1;36m1\u001b[0m\u001b[1m)\u001b[0m\n",
       "  ->  Index Scan using books_review_pkey on books_review  \u001b[1m(\u001b[0m\u001b[33mcost\u001b[0m=\u001b[1;36m0\u001b[0m\u001b[1;36m.44\u001b[0m..\u001b[1;36m2860175.68\u001b[0m \u001b[33mrows\u001b[0m=\u001b[1;36m1886525\u001b[0m \u001b[33mwidth\u001b[0m=\u001b[1;36m211\u001b[0m\u001b[1m)\u001b[0m \u001b[1m(\u001b[0mactual \n",
       "\u001b[33mtime\u001b[0m=\u001b[1;36m1\u001b[0m\u001b[1;36m.597\u001b[0m..\u001b[1;36m1.748\u001b[0m \u001b[33mrows\u001b[0m=\u001b[1;36m20\u001b[0m \u001b[33mloops\u001b[0m=\u001b[1;36m1\u001b[0m\u001b[1m)\u001b[0m\n",
       "        Filter: \u001b[1m(\u001b[0mlibrary_id = \u001b[1;36m6\u001b[0m\u001b[1m)\u001b[0m\n",
       "        Rows Removed by Filter: \u001b[1;36m3276\u001b[0m\n",
       "Planning Time: \u001b[1;36m0.119\u001b[0m ms\n",
       "Execution Time: \u001b[1;36m1.828\u001b[0m ms\n"
      ]
     },
     "metadata": {},
     "output_type": "display_data"
    },
    {
     "data": {
      "text/html": [
       "<pre style=\"white-space:pre;overflow-x:auto;line-height:normal;font-family:Menlo,'DejaVu Sans Mono',consolas,'Courier New',monospace\"><span style=\"color: #00ff00; text-decoration-color: #00ff00\">───────────────────────────────────────────────────────────────────────────────────────────────────────────────────</span>\n",
       "</pre>\n"
      ],
      "text/plain": [
       "\u001b[92m───────────────────────────────────────────────────────────────────────────────────────────────────────────────────\u001b[0m\n"
      ]
     },
     "metadata": {},
     "output_type": "display_data"
    },
    {
     "data": {
      "text/html": [
       "<pre style=\"white-space:pre;overflow-x:auto;line-height:normal;font-family:Menlo,'DejaVu Sans Mono',consolas,'Courier New',monospace\">ordering: -id\n",
       "  Total: <span style=\"color: #008080; text-decoration-color: #008080; font-weight: bold\">0.00</span>\n",
       "  SQL: <span style=\"color: #008080; text-decoration-color: #008080; font-weight: bold\">0.00</span> \n",
       "\n",
       "      <span style=\"font-weight: bold\">(</span>duration: <span style=\"color: #008080; text-decoration-color: #008080; font-weight: bold\">0.001</span><span style=\"font-weight: bold\">)</span>   EXPLAIN <span style=\"font-weight: bold\">(</span>ANALYZE true<span style=\"font-weight: bold\">)</span> SELECT <span style=\"color: #008000; text-decoration-color: #008000\">\"books_review\"</span>.<span style=\"color: #008000; text-decoration-color: #008000\">\"id\"</span>, <span style=\"color: #008000; text-decoration-color: #008000\">\"books_review\"</span>.<span style=\"color: #008000; text-decoration-color: #008000\">\"book_id\"</span>, \n",
       "<span style=\"color: #008000; text-decoration-color: #008000\">\"books_review\"</span>.<span style=\"color: #008000; text-decoration-color: #008000\">\"reader_id\"</span>, <span style=\"color: #008000; text-decoration-color: #008000\">\"books_review\"</span>.<span style=\"color: #008000; text-decoration-color: #008000\">\"rating\"</span>, <span style=\"color: #008000; text-decoration-color: #008000\">\"books_review\"</span>.<span style=\"color: #008000; text-decoration-color: #008000\">\"comments\"</span>, <span style=\"color: #008000; text-decoration-color: #008000\">\"books_review\"</span>.<span style=\"color: #008000; text-decoration-color: #008000\">\"written_at\"</span>, \n",
       "<span style=\"color: #008000; text-decoration-color: #008000\">\"books_review\"</span>.<span style=\"color: #008000; text-decoration-color: #008000\">\"library_id\"</span> FROM <span style=\"color: #008000; text-decoration-color: #008000\">\"books_review\"</span> WHERE <span style=\"color: #008000; text-decoration-color: #008000\">\"books_review\"</span>.<span style=\"color: #008000; text-decoration-color: #008000\">\"library_id\"</span> = <span style=\"color: #008080; text-decoration-color: #008080; font-weight: bold\">6</span> ORDER BY <span style=\"color: #008000; text-decoration-color: #008000\">\"books_review\"</span>.<span style=\"color: #008000; text-decoration-color: #008000\">\"id\"</span> \n",
       "DESC LIMIT <span style=\"color: #008080; text-decoration-color: #008080; font-weight: bold\">20</span>\n",
       "</pre>\n"
      ],
      "text/plain": [
       "ordering: -id\n",
       "  Total: \u001b[1;36m0.00\u001b[0m\n",
       "  SQL: \u001b[1;36m0.00\u001b[0m \n",
       "\n",
       "      \u001b[1m(\u001b[0mduration: \u001b[1;36m0.001\u001b[0m\u001b[1m)\u001b[0m   EXPLAIN \u001b[1m(\u001b[0mANALYZE true\u001b[1m)\u001b[0m SELECT \u001b[32m\"books_review\"\u001b[0m.\u001b[32m\"id\"\u001b[0m, \u001b[32m\"books_review\"\u001b[0m.\u001b[32m\"book_id\"\u001b[0m, \n",
       "\u001b[32m\"books_review\"\u001b[0m.\u001b[32m\"reader_id\"\u001b[0m, \u001b[32m\"books_review\"\u001b[0m.\u001b[32m\"rating\"\u001b[0m, \u001b[32m\"books_review\"\u001b[0m.\u001b[32m\"comments\"\u001b[0m, \u001b[32m\"books_review\"\u001b[0m.\u001b[32m\"written_at\"\u001b[0m, \n",
       "\u001b[32m\"books_review\"\u001b[0m.\u001b[32m\"library_id\"\u001b[0m FROM \u001b[32m\"books_review\"\u001b[0m WHERE \u001b[32m\"books_review\"\u001b[0m.\u001b[32m\"library_id\"\u001b[0m = \u001b[1;36m6\u001b[0m ORDER BY \u001b[32m\"books_review\"\u001b[0m.\u001b[32m\"id\"\u001b[0m \n",
       "DESC LIMIT \u001b[1;36m20\u001b[0m\n"
      ]
     },
     "metadata": {},
     "output_type": "display_data"
    },
    {
     "data": {
      "text/html": [
       "<pre style=\"white-space:pre;overflow-x:auto;line-height:normal;font-family:Menlo,'DejaVu Sans Mono',consolas,'Courier New',monospace\">Limit  <span style=\"font-weight: bold\">(</span><span style=\"color: #808000; text-decoration-color: #808000\">cost</span>=<span style=\"color: #008080; text-decoration-color: #008080; font-weight: bold\">0.44</span>..<span style=\"color: #008080; text-decoration-color: #008080; font-weight: bold\">30.76</span> <span style=\"color: #808000; text-decoration-color: #808000\">rows</span>=<span style=\"color: #008080; text-decoration-color: #008080; font-weight: bold\">20</span> <span style=\"color: #808000; text-decoration-color: #808000\">width</span>=<span style=\"color: #008080; text-decoration-color: #008080; font-weight: bold\">211</span><span style=\"font-weight: bold\">)</span> <span style=\"font-weight: bold\">(</span>actual <span style=\"color: #808000; text-decoration-color: #808000\">time</span>=<span style=\"color: #008080; text-decoration-color: #008080; font-weight: bold\">0.081</span>..<span style=\"color: #008080; text-decoration-color: #008080; font-weight: bold\">0.161</span> <span style=\"color: #808000; text-decoration-color: #808000\">rows</span>=<span style=\"color: #008080; text-decoration-color: #008080; font-weight: bold\">20</span> <span style=\"color: #808000; text-decoration-color: #808000\">loops</span>=<span style=\"color: #008080; text-decoration-color: #008080; font-weight: bold\">1</span><span style=\"font-weight: bold\">)</span>\n",
       "  -&gt;  Index Scan Backward using books_review_pkey on books_review  <span style=\"font-weight: bold\">(</span><span style=\"color: #808000; text-decoration-color: #808000\">cost</span>=<span style=\"color: #008080; text-decoration-color: #008080; font-weight: bold\">0.44</span>..<span style=\"color: #008080; text-decoration-color: #008080; font-weight: bold\">2860175.68</span> <span style=\"color: #808000; text-decoration-color: #808000\">rows</span>=<span style=\"color: #008080; text-decoration-color: #008080; font-weight: bold\">1886525</span> <span style=\"color: #808000; text-decoration-color: #808000\">width</span>=<span style=\"color: #008080; text-decoration-color: #008080; font-weight: bold\">211</span><span style=\"font-weight: bold\">)</span> \n",
       "<span style=\"font-weight: bold\">(</span>actual <span style=\"color: #808000; text-decoration-color: #808000\">time</span>=<span style=\"color: #008080; text-decoration-color: #008080; font-weight: bold\">0.079</span>..<span style=\"color: #008080; text-decoration-color: #008080; font-weight: bold\">0.156</span> <span style=\"color: #808000; text-decoration-color: #808000\">rows</span>=<span style=\"color: #008080; text-decoration-color: #008080; font-weight: bold\">20</span> <span style=\"color: #808000; text-decoration-color: #808000\">loops</span>=<span style=\"color: #008080; text-decoration-color: #008080; font-weight: bold\">1</span><span style=\"font-weight: bold\">)</span>\n",
       "        Filter: <span style=\"font-weight: bold\">(</span>library_id = <span style=\"color: #008080; text-decoration-color: #008080; font-weight: bold\">6</span><span style=\"font-weight: bold\">)</span>\n",
       "Planning Time: <span style=\"color: #008080; text-decoration-color: #008080; font-weight: bold\">0.118</span> ms\n",
       "Execution Time: <span style=\"color: #008080; text-decoration-color: #008080; font-weight: bold\">0.219</span> ms\n",
       "</pre>\n"
      ],
      "text/plain": [
       "Limit  \u001b[1m(\u001b[0m\u001b[33mcost\u001b[0m=\u001b[1;36m0\u001b[0m\u001b[1;36m.44\u001b[0m..\u001b[1;36m30.76\u001b[0m \u001b[33mrows\u001b[0m=\u001b[1;36m20\u001b[0m \u001b[33mwidth\u001b[0m=\u001b[1;36m211\u001b[0m\u001b[1m)\u001b[0m \u001b[1m(\u001b[0mactual \u001b[33mtime\u001b[0m=\u001b[1;36m0\u001b[0m\u001b[1;36m.081\u001b[0m..\u001b[1;36m0.161\u001b[0m \u001b[33mrows\u001b[0m=\u001b[1;36m20\u001b[0m \u001b[33mloops\u001b[0m=\u001b[1;36m1\u001b[0m\u001b[1m)\u001b[0m\n",
       "  ->  Index Scan Backward using books_review_pkey on books_review  \u001b[1m(\u001b[0m\u001b[33mcost\u001b[0m=\u001b[1;36m0\u001b[0m\u001b[1;36m.44\u001b[0m..\u001b[1;36m2860175.68\u001b[0m \u001b[33mrows\u001b[0m=\u001b[1;36m1886525\u001b[0m \u001b[33mwidth\u001b[0m=\u001b[1;36m211\u001b[0m\u001b[1m)\u001b[0m \n",
       "\u001b[1m(\u001b[0mactual \u001b[33mtime\u001b[0m=\u001b[1;36m0\u001b[0m\u001b[1;36m.079\u001b[0m..\u001b[1;36m0.156\u001b[0m \u001b[33mrows\u001b[0m=\u001b[1;36m20\u001b[0m \u001b[33mloops\u001b[0m=\u001b[1;36m1\u001b[0m\u001b[1m)\u001b[0m\n",
       "        Filter: \u001b[1m(\u001b[0mlibrary_id = \u001b[1;36m6\u001b[0m\u001b[1m)\u001b[0m\n",
       "Planning Time: \u001b[1;36m0.118\u001b[0m ms\n",
       "Execution Time: \u001b[1;36m0.219\u001b[0m ms\n"
      ]
     },
     "metadata": {},
     "output_type": "display_data"
    },
    {
     "data": {
      "text/html": [
       "<pre style=\"white-space:pre;overflow-x:auto;line-height:normal;font-family:Menlo,'DejaVu Sans Mono',consolas,'Courier New',monospace\"><span style=\"color: #00ff00; text-decoration-color: #00ff00\">───────────────────────────────────────────────────────────────────────────────────────────────────────────────────</span>\n",
       "</pre>\n"
      ],
      "text/plain": [
       "\u001b[92m───────────────────────────────────────────────────────────────────────────────────────────────────────────────────\u001b[0m\n"
      ]
     },
     "metadata": {},
     "output_type": "display_data"
    }
   ],
   "source": [
    "explain_qs(public_id, \"id\")\n",
    "explain_qs(public_id, \"-id\")\n",
    "explain_qs(alexandria_id, \"id\")\n",
    "explain_qs(alexandria_id, \"-id\")\n"
   ]
  },
  {
   "cell_type": "code",
   "execution_count": 16,
   "metadata": {},
   "outputs": [
    {
     "data": {
      "text/html": [
       "<pre style=\"white-space:pre;overflow-x:auto;line-height:normal;font-family:Menlo,'DejaVu Sans Mono',consolas,'Courier New',monospace\">ordering: -id\n",
       "  Total: <span style=\"color: #008080; text-decoration-color: #008080; font-weight: bold\">0.00</span>\n",
       "  SQL: <span style=\"color: #008080; text-decoration-color: #008080; font-weight: bold\">0.00</span> \n",
       "\n",
       "      <span style=\"font-weight: bold\">(</span>duration: <span style=\"color: #008080; text-decoration-color: #008080; font-weight: bold\">0.001</span><span style=\"font-weight: bold\">)</span>   EXPLAIN <span style=\"font-weight: bold\">(</span>ANALYZE true<span style=\"font-weight: bold\">)</span> SELECT <span style=\"color: #008000; text-decoration-color: #008000\">\"books_review\"</span>.<span style=\"color: #008000; text-decoration-color: #008000\">\"id\"</span>, <span style=\"color: #008000; text-decoration-color: #008000\">\"books_review\"</span>.<span style=\"color: #008000; text-decoration-color: #008000\">\"book_id\"</span>, \n",
       "<span style=\"color: #008000; text-decoration-color: #008000\">\"books_review\"</span>.<span style=\"color: #008000; text-decoration-color: #008000\">\"reader_id\"</span>, <span style=\"color: #008000; text-decoration-color: #008000\">\"books_review\"</span>.<span style=\"color: #008000; text-decoration-color: #008000\">\"rating\"</span>, <span style=\"color: #008000; text-decoration-color: #008000\">\"books_review\"</span>.<span style=\"color: #008000; text-decoration-color: #008000\">\"comments\"</span>, <span style=\"color: #008000; text-decoration-color: #008000\">\"books_review\"</span>.<span style=\"color: #008000; text-decoration-color: #008000\">\"written_at\"</span>, \n",
       "<span style=\"color: #008000; text-decoration-color: #008000\">\"books_review\"</span>.<span style=\"color: #008000; text-decoration-color: #008000\">\"library_id\"</span> FROM <span style=\"color: #008000; text-decoration-color: #008000\">\"books_review\"</span> WHERE <span style=\"color: #008000; text-decoration-color: #008000\">\"books_review\"</span>.<span style=\"color: #008000; text-decoration-color: #008000\">\"library_id\"</span> = <span style=\"color: #008080; text-decoration-color: #008080; font-weight: bold\">6</span> ORDER BY <span style=\"color: #008000; text-decoration-color: #008000\">\"books_review\"</span>.<span style=\"color: #008000; text-decoration-color: #008000\">\"id\"</span> \n",
       "DESC LIMIT <span style=\"color: #008080; text-decoration-color: #008080; font-weight: bold\">20</span>\n",
       "</pre>\n"
      ],
      "text/plain": [
       "ordering: -id\n",
       "  Total: \u001b[1;36m0.00\u001b[0m\n",
       "  SQL: \u001b[1;36m0.00\u001b[0m \n",
       "\n",
       "      \u001b[1m(\u001b[0mduration: \u001b[1;36m0.001\u001b[0m\u001b[1m)\u001b[0m   EXPLAIN \u001b[1m(\u001b[0mANALYZE true\u001b[1m)\u001b[0m SELECT \u001b[32m\"books_review\"\u001b[0m.\u001b[32m\"id\"\u001b[0m, \u001b[32m\"books_review\"\u001b[0m.\u001b[32m\"book_id\"\u001b[0m, \n",
       "\u001b[32m\"books_review\"\u001b[0m.\u001b[32m\"reader_id\"\u001b[0m, \u001b[32m\"books_review\"\u001b[0m.\u001b[32m\"rating\"\u001b[0m, \u001b[32m\"books_review\"\u001b[0m.\u001b[32m\"comments\"\u001b[0m, \u001b[32m\"books_review\"\u001b[0m.\u001b[32m\"written_at\"\u001b[0m, \n",
       "\u001b[32m\"books_review\"\u001b[0m.\u001b[32m\"library_id\"\u001b[0m FROM \u001b[32m\"books_review\"\u001b[0m WHERE \u001b[32m\"books_review\"\u001b[0m.\u001b[32m\"library_id\"\u001b[0m = \u001b[1;36m6\u001b[0m ORDER BY \u001b[32m\"books_review\"\u001b[0m.\u001b[32m\"id\"\u001b[0m \n",
       "DESC LIMIT \u001b[1;36m20\u001b[0m\n"
      ]
     },
     "metadata": {},
     "output_type": "display_data"
    },
    {
     "data": {
      "text/html": [
       "<pre style=\"white-space:pre;overflow-x:auto;line-height:normal;font-family:Menlo,'DejaVu Sans Mono',consolas,'Courier New',monospace\">Limit  <span style=\"font-weight: bold\">(</span><span style=\"color: #808000; text-decoration-color: #808000\">cost</span>=<span style=\"color: #008080; text-decoration-color: #008080; font-weight: bold\">0.44</span>..<span style=\"color: #008080; text-decoration-color: #008080; font-weight: bold\">30.76</span> <span style=\"color: #808000; text-decoration-color: #808000\">rows</span>=<span style=\"color: #008080; text-decoration-color: #008080; font-weight: bold\">20</span> <span style=\"color: #808000; text-decoration-color: #808000\">width</span>=<span style=\"color: #008080; text-decoration-color: #008080; font-weight: bold\">211</span><span style=\"font-weight: bold\">)</span> <span style=\"font-weight: bold\">(</span>actual <span style=\"color: #808000; text-decoration-color: #808000\">time</span>=<span style=\"color: #008080; text-decoration-color: #008080; font-weight: bold\">0.047</span>..<span style=\"color: #008080; text-decoration-color: #008080; font-weight: bold\">0.066</span> <span style=\"color: #808000; text-decoration-color: #808000\">rows</span>=<span style=\"color: #008080; text-decoration-color: #008080; font-weight: bold\">20</span> <span style=\"color: #808000; text-decoration-color: #808000\">loops</span>=<span style=\"color: #008080; text-decoration-color: #008080; font-weight: bold\">1</span><span style=\"font-weight: bold\">)</span>\n",
       "  -&gt;  Index Scan Backward using books_review_pkey on books_review  <span style=\"font-weight: bold\">(</span><span style=\"color: #808000; text-decoration-color: #808000\">cost</span>=<span style=\"color: #008080; text-decoration-color: #008080; font-weight: bold\">0.44</span>..<span style=\"color: #008080; text-decoration-color: #008080; font-weight: bold\">2860175.68</span> <span style=\"color: #808000; text-decoration-color: #808000\">rows</span>=<span style=\"color: #008080; text-decoration-color: #008080; font-weight: bold\">1886525</span> <span style=\"color: #808000; text-decoration-color: #808000\">width</span>=<span style=\"color: #008080; text-decoration-color: #008080; font-weight: bold\">211</span><span style=\"font-weight: bold\">)</span> \n",
       "<span style=\"font-weight: bold\">(</span>actual <span style=\"color: #808000; text-decoration-color: #808000\">time</span>=<span style=\"color: #008080; text-decoration-color: #008080; font-weight: bold\">0.045</span>..<span style=\"color: #008080; text-decoration-color: #008080; font-weight: bold\">0.063</span> <span style=\"color: #808000; text-decoration-color: #808000\">rows</span>=<span style=\"color: #008080; text-decoration-color: #008080; font-weight: bold\">20</span> <span style=\"color: #808000; text-decoration-color: #808000\">loops</span>=<span style=\"color: #008080; text-decoration-color: #008080; font-weight: bold\">1</span><span style=\"font-weight: bold\">)</span>\n",
       "        Filter: <span style=\"font-weight: bold\">(</span>library_id = <span style=\"color: #008080; text-decoration-color: #008080; font-weight: bold\">6</span><span style=\"font-weight: bold\">)</span>\n",
       "Planning Time: <span style=\"color: #008080; text-decoration-color: #008080; font-weight: bold\">0.102</span> ms\n",
       "Execution Time: <span style=\"color: #008080; text-decoration-color: #008080; font-weight: bold\">0.103</span> ms\n",
       "</pre>\n"
      ],
      "text/plain": [
       "Limit  \u001b[1m(\u001b[0m\u001b[33mcost\u001b[0m=\u001b[1;36m0\u001b[0m\u001b[1;36m.44\u001b[0m..\u001b[1;36m30.76\u001b[0m \u001b[33mrows\u001b[0m=\u001b[1;36m20\u001b[0m \u001b[33mwidth\u001b[0m=\u001b[1;36m211\u001b[0m\u001b[1m)\u001b[0m \u001b[1m(\u001b[0mactual \u001b[33mtime\u001b[0m=\u001b[1;36m0\u001b[0m\u001b[1;36m.047\u001b[0m..\u001b[1;36m0.066\u001b[0m \u001b[33mrows\u001b[0m=\u001b[1;36m20\u001b[0m \u001b[33mloops\u001b[0m=\u001b[1;36m1\u001b[0m\u001b[1m)\u001b[0m\n",
       "  ->  Index Scan Backward using books_review_pkey on books_review  \u001b[1m(\u001b[0m\u001b[33mcost\u001b[0m=\u001b[1;36m0\u001b[0m\u001b[1;36m.44\u001b[0m..\u001b[1;36m2860175.68\u001b[0m \u001b[33mrows\u001b[0m=\u001b[1;36m1886525\u001b[0m \u001b[33mwidth\u001b[0m=\u001b[1;36m211\u001b[0m\u001b[1m)\u001b[0m \n",
       "\u001b[1m(\u001b[0mactual \u001b[33mtime\u001b[0m=\u001b[1;36m0\u001b[0m\u001b[1;36m.045\u001b[0m..\u001b[1;36m0.063\u001b[0m \u001b[33mrows\u001b[0m=\u001b[1;36m20\u001b[0m \u001b[33mloops\u001b[0m=\u001b[1;36m1\u001b[0m\u001b[1m)\u001b[0m\n",
       "        Filter: \u001b[1m(\u001b[0mlibrary_id = \u001b[1;36m6\u001b[0m\u001b[1m)\u001b[0m\n",
       "Planning Time: \u001b[1;36m0.102\u001b[0m ms\n",
       "Execution Time: \u001b[1;36m0.103\u001b[0m ms\n"
      ]
     },
     "metadata": {},
     "output_type": "display_data"
    },
    {
     "data": {
      "text/html": [
       "<pre style=\"white-space:pre;overflow-x:auto;line-height:normal;font-family:Menlo,'DejaVu Sans Mono',consolas,'Courier New',monospace\"><span style=\"color: #00ff00; text-decoration-color: #00ff00\">───────────────────────────────────────────────────────────────────────────────────────────────────────────────────</span>\n",
       "</pre>\n"
      ],
      "text/plain": [
       "\u001b[92m───────────────────────────────────────────────────────────────────────────────────────────────────────────────────\u001b[0m\n"
      ]
     },
     "metadata": {},
     "output_type": "display_data"
    }
   ],
   "source": [
    "explain_qs(alexandria_id, \"-id\")\n"
   ]
  },
  {
   "attachments": {},
   "cell_type": "markdown",
   "metadata": {},
   "source": [
    "Once again, there are multiple things to notice:\n",
    "\n",
    "- The plans for `id` and `-id` are exactly the same for `Public`. They both use the index on `library_id`, then a heap sort\n",
    "\n",
    "- Both `id` and `-id` orderings use a differnt plan when querying `Alexandria` reviews. It now uses the index on the primary key `books_reviews.id`, and filter rows with the right `library_id`.\n",
    "  On `-id`, the index is traveled backwards, and only the first 20 rows are kept (because of the `LIMIT 20`)\n",
    "\n",
    "- This second plan is really fast for `id`, but really slow for `-id`\n",
    "\n",
    "Conclusion: The plan, and the performance both depend on the data. Always try with a database as close as possible to your live, production database\n"
   ]
  },
  {
   "attachments": {},
   "cell_type": "markdown",
   "metadata": {},
   "source": [
    "<br>\n",
    "<br>\n",
    "<br>\n",
    "We can try to add a composite index, as we did for rating:\n"
   ]
  },
  {
   "cell_type": "code",
   "execution_count": 17,
   "metadata": {},
   "outputs": [
    {
     "data": {
      "text/html": [
       "<pre style=\"white-space:pre;overflow-x:auto;line-height:normal;font-family:Menlo,'DejaVu Sans Mono',consolas,'Courier New',monospace\">ordering: -id\n",
       "  Total: <span style=\"color: #008080; text-decoration-color: #008080; font-weight: bold\">0.00</span>\n",
       "  SQL: <span style=\"color: #008080; text-decoration-color: #008080; font-weight: bold\">0.00</span> \n",
       "\n",
       "      <span style=\"font-weight: bold\">(</span>duration: <span style=\"color: #008080; text-decoration-color: #008080; font-weight: bold\">0.002</span><span style=\"font-weight: bold\">)</span>   EXPLAIN <span style=\"font-weight: bold\">(</span>ANALYZE true<span style=\"font-weight: bold\">)</span> SELECT <span style=\"color: #008000; text-decoration-color: #008000\">\"books_review\"</span>.<span style=\"color: #008000; text-decoration-color: #008000\">\"id\"</span>, <span style=\"color: #008000; text-decoration-color: #008000\">\"books_review\"</span>.<span style=\"color: #008000; text-decoration-color: #008000\">\"book_id\"</span>, \n",
       "<span style=\"color: #008000; text-decoration-color: #008000\">\"books_review\"</span>.<span style=\"color: #008000; text-decoration-color: #008000\">\"reader_id\"</span>, <span style=\"color: #008000; text-decoration-color: #008000\">\"books_review\"</span>.<span style=\"color: #008000; text-decoration-color: #008000\">\"rating\"</span>, <span style=\"color: #008000; text-decoration-color: #008000\">\"books_review\"</span>.<span style=\"color: #008000; text-decoration-color: #008000\">\"comments\"</span>, <span style=\"color: #008000; text-decoration-color: #008000\">\"books_review\"</span>.<span style=\"color: #008000; text-decoration-color: #008000\">\"written_at\"</span>, \n",
       "<span style=\"color: #008000; text-decoration-color: #008000\">\"books_review\"</span>.<span style=\"color: #008000; text-decoration-color: #008000\">\"library_id\"</span> FROM <span style=\"color: #008000; text-decoration-color: #008000\">\"books_review\"</span> WHERE <span style=\"color: #008000; text-decoration-color: #008000\">\"books_review\"</span>.<span style=\"color: #008000; text-decoration-color: #008000\">\"library_id\"</span> = <span style=\"color: #008080; text-decoration-color: #008080; font-weight: bold\">6</span> ORDER BY <span style=\"color: #008000; text-decoration-color: #008000\">\"books_review\"</span>.<span style=\"color: #008000; text-decoration-color: #008000\">\"id\"</span> \n",
       "DESC LIMIT <span style=\"color: #008080; text-decoration-color: #008080; font-weight: bold\">20</span>\n",
       "</pre>\n"
      ],
      "text/plain": [
       "ordering: -id\n",
       "  Total: \u001b[1;36m0.00\u001b[0m\n",
       "  SQL: \u001b[1;36m0.00\u001b[0m \n",
       "\n",
       "      \u001b[1m(\u001b[0mduration: \u001b[1;36m0.002\u001b[0m\u001b[1m)\u001b[0m   EXPLAIN \u001b[1m(\u001b[0mANALYZE true\u001b[1m)\u001b[0m SELECT \u001b[32m\"books_review\"\u001b[0m.\u001b[32m\"id\"\u001b[0m, \u001b[32m\"books_review\"\u001b[0m.\u001b[32m\"book_id\"\u001b[0m, \n",
       "\u001b[32m\"books_review\"\u001b[0m.\u001b[32m\"reader_id\"\u001b[0m, \u001b[32m\"books_review\"\u001b[0m.\u001b[32m\"rating\"\u001b[0m, \u001b[32m\"books_review\"\u001b[0m.\u001b[32m\"comments\"\u001b[0m, \u001b[32m\"books_review\"\u001b[0m.\u001b[32m\"written_at\"\u001b[0m, \n",
       "\u001b[32m\"books_review\"\u001b[0m.\u001b[32m\"library_id\"\u001b[0m FROM \u001b[32m\"books_review\"\u001b[0m WHERE \u001b[32m\"books_review\"\u001b[0m.\u001b[32m\"library_id\"\u001b[0m = \u001b[1;36m6\u001b[0m ORDER BY \u001b[32m\"books_review\"\u001b[0m.\u001b[32m\"id\"\u001b[0m \n",
       "DESC LIMIT \u001b[1;36m20\u001b[0m\n"
      ]
     },
     "metadata": {},
     "output_type": "display_data"
    },
    {
     "data": {
      "text/html": [
       "<pre style=\"white-space:pre;overflow-x:auto;line-height:normal;font-family:Menlo,'DejaVu Sans Mono',consolas,'Courier New',monospace\">Limit  <span style=\"font-weight: bold\">(</span><span style=\"color: #808000; text-decoration-color: #808000\">cost</span>=<span style=\"color: #008080; text-decoration-color: #008080; font-weight: bold\">0.44</span>..<span style=\"color: #008080; text-decoration-color: #008080; font-weight: bold\">30.76</span> <span style=\"color: #808000; text-decoration-color: #808000\">rows</span>=<span style=\"color: #008080; text-decoration-color: #008080; font-weight: bold\">20</span> <span style=\"color: #808000; text-decoration-color: #808000\">width</span>=<span style=\"color: #008080; text-decoration-color: #008080; font-weight: bold\">211</span><span style=\"font-weight: bold\">)</span> <span style=\"font-weight: bold\">(</span>actual <span style=\"color: #808000; text-decoration-color: #808000\">time</span>=<span style=\"color: #008080; text-decoration-color: #008080; font-weight: bold\">0.038</span>..<span style=\"color: #008080; text-decoration-color: #008080; font-weight: bold\">0.056</span> <span style=\"color: #808000; text-decoration-color: #808000\">rows</span>=<span style=\"color: #008080; text-decoration-color: #008080; font-weight: bold\">20</span> <span style=\"color: #808000; text-decoration-color: #808000\">loops</span>=<span style=\"color: #008080; text-decoration-color: #008080; font-weight: bold\">1</span><span style=\"font-weight: bold\">)</span>\n",
       "  -&gt;  Index Scan Backward using books_review_pkey on books_review  <span style=\"font-weight: bold\">(</span><span style=\"color: #808000; text-decoration-color: #808000\">cost</span>=<span style=\"color: #008080; text-decoration-color: #008080; font-weight: bold\">0.44</span>..<span style=\"color: #008080; text-decoration-color: #008080; font-weight: bold\">2860175.68</span> <span style=\"color: #808000; text-decoration-color: #808000\">rows</span>=<span style=\"color: #008080; text-decoration-color: #008080; font-weight: bold\">1886525</span> <span style=\"color: #808000; text-decoration-color: #808000\">width</span>=<span style=\"color: #008080; text-decoration-color: #008080; font-weight: bold\">211</span><span style=\"font-weight: bold\">)</span> \n",
       "<span style=\"font-weight: bold\">(</span>actual <span style=\"color: #808000; text-decoration-color: #808000\">time</span>=<span style=\"color: #008080; text-decoration-color: #008080; font-weight: bold\">0.037</span>..<span style=\"color: #008080; text-decoration-color: #008080; font-weight: bold\">0.053</span> <span style=\"color: #808000; text-decoration-color: #808000\">rows</span>=<span style=\"color: #008080; text-decoration-color: #008080; font-weight: bold\">20</span> <span style=\"color: #808000; text-decoration-color: #808000\">loops</span>=<span style=\"color: #008080; text-decoration-color: #008080; font-weight: bold\">1</span><span style=\"font-weight: bold\">)</span>\n",
       "        Filter: <span style=\"font-weight: bold\">(</span>library_id = <span style=\"color: #008080; text-decoration-color: #008080; font-weight: bold\">6</span><span style=\"font-weight: bold\">)</span>\n",
       "Planning Time: <span style=\"color: #008080; text-decoration-color: #008080; font-weight: bold\">0.850</span> ms\n",
       "Execution Time: <span style=\"color: #008080; text-decoration-color: #008080; font-weight: bold\">0.095</span> ms\n",
       "</pre>\n"
      ],
      "text/plain": [
       "Limit  \u001b[1m(\u001b[0m\u001b[33mcost\u001b[0m=\u001b[1;36m0\u001b[0m\u001b[1;36m.44\u001b[0m..\u001b[1;36m30.76\u001b[0m \u001b[33mrows\u001b[0m=\u001b[1;36m20\u001b[0m \u001b[33mwidth\u001b[0m=\u001b[1;36m211\u001b[0m\u001b[1m)\u001b[0m \u001b[1m(\u001b[0mactual \u001b[33mtime\u001b[0m=\u001b[1;36m0\u001b[0m\u001b[1;36m.038\u001b[0m..\u001b[1;36m0.056\u001b[0m \u001b[33mrows\u001b[0m=\u001b[1;36m20\u001b[0m \u001b[33mloops\u001b[0m=\u001b[1;36m1\u001b[0m\u001b[1m)\u001b[0m\n",
       "  ->  Index Scan Backward using books_review_pkey on books_review  \u001b[1m(\u001b[0m\u001b[33mcost\u001b[0m=\u001b[1;36m0\u001b[0m\u001b[1;36m.44\u001b[0m..\u001b[1;36m2860175.68\u001b[0m \u001b[33mrows\u001b[0m=\u001b[1;36m1886525\u001b[0m \u001b[33mwidth\u001b[0m=\u001b[1;36m211\u001b[0m\u001b[1m)\u001b[0m \n",
       "\u001b[1m(\u001b[0mactual \u001b[33mtime\u001b[0m=\u001b[1;36m0\u001b[0m\u001b[1;36m.037\u001b[0m..\u001b[1;36m0.053\u001b[0m \u001b[33mrows\u001b[0m=\u001b[1;36m20\u001b[0m \u001b[33mloops\u001b[0m=\u001b[1;36m1\u001b[0m\u001b[1m)\u001b[0m\n",
       "        Filter: \u001b[1m(\u001b[0mlibrary_id = \u001b[1;36m6\u001b[0m\u001b[1m)\u001b[0m\n",
       "Planning Time: \u001b[1;36m0.850\u001b[0m ms\n",
       "Execution Time: \u001b[1;36m0.095\u001b[0m ms\n"
      ]
     },
     "metadata": {},
     "output_type": "display_data"
    },
    {
     "data": {
      "text/html": [
       "<pre style=\"white-space:pre;overflow-x:auto;line-height:normal;font-family:Menlo,'DejaVu Sans Mono',consolas,'Courier New',monospace\"><span style=\"color: #00ff00; text-decoration-color: #00ff00\">───────────────────────────────────────────────────────────────────────────────────────────────────────────────────</span>\n",
       "</pre>\n"
      ],
      "text/plain": [
       "\u001b[92m───────────────────────────────────────────────────────────────────────────────────────────────────────────────────\u001b[0m\n"
      ]
     },
     "metadata": {},
     "output_type": "display_data"
    }
   ],
   "source": [
    "with use_indexes(\"review_library_id_pk_idx\"):\n",
    "    explain_qs(alexandria_id, \"-id\")"
   ]
  },
  {
   "attachments": {},
   "cell_type": "markdown",
   "metadata": {},
   "source": [
    "The planner keeps using `books_review_pkey`, even though it does not seem like the right choice. What would happen without this particular index?\n"
   ]
  },
  {
   "cell_type": "code",
   "execution_count": 18,
   "metadata": {},
   "outputs": [
    {
     "data": {
      "text/html": [
       "<pre style=\"white-space:pre;overflow-x:auto;line-height:normal;font-family:Menlo,'DejaVu Sans Mono',consolas,'Courier New',monospace\">ordering: -id\n",
       "  Total: <span style=\"color: #008080; text-decoration-color: #008080; font-weight: bold\">0.01</span>\n",
       "  SQL: <span style=\"color: #008080; text-decoration-color: #008080; font-weight: bold\">0.00</span> \n",
       "\n",
       "      <span style=\"font-weight: bold\">(</span>duration: <span style=\"color: #008080; text-decoration-color: #008080; font-weight: bold\">0.004</span><span style=\"font-weight: bold\">)</span>   EXPLAIN <span style=\"font-weight: bold\">(</span>ANALYZE true<span style=\"font-weight: bold\">)</span> SELECT <span style=\"color: #008000; text-decoration-color: #008000\">\"books_review\"</span>.<span style=\"color: #008000; text-decoration-color: #008000\">\"id\"</span>, <span style=\"color: #008000; text-decoration-color: #008000\">\"books_review\"</span>.<span style=\"color: #008000; text-decoration-color: #008000\">\"book_id\"</span>, \n",
       "<span style=\"color: #008000; text-decoration-color: #008000\">\"books_review\"</span>.<span style=\"color: #008000; text-decoration-color: #008000\">\"reader_id\"</span>, <span style=\"color: #008000; text-decoration-color: #008000\">\"books_review\"</span>.<span style=\"color: #008000; text-decoration-color: #008000\">\"rating\"</span>, <span style=\"color: #008000; text-decoration-color: #008000\">\"books_review\"</span>.<span style=\"color: #008000; text-decoration-color: #008000\">\"comments\"</span>, <span style=\"color: #008000; text-decoration-color: #008000\">\"books_review\"</span>.<span style=\"color: #008000; text-decoration-color: #008000\">\"written_at\"</span>, \n",
       "<span style=\"color: #008000; text-decoration-color: #008000\">\"books_review\"</span>.<span style=\"color: #008000; text-decoration-color: #008000\">\"library_id\"</span> FROM <span style=\"color: #008000; text-decoration-color: #008000\">\"books_review\"</span> WHERE <span style=\"color: #008000; text-decoration-color: #008000\">\"books_review\"</span>.<span style=\"color: #008000; text-decoration-color: #008000\">\"library_id\"</span> = <span style=\"color: #008080; text-decoration-color: #008080; font-weight: bold\">6</span> ORDER BY <span style=\"color: #008000; text-decoration-color: #008000\">\"books_review\"</span>.<span style=\"color: #008000; text-decoration-color: #008000\">\"id\"</span> \n",
       "DESC LIMIT <span style=\"color: #008080; text-decoration-color: #008080; font-weight: bold\">20</span>\n",
       "</pre>\n"
      ],
      "text/plain": [
       "ordering: -id\n",
       "  Total: \u001b[1;36m0.01\u001b[0m\n",
       "  SQL: \u001b[1;36m0.00\u001b[0m \n",
       "\n",
       "      \u001b[1m(\u001b[0mduration: \u001b[1;36m0.004\u001b[0m\u001b[1m)\u001b[0m   EXPLAIN \u001b[1m(\u001b[0mANALYZE true\u001b[1m)\u001b[0m SELECT \u001b[32m\"books_review\"\u001b[0m.\u001b[32m\"id\"\u001b[0m, \u001b[32m\"books_review\"\u001b[0m.\u001b[32m\"book_id\"\u001b[0m, \n",
       "\u001b[32m\"books_review\"\u001b[0m.\u001b[32m\"reader_id\"\u001b[0m, \u001b[32m\"books_review\"\u001b[0m.\u001b[32m\"rating\"\u001b[0m, \u001b[32m\"books_review\"\u001b[0m.\u001b[32m\"comments\"\u001b[0m, \u001b[32m\"books_review\"\u001b[0m.\u001b[32m\"written_at\"\u001b[0m, \n",
       "\u001b[32m\"books_review\"\u001b[0m.\u001b[32m\"library_id\"\u001b[0m FROM \u001b[32m\"books_review\"\u001b[0m WHERE \u001b[32m\"books_review\"\u001b[0m.\u001b[32m\"library_id\"\u001b[0m = \u001b[1;36m6\u001b[0m ORDER BY \u001b[32m\"books_review\"\u001b[0m.\u001b[32m\"id\"\u001b[0m \n",
       "DESC LIMIT \u001b[1;36m20\u001b[0m\n"
      ]
     },
     "metadata": {},
     "output_type": "display_data"
    },
    {
     "data": {
      "text/html": [
       "<pre style=\"white-space:pre;overflow-x:auto;line-height:normal;font-family:Menlo,'DejaVu Sans Mono',consolas,'Courier New',monospace\">Limit  <span style=\"font-weight: bold\">(</span><span style=\"color: #808000; text-decoration-color: #808000\">cost</span>=<span style=\"color: #008080; text-decoration-color: #008080; font-weight: bold\">0.56</span>..<span style=\"color: #008080; text-decoration-color: #008080; font-weight: bold\">37.54</span> <span style=\"color: #808000; text-decoration-color: #808000\">rows</span>=<span style=\"color: #008080; text-decoration-color: #008080; font-weight: bold\">20</span> <span style=\"color: #808000; text-decoration-color: #808000\">width</span>=<span style=\"color: #008080; text-decoration-color: #008080; font-weight: bold\">211</span><span style=\"font-weight: bold\">)</span> <span style=\"font-weight: bold\">(</span>actual <span style=\"color: #808000; text-decoration-color: #808000\">time</span>=<span style=\"color: #008080; text-decoration-color: #008080; font-weight: bold\">1.665</span>..<span style=\"color: #008080; text-decoration-color: #008080; font-weight: bold\">1.704</span> <span style=\"color: #808000; text-decoration-color: #808000\">rows</span>=<span style=\"color: #008080; text-decoration-color: #008080; font-weight: bold\">20</span> <span style=\"color: #808000; text-decoration-color: #808000\">loops</span>=<span style=\"color: #008080; text-decoration-color: #008080; font-weight: bold\">1</span><span style=\"font-weight: bold\">)</span>\n",
       "  -&gt;  Index Scan Backward using review_library_id_pk_idx on books_review  <span style=\"font-weight: bold\">(</span><span style=\"color: #808000; text-decoration-color: #808000\">cost</span>=<span style=\"color: #008080; text-decoration-color: #008080; font-weight: bold\">0.56</span>..<span style=\"color: #008080; text-decoration-color: #008080; font-weight: bold\">3488168.54</span> <span style=\"color: #808000; text-decoration-color: #808000\">rows</span>=<span style=\"color: #008080; text-decoration-color: #008080; font-weight: bold\">1886525</span> \n",
       "<span style=\"color: #808000; text-decoration-color: #808000\">width</span>=<span style=\"color: #008080; text-decoration-color: #008080; font-weight: bold\">211</span><span style=\"font-weight: bold\">)</span> <span style=\"font-weight: bold\">(</span>actual <span style=\"color: #808000; text-decoration-color: #808000\">time</span>=<span style=\"color: #008080; text-decoration-color: #008080; font-weight: bold\">1.662</span>..<span style=\"color: #008080; text-decoration-color: #008080; font-weight: bold\">1.697</span> <span style=\"color: #808000; text-decoration-color: #808000\">rows</span>=<span style=\"color: #008080; text-decoration-color: #008080; font-weight: bold\">20</span> <span style=\"color: #808000; text-decoration-color: #808000\">loops</span>=<span style=\"color: #008080; text-decoration-color: #008080; font-weight: bold\">1</span><span style=\"font-weight: bold\">)</span>\n",
       "        Index Cond: <span style=\"font-weight: bold\">(</span>library_id = <span style=\"color: #008080; text-decoration-color: #008080; font-weight: bold\">6</span><span style=\"font-weight: bold\">)</span>\n",
       "Planning Time: <span style=\"color: #008080; text-decoration-color: #008080; font-weight: bold\">0.862</span> ms\n",
       "Execution Time: <span style=\"color: #008080; text-decoration-color: #008080; font-weight: bold\">1.760</span> ms\n",
       "</pre>\n"
      ],
      "text/plain": [
       "Limit  \u001b[1m(\u001b[0m\u001b[33mcost\u001b[0m=\u001b[1;36m0\u001b[0m\u001b[1;36m.56\u001b[0m..\u001b[1;36m37.54\u001b[0m \u001b[33mrows\u001b[0m=\u001b[1;36m20\u001b[0m \u001b[33mwidth\u001b[0m=\u001b[1;36m211\u001b[0m\u001b[1m)\u001b[0m \u001b[1m(\u001b[0mactual \u001b[33mtime\u001b[0m=\u001b[1;36m1\u001b[0m\u001b[1;36m.665\u001b[0m..\u001b[1;36m1.704\u001b[0m \u001b[33mrows\u001b[0m=\u001b[1;36m20\u001b[0m \u001b[33mloops\u001b[0m=\u001b[1;36m1\u001b[0m\u001b[1m)\u001b[0m\n",
       "  ->  Index Scan Backward using review_library_id_pk_idx on books_review  \u001b[1m(\u001b[0m\u001b[33mcost\u001b[0m=\u001b[1;36m0\u001b[0m\u001b[1;36m.56\u001b[0m..\u001b[1;36m3488168.54\u001b[0m \u001b[33mrows\u001b[0m=\u001b[1;36m1886525\u001b[0m \n",
       "\u001b[33mwidth\u001b[0m=\u001b[1;36m211\u001b[0m\u001b[1m)\u001b[0m \u001b[1m(\u001b[0mactual \u001b[33mtime\u001b[0m=\u001b[1;36m1\u001b[0m\u001b[1;36m.662\u001b[0m..\u001b[1;36m1.697\u001b[0m \u001b[33mrows\u001b[0m=\u001b[1;36m20\u001b[0m \u001b[33mloops\u001b[0m=\u001b[1;36m1\u001b[0m\u001b[1m)\u001b[0m\n",
       "        Index Cond: \u001b[1m(\u001b[0mlibrary_id = \u001b[1;36m6\u001b[0m\u001b[1m)\u001b[0m\n",
       "Planning Time: \u001b[1;36m0.862\u001b[0m ms\n",
       "Execution Time: \u001b[1;36m1.760\u001b[0m ms\n"
      ]
     },
     "metadata": {},
     "output_type": "display_data"
    },
    {
     "data": {
      "text/html": [
       "<pre style=\"white-space:pre;overflow-x:auto;line-height:normal;font-family:Menlo,'DejaVu Sans Mono',consolas,'Courier New',monospace\"><span style=\"color: #00ff00; text-decoration-color: #00ff00\">───────────────────────────────────────────────────────────────────────────────────────────────────────────────────</span>\n",
       "</pre>\n"
      ],
      "text/plain": [
       "\u001b[92m───────────────────────────────────────────────────────────────────────────────────────────────────────────────────\u001b[0m\n"
      ]
     },
     "metadata": {},
     "output_type": "display_data"
    }
   ],
   "source": [
    "from utils.sql import disable_indexes\n",
    "\n",
    "with use_indexes(\"review_library_id_pk_idx\"), disable_indexes(\"books_review_pkey\"):\n",
    "    explain_qs(alexandria_id, \"-id\")\n"
   ]
  },
  {
   "attachments": {},
   "cell_type": "markdown",
   "metadata": {},
   "source": [
    "**WARNING** Disabling `books_review_pkey`, which is the primary key index, is probably a very bad idea\n",
    "<br>\n",
    "<br>\n",
    "<br>\n",
    "<br>\n",
    "<br>\n"
   ]
  },
  {
   "attachments": {},
   "cell_type": "markdown",
   "metadata": {},
   "source": [
    "Another solution, for specific queries, is to use a conditional index, e.g.\n",
    "`CREATE UNIQUE INDEX review_pk_alexandria_idx ON public.books_review USING btree (id) where library_id = 6;`\n",
    "\n",
    "This can be a good idea if the the condition is often used. However, the [PostgreSQL doc explicitely says](https://www.postgresql.org/docs/current/indexes-partial.html#INDEXES-PARTIAL-EX4):\n",
    "\n",
    "> You might be tempted to create a large set of non-overlapping partial indexes (e.g, in our case, with every `library_id`)\n",
    "> This is a bad idea! Almost certainly, you'll be better off with a single non-partial index, (declared like our `review_library_id_pk_idx`)\n",
    "> While a search in this larger index might have to descend through a couple more tree levels than a search in a smaller index, that's almost certainly going to be cheaper than the planner effort needed to select the appropriate one of the partial indexes. The core of the problem is that the system does not understand the relationship among the partial indexes, and will laboriously test each one to see if it's applicable to the current query.\n",
    "\n",
    "> If your table is large enough that a single index really is a bad idea, you should look into using partitioning instead (see Section 5.11). With that mechanism, the system does understand that the tables and indexes are non-overlapping, so far better performance is possible.\n",
    "\n",
    "We'll still use `review_pk_alexandria_idx` for the rest of this notebook\n"
   ]
  },
  {
   "cell_type": "code",
   "execution_count": 19,
   "metadata": {},
   "outputs": [
    {
     "data": {
      "text/html": [
       "<pre style=\"white-space:pre;overflow-x:auto;line-height:normal;font-family:Menlo,'DejaVu Sans Mono',consolas,'Courier New',monospace\">ordering: -id\n",
       "  Total: <span style=\"color: #008080; text-decoration-color: #008080; font-weight: bold\">0.00</span>\n",
       "  SQL: <span style=\"color: #008080; text-decoration-color: #008080; font-weight: bold\">0.00</span> \n",
       "\n",
       "      <span style=\"font-weight: bold\">(</span>duration: <span style=\"color: #008080; text-decoration-color: #008080; font-weight: bold\">0.003</span><span style=\"font-weight: bold\">)</span>   EXPLAIN <span style=\"font-weight: bold\">(</span>ANALYZE true<span style=\"font-weight: bold\">)</span> SELECT <span style=\"color: #008000; text-decoration-color: #008000\">\"books_review\"</span>.<span style=\"color: #008000; text-decoration-color: #008000\">\"id\"</span>, <span style=\"color: #008000; text-decoration-color: #008000\">\"books_review\"</span>.<span style=\"color: #008000; text-decoration-color: #008000\">\"book_id\"</span>, \n",
       "<span style=\"color: #008000; text-decoration-color: #008000\">\"books_review\"</span>.<span style=\"color: #008000; text-decoration-color: #008000\">\"reader_id\"</span>, <span style=\"color: #008000; text-decoration-color: #008000\">\"books_review\"</span>.<span style=\"color: #008000; text-decoration-color: #008000\">\"rating\"</span>, <span style=\"color: #008000; text-decoration-color: #008000\">\"books_review\"</span>.<span style=\"color: #008000; text-decoration-color: #008000\">\"comments\"</span>, <span style=\"color: #008000; text-decoration-color: #008000\">\"books_review\"</span>.<span style=\"color: #008000; text-decoration-color: #008000\">\"written_at\"</span>, \n",
       "<span style=\"color: #008000; text-decoration-color: #008000\">\"books_review\"</span>.<span style=\"color: #008000; text-decoration-color: #008000\">\"library_id\"</span> FROM <span style=\"color: #008000; text-decoration-color: #008000\">\"books_review\"</span> WHERE <span style=\"color: #008000; text-decoration-color: #008000\">\"books_review\"</span>.<span style=\"color: #008000; text-decoration-color: #008000\">\"library_id\"</span> = <span style=\"color: #008080; text-decoration-color: #008080; font-weight: bold\">6</span> ORDER BY <span style=\"color: #008000; text-decoration-color: #008000\">\"books_review\"</span>.<span style=\"color: #008000; text-decoration-color: #008000\">\"id\"</span> \n",
       "DESC LIMIT <span style=\"color: #008080; text-decoration-color: #008080; font-weight: bold\">20</span>\n",
       "</pre>\n"
      ],
      "text/plain": [
       "ordering: -id\n",
       "  Total: \u001b[1;36m0.00\u001b[0m\n",
       "  SQL: \u001b[1;36m0.00\u001b[0m \n",
       "\n",
       "      \u001b[1m(\u001b[0mduration: \u001b[1;36m0.003\u001b[0m\u001b[1m)\u001b[0m   EXPLAIN \u001b[1m(\u001b[0mANALYZE true\u001b[1m)\u001b[0m SELECT \u001b[32m\"books_review\"\u001b[0m.\u001b[32m\"id\"\u001b[0m, \u001b[32m\"books_review\"\u001b[0m.\u001b[32m\"book_id\"\u001b[0m, \n",
       "\u001b[32m\"books_review\"\u001b[0m.\u001b[32m\"reader_id\"\u001b[0m, \u001b[32m\"books_review\"\u001b[0m.\u001b[32m\"rating\"\u001b[0m, \u001b[32m\"books_review\"\u001b[0m.\u001b[32m\"comments\"\u001b[0m, \u001b[32m\"books_review\"\u001b[0m.\u001b[32m\"written_at\"\u001b[0m, \n",
       "\u001b[32m\"books_review\"\u001b[0m.\u001b[32m\"library_id\"\u001b[0m FROM \u001b[32m\"books_review\"\u001b[0m WHERE \u001b[32m\"books_review\"\u001b[0m.\u001b[32m\"library_id\"\u001b[0m = \u001b[1;36m6\u001b[0m ORDER BY \u001b[32m\"books_review\"\u001b[0m.\u001b[32m\"id\"\u001b[0m \n",
       "DESC LIMIT \u001b[1;36m20\u001b[0m\n"
      ]
     },
     "metadata": {},
     "output_type": "display_data"
    },
    {
     "data": {
      "text/html": [
       "<pre style=\"white-space:pre;overflow-x:auto;line-height:normal;font-family:Menlo,'DejaVu Sans Mono',consolas,'Courier New',monospace\">Limit  <span style=\"font-weight: bold\">(</span><span style=\"color: #808000; text-decoration-color: #808000\">cost</span>=<span style=\"color: #008080; text-decoration-color: #008080; font-weight: bold\">0.43</span>..<span style=\"color: #008080; text-decoration-color: #008080; font-weight: bold\">1.82</span> <span style=\"color: #808000; text-decoration-color: #808000\">rows</span>=<span style=\"color: #008080; text-decoration-color: #008080; font-weight: bold\">20</span> <span style=\"color: #808000; text-decoration-color: #808000\">width</span>=<span style=\"color: #008080; text-decoration-color: #008080; font-weight: bold\">211</span><span style=\"font-weight: bold\">)</span> <span style=\"font-weight: bold\">(</span>actual <span style=\"color: #808000; text-decoration-color: #808000\">time</span>=<span style=\"color: #008080; text-decoration-color: #008080; font-weight: bold\">1.094</span>..<span style=\"color: #008080; text-decoration-color: #008080; font-weight: bold\">1.119</span> <span style=\"color: #808000; text-decoration-color: #808000\">rows</span>=<span style=\"color: #008080; text-decoration-color: #008080; font-weight: bold\">20</span> <span style=\"color: #808000; text-decoration-color: #808000\">loops</span>=<span style=\"color: #008080; text-decoration-color: #008080; font-weight: bold\">1</span><span style=\"font-weight: bold\">)</span>\n",
       "  -&gt;  Index Scan Backward using review_pk_alexandria_idx on books_review  <span style=\"font-weight: bold\">(</span><span style=\"color: #808000; text-decoration-color: #808000\">cost</span>=<span style=\"color: #008080; text-decoration-color: #008080; font-weight: bold\">0.43</span>..<span style=\"color: #008080; text-decoration-color: #008080; font-weight: bold\">131635.41</span> <span style=\"color: #808000; text-decoration-color: #808000\">rows</span>=<span style=\"color: #008080; text-decoration-color: #008080; font-weight: bold\">1886525</span> \n",
       "<span style=\"color: #808000; text-decoration-color: #808000\">width</span>=<span style=\"color: #008080; text-decoration-color: #008080; font-weight: bold\">211</span><span style=\"font-weight: bold\">)</span> <span style=\"font-weight: bold\">(</span>actual <span style=\"color: #808000; text-decoration-color: #808000\">time</span>=<span style=\"color: #008080; text-decoration-color: #008080; font-weight: bold\">1.092</span>..<span style=\"color: #008080; text-decoration-color: #008080; font-weight: bold\">1.113</span> <span style=\"color: #808000; text-decoration-color: #808000\">rows</span>=<span style=\"color: #008080; text-decoration-color: #008080; font-weight: bold\">20</span> <span style=\"color: #808000; text-decoration-color: #808000\">loops</span>=<span style=\"color: #008080; text-decoration-color: #008080; font-weight: bold\">1</span><span style=\"font-weight: bold\">)</span>\n",
       "Planning Time: <span style=\"color: #008080; text-decoration-color: #008080; font-weight: bold\">1.371</span> ms\n",
       "Execution Time: <span style=\"color: #008080; text-decoration-color: #008080; font-weight: bold\">1.174</span> ms\n",
       "</pre>\n"
      ],
      "text/plain": [
       "Limit  \u001b[1m(\u001b[0m\u001b[33mcost\u001b[0m=\u001b[1;36m0\u001b[0m\u001b[1;36m.43\u001b[0m..\u001b[1;36m1.82\u001b[0m \u001b[33mrows\u001b[0m=\u001b[1;36m20\u001b[0m \u001b[33mwidth\u001b[0m=\u001b[1;36m211\u001b[0m\u001b[1m)\u001b[0m \u001b[1m(\u001b[0mactual \u001b[33mtime\u001b[0m=\u001b[1;36m1\u001b[0m\u001b[1;36m.094\u001b[0m..\u001b[1;36m1.119\u001b[0m \u001b[33mrows\u001b[0m=\u001b[1;36m20\u001b[0m \u001b[33mloops\u001b[0m=\u001b[1;36m1\u001b[0m\u001b[1m)\u001b[0m\n",
       "  ->  Index Scan Backward using review_pk_alexandria_idx on books_review  \u001b[1m(\u001b[0m\u001b[33mcost\u001b[0m=\u001b[1;36m0\u001b[0m\u001b[1;36m.43\u001b[0m..\u001b[1;36m131635.41\u001b[0m \u001b[33mrows\u001b[0m=\u001b[1;36m1886525\u001b[0m \n",
       "\u001b[33mwidth\u001b[0m=\u001b[1;36m211\u001b[0m\u001b[1m)\u001b[0m \u001b[1m(\u001b[0mactual \u001b[33mtime\u001b[0m=\u001b[1;36m1\u001b[0m\u001b[1;36m.092\u001b[0m..\u001b[1;36m1.113\u001b[0m \u001b[33mrows\u001b[0m=\u001b[1;36m20\u001b[0m \u001b[33mloops\u001b[0m=\u001b[1;36m1\u001b[0m\u001b[1m)\u001b[0m\n",
       "Planning Time: \u001b[1;36m1.371\u001b[0m ms\n",
       "Execution Time: \u001b[1;36m1.174\u001b[0m ms\n"
      ]
     },
     "metadata": {},
     "output_type": "display_data"
    },
    {
     "data": {
      "text/html": [
       "<pre style=\"white-space:pre;overflow-x:auto;line-height:normal;font-family:Menlo,'DejaVu Sans Mono',consolas,'Courier New',monospace\"><span style=\"color: #00ff00; text-decoration-color: #00ff00\">───────────────────────────────────────────────────────────────────────────────────────────────────────────────────</span>\n",
       "</pre>\n"
      ],
      "text/plain": [
       "\u001b[92m───────────────────────────────────────────────────────────────────────────────────────────────────────────────────\u001b[0m\n"
      ]
     },
     "metadata": {},
     "output_type": "display_data"
    }
   ],
   "source": [
    "with use_indexes(\"review_pk_alexandria_idx\"):\n",
    "    explain_qs(alexandria_id, \"-id\")"
   ]
  },
  {
   "attachments": {},
   "cell_type": "markdown",
   "metadata": {},
   "source": [
    "Let's check all the ordering filters now work properly\n"
   ]
  },
  {
   "cell_type": "code",
   "execution_count": 20,
   "metadata": {},
   "outputs": [
    {
     "data": {
      "text/html": [
       "<pre style=\"white-space:pre;overflow-x:auto;line-height:normal;font-family:Menlo,'DejaVu Sans Mono',consolas,'Courier New',monospace\">┏━━━━━━━━━━━━━━━━━━━━━━━━━━━━━┳━━━━━━━━━━━━┳━━━━━━━━━━┓\n",
       "┃<span style=\"font-weight: bold\"> Query params                </span>┃<span style=\"font-weight: bold\"> Library    </span>┃<span style=\"font-weight: bold\"> duration </span>┃\n",
       "┡━━━━━━━━━━━━━━━━━━━━━━━━━━━━━╇━━━━━━━━━━━━╇━━━━━━━━━━┩\n",
       "│ ordering=id                 │ Public     │ <span style=\"color: #008000; text-decoration-color: #008000; font-weight: bold\"> 0.011 s</span> │\n",
       "├─────────────────────────────┼────────────┼──────────┤\n",
       "│ ordering=id                 │ Alexandria │ <span style=\"color: #008000; text-decoration-color: #008000; font-weight: bold\"> 0.007 s</span> │\n",
       "├─────────────────────────────┼────────────┼──────────┤\n",
       "│ ordering=written_at         │ Public     │ <span style=\"color: #008000; text-decoration-color: #008000; font-weight: bold\"> 0.030 s</span> │\n",
       "├─────────────────────────────┼────────────┼──────────┤\n",
       "│ ordering=written_at         │ Alexandria │ <span style=\"color: #008000; text-decoration-color: #008000; font-weight: bold\"> 0.008 s</span> │\n",
       "├─────────────────────────────┼────────────┼──────────┤\n",
       "│ ordering=rating             │ Public     │ <span style=\"color: #008000; text-decoration-color: #008000; font-weight: bold\"> 0.007 s</span> │\n",
       "├─────────────────────────────┼────────────┼──────────┤\n",
       "│ ordering=rating             │ Alexandria │ <span style=\"color: #008000; text-decoration-color: #008000; font-weight: bold\"> 0.007 s</span> │\n",
       "├─────────────────────────────┼────────────┼──────────┤\n",
       "│ ordering=-id                │ Public     │ <span style=\"color: #008000; text-decoration-color: #008000; font-weight: bold\"> 0.007 s</span> │\n",
       "├─────────────────────────────┼────────────┼──────────┤\n",
       "│ ordering=-id                │ Alexandria │ <span style=\"color: #008000; text-decoration-color: #008000; font-weight: bold\"> 0.007 s</span> │\n",
       "├─────────────────────────────┼────────────┼──────────┤\n",
       "│ ordering=-written_at        │ Public     │ <span style=\"color: #008000; text-decoration-color: #008000; font-weight: bold\"> 0.021 s</span> │\n",
       "├─────────────────────────────┼────────────┼──────────┤\n",
       "│ ordering=-written_at        │ Alexandria │ <span style=\"color: #008000; text-decoration-color: #008000; font-weight: bold\"> 0.006 s</span> │\n",
       "├─────────────────────────────┼────────────┼──────────┤\n",
       "│ ordering=-rating            │ Public     │ <span style=\"color: #008000; text-decoration-color: #008000; font-weight: bold\"> 0.009 s</span> │\n",
       "├─────────────────────────────┼────────────┼──────────┤\n",
       "│ ordering=-rating            │ Alexandria │ <span style=\"color: #008000; text-decoration-color: #008000; font-weight: bold\"> 0.011 s</span> │\n",
       "├─────────────────────────────┼────────────┼──────────┤\n",
       "│ ordering=-written_at,rating │ Public     │ <span style=\"color: #008000; text-decoration-color: #008000; font-weight: bold\"> 0.018 s</span> │\n",
       "├─────────────────────────────┼────────────┼──────────┤\n",
       "│ ordering=-written_at,rating │ Alexandria │ <span style=\"color: #008000; text-decoration-color: #008000; font-weight: bold\"> 0.010 s</span> │\n",
       "└─────────────────────────────┴────────────┴──────────┘\n",
       "</pre>\n"
      ],
      "text/plain": [
       "┏━━━━━━━━━━━━━━━━━━━━━━━━━━━━━┳━━━━━━━━━━━━┳━━━━━━━━━━┓\n",
       "┃\u001b[1m \u001b[0m\u001b[1mQuery params               \u001b[0m\u001b[1m \u001b[0m┃\u001b[1m \u001b[0m\u001b[1mLibrary   \u001b[0m\u001b[1m \u001b[0m┃\u001b[1m \u001b[0m\u001b[1mduration\u001b[0m\u001b[1m \u001b[0m┃\n",
       "┡━━━━━━━━━━━━━━━━━━━━━━━━━━━━━╇━━━━━━━━━━━━╇━━━━━━━━━━┩\n",
       "│ ordering=id                 │ Public     │ \u001b[1;32m 0.011 s\u001b[0m │\n",
       "├─────────────────────────────┼────────────┼──────────┤\n",
       "│ ordering=id                 │ Alexandria │ \u001b[1;32m 0.007 s\u001b[0m │\n",
       "├─────────────────────────────┼────────────┼──────────┤\n",
       "│ ordering=written_at         │ Public     │ \u001b[1;32m 0.030 s\u001b[0m │\n",
       "├─────────────────────────────┼────────────┼──────────┤\n",
       "│ ordering=written_at         │ Alexandria │ \u001b[1;32m 0.008 s\u001b[0m │\n",
       "├─────────────────────────────┼────────────┼──────────┤\n",
       "│ ordering=rating             │ Public     │ \u001b[1;32m 0.007 s\u001b[0m │\n",
       "├─────────────────────────────┼────────────┼──────────┤\n",
       "│ ordering=rating             │ Alexandria │ \u001b[1;32m 0.007 s\u001b[0m │\n",
       "├─────────────────────────────┼────────────┼──────────┤\n",
       "│ ordering=-id                │ Public     │ \u001b[1;32m 0.007 s\u001b[0m │\n",
       "├─────────────────────────────┼────────────┼──────────┤\n",
       "│ ordering=-id                │ Alexandria │ \u001b[1;32m 0.007 s\u001b[0m │\n",
       "├─────────────────────────────┼────────────┼──────────┤\n",
       "│ ordering=-written_at        │ Public     │ \u001b[1;32m 0.021 s\u001b[0m │\n",
       "├─────────────────────────────┼────────────┼──────────┤\n",
       "│ ordering=-written_at        │ Alexandria │ \u001b[1;32m 0.006 s\u001b[0m │\n",
       "├─────────────────────────────┼────────────┼──────────┤\n",
       "│ ordering=-rating            │ Public     │ \u001b[1;32m 0.009 s\u001b[0m │\n",
       "├─────────────────────────────┼────────────┼──────────┤\n",
       "│ ordering=-rating            │ Alexandria │ \u001b[1;32m 0.011 s\u001b[0m │\n",
       "├─────────────────────────────┼────────────┼──────────┤\n",
       "│ ordering=-written_at,rating │ Public     │ \u001b[1;32m 0.018 s\u001b[0m │\n",
       "├─────────────────────────────┼────────────┼──────────┤\n",
       "│ ordering=-written_at,rating │ Alexandria │ \u001b[1;32m 0.010 s\u001b[0m │\n",
       "└─────────────────────────────┴────────────┴──────────┘\n"
      ]
     },
     "metadata": {},
     "output_type": "display_data"
    }
   ],
   "source": [
    "from books.tests.benchmarks import benchmark_list_reviews\n",
    "\n",
    "with use_indexes(\n",
    "    \"review_written_at_idx\",\n",
    "    \"review_library_id_rating_idx\",\n",
    "    \"review_library_id_pk_idx\",\n",
    "    \"review_pk_alexandria_idx\",\n",
    "):\n",
    "    benchmark_list_reviews(\n",
    "        [\"ordered-list-reviews\"], library_ids=[public_id, alexandria_id]\n",
    "    )\n"
   ]
  },
  {
   "attachments": {},
   "cell_type": "markdown",
   "metadata": {},
   "source": [
    "<br>\n",
    "<br>\n",
    "<br>\n",
    "<br>\n",
    "<br>\n",
    "<br>\n",
    "<br>\n",
    "<br>\n"
   ]
  },
  {
   "attachments": {},
   "cell_type": "markdown",
   "metadata": {},
   "source": [
    "---\n",
    "\n",
    "Ok, now what about filters?\n"
   ]
  },
  {
   "cell_type": "code",
   "execution_count": 21,
   "metadata": {},
   "outputs": [
    {
     "data": {
      "text/html": [
       "<pre style=\"white-space:pre;overflow-x:auto;line-height:normal;font-family:Menlo,'DejaVu Sans Mono',consolas,'Courier New',monospace\">┏━━━━━━━━━━━━━━━━━━━━━━━━━━━━┳━━━━━━━━━━━━┳━━━━━━━━━━┓\n",
       "┃<span style=\"font-weight: bold\"> Query params               </span>┃<span style=\"font-weight: bold\"> Library    </span>┃<span style=\"font-weight: bold\"> duration </span>┃\n",
       "┡━━━━━━━━━━━━━━━━━━━━━━━━━━━━╇━━━━━━━━━━━━╇━━━━━━━━━━┩\n",
       "│                            │ Alexandria │ <span style=\"color: #008000; text-decoration-color: #008000; font-weight: bold\"> 0.009 s</span> │\n",
       "├────────────────────────────┼────────────┼──────────┤\n",
       "│ written_at__gte=2022-01-01 │ Alexandria │ <span style=\"color: #008000; text-decoration-color: #008000; font-weight: bold\"> 0.015 s</span> │\n",
       "├────────────────────────────┼────────────┼──────────┤\n",
       "│ rating__gte=6              │ Alexandria │ <span style=\"color: #008000; text-decoration-color: #008000; font-weight: bold\"> 0.015 s</span> │\n",
       "├────────────────────────────┼────────────┼──────────┤\n",
       "│ written_at__gte=2022-01-01 │ Alexandria │ <span style=\"color: #008000; text-decoration-color: #008000; font-weight: bold\"> 0.015 s</span> │\n",
       "│ rating__gte=6              │            │          │\n",
       "└────────────────────────────┴────────────┴──────────┘\n",
       "</pre>\n"
      ],
      "text/plain": [
       "┏━━━━━━━━━━━━━━━━━━━━━━━━━━━━┳━━━━━━━━━━━━┳━━━━━━━━━━┓\n",
       "┃\u001b[1m \u001b[0m\u001b[1mQuery params              \u001b[0m\u001b[1m \u001b[0m┃\u001b[1m \u001b[0m\u001b[1mLibrary   \u001b[0m\u001b[1m \u001b[0m┃\u001b[1m \u001b[0m\u001b[1mduration\u001b[0m\u001b[1m \u001b[0m┃\n",
       "┡━━━━━━━━━━━━━━━━━━━━━━━━━━━━╇━━━━━━━━━━━━╇━━━━━━━━━━┩\n",
       "│                            │ Alexandria │ \u001b[1;32m 0.009 s\u001b[0m │\n",
       "├────────────────────────────┼────────────┼──────────┤\n",
       "│ written_at__gte=2022-01-01 │ Alexandria │ \u001b[1;32m 0.015 s\u001b[0m │\n",
       "├────────────────────────────┼────────────┼──────────┤\n",
       "│ rating__gte=6              │ Alexandria │ \u001b[1;32m 0.015 s\u001b[0m │\n",
       "├────────────────────────────┼────────────┼──────────┤\n",
       "│ written_at__gte=2022-01-01 │ Alexandria │ \u001b[1;32m 0.015 s\u001b[0m │\n",
       "│ rating__gte=6              │            │          │\n",
       "└────────────────────────────┴────────────┴──────────┘\n"
      ]
     },
     "metadata": {},
     "output_type": "display_data"
    }
   ],
   "source": [
    "from books.tests.benchmarks import benchmark_list_reviews\n",
    "\n",
    "with use_indexes(\n",
    "    \"review_written_at_idx\",\n",
    "    \"review_library_id_rating_idx\",\n",
    "    \"review_library_id_pk_idx\",\n",
    "    # \"review_pk_alexandria_idx\",\n",
    "):\n",
    "    benchmark_list_reviews([\"filtered-list-reviews\"], library_ids=[alexandria_id])\n"
   ]
  },
  {
   "cell_type": "code",
   "execution_count": 22,
   "metadata": {},
   "outputs": [
    {
     "data": {
      "text/html": [
       "<pre style=\"white-space:pre;overflow-x:auto;line-height:normal;font-family:Menlo,'DejaVu Sans Mono',consolas,'Courier New',monospace\">┏━━━━━━━━━━━━━━━━━━━━━━━━━━━━━┳━━━━━━━━━━━━┳━━━━━━━━━━┓\n",
       "┃<span style=\"font-weight: bold\"> Query params                </span>┃<span style=\"font-weight: bold\"> Library    </span>┃<span style=\"font-weight: bold\"> duration </span>┃\n",
       "┡━━━━━━━━━━━━━━━━━━━━━━━━━━━━━╇━━━━━━━━━━━━╇━━━━━━━━━━┩\n",
       "│ ordering=id                 │ Alexandria │ <span style=\"color: #008000; text-decoration-color: #008000; font-weight: bold\"> 0.013 s</span> │\n",
       "├─────────────────────────────┼────────────┼──────────┤\n",
       "│ ordering=written_at         │ Alexandria │ <span style=\"color: #008000; text-decoration-color: #008000; font-weight: bold\"> 0.011 s</span> │\n",
       "├─────────────────────────────┼────────────┼──────────┤\n",
       "│ ordering=rating             │ Alexandria │ <span style=\"color: #008000; text-decoration-color: #008000; font-weight: bold\"> 0.009 s</span> │\n",
       "├─────────────────────────────┼────────────┼──────────┤\n",
       "│ ordering=-id                │ Alexandria │ <span style=\"color: #008000; text-decoration-color: #008000; font-weight: bold\"> 0.007 s</span> │\n",
       "├─────────────────────────────┼────────────┼──────────┤\n",
       "│ ordering=-written_at        │ Alexandria │ <span style=\"color: #008000; text-decoration-color: #008000; font-weight: bold\"> 0.009 s</span> │\n",
       "├─────────────────────────────┼────────────┼──────────┤\n",
       "│ ordering=-rating            │ Alexandria │ <span style=\"color: #008000; text-decoration-color: #008000; font-weight: bold\"> 0.007 s</span> │\n",
       "├─────────────────────────────┼────────────┼──────────┤\n",
       "│ ordering=-written_at,rating │ Alexandria │ <span style=\"color: #008000; text-decoration-color: #008000; font-weight: bold\"> 0.009 s</span> │\n",
       "├─────────────────────────────┼────────────┼──────────┤\n",
       "│ written_at__gte=2022-01-01  │ Alexandria │ <span style=\"color: #008000; text-decoration-color: #008000; font-weight: bold\"> 0.010 s</span> │\n",
       "│ ordering=id                 │            │          │\n",
       "├─────────────────────────────┼────────────┼──────────┤\n",
       "│ written_at__gte=2022-01-01  │ Alexandria │ <span style=\"color: #008000; text-decoration-color: #008000; font-weight: bold\"> 0.011 s</span> │\n",
       "│ ordering=written_at         │            │          │\n",
       "├─────────────────────────────┼────────────┼──────────┤\n",
       "│ written_at__gte=2022-01-01  │ Alexandria │ <span style=\"color: #008000; text-decoration-color: #008000; font-weight: bold\"> 0.010 s</span> │\n",
       "│ ordering=rating             │            │          │\n",
       "├─────────────────────────────┼────────────┼──────────┤\n",
       "│ written_at__gte=2022-01-01  │ Alexandria │ <span style=\"color: #008000; text-decoration-color: #008000; font-weight: bold\"> 0.009 s</span> │\n",
       "│ ordering=-id                │            │          │\n",
       "├─────────────────────────────┼────────────┼──────────┤\n",
       "│ written_at__gte=2022-01-01  │ Alexandria │ <span style=\"color: #008000; text-decoration-color: #008000; font-weight: bold\"> 0.010 s</span> │\n",
       "│ ordering=-written_at        │            │          │\n",
       "├─────────────────────────────┼────────────┼──────────┤\n",
       "│ written_at__gte=2022-01-01  │ Alexandria │ <span style=\"color: #008000; text-decoration-color: #008000; font-weight: bold\"> 0.012 s</span> │\n",
       "│ ordering=-rating            │            │          │\n",
       "├─────────────────────────────┼────────────┼──────────┤\n",
       "│ written_at__gte=2022-01-01  │ Alexandria │ <span style=\"color: #008000; text-decoration-color: #008000; font-weight: bold\"> 0.009 s</span> │\n",
       "│ ordering=-written_at,rating │            │          │\n",
       "├─────────────────────────────┼────────────┼──────────┤\n",
       "│ rating__gte=6               │ Alexandria │ <span style=\"color: #008000; text-decoration-color: #008000; font-weight: bold\"> 0.009 s</span> │\n",
       "│ ordering=id                 │            │          │\n",
       "├─────────────────────────────┼────────────┼──────────┤\n",
       "│ rating__gte=6               │ Alexandria │ <span style=\"color: #008000; text-decoration-color: #008000; font-weight: bold\"> 0.011 s</span> │\n",
       "│ ordering=written_at         │            │          │\n",
       "├─────────────────────────────┼────────────┼──────────┤\n",
       "│ rating__gte=6               │ Alexandria │ <span style=\"color: #008000; text-decoration-color: #008000; font-weight: bold\"> 0.009 s</span> │\n",
       "│ ordering=rating             │            │          │\n",
       "├─────────────────────────────┼────────────┼──────────┤\n",
       "│ rating__gte=6               │ Alexandria │ <span style=\"color: #008000; text-decoration-color: #008000; font-weight: bold\"> 0.011 s</span> │\n",
       "│ ordering=-id                │            │          │\n",
       "├─────────────────────────────┼────────────┼──────────┤\n",
       "│ rating__gte=6               │ Alexandria │ <span style=\"color: #008000; text-decoration-color: #008000; font-weight: bold\"> 0.013 s</span> │\n",
       "│ ordering=-written_at        │            │          │\n",
       "├─────────────────────────────┼────────────┼──────────┤\n",
       "│ rating__gte=6               │ Alexandria │ <span style=\"color: #008000; text-decoration-color: #008000; font-weight: bold\"> 0.011 s</span> │\n",
       "│ ordering=-rating            │            │          │\n",
       "├─────────────────────────────┼────────────┼──────────┤\n",
       "│ rating__gte=6               │ Alexandria │ <span style=\"color: #008000; text-decoration-color: #008000; font-weight: bold\"> 0.011 s</span> │\n",
       "│ ordering=-written_at,rating │            │          │\n",
       "├─────────────────────────────┼────────────┼──────────┤\n",
       "│ written_at__gte=2022-01-01  │ Alexandria │ <span style=\"color: #008000; text-decoration-color: #008000; font-weight: bold\"> 0.013 s</span> │\n",
       "│ rating__gte=6               │            │          │\n",
       "│ ordering=id                 │            │          │\n",
       "├─────────────────────────────┼────────────┼──────────┤\n",
       "│ written_at__gte=2022-01-01  │ Alexandria │ <span style=\"color: #008000; text-decoration-color: #008000; font-weight: bold\"> 0.023 s</span> │\n",
       "│ rating__gte=6               │            │          │\n",
       "│ ordering=written_at         │            │          │\n",
       "├─────────────────────────────┼────────────┼──────────┤\n",
       "│ written_at__gte=2022-01-01  │ Alexandria │ <span style=\"color: #008000; text-decoration-color: #008000; font-weight: bold\"> 0.013 s</span> │\n",
       "│ rating__gte=6               │            │          │\n",
       "│ ordering=rating             │            │          │\n",
       "├─────────────────────────────┼────────────┼──────────┤\n",
       "│ written_at__gte=2022-01-01  │ Alexandria │ <span style=\"color: #008000; text-decoration-color: #008000; font-weight: bold\"> 0.014 s</span> │\n",
       "│ rating__gte=6               │            │          │\n",
       "│ ordering=-id                │            │          │\n",
       "├─────────────────────────────┼────────────┼──────────┤\n",
       "│ written_at__gte=2022-01-01  │ Alexandria │ <span style=\"color: #008000; text-decoration-color: #008000; font-weight: bold\"> 0.010 s</span> │\n",
       "│ rating__gte=6               │            │          │\n",
       "│ ordering=-written_at        │            │          │\n",
       "├─────────────────────────────┼────────────┼──────────┤\n",
       "│ written_at__gte=2022-01-01  │ Alexandria │ <span style=\"color: #008000; text-decoration-color: #008000; font-weight: bold\"> 0.012 s</span> │\n",
       "│ rating__gte=6               │            │          │\n",
       "│ ordering=-rating            │            │          │\n",
       "├─────────────────────────────┼────────────┼──────────┤\n",
       "│ written_at__gte=2022-01-01  │ Alexandria │ <span style=\"color: #008000; text-decoration-color: #008000; font-weight: bold\"> 0.013 s</span> │\n",
       "│ rating__gte=6               │            │          │\n",
       "│ ordering=-written_at,rating │            │          │\n",
       "└─────────────────────────────┴────────────┴──────────┘\n",
       "</pre>\n"
      ],
      "text/plain": [
       "┏━━━━━━━━━━━━━━━━━━━━━━━━━━━━━┳━━━━━━━━━━━━┳━━━━━━━━━━┓\n",
       "┃\u001b[1m \u001b[0m\u001b[1mQuery params               \u001b[0m\u001b[1m \u001b[0m┃\u001b[1m \u001b[0m\u001b[1mLibrary   \u001b[0m\u001b[1m \u001b[0m┃\u001b[1m \u001b[0m\u001b[1mduration\u001b[0m\u001b[1m \u001b[0m┃\n",
       "┡━━━━━━━━━━━━━━━━━━━━━━━━━━━━━╇━━━━━━━━━━━━╇━━━━━━━━━━┩\n",
       "│ ordering=id                 │ Alexandria │ \u001b[1;32m 0.013 s\u001b[0m │\n",
       "├─────────────────────────────┼────────────┼──────────┤\n",
       "│ ordering=written_at         │ Alexandria │ \u001b[1;32m 0.011 s\u001b[0m │\n",
       "├─────────────────────────────┼────────────┼──────────┤\n",
       "│ ordering=rating             │ Alexandria │ \u001b[1;32m 0.009 s\u001b[0m │\n",
       "├─────────────────────────────┼────────────┼──────────┤\n",
       "│ ordering=-id                │ Alexandria │ \u001b[1;32m 0.007 s\u001b[0m │\n",
       "├─────────────────────────────┼────────────┼──────────┤\n",
       "│ ordering=-written_at        │ Alexandria │ \u001b[1;32m 0.009 s\u001b[0m │\n",
       "├─────────────────────────────┼────────────┼──────────┤\n",
       "│ ordering=-rating            │ Alexandria │ \u001b[1;32m 0.007 s\u001b[0m │\n",
       "├─────────────────────────────┼────────────┼──────────┤\n",
       "│ ordering=-written_at,rating │ Alexandria │ \u001b[1;32m 0.009 s\u001b[0m │\n",
       "├─────────────────────────────┼────────────┼──────────┤\n",
       "│ written_at__gte=2022-01-01  │ Alexandria │ \u001b[1;32m 0.010 s\u001b[0m │\n",
       "│ ordering=id                 │            │          │\n",
       "├─────────────────────────────┼────────────┼──────────┤\n",
       "│ written_at__gte=2022-01-01  │ Alexandria │ \u001b[1;32m 0.011 s\u001b[0m │\n",
       "│ ordering=written_at         │            │          │\n",
       "├─────────────────────────────┼────────────┼──────────┤\n",
       "│ written_at__gte=2022-01-01  │ Alexandria │ \u001b[1;32m 0.010 s\u001b[0m │\n",
       "│ ordering=rating             │            │          │\n",
       "├─────────────────────────────┼────────────┼──────────┤\n",
       "│ written_at__gte=2022-01-01  │ Alexandria │ \u001b[1;32m 0.009 s\u001b[0m │\n",
       "│ ordering=-id                │            │          │\n",
       "├─────────────────────────────┼────────────┼──────────┤\n",
       "│ written_at__gte=2022-01-01  │ Alexandria │ \u001b[1;32m 0.010 s\u001b[0m │\n",
       "│ ordering=-written_at        │            │          │\n",
       "├─────────────────────────────┼────────────┼──────────┤\n",
       "│ written_at__gte=2022-01-01  │ Alexandria │ \u001b[1;32m 0.012 s\u001b[0m │\n",
       "│ ordering=-rating            │            │          │\n",
       "├─────────────────────────────┼────────────┼──────────┤\n",
       "│ written_at__gte=2022-01-01  │ Alexandria │ \u001b[1;32m 0.009 s\u001b[0m │\n",
       "│ ordering=-written_at,rating │            │          │\n",
       "├─────────────────────────────┼────────────┼──────────┤\n",
       "│ rating__gte=6               │ Alexandria │ \u001b[1;32m 0.009 s\u001b[0m │\n",
       "│ ordering=id                 │            │          │\n",
       "├─────────────────────────────┼────────────┼──────────┤\n",
       "│ rating__gte=6               │ Alexandria │ \u001b[1;32m 0.011 s\u001b[0m │\n",
       "│ ordering=written_at         │            │          │\n",
       "├─────────────────────────────┼────────────┼──────────┤\n",
       "│ rating__gte=6               │ Alexandria │ \u001b[1;32m 0.009 s\u001b[0m │\n",
       "│ ordering=rating             │            │          │\n",
       "├─────────────────────────────┼────────────┼──────────┤\n",
       "│ rating__gte=6               │ Alexandria │ \u001b[1;32m 0.011 s\u001b[0m │\n",
       "│ ordering=-id                │            │          │\n",
       "├─────────────────────────────┼────────────┼──────────┤\n",
       "│ rating__gte=6               │ Alexandria │ \u001b[1;32m 0.013 s\u001b[0m │\n",
       "│ ordering=-written_at        │            │          │\n",
       "├─────────────────────────────┼────────────┼──────────┤\n",
       "│ rating__gte=6               │ Alexandria │ \u001b[1;32m 0.011 s\u001b[0m │\n",
       "│ ordering=-rating            │            │          │\n",
       "├─────────────────────────────┼────────────┼──────────┤\n",
       "│ rating__gte=6               │ Alexandria │ \u001b[1;32m 0.011 s\u001b[0m │\n",
       "│ ordering=-written_at,rating │            │          │\n",
       "├─────────────────────────────┼────────────┼──────────┤\n",
       "│ written_at__gte=2022-01-01  │ Alexandria │ \u001b[1;32m 0.013 s\u001b[0m │\n",
       "│ rating__gte=6               │            │          │\n",
       "│ ordering=id                 │            │          │\n",
       "├─────────────────────────────┼────────────┼──────────┤\n",
       "│ written_at__gte=2022-01-01  │ Alexandria │ \u001b[1;32m 0.023 s\u001b[0m │\n",
       "│ rating__gte=6               │            │          │\n",
       "│ ordering=written_at         │            │          │\n",
       "├─────────────────────────────┼────────────┼──────────┤\n",
       "│ written_at__gte=2022-01-01  │ Alexandria │ \u001b[1;32m 0.013 s\u001b[0m │\n",
       "│ rating__gte=6               │            │          │\n",
       "│ ordering=rating             │            │          │\n",
       "├─────────────────────────────┼────────────┼──────────┤\n",
       "│ written_at__gte=2022-01-01  │ Alexandria │ \u001b[1;32m 0.014 s\u001b[0m │\n",
       "│ rating__gte=6               │            │          │\n",
       "│ ordering=-id                │            │          │\n",
       "├─────────────────────────────┼────────────┼──────────┤\n",
       "│ written_at__gte=2022-01-01  │ Alexandria │ \u001b[1;32m 0.010 s\u001b[0m │\n",
       "│ rating__gte=6               │            │          │\n",
       "│ ordering=-written_at        │            │          │\n",
       "├─────────────────────────────┼────────────┼──────────┤\n",
       "│ written_at__gte=2022-01-01  │ Alexandria │ \u001b[1;32m 0.012 s\u001b[0m │\n",
       "│ rating__gte=6               │            │          │\n",
       "│ ordering=-rating            │            │          │\n",
       "├─────────────────────────────┼────────────┼──────────┤\n",
       "│ written_at__gte=2022-01-01  │ Alexandria │ \u001b[1;32m 0.013 s\u001b[0m │\n",
       "│ rating__gte=6               │            │          │\n",
       "│ ordering=-written_at,rating │            │          │\n",
       "└─────────────────────────────┴────────────┴──────────┘\n"
      ]
     },
     "metadata": {},
     "output_type": "display_data"
    }
   ],
   "source": [
    "from books.tests.benchmarks import benchmark_list_reviews\n",
    "\n",
    "with use_indexes(\n",
    "    \"review_written_at_idx\",\n",
    "    \"review_library_id_rating_idx\",\n",
    "    \"review_library_id_pk_idx\",\n",
    "):\n",
    "    benchmark_list_reviews([\"complete-list-reviews\"], library_ids=[alexandria_id])"
   ]
  },
  {
   "attachments": {},
   "cell_type": "markdown",
   "metadata": {},
   "source": [
    "Let's try a last index\n",
    "\n",
    "```sql\n",
    "CREATE INDEX review_library_id_pk_rating_written_at_idx\n",
    "    ON books_review USING btree (library_id, id, rating, written_at);\n",
    "```\n"
   ]
  },
  {
   "cell_type": "code",
   "execution_count": 23,
   "metadata": {},
   "outputs": [
    {
     "data": {
      "text/html": [
       "<pre style=\"white-space:pre;overflow-x:auto;line-height:normal;font-family:Menlo,'DejaVu Sans Mono',consolas,'Courier New',monospace\">┏━━━━━━━━━━━━━━━━━━━━━━━━━━━━━┳━━━━━━━━━━━━┳━━━━━━━━━━┓\n",
       "┃<span style=\"font-weight: bold\"> Query params                </span>┃<span style=\"font-weight: bold\"> Library    </span>┃<span style=\"font-weight: bold\"> duration </span>┃\n",
       "┡━━━━━━━━━━━━━━━━━━━━━━━━━━━━━╇━━━━━━━━━━━━╇━━━━━━━━━━┩\n",
       "│ ordering=id                 │ Alexandria │ <span style=\"color: #008000; text-decoration-color: #008000; font-weight: bold\"> 0.013 s</span> │\n",
       "├─────────────────────────────┼────────────┼──────────┤\n",
       "│ ordering=written_at         │ Alexandria │ <span style=\"color: #008000; text-decoration-color: #008000; font-weight: bold\"> 0.012 s</span> │\n",
       "├─────────────────────────────┼────────────┼──────────┤\n",
       "│ ordering=rating             │ Alexandria │ <span style=\"color: #008000; text-decoration-color: #008000; font-weight: bold\"> 0.010 s</span> │\n",
       "├─────────────────────────────┼────────────┼──────────┤\n",
       "│ ordering=-id                │ Alexandria │ <span style=\"color: #008000; text-decoration-color: #008000; font-weight: bold\"> 0.007 s</span> │\n",
       "├─────────────────────────────┼────────────┼──────────┤\n",
       "│ ordering=-written_at        │ Alexandria │ <span style=\"color: #008000; text-decoration-color: #008000; font-weight: bold\"> 0.010 s</span> │\n",
       "├─────────────────────────────┼────────────┼──────────┤\n",
       "│ ordering=-rating            │ Alexandria │ <span style=\"color: #008000; text-decoration-color: #008000; font-weight: bold\"> 0.010 s</span> │\n",
       "├─────────────────────────────┼────────────┼──────────┤\n",
       "│ ordering=-written_at,rating │ Alexandria │ <span style=\"color: #008000; text-decoration-color: #008000; font-weight: bold\"> 0.010 s</span> │\n",
       "├─────────────────────────────┼────────────┼──────────┤\n",
       "│ written_at__gte=2022-01-01  │ Alexandria │ <span style=\"color: #008000; text-decoration-color: #008000; font-weight: bold\"> 0.010 s</span> │\n",
       "│ ordering=id                 │            │          │\n",
       "├─────────────────────────────┼────────────┼──────────┤\n",
       "│ written_at__gte=2022-01-01  │ Alexandria │ <span style=\"color: #008000; text-decoration-color: #008000; font-weight: bold\"> 0.008 s</span> │\n",
       "│ ordering=written_at         │            │          │\n",
       "├─────────────────────────────┼────────────┼──────────┤\n",
       "│ written_at__gte=2022-01-01  │ Alexandria │ <span style=\"color: #008000; text-decoration-color: #008000; font-weight: bold\"> 0.009 s</span> │\n",
       "│ ordering=rating             │            │          │\n",
       "├─────────────────────────────┼────────────┼──────────┤\n",
       "│ written_at__gte=2022-01-01  │ Alexandria │ <span style=\"color: #008000; text-decoration-color: #008000; font-weight: bold\"> 0.012 s</span> │\n",
       "│ ordering=-id                │            │          │\n",
       "├─────────────────────────────┼────────────┼──────────┤\n",
       "│ written_at__gte=2022-01-01  │ Alexandria │ <span style=\"color: #008000; text-decoration-color: #008000; font-weight: bold\"> 0.011 s</span> │\n",
       "│ ordering=-written_at        │            │          │\n",
       "├─────────────────────────────┼────────────┼──────────┤\n",
       "│ written_at__gte=2022-01-01  │ Alexandria │ <span style=\"color: #008000; text-decoration-color: #008000; font-weight: bold\"> 0.013 s</span> │\n",
       "│ ordering=-rating            │            │          │\n",
       "├─────────────────────────────┼────────────┼──────────┤\n",
       "│ written_at__gte=2022-01-01  │ Alexandria │ <span style=\"color: #008000; text-decoration-color: #008000; font-weight: bold\"> 0.012 s</span> │\n",
       "│ ordering=-written_at,rating │            │          │\n",
       "├─────────────────────────────┼────────────┼──────────┤\n",
       "│ rating__gte=6               │ Alexandria │ <span style=\"color: #008000; text-decoration-color: #008000; font-weight: bold\"> 0.015 s</span> │\n",
       "│ ordering=id                 │            │          │\n",
       "├─────────────────────────────┼────────────┼──────────┤\n",
       "│ rating__gte=6               │ Alexandria │ <span style=\"color: #008000; text-decoration-color: #008000; font-weight: bold\"> 0.012 s</span> │\n",
       "│ ordering=written_at         │            │          │\n",
       "├─────────────────────────────┼────────────┼──────────┤\n",
       "│ rating__gte=6               │ Alexandria │ <span style=\"color: #008000; text-decoration-color: #008000; font-weight: bold\"> 0.010 s</span> │\n",
       "│ ordering=rating             │            │          │\n",
       "├─────────────────────────────┼────────────┼──────────┤\n",
       "│ rating__gte=6               │ Alexandria │ <span style=\"color: #008000; text-decoration-color: #008000; font-weight: bold\"> 0.009 s</span> │\n",
       "│ ordering=-id                │            │          │\n",
       "├─────────────────────────────┼────────────┼──────────┤\n",
       "│ rating__gte=6               │ Alexandria │ <span style=\"color: #008000; text-decoration-color: #008000; font-weight: bold\"> 0.010 s</span> │\n",
       "│ ordering=-written_at        │            │          │\n",
       "├─────────────────────────────┼────────────┼──────────┤\n",
       "│ rating__gte=6               │ Alexandria │ <span style=\"color: #008000; text-decoration-color: #008000; font-weight: bold\"> 0.009 s</span> │\n",
       "│ ordering=-rating            │            │          │\n",
       "├─────────────────────────────┼────────────┼──────────┤\n",
       "│ rating__gte=6               │ Alexandria │ <span style=\"color: #008000; text-decoration-color: #008000; font-weight: bold\"> 0.012 s</span> │\n",
       "│ ordering=-written_at,rating │            │          │\n",
       "├─────────────────────────────┼────────────┼──────────┤\n",
       "│ written_at__gte=2022-01-01  │ Alexandria │ <span style=\"color: #008000; text-decoration-color: #008000; font-weight: bold\"> 0.011 s</span> │\n",
       "│ rating__gte=6               │            │          │\n",
       "│ ordering=id                 │            │          │\n",
       "├─────────────────────────────┼────────────┼──────────┤\n",
       "│ written_at__gte=2022-01-01  │ Alexandria │ <span style=\"color: #008000; text-decoration-color: #008000; font-weight: bold\"> 0.014 s</span> │\n",
       "│ rating__gte=6               │            │          │\n",
       "│ ordering=written_at         │            │          │\n",
       "├─────────────────────────────┼────────────┼──────────┤\n",
       "│ written_at__gte=2022-01-01  │ Alexandria │ <span style=\"color: #008000; text-decoration-color: #008000; font-weight: bold\"> 0.011 s</span> │\n",
       "│ rating__gte=6               │            │          │\n",
       "│ ordering=rating             │            │          │\n",
       "├─────────────────────────────┼────────────┼──────────┤\n",
       "│ written_at__gte=2022-01-01  │ Alexandria │ <span style=\"color: #008000; text-decoration-color: #008000; font-weight: bold\"> 0.038 s</span> │\n",
       "│ rating__gte=6               │            │          │\n",
       "│ ordering=-id                │            │          │\n",
       "├─────────────────────────────┼────────────┼──────────┤\n",
       "│ written_at__gte=2022-01-01  │ Alexandria │ <span style=\"color: #008000; text-decoration-color: #008000; font-weight: bold\"> 0.028 s</span> │\n",
       "│ rating__gte=6               │            │          │\n",
       "│ ordering=-written_at        │            │          │\n",
       "├─────────────────────────────┼────────────┼──────────┤\n",
       "│ written_at__gte=2022-01-01  │ Alexandria │ <span style=\"color: #008000; text-decoration-color: #008000; font-weight: bold\"> 0.011 s</span> │\n",
       "│ rating__gte=6               │            │          │\n",
       "│ ordering=-rating            │            │          │\n",
       "├─────────────────────────────┼────────────┼──────────┤\n",
       "│ written_at__gte=2022-01-01  │ Alexandria │ <span style=\"color: #008000; text-decoration-color: #008000; font-weight: bold\"> 0.013 s</span> │\n",
       "│ rating__gte=6               │            │          │\n",
       "│ ordering=-written_at,rating │            │          │\n",
       "└─────────────────────────────┴────────────┴──────────┘\n",
       "</pre>\n"
      ],
      "text/plain": [
       "┏━━━━━━━━━━━━━━━━━━━━━━━━━━━━━┳━━━━━━━━━━━━┳━━━━━━━━━━┓\n",
       "┃\u001b[1m \u001b[0m\u001b[1mQuery params               \u001b[0m\u001b[1m \u001b[0m┃\u001b[1m \u001b[0m\u001b[1mLibrary   \u001b[0m\u001b[1m \u001b[0m┃\u001b[1m \u001b[0m\u001b[1mduration\u001b[0m\u001b[1m \u001b[0m┃\n",
       "┡━━━━━━━━━━━━━━━━━━━━━━━━━━━━━╇━━━━━━━━━━━━╇━━━━━━━━━━┩\n",
       "│ ordering=id                 │ Alexandria │ \u001b[1;32m 0.013 s\u001b[0m │\n",
       "├─────────────────────────────┼────────────┼──────────┤\n",
       "│ ordering=written_at         │ Alexandria │ \u001b[1;32m 0.012 s\u001b[0m │\n",
       "├─────────────────────────────┼────────────┼──────────┤\n",
       "│ ordering=rating             │ Alexandria │ \u001b[1;32m 0.010 s\u001b[0m │\n",
       "├─────────────────────────────┼────────────┼──────────┤\n",
       "│ ordering=-id                │ Alexandria │ \u001b[1;32m 0.007 s\u001b[0m │\n",
       "├─────────────────────────────┼────────────┼──────────┤\n",
       "│ ordering=-written_at        │ Alexandria │ \u001b[1;32m 0.010 s\u001b[0m │\n",
       "├─────────────────────────────┼────────────┼──────────┤\n",
       "│ ordering=-rating            │ Alexandria │ \u001b[1;32m 0.010 s\u001b[0m │\n",
       "├─────────────────────────────┼────────────┼──────────┤\n",
       "│ ordering=-written_at,rating │ Alexandria │ \u001b[1;32m 0.010 s\u001b[0m │\n",
       "├─────────────────────────────┼────────────┼──────────┤\n",
       "│ written_at__gte=2022-01-01  │ Alexandria │ \u001b[1;32m 0.010 s\u001b[0m │\n",
       "│ ordering=id                 │            │          │\n",
       "├─────────────────────────────┼────────────┼──────────┤\n",
       "│ written_at__gte=2022-01-01  │ Alexandria │ \u001b[1;32m 0.008 s\u001b[0m │\n",
       "│ ordering=written_at         │            │          │\n",
       "├─────────────────────────────┼────────────┼──────────┤\n",
       "│ written_at__gte=2022-01-01  │ Alexandria │ \u001b[1;32m 0.009 s\u001b[0m │\n",
       "│ ordering=rating             │            │          │\n",
       "├─────────────────────────────┼────────────┼──────────┤\n",
       "│ written_at__gte=2022-01-01  │ Alexandria │ \u001b[1;32m 0.012 s\u001b[0m │\n",
       "│ ordering=-id                │            │          │\n",
       "├─────────────────────────────┼────────────┼──────────┤\n",
       "│ written_at__gte=2022-01-01  │ Alexandria │ \u001b[1;32m 0.011 s\u001b[0m │\n",
       "│ ordering=-written_at        │            │          │\n",
       "├─────────────────────────────┼────────────┼──────────┤\n",
       "│ written_at__gte=2022-01-01  │ Alexandria │ \u001b[1;32m 0.013 s\u001b[0m │\n",
       "│ ordering=-rating            │            │          │\n",
       "├─────────────────────────────┼────────────┼──────────┤\n",
       "│ written_at__gte=2022-01-01  │ Alexandria │ \u001b[1;32m 0.012 s\u001b[0m │\n",
       "│ ordering=-written_at,rating │            │          │\n",
       "├─────────────────────────────┼────────────┼──────────┤\n",
       "│ rating__gte=6               │ Alexandria │ \u001b[1;32m 0.015 s\u001b[0m │\n",
       "│ ordering=id                 │            │          │\n",
       "├─────────────────────────────┼────────────┼──────────┤\n",
       "│ rating__gte=6               │ Alexandria │ \u001b[1;32m 0.012 s\u001b[0m │\n",
       "│ ordering=written_at         │            │          │\n",
       "├─────────────────────────────┼────────────┼──────────┤\n",
       "│ rating__gte=6               │ Alexandria │ \u001b[1;32m 0.010 s\u001b[0m │\n",
       "│ ordering=rating             │            │          │\n",
       "├─────────────────────────────┼────────────┼──────────┤\n",
       "│ rating__gte=6               │ Alexandria │ \u001b[1;32m 0.009 s\u001b[0m │\n",
       "│ ordering=-id                │            │          │\n",
       "├─────────────────────────────┼────────────┼──────────┤\n",
       "│ rating__gte=6               │ Alexandria │ \u001b[1;32m 0.010 s\u001b[0m │\n",
       "│ ordering=-written_at        │            │          │\n",
       "├─────────────────────────────┼────────────┼──────────┤\n",
       "│ rating__gte=6               │ Alexandria │ \u001b[1;32m 0.009 s\u001b[0m │\n",
       "│ ordering=-rating            │            │          │\n",
       "├─────────────────────────────┼────────────┼──────────┤\n",
       "│ rating__gte=6               │ Alexandria │ \u001b[1;32m 0.012 s\u001b[0m │\n",
       "│ ordering=-written_at,rating │            │          │\n",
       "├─────────────────────────────┼────────────┼──────────┤\n",
       "│ written_at__gte=2022-01-01  │ Alexandria │ \u001b[1;32m 0.011 s\u001b[0m │\n",
       "│ rating__gte=6               │            │          │\n",
       "│ ordering=id                 │            │          │\n",
       "├─────────────────────────────┼────────────┼──────────┤\n",
       "│ written_at__gte=2022-01-01  │ Alexandria │ \u001b[1;32m 0.014 s\u001b[0m │\n",
       "│ rating__gte=6               │            │          │\n",
       "│ ordering=written_at         │            │          │\n",
       "├─────────────────────────────┼────────────┼──────────┤\n",
       "│ written_at__gte=2022-01-01  │ Alexandria │ \u001b[1;32m 0.011 s\u001b[0m │\n",
       "│ rating__gte=6               │            │          │\n",
       "│ ordering=rating             │            │          │\n",
       "├─────────────────────────────┼────────────┼──────────┤\n",
       "│ written_at__gte=2022-01-01  │ Alexandria │ \u001b[1;32m 0.038 s\u001b[0m │\n",
       "│ rating__gte=6               │            │          │\n",
       "│ ordering=-id                │            │          │\n",
       "├─────────────────────────────┼────────────┼──────────┤\n",
       "│ written_at__gte=2022-01-01  │ Alexandria │ \u001b[1;32m 0.028 s\u001b[0m │\n",
       "│ rating__gte=6               │            │          │\n",
       "│ ordering=-written_at        │            │          │\n",
       "├─────────────────────────────┼────────────┼──────────┤\n",
       "│ written_at__gte=2022-01-01  │ Alexandria │ \u001b[1;32m 0.011 s\u001b[0m │\n",
       "│ rating__gte=6               │            │          │\n",
       "│ ordering=-rating            │            │          │\n",
       "├─────────────────────────────┼────────────┼──────────┤\n",
       "│ written_at__gte=2022-01-01  │ Alexandria │ \u001b[1;32m 0.013 s\u001b[0m │\n",
       "│ rating__gte=6               │            │          │\n",
       "│ ordering=-written_at,rating │            │          │\n",
       "└─────────────────────────────┴────────────┴──────────┘\n"
      ]
     },
     "metadata": {},
     "output_type": "display_data"
    }
   ],
   "source": [
    "from books.tests.benchmarks import benchmark_list_reviews\n",
    "\n",
    "with use_indexes(\n",
    "    \"review_written_at_idx\",\n",
    "    \"review_library_id_rating_idx\",\n",
    "    \"review_library_id_pk_idx\",\n",
    "    \"review_library_id_pk_rating_written_at_idx\",\n",
    "):\n",
    "    benchmark_list_reviews([\"complete-list-reviews\"], library_ids=[alexandria_id])"
   ]
  },
  {
   "attachments": {},
   "cell_type": "markdown",
   "metadata": {},
   "source": [
    "---\n",
    "\n",
    "Back to Readers per book\n",
    "\n",
    "Let's try to add an index to try and improve perf for Alexandria, on the previous endpoint\n"
   ]
  },
  {
   "cell_type": "code",
   "execution_count": 24,
   "metadata": {},
   "outputs": [],
   "source": [
    "from django.contrib.postgres.aggregates import ArrayAgg\n",
    "\n",
    "\n",
    "def list_readers_per_book(library_id):\n",
    "    return dict(\n",
    "        Book.objects.filter(library=library_id)\n",
    "        .annotate(reader_names=ArrayAgg(\"readers__name\"))\n",
    "        .values_list(\"title\", \"reader_names\")\n",
    "    )"
   ]
  },
  {
   "cell_type": "code",
   "execution_count": 26,
   "metadata": {},
   "outputs": [
    {
     "data": {
      "text/html": [
       "<pre style=\"white-space:pre;overflow-x:auto;line-height:normal;font-family:Menlo,'DejaVu Sans Mono',consolas,'Courier New',monospace\">Tuples\n",
       "  Total: <span style=\"color: #008080; text-decoration-color: #008080; font-weight: bold\">2.84</span>\n",
       "  SQL: <span style=\"color: #008080; text-decoration-color: #008080; font-weight: bold\">2.49</span> \n",
       "\n",
       "      <span style=\"font-weight: bold\">(</span>duration: <span style=\"color: #008080; text-decoration-color: #008080; font-weight: bold\">2.494</span><span style=\"font-weight: bold\">)</span>   SELECT <span style=\"color: #008000; text-decoration-color: #008000\">\"books_book\"</span>.<span style=\"color: #008000; text-decoration-color: #008000\">\"title\"</span>, <span style=\"color: #008000; text-decoration-color: #008000\">\"books_person\"</span>.<span style=\"color: #008000; text-decoration-color: #008000\">\"name\"</span> FROM <span style=\"color: #008000; text-decoration-color: #008000\">\"books_review\"</span> INNER JOIN \n",
       "<span style=\"color: #008000; text-decoration-color: #008000\">\"books_book\"</span> ON <span style=\"font-weight: bold\">(</span><span style=\"color: #008000; text-decoration-color: #008000\">\"books_review\"</span>.<span style=\"color: #008000; text-decoration-color: #008000\">\"book_id\"</span> = <span style=\"color: #008000; text-decoration-color: #008000\">\"books_book\"</span>.<span style=\"color: #008000; text-decoration-color: #008000\">\"id\"</span><span style=\"font-weight: bold\">)</span> INNER JOIN <span style=\"color: #008000; text-decoration-color: #008000\">\"books_person\"</span> ON \n",
       "<span style=\"font-weight: bold\">(</span><span style=\"color: #008000; text-decoration-color: #008000\">\"books_review\"</span>.<span style=\"color: #008000; text-decoration-color: #008000\">\"reader_id\"</span> = <span style=\"color: #008000; text-decoration-color: #008000\">\"books_person\"</span>.<span style=\"color: #008000; text-decoration-color: #008000\">\"id\"</span><span style=\"font-weight: bold\">)</span> WHERE <span style=\"color: #008000; text-decoration-color: #008000\">\"books_review\"</span>.<span style=\"color: #008000; text-decoration-color: #008000\">\"library_id\"</span> = <span style=\"color: #008080; text-decoration-color: #008080; font-weight: bold\">10015</span>\n",
       "</pre>\n"
      ],
      "text/plain": [
       "Tuples\n",
       "  Total: \u001b[1;36m2.84\u001b[0m\n",
       "  SQL: \u001b[1;36m2.49\u001b[0m \n",
       "\n",
       "      \u001b[1m(\u001b[0mduration: \u001b[1;36m2.494\u001b[0m\u001b[1m)\u001b[0m   SELECT \u001b[32m\"books_book\"\u001b[0m.\u001b[32m\"title\"\u001b[0m, \u001b[32m\"books_person\"\u001b[0m.\u001b[32m\"name\"\u001b[0m FROM \u001b[32m\"books_review\"\u001b[0m INNER JOIN \n",
       "\u001b[32m\"books_book\"\u001b[0m ON \u001b[1m(\u001b[0m\u001b[32m\"books_review\"\u001b[0m.\u001b[32m\"book_id\"\u001b[0m = \u001b[32m\"books_book\"\u001b[0m.\u001b[32m\"id\"\u001b[0m\u001b[1m)\u001b[0m INNER JOIN \u001b[32m\"books_person\"\u001b[0m ON \n",
       "\u001b[1m(\u001b[0m\u001b[32m\"books_review\"\u001b[0m.\u001b[32m\"reader_id\"\u001b[0m = \u001b[32m\"books_person\"\u001b[0m.\u001b[32m\"id\"\u001b[0m\u001b[1m)\u001b[0m WHERE \u001b[32m\"books_review\"\u001b[0m.\u001b[32m\"library_id\"\u001b[0m = \u001b[1;36m10015\u001b[0m\n"
      ]
     },
     "metadata": {},
     "output_type": "display_data"
    },
    {
     "data": {
      "text/html": [
       "<pre style=\"white-space:pre;overflow-x:auto;line-height:normal;font-family:Menlo,'DejaVu Sans Mono',consolas,'Courier New',monospace\">Total time\n",
       "  Total: <span style=\"color: #008080; text-decoration-color: #008080; font-weight: bold\">9.04</span>\n",
       "  SQL: <span style=\"color: #008080; text-decoration-color: #008080; font-weight: bold\">6.71</span> \n",
       "\n",
       "      <span style=\"font-weight: bold\">(</span>duration: <span style=\"color: #008080; text-decoration-color: #008080; font-weight: bold\">6.710</span><span style=\"font-weight: bold\">)</span>   SELECT <span style=\"color: #008000; text-decoration-color: #008000\">\"books_book\"</span>.<span style=\"color: #008000; text-decoration-color: #008000\">\"title\"</span>, <span style=\"color: #800080; text-decoration-color: #800080; font-weight: bold\">ARRAY_AGG</span><span style=\"font-weight: bold\">(</span><span style=\"color: #008000; text-decoration-color: #008000\">\"books_person\"</span>.<span style=\"color: #008000; text-decoration-color: #008000\">\"name\"</span> <span style=\"font-weight: bold\">)</span> AS <span style=\"color: #008000; text-decoration-color: #008000\">\"reader_names\"</span> FROM \n",
       "<span style=\"color: #008000; text-decoration-color: #008000\">\"books_book\"</span> LEFT OUTER JOIN <span style=\"color: #008000; text-decoration-color: #008000\">\"books_review\"</span> ON <span style=\"font-weight: bold\">(</span><span style=\"color: #008000; text-decoration-color: #008000\">\"books_book\"</span>.<span style=\"color: #008000; text-decoration-color: #008000\">\"id\"</span> = <span style=\"color: #008000; text-decoration-color: #008000\">\"books_review\"</span>.<span style=\"color: #008000; text-decoration-color: #008000\">\"book_id\"</span><span style=\"font-weight: bold\">)</span> LEFT OUTER JOIN \n",
       "<span style=\"color: #008000; text-decoration-color: #008000\">\"books_person\"</span> ON <span style=\"font-weight: bold\">(</span><span style=\"color: #008000; text-decoration-color: #008000\">\"books_review\"</span>.<span style=\"color: #008000; text-decoration-color: #008000\">\"reader_id\"</span> = <span style=\"color: #008000; text-decoration-color: #008000\">\"books_person\"</span>.<span style=\"color: #008000; text-decoration-color: #008000\">\"id\"</span><span style=\"font-weight: bold\">)</span> WHERE <span style=\"color: #008000; text-decoration-color: #008000\">\"books_book\"</span>.<span style=\"color: #008000; text-decoration-color: #008000\">\"library_id\"</span> = <span style=\"color: #008080; text-decoration-color: #008080; font-weight: bold\">6</span> GROUP BY \n",
       "<span style=\"color: #008000; text-decoration-color: #008000\">\"books_book\"</span>.<span style=\"color: #008000; text-decoration-color: #008000\">\"id\"</span>\n",
       "</pre>\n"
      ],
      "text/plain": [
       "Total time\n",
       "  Total: \u001b[1;36m9.04\u001b[0m\n",
       "  SQL: \u001b[1;36m6.71\u001b[0m \n",
       "\n",
       "      \u001b[1m(\u001b[0mduration: \u001b[1;36m6.710\u001b[0m\u001b[1m)\u001b[0m   SELECT \u001b[32m\"books_book\"\u001b[0m.\u001b[32m\"title\"\u001b[0m, \u001b[1;35mARRAY_AGG\u001b[0m\u001b[1m(\u001b[0m\u001b[32m\"books_person\"\u001b[0m.\u001b[32m\"name\"\u001b[0m \u001b[1m)\u001b[0m AS \u001b[32m\"reader_names\"\u001b[0m FROM \n",
       "\u001b[32m\"books_book\"\u001b[0m LEFT OUTER JOIN \u001b[32m\"books_review\"\u001b[0m ON \u001b[1m(\u001b[0m\u001b[32m\"books_book\"\u001b[0m.\u001b[32m\"id\"\u001b[0m = \u001b[32m\"books_review\"\u001b[0m.\u001b[32m\"book_id\"\u001b[0m\u001b[1m)\u001b[0m LEFT OUTER JOIN \n",
       "\u001b[32m\"books_person\"\u001b[0m ON \u001b[1m(\u001b[0m\u001b[32m\"books_review\"\u001b[0m.\u001b[32m\"reader_id\"\u001b[0m = \u001b[32m\"books_person\"\u001b[0m.\u001b[32m\"id\"\u001b[0m\u001b[1m)\u001b[0m WHERE \u001b[32m\"books_book\"\u001b[0m.\u001b[32m\"library_id\"\u001b[0m = \u001b[1;36m6\u001b[0m GROUP BY \n",
       "\u001b[32m\"books_book\"\u001b[0m.\u001b[32m\"id\"\u001b[0m\n"
      ]
     },
     "metadata": {},
     "output_type": "display_data"
    }
   ],
   "source": [
    "from utils.sql import use_indexes\n",
    "from collections import defaultdict \n",
    "\n",
    "readers_per_book = defaultdict(list)\n",
    "\n",
    "with use_indexes(\"review_book_reader_idx\"), perf_counter(message=\"Tuples\", time_sql=True, print_sql=True):\n",
    "    reviews = Review.objects.filter(library=public_id).values_list(\n",
    "        \"book__title\", \"reader__name\"\n",
    "    )\n",
    "    for book_title, reader_name in reviews:\n",
    "        readers_per_book[book_title].append(reader_name)\n",
    "\n",
    "\n",
    "with use_indexes(\"review_book_reader_idx\"), perf_counter(time_sql=True, print_sql=True):\n",
    "    readers_per_book = list_readers_per_book(alexandria_id)\n"
   ]
  },
  {
   "attachments": {},
   "cell_type": "markdown",
   "metadata": {},
   "source": [
    "<br>\n",
    "<br>\n",
    "<br>\n",
    "\n",
    "---\n",
    "\n",
    "### Index sizes\n",
    "\n",
    "- The more filters we allow, the more performance issues can arise\n",
    "- It's not always easy to predict which index will be used\n",
    "- Indexes are not _always_ the solution, and can take a huge ammount of space\n",
    "- You need to test on a database as close as possible to your live, production database\n"
   ]
  },
  {
   "cell_type": "code",
   "execution_count": null,
   "metadata": {},
   "outputs": [
    {
     "data": {
      "text/html": [
       "<pre style=\"white-space:pre;overflow-x:auto;line-height:normal;font-family:Menlo,'DejaVu Sans Mono',consolas,'Courier New',monospace\">┏━━━━━━━━━━━━━━━┳━━━━━━━━━━━━┳━━━━━━━━━━━━┳━━━━━━━━━━━━━━━━━━━━━━━━━━━━━━━━━━━━━━━━━━━━┳━━━━━━━━━━━━┓\n",
       "┃<span style=\"font-weight: bold\"> Table         </span>┃<span style=\"font-weight: bold\"> Table size </span>┃<span style=\"font-weight: bold\"> Rows count </span>┃<span style=\"font-weight: bold\"> Index                                      </span>┃<span style=\"font-weight: bold\"> Index size </span>┃\n",
       "┡━━━━━━━━━━━━━━━╇━━━━━━━━━━━━╇━━━━━━━━━━━━╇━━━━━━━━━━━━━━━━━━━━━━━━━━━━━━━━━━━━━━━━━━━━╇━━━━━━━━━━━━┩\n",
       "│<span style=\"color: #ffd700; text-decoration-color: #ffd700\"> books_review  </span>│<span style=\"color: #008000; text-decoration-color: #008000; font-weight: bold\"> 9510 MB    </span>│<span style=\"color: #008080; text-decoration-color: #008080\"> 40,025,292 </span>│<span style=\"color: #d75f00; text-decoration-color: #d75f00\"> review_library_id_pk_rating_written_at_idx </span>│<span style=\"color: #008000; text-decoration-color: #008000; font-weight: bold\"> 1893 MB    </span>│\n",
       "│<span style=\"color: #ffd700; text-decoration-color: #ffd700\"> books_review  </span>│<span style=\"color: #008000; text-decoration-color: #008000; font-weight: bold\"> 9510 MB    </span>│<span style=\"color: #008080; text-decoration-color: #008080\"> 40,025,292 </span>│<span style=\"color: #d75f00; text-decoration-color: #d75f00\"> review_library_book_reader_idx             </span>│<span style=\"color: #008000; text-decoration-color: #008000; font-weight: bold\"> 1551 MB    </span>│\n",
       "│<span style=\"color: #ffd700; text-decoration-color: #ffd700\"> books_review  </span>│<span style=\"color: #008000; text-decoration-color: #008000; font-weight: bold\"> 9510 MB    </span>│<span style=\"color: #008080; text-decoration-color: #008080\"> 40,025,292 </span>│<span style=\"color: #d75f00; text-decoration-color: #d75f00\"> review_library_id_pk_idx                   </span>│<span style=\"color: #008000; text-decoration-color: #008000; font-weight: bold\"> 1204 MB    </span>│\n",
       "│<span style=\"color: #ffd700; text-decoration-color: #ffd700\"> books_review  </span>│<span style=\"color: #008000; text-decoration-color: #008000; font-weight: bold\"> 9510 MB    </span>│<span style=\"color: #008080; text-decoration-color: #008080\"> 40,025,292 </span>│<span style=\"color: #d75f00; text-decoration-color: #d75f00\"> review_book_reader_idx                     </span>│<span style=\"color: #008000; text-decoration-color: #008000; font-weight: bold\"> 1204 MB    </span>│\n",
       "│<span style=\"color: #ffd700; text-decoration-color: #ffd700\"> books_review  </span>│<span style=\"color: #008000; text-decoration-color: #008000; font-weight: bold\"> 9510 MB    </span>│<span style=\"color: #008080; text-decoration-color: #008080\"> 40,025,292 </span>│<span style=\"color: #d75f00; text-decoration-color: #d75f00\"> books_review_pkey                          </span>│<span style=\"color: #008000; text-decoration-color: #008000; font-weight: bold\"> 857 MB     </span>│\n",
       "│<span style=\"color: #ffd700; text-decoration-color: #ffd700\"> books_review  </span>│<span style=\"color: #008000; text-decoration-color: #008000; font-weight: bold\"> 9510 MB    </span>│<span style=\"color: #008080; text-decoration-color: #008080\"> 40,025,292 </span>│<span style=\"color: #d75f00; text-decoration-color: #d75f00\"> review_written_at_idx                      </span>│<span style=\"color: #008000; text-decoration-color: #008000; font-weight: bold\"> 853 MB     </span>│\n",
       "│<span style=\"color: #ffd700; text-decoration-color: #ffd700\"> books_review  </span>│<span style=\"color: #008000; text-decoration-color: #008000; font-weight: bold\"> 9510 MB    </span>│<span style=\"color: #008080; text-decoration-color: #008080\"> 40,025,292 </span>│<span style=\"color: #d75f00; text-decoration-color: #d75f00\"> books_review_book_id_a67a4c60              </span>│<span style=\"color: #008000; text-decoration-color: #008000; font-weight: bold\"> 356 MB     </span>│\n",
       "│<span style=\"color: #ffd700; text-decoration-color: #ffd700\"> books_review  </span>│<span style=\"color: #008000; text-decoration-color: #008000; font-weight: bold\"> 9510 MB    </span>│<span style=\"color: #008080; text-decoration-color: #008080\"> 40,025,292 </span>│<span style=\"color: #d75f00; text-decoration-color: #d75f00\"> books_review_reader_id_0438358c            </span>│<span style=\"color: #008000; text-decoration-color: #008000; font-weight: bold\"> 314 MB     </span>│\n",
       "│<span style=\"color: #ffd700; text-decoration-color: #ffd700\"> books_review  </span>│<span style=\"color: #008000; text-decoration-color: #008000; font-weight: bold\"> 9510 MB    </span>│<span style=\"color: #008080; text-decoration-color: #008080\"> 40,025,292 </span>│<span style=\"color: #d75f00; text-decoration-color: #d75f00\"> books_review_library_id_e9b4afba           </span>│<span style=\"color: #008000; text-decoration-color: #008000; font-weight: bold\"> 282 MB     </span>│\n",
       "│<span style=\"color: #ffd700; text-decoration-color: #ffd700\"> books_review  </span>│<span style=\"color: #008000; text-decoration-color: #008000; font-weight: bold\"> 9510 MB    </span>│<span style=\"color: #008080; text-decoration-color: #008080\"> 40,025,292 </span>│<span style=\"color: #d75f00; text-decoration-color: #d75f00\"> review_library_id_rating_idx               </span>│<span style=\"color: #008000; text-decoration-color: #008000; font-weight: bold\"> 272 MB     </span>│\n",
       "│<span style=\"color: #ffd700; text-decoration-color: #ffd700\"> books_review  </span>│<span style=\"color: #008000; text-decoration-color: #008000; font-weight: bold\"> 9510 MB    </span>│<span style=\"color: #008080; text-decoration-color: #008080\"> 40,025,292 </span>│<span style=\"color: #d75f00; text-decoration-color: #d75f00\"> review_rating_idx                          </span>│<span style=\"color: #008000; text-decoration-color: #008000; font-weight: bold\"> 257 MB     </span>│\n",
       "│<span style=\"color: #ffd700; text-decoration-color: #ffd700\"> books_review  </span>│<span style=\"color: #008000; text-decoration-color: #008000; font-weight: bold\"> 9510 MB    </span>│<span style=\"color: #008080; text-decoration-color: #008080\"> 40,025,292 </span>│<span style=\"color: #d75f00; text-decoration-color: #d75f00\"> review_pk_alexandria_idx                   </span>│<span style=\"color: #008000; text-decoration-color: #008000; font-weight: bold\"> 43 MB      </span>│\n",
       "│<span style=\"color: #ffd700; text-decoration-color: #ffd700\"> books_booktag </span>│<span style=\"color: #008000; text-decoration-color: #008000; font-weight: bold\"> 693 MB     </span>│<span style=\"color: #008080; text-decoration-color: #008080\"> 11,407,816 </span>│<span style=\"color: #d75f00; text-decoration-color: #d75f00\"> unique_book_tag_per_book                   </span>│<span style=\"color: #008000; text-decoration-color: #008000; font-weight: bold\"> 782 MB     </span>│\n",
       "│<span style=\"color: #ffd700; text-decoration-color: #ffd700\"> books_booktag </span>│<span style=\"color: #008000; text-decoration-color: #008000; font-weight: bold\"> 693 MB     </span>│<span style=\"color: #008080; text-decoration-color: #008080\"> 11,407,816 </span>│<span style=\"color: #d75f00; text-decoration-color: #d75f00\"> books_booktag_pkey                         </span>│<span style=\"color: #008000; text-decoration-color: #008000; font-weight: bold\"> 257 MB     </span>│\n",
       "│<span style=\"color: #ffd700; text-decoration-color: #ffd700\"> books_booktag </span>│<span style=\"color: #008000; text-decoration-color: #008000; font-weight: bold\"> 693 MB     </span>│<span style=\"color: #008080; text-decoration-color: #008080\"> 11,407,816 </span>│<span style=\"color: #d75f00; text-decoration-color: #d75f00\"> books_booktag_book_id_361012b4             </span>│<span style=\"color: #008000; text-decoration-color: #008000; font-weight: bold\"> 173 MB     </span>│\n",
       "│<span style=\"color: #ffd700; text-decoration-color: #ffd700\"> books_booktag </span>│<span style=\"color: #008000; text-decoration-color: #008000; font-weight: bold\"> 693 MB     </span>│<span style=\"color: #008080; text-decoration-color: #008080\"> 11,407,816 </span>│<span style=\"color: #d75f00; text-decoration-color: #d75f00\"> books_booktag_library_id_19a4182e          </span>│<span style=\"color: #008000; text-decoration-color: #008000; font-weight: bold\"> 84 MB      </span>│\n",
       "│<span style=\"color: #ffd700; text-decoration-color: #ffd700\"> books_book    </span>│<span style=\"color: #008000; text-decoration-color: #008000; font-weight: bold\"> 476 MB     </span>│<span style=\"color: #008080; text-decoration-color: #008080\"> 4,001,000  </span>│<span style=\"color: #d75f00; text-decoration-color: #d75f00\"> unique_book_per_library                    </span>│<span style=\"color: #008000; text-decoration-color: #008000; font-weight: bold\"> 537 MB     </span>│\n",
       "│<span style=\"color: #ffd700; text-decoration-color: #ffd700\"> books_book    </span>│<span style=\"color: #008000; text-decoration-color: #008000; font-weight: bold\"> 476 MB     </span>│<span style=\"color: #008080; text-decoration-color: #008080\"> 4,001,000  </span>│<span style=\"color: #d75f00; text-decoration-color: #d75f00\"> book_library_release_date_idx              </span>│<span style=\"color: #008000; text-decoration-color: #008000; font-weight: bold\"> 105 MB     </span>│\n",
       "│<span style=\"color: #ffd700; text-decoration-color: #ffd700\"> books_book    </span>│<span style=\"color: #008000; text-decoration-color: #008000; font-weight: bold\"> 476 MB     </span>│<span style=\"color: #008080; text-decoration-color: #008080\"> 4,001,000  </span>│<span style=\"color: #d75f00; text-decoration-color: #d75f00\"> books_book_pkey                            </span>│<span style=\"color: #008000; text-decoration-color: #008000; font-weight: bold\"> 86 MB      </span>│\n",
       "│<span style=\"color: #ffd700; text-decoration-color: #ffd700\"> books_book    </span>│<span style=\"color: #008000; text-decoration-color: #008000; font-weight: bold\"> 476 MB     </span>│<span style=\"color: #008080; text-decoration-color: #008080\"> 4,001,000  </span>│<span style=\"color: #d75f00; text-decoration-color: #d75f00\"> books_book_author_id_8b91747b              </span>│<span style=\"color: #008000; text-decoration-color: #008000; font-weight: bold\"> 36 MB      </span>│\n",
       "│<span style=\"color: #ffd700; text-decoration-color: #ffd700\"> books_book    </span>│<span style=\"color: #008000; text-decoration-color: #008000; font-weight: bold\"> 476 MB     </span>│<span style=\"color: #008080; text-decoration-color: #008080\"> 4,001,000  </span>│<span style=\"color: #d75f00; text-decoration-color: #d75f00\"> books_book_library_id_9380ba4e             </span>│<span style=\"color: #008000; text-decoration-color: #008000; font-weight: bold\"> 31 MB      </span>│\n",
       "│<span style=\"color: #ffd700; text-decoration-color: #ffd700\"> books_book    </span>│<span style=\"color: #008000; text-decoration-color: #008000; font-weight: bold\"> 476 MB     </span>│<span style=\"color: #008080; text-decoration-color: #008080\"> 4,001,000  </span>│<span style=\"color: #d75f00; text-decoration-color: #d75f00\"> book_release_date_idx                      </span>│<span style=\"color: #008000; text-decoration-color: #008000; font-weight: bold\"> 27 MB      </span>│\n",
       "│<span style=\"color: #ffd700; text-decoration-color: #ffd700\"> books_person  </span>│<span style=\"color: #008000; text-decoration-color: #008000; font-weight: bold\"> 16 MB      </span>│<span style=\"color: #008080; text-decoration-color: #008080\"> 20,100     </span>│<span style=\"color: #d75f00; text-decoration-color: #d75f00\"> books_person_email_07a23fdf_like           </span>│<span style=\"color: #008000; text-decoration-color: #008000; font-weight: bold\"> 1368 kB    </span>│\n",
       "│<span style=\"color: #ffd700; text-decoration-color: #ffd700\"> books_person  </span>│<span style=\"color: #008000; text-decoration-color: #008000; font-weight: bold\"> 16 MB      </span>│<span style=\"color: #008080; text-decoration-color: #008080\"> 20,100     </span>│<span style=\"color: #d75f00; text-decoration-color: #d75f00\"> books_person_email_key                     </span>│<span style=\"color: #008000; text-decoration-color: #008000; font-weight: bold\"> 1352 kB    </span>│\n",
       "│<span style=\"color: #ffd700; text-decoration-color: #ffd700\"> books_person  </span>│<span style=\"color: #008000; text-decoration-color: #008000; font-weight: bold\"> 16 MB      </span>│<span style=\"color: #008080; text-decoration-color: #008080\"> 20,100     </span>│<span style=\"color: #d75f00; text-decoration-color: #d75f00\"> books_person_pkey                          </span>│<span style=\"color: #008000; text-decoration-color: #008000; font-weight: bold\"> 456 kB     </span>│\n",
       "│<span style=\"color: #ffd700; text-decoration-color: #ffd700\"> books_library </span>│<span style=\"color: #008000; text-decoration-color: #008000; font-weight: bold\"> 568 kB     </span>│<span style=\"color: #008080; text-decoration-color: #008080\"> 10,013     </span>│<span style=\"color: #d75f00; text-decoration-color: #d75f00\"> books_library_pkey                         </span>│<span style=\"color: #008000; text-decoration-color: #008000; font-weight: bold\"> 240 kB     </span>│\n",
       "└───────────────┴────────────┴────────────┴────────────────────────────────────────────┴────────────┘\n",
       "</pre>\n"
      ],
      "text/plain": [
       "┏━━━━━━━━━━━━━━━┳━━━━━━━━━━━━┳━━━━━━━━━━━━┳━━━━━━━━━━━━━━━━━━━━━━━━━━━━━━━━━━━━━━━━━━━━┳━━━━━━━━━━━━┓\n",
       "┃\u001b[1m \u001b[0m\u001b[1mTable        \u001b[0m\u001b[1m \u001b[0m┃\u001b[1m \u001b[0m\u001b[1mTable size\u001b[0m\u001b[1m \u001b[0m┃\u001b[1m \u001b[0m\u001b[1mRows count\u001b[0m\u001b[1m \u001b[0m┃\u001b[1m \u001b[0m\u001b[1mIndex                                     \u001b[0m\u001b[1m \u001b[0m┃\u001b[1m \u001b[0m\u001b[1mIndex size\u001b[0m\u001b[1m \u001b[0m┃\n",
       "┡━━━━━━━━━━━━━━━╇━━━━━━━━━━━━╇━━━━━━━━━━━━╇━━━━━━━━━━━━━━━━━━━━━━━━━━━━━━━━━━━━━━━━━━━━╇━━━━━━━━━━━━┩\n",
       "│\u001b[38;5;220m \u001b[0m\u001b[38;5;220mbooks_review \u001b[0m\u001b[38;5;220m \u001b[0m│\u001b[1;32m \u001b[0m\u001b[1;32m9510 MB   \u001b[0m\u001b[1;32m \u001b[0m│\u001b[36m \u001b[0m\u001b[36m40,025,292\u001b[0m\u001b[36m \u001b[0m│\u001b[38;5;166m \u001b[0m\u001b[38;5;166mreview_library_id_pk_rating_written_at_idx\u001b[0m\u001b[38;5;166m \u001b[0m│\u001b[1;32m \u001b[0m\u001b[1;32m1893 MB   \u001b[0m\u001b[1;32m \u001b[0m│\n",
       "│\u001b[38;5;220m \u001b[0m\u001b[38;5;220mbooks_review \u001b[0m\u001b[38;5;220m \u001b[0m│\u001b[1;32m \u001b[0m\u001b[1;32m9510 MB   \u001b[0m\u001b[1;32m \u001b[0m│\u001b[36m \u001b[0m\u001b[36m40,025,292\u001b[0m\u001b[36m \u001b[0m│\u001b[38;5;166m \u001b[0m\u001b[38;5;166mreview_library_book_reader_idx            \u001b[0m\u001b[38;5;166m \u001b[0m│\u001b[1;32m \u001b[0m\u001b[1;32m1551 MB   \u001b[0m\u001b[1;32m \u001b[0m│\n",
       "│\u001b[38;5;220m \u001b[0m\u001b[38;5;220mbooks_review \u001b[0m\u001b[38;5;220m \u001b[0m│\u001b[1;32m \u001b[0m\u001b[1;32m9510 MB   \u001b[0m\u001b[1;32m \u001b[0m│\u001b[36m \u001b[0m\u001b[36m40,025,292\u001b[0m\u001b[36m \u001b[0m│\u001b[38;5;166m \u001b[0m\u001b[38;5;166mreview_library_id_pk_idx                  \u001b[0m\u001b[38;5;166m \u001b[0m│\u001b[1;32m \u001b[0m\u001b[1;32m1204 MB   \u001b[0m\u001b[1;32m \u001b[0m│\n",
       "│\u001b[38;5;220m \u001b[0m\u001b[38;5;220mbooks_review \u001b[0m\u001b[38;5;220m \u001b[0m│\u001b[1;32m \u001b[0m\u001b[1;32m9510 MB   \u001b[0m\u001b[1;32m \u001b[0m│\u001b[36m \u001b[0m\u001b[36m40,025,292\u001b[0m\u001b[36m \u001b[0m│\u001b[38;5;166m \u001b[0m\u001b[38;5;166mreview_book_reader_idx                    \u001b[0m\u001b[38;5;166m \u001b[0m│\u001b[1;32m \u001b[0m\u001b[1;32m1204 MB   \u001b[0m\u001b[1;32m \u001b[0m│\n",
       "│\u001b[38;5;220m \u001b[0m\u001b[38;5;220mbooks_review \u001b[0m\u001b[38;5;220m \u001b[0m│\u001b[1;32m \u001b[0m\u001b[1;32m9510 MB   \u001b[0m\u001b[1;32m \u001b[0m│\u001b[36m \u001b[0m\u001b[36m40,025,292\u001b[0m\u001b[36m \u001b[0m│\u001b[38;5;166m \u001b[0m\u001b[38;5;166mbooks_review_pkey                         \u001b[0m\u001b[38;5;166m \u001b[0m│\u001b[1;32m \u001b[0m\u001b[1;32m857 MB    \u001b[0m\u001b[1;32m \u001b[0m│\n",
       "│\u001b[38;5;220m \u001b[0m\u001b[38;5;220mbooks_review \u001b[0m\u001b[38;5;220m \u001b[0m│\u001b[1;32m \u001b[0m\u001b[1;32m9510 MB   \u001b[0m\u001b[1;32m \u001b[0m│\u001b[36m \u001b[0m\u001b[36m40,025,292\u001b[0m\u001b[36m \u001b[0m│\u001b[38;5;166m \u001b[0m\u001b[38;5;166mreview_written_at_idx                     \u001b[0m\u001b[38;5;166m \u001b[0m│\u001b[1;32m \u001b[0m\u001b[1;32m853 MB    \u001b[0m\u001b[1;32m \u001b[0m│\n",
       "│\u001b[38;5;220m \u001b[0m\u001b[38;5;220mbooks_review \u001b[0m\u001b[38;5;220m \u001b[0m│\u001b[1;32m \u001b[0m\u001b[1;32m9510 MB   \u001b[0m\u001b[1;32m \u001b[0m│\u001b[36m \u001b[0m\u001b[36m40,025,292\u001b[0m\u001b[36m \u001b[0m│\u001b[38;5;166m \u001b[0m\u001b[38;5;166mbooks_review_book_id_a67a4c60             \u001b[0m\u001b[38;5;166m \u001b[0m│\u001b[1;32m \u001b[0m\u001b[1;32m356 MB    \u001b[0m\u001b[1;32m \u001b[0m│\n",
       "│\u001b[38;5;220m \u001b[0m\u001b[38;5;220mbooks_review \u001b[0m\u001b[38;5;220m \u001b[0m│\u001b[1;32m \u001b[0m\u001b[1;32m9510 MB   \u001b[0m\u001b[1;32m \u001b[0m│\u001b[36m \u001b[0m\u001b[36m40,025,292\u001b[0m\u001b[36m \u001b[0m│\u001b[38;5;166m \u001b[0m\u001b[38;5;166mbooks_review_reader_id_0438358c           \u001b[0m\u001b[38;5;166m \u001b[0m│\u001b[1;32m \u001b[0m\u001b[1;32m314 MB    \u001b[0m\u001b[1;32m \u001b[0m│\n",
       "│\u001b[38;5;220m \u001b[0m\u001b[38;5;220mbooks_review \u001b[0m\u001b[38;5;220m \u001b[0m│\u001b[1;32m \u001b[0m\u001b[1;32m9510 MB   \u001b[0m\u001b[1;32m \u001b[0m│\u001b[36m \u001b[0m\u001b[36m40,025,292\u001b[0m\u001b[36m \u001b[0m│\u001b[38;5;166m \u001b[0m\u001b[38;5;166mbooks_review_library_id_e9b4afba          \u001b[0m\u001b[38;5;166m \u001b[0m│\u001b[1;32m \u001b[0m\u001b[1;32m282 MB    \u001b[0m\u001b[1;32m \u001b[0m│\n",
       "│\u001b[38;5;220m \u001b[0m\u001b[38;5;220mbooks_review \u001b[0m\u001b[38;5;220m \u001b[0m│\u001b[1;32m \u001b[0m\u001b[1;32m9510 MB   \u001b[0m\u001b[1;32m \u001b[0m│\u001b[36m \u001b[0m\u001b[36m40,025,292\u001b[0m\u001b[36m \u001b[0m│\u001b[38;5;166m \u001b[0m\u001b[38;5;166mreview_library_id_rating_idx              \u001b[0m\u001b[38;5;166m \u001b[0m│\u001b[1;32m \u001b[0m\u001b[1;32m272 MB    \u001b[0m\u001b[1;32m \u001b[0m│\n",
       "│\u001b[38;5;220m \u001b[0m\u001b[38;5;220mbooks_review \u001b[0m\u001b[38;5;220m \u001b[0m│\u001b[1;32m \u001b[0m\u001b[1;32m9510 MB   \u001b[0m\u001b[1;32m \u001b[0m│\u001b[36m \u001b[0m\u001b[36m40,025,292\u001b[0m\u001b[36m \u001b[0m│\u001b[38;5;166m \u001b[0m\u001b[38;5;166mreview_rating_idx                         \u001b[0m\u001b[38;5;166m \u001b[0m│\u001b[1;32m \u001b[0m\u001b[1;32m257 MB    \u001b[0m\u001b[1;32m \u001b[0m│\n",
       "│\u001b[38;5;220m \u001b[0m\u001b[38;5;220mbooks_review \u001b[0m\u001b[38;5;220m \u001b[0m│\u001b[1;32m \u001b[0m\u001b[1;32m9510 MB   \u001b[0m\u001b[1;32m \u001b[0m│\u001b[36m \u001b[0m\u001b[36m40,025,292\u001b[0m\u001b[36m \u001b[0m│\u001b[38;5;166m \u001b[0m\u001b[38;5;166mreview_pk_alexandria_idx                  \u001b[0m\u001b[38;5;166m \u001b[0m│\u001b[1;32m \u001b[0m\u001b[1;32m43 MB     \u001b[0m\u001b[1;32m \u001b[0m│\n",
       "│\u001b[38;5;220m \u001b[0m\u001b[38;5;220mbooks_booktag\u001b[0m\u001b[38;5;220m \u001b[0m│\u001b[1;32m \u001b[0m\u001b[1;32m693 MB    \u001b[0m\u001b[1;32m \u001b[0m│\u001b[36m \u001b[0m\u001b[36m11,407,816\u001b[0m\u001b[36m \u001b[0m│\u001b[38;5;166m \u001b[0m\u001b[38;5;166munique_book_tag_per_book                  \u001b[0m\u001b[38;5;166m \u001b[0m│\u001b[1;32m \u001b[0m\u001b[1;32m782 MB    \u001b[0m\u001b[1;32m \u001b[0m│\n",
       "│\u001b[38;5;220m \u001b[0m\u001b[38;5;220mbooks_booktag\u001b[0m\u001b[38;5;220m \u001b[0m│\u001b[1;32m \u001b[0m\u001b[1;32m693 MB    \u001b[0m\u001b[1;32m \u001b[0m│\u001b[36m \u001b[0m\u001b[36m11,407,816\u001b[0m\u001b[36m \u001b[0m│\u001b[38;5;166m \u001b[0m\u001b[38;5;166mbooks_booktag_pkey                        \u001b[0m\u001b[38;5;166m \u001b[0m│\u001b[1;32m \u001b[0m\u001b[1;32m257 MB    \u001b[0m\u001b[1;32m \u001b[0m│\n",
       "│\u001b[38;5;220m \u001b[0m\u001b[38;5;220mbooks_booktag\u001b[0m\u001b[38;5;220m \u001b[0m│\u001b[1;32m \u001b[0m\u001b[1;32m693 MB    \u001b[0m\u001b[1;32m \u001b[0m│\u001b[36m \u001b[0m\u001b[36m11,407,816\u001b[0m\u001b[36m \u001b[0m│\u001b[38;5;166m \u001b[0m\u001b[38;5;166mbooks_booktag_book_id_361012b4            \u001b[0m\u001b[38;5;166m \u001b[0m│\u001b[1;32m \u001b[0m\u001b[1;32m173 MB    \u001b[0m\u001b[1;32m \u001b[0m│\n",
       "│\u001b[38;5;220m \u001b[0m\u001b[38;5;220mbooks_booktag\u001b[0m\u001b[38;5;220m \u001b[0m│\u001b[1;32m \u001b[0m\u001b[1;32m693 MB    \u001b[0m\u001b[1;32m \u001b[0m│\u001b[36m \u001b[0m\u001b[36m11,407,816\u001b[0m\u001b[36m \u001b[0m│\u001b[38;5;166m \u001b[0m\u001b[38;5;166mbooks_booktag_library_id_19a4182e         \u001b[0m\u001b[38;5;166m \u001b[0m│\u001b[1;32m \u001b[0m\u001b[1;32m84 MB     \u001b[0m\u001b[1;32m \u001b[0m│\n",
       "│\u001b[38;5;220m \u001b[0m\u001b[38;5;220mbooks_book   \u001b[0m\u001b[38;5;220m \u001b[0m│\u001b[1;32m \u001b[0m\u001b[1;32m476 MB    \u001b[0m\u001b[1;32m \u001b[0m│\u001b[36m \u001b[0m\u001b[36m4,001,000 \u001b[0m\u001b[36m \u001b[0m│\u001b[38;5;166m \u001b[0m\u001b[38;5;166munique_book_per_library                   \u001b[0m\u001b[38;5;166m \u001b[0m│\u001b[1;32m \u001b[0m\u001b[1;32m537 MB    \u001b[0m\u001b[1;32m \u001b[0m│\n",
       "│\u001b[38;5;220m \u001b[0m\u001b[38;5;220mbooks_book   \u001b[0m\u001b[38;5;220m \u001b[0m│\u001b[1;32m \u001b[0m\u001b[1;32m476 MB    \u001b[0m\u001b[1;32m \u001b[0m│\u001b[36m \u001b[0m\u001b[36m4,001,000 \u001b[0m\u001b[36m \u001b[0m│\u001b[38;5;166m \u001b[0m\u001b[38;5;166mbook_library_release_date_idx             \u001b[0m\u001b[38;5;166m \u001b[0m│\u001b[1;32m \u001b[0m\u001b[1;32m105 MB    \u001b[0m\u001b[1;32m \u001b[0m│\n",
       "│\u001b[38;5;220m \u001b[0m\u001b[38;5;220mbooks_book   \u001b[0m\u001b[38;5;220m \u001b[0m│\u001b[1;32m \u001b[0m\u001b[1;32m476 MB    \u001b[0m\u001b[1;32m \u001b[0m│\u001b[36m \u001b[0m\u001b[36m4,001,000 \u001b[0m\u001b[36m \u001b[0m│\u001b[38;5;166m \u001b[0m\u001b[38;5;166mbooks_book_pkey                           \u001b[0m\u001b[38;5;166m \u001b[0m│\u001b[1;32m \u001b[0m\u001b[1;32m86 MB     \u001b[0m\u001b[1;32m \u001b[0m│\n",
       "│\u001b[38;5;220m \u001b[0m\u001b[38;5;220mbooks_book   \u001b[0m\u001b[38;5;220m \u001b[0m│\u001b[1;32m \u001b[0m\u001b[1;32m476 MB    \u001b[0m\u001b[1;32m \u001b[0m│\u001b[36m \u001b[0m\u001b[36m4,001,000 \u001b[0m\u001b[36m \u001b[0m│\u001b[38;5;166m \u001b[0m\u001b[38;5;166mbooks_book_author_id_8b91747b             \u001b[0m\u001b[38;5;166m \u001b[0m│\u001b[1;32m \u001b[0m\u001b[1;32m36 MB     \u001b[0m\u001b[1;32m \u001b[0m│\n",
       "│\u001b[38;5;220m \u001b[0m\u001b[38;5;220mbooks_book   \u001b[0m\u001b[38;5;220m \u001b[0m│\u001b[1;32m \u001b[0m\u001b[1;32m476 MB    \u001b[0m\u001b[1;32m \u001b[0m│\u001b[36m \u001b[0m\u001b[36m4,001,000 \u001b[0m\u001b[36m \u001b[0m│\u001b[38;5;166m \u001b[0m\u001b[38;5;166mbooks_book_library_id_9380ba4e            \u001b[0m\u001b[38;5;166m \u001b[0m│\u001b[1;32m \u001b[0m\u001b[1;32m31 MB     \u001b[0m\u001b[1;32m \u001b[0m│\n",
       "│\u001b[38;5;220m \u001b[0m\u001b[38;5;220mbooks_book   \u001b[0m\u001b[38;5;220m \u001b[0m│\u001b[1;32m \u001b[0m\u001b[1;32m476 MB    \u001b[0m\u001b[1;32m \u001b[0m│\u001b[36m \u001b[0m\u001b[36m4,001,000 \u001b[0m\u001b[36m \u001b[0m│\u001b[38;5;166m \u001b[0m\u001b[38;5;166mbook_release_date_idx                     \u001b[0m\u001b[38;5;166m \u001b[0m│\u001b[1;32m \u001b[0m\u001b[1;32m27 MB     \u001b[0m\u001b[1;32m \u001b[0m│\n",
       "│\u001b[38;5;220m \u001b[0m\u001b[38;5;220mbooks_person \u001b[0m\u001b[38;5;220m \u001b[0m│\u001b[1;32m \u001b[0m\u001b[1;32m16 MB     \u001b[0m\u001b[1;32m \u001b[0m│\u001b[36m \u001b[0m\u001b[36m20,100    \u001b[0m\u001b[36m \u001b[0m│\u001b[38;5;166m \u001b[0m\u001b[38;5;166mbooks_person_email_07a23fdf_like          \u001b[0m\u001b[38;5;166m \u001b[0m│\u001b[1;32m \u001b[0m\u001b[1;32m1368 kB   \u001b[0m\u001b[1;32m \u001b[0m│\n",
       "│\u001b[38;5;220m \u001b[0m\u001b[38;5;220mbooks_person \u001b[0m\u001b[38;5;220m \u001b[0m│\u001b[1;32m \u001b[0m\u001b[1;32m16 MB     \u001b[0m\u001b[1;32m \u001b[0m│\u001b[36m \u001b[0m\u001b[36m20,100    \u001b[0m\u001b[36m \u001b[0m│\u001b[38;5;166m \u001b[0m\u001b[38;5;166mbooks_person_email_key                    \u001b[0m\u001b[38;5;166m \u001b[0m│\u001b[1;32m \u001b[0m\u001b[1;32m1352 kB   \u001b[0m\u001b[1;32m \u001b[0m│\n",
       "│\u001b[38;5;220m \u001b[0m\u001b[38;5;220mbooks_person \u001b[0m\u001b[38;5;220m \u001b[0m│\u001b[1;32m \u001b[0m\u001b[1;32m16 MB     \u001b[0m\u001b[1;32m \u001b[0m│\u001b[36m \u001b[0m\u001b[36m20,100    \u001b[0m\u001b[36m \u001b[0m│\u001b[38;5;166m \u001b[0m\u001b[38;5;166mbooks_person_pkey                         \u001b[0m\u001b[38;5;166m \u001b[0m│\u001b[1;32m \u001b[0m\u001b[1;32m456 kB    \u001b[0m\u001b[1;32m \u001b[0m│\n",
       "│\u001b[38;5;220m \u001b[0m\u001b[38;5;220mbooks_library\u001b[0m\u001b[38;5;220m \u001b[0m│\u001b[1;32m \u001b[0m\u001b[1;32m568 kB    \u001b[0m\u001b[1;32m \u001b[0m│\u001b[36m \u001b[0m\u001b[36m10,013    \u001b[0m\u001b[36m \u001b[0m│\u001b[38;5;166m \u001b[0m\u001b[38;5;166mbooks_library_pkey                        \u001b[0m\u001b[38;5;166m \u001b[0m│\u001b[1;32m \u001b[0m\u001b[1;32m240 kB    \u001b[0m\u001b[1;32m \u001b[0m│\n",
       "└───────────────┴────────────┴────────────┴────────────────────────────────────────────┴────────────┘\n"
      ]
     },
     "metadata": {},
     "output_type": "display_data"
    }
   ],
   "source": [
    "query = \"\"\"\n",
    "SELECT\n",
    "    pg_tables.tablename,\n",
    "    pg_size_pretty(pg_relation_size('public'::text || '.' || quote_ident(pg_tables.tablename)::text)) AS table_size,\n",
    "    pg_class.reltuples AS num_rows,\n",
    "    indexname,\n",
    "    pg_size_pretty(pg_relation_size('public'::text || '.' || quote_ident(indexrelname)::text)) AS index_size\n",
    "FROM\n",
    "    pg_tables\n",
    "    LEFT OUTER JOIN pg_class ON pg_tables.tablename = pg_class.relname\n",
    "    LEFT OUTER JOIN (\n",
    "        SELECT\n",
    "            pg_class.relname AS ctablename,\n",
    "            ipg.relname AS indexname,\n",
    "            indexrelname\n",
    "        FROM\n",
    "            pg_index\n",
    "            JOIN pg_class  ON pg_class.oid = pg_index.indrelid\n",
    "            JOIN pg_class ipg ON ipg.oid = pg_index.indexrelid\n",
    "            JOIN pg_indexes ON ipg.relname = pg_indexes.indexname\n",
    "            JOIN pg_stat_all_indexes psai ON pg_index.indexrelid = psai.indexrelid) AS foo ON pg_tables.tablename = foo.ctablename\n",
    "WHERE\n",
    "    pg_tables.schemaname = 'public'\n",
    "    AND tablename ilike 'books_%'\n",
    "ORDER BY\n",
    "    pg_relation_size('public'::text || '.' || quote_ident(pg_tables.tablename)::text) desc,\n",
    "    pg_relation_size('public'::text || '.' || quote_ident(indexrelname)::text) desc;\n",
    "\n",
    "\"\"\"\n",
    "with connection.cursor() as cursor:\n",
    "    cursor.execute(query)\n",
    "    rows = cursor.fetchall()\n",
    "\n",
    "\n",
    "table = Table()\n",
    "table.add_column(\"Table\", style=\"gold1\")\n",
    "table.add_column(\"Table size\", style=\"bold green\")\n",
    "table.add_column(\"Rows count\", style=\"cyan\")\n",
    "table.add_column(\"Index\", style=\"dark_orange3\")\n",
    "table.add_column(\"Index size\", style=\"bold green\")\n",
    "for row in map(list, rows):\n",
    "    row[2] = f\"{int(row[2]):,}\"\n",
    "    table.add_row(*map(str, row[:5]))\n",
    "\n",
    "console.print(table)\n"
   ]
  }
 ],
 "metadata": {
  "kernelspec": {
   "display_name": "django-perfs-playground-tFy-cSse",
   "language": "python",
   "name": "python3"
  },
  "language_info": {
   "codemirror_mode": {
    "name": "ipython",
    "version": 3
   },
   "file_extension": ".py",
   "mimetype": "text/x-python",
   "name": "python",
   "nbconvert_exporter": "python",
   "pygments_lexer": "ipython3",
   "version": "3.10.5"
  },
  "orig_nbformat": 4
 },
 "nbformat": 4,
 "nbformat_minor": 2
}
